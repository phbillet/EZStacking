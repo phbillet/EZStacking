{
 "cells": [
  {
   "cell_type": "markdown",
   "id": "registered-dressing",
   "metadata": {},
   "source": [
    "# EDA & modelization"
   ]
  },
  {
   "cell_type": "markdown",
   "id": "incorrect-antique",
   "metadata": {},
   "source": [
    "## Loading main packages "
   ]
  },
  {
   "cell_type": "code",
   "execution_count": 1,
   "id": "dominican-proxy",
   "metadata": {},
   "outputs": [],
   "source": [
    "from EZS_func import *\n",
    "import numpy as np\n",
    "import pandas as pd\n",
    "import os\n",
    "import gc\n",
    "import matplotlib.pyplot as plt\n",
    "import warnings\n",
    "warnings.filterwarnings('ignore')\n",
    "import re\n",
    "import math\n",
    "from pandas.api.types import is_numeric_dtype\n",
    "from itertools import product\n",
    "from scipy import stats\n",
    "from sklearn import set_config\n",
    "from sklearn import datasets\n",
    "from sklearn.base import BaseEstimator\n",
    "from sklearn.base import TransformerMixin\n",
    "from sklearn.compose import make_column_selector\n",
    "from sklearn.compose import make_column_transformer\n",
    "from sklearn.experimental import enable_iterative_imputer\n",
    "from sklearn.impute import SimpleImputer\n",
    "from sklearn.impute import IterativeImputer\n",
    "from sklearn.inspection import permutation_importance\n",
    "from sklearn.gaussian_process import GaussianProcessClassifier\n",
    "from sklearn.gaussian_process.kernels import RBF\n",
    "from sklearn.tree import DecisionTreeClassifier\n",
    "from sklearn.ensemble import RandomForestClassifier\n",
    "from sklearn.ensemble import AdaBoostClassifier\n",
    "from sklearn.ensemble import StackingClassifier\n",
    "from sklearn.linear_model import SGDClassifier\n",
    "from sklearn.linear_model import LogisticRegression\n",
    "from sklearn.metrics import accuracy_score\n",
    "from sklearn.metrics import f1_score\n",
    "from sklearn.metrics import recall_score\n",
    "from sklearn.model_selection import train_test_split\n",
    "from sklearn.model_selection import StratifiedKFold\n",
    "from sklearn.model_selection import RepeatedStratifiedKFold\n",
    "from sklearn.neural_network import MLPClassifier\n",
    "from sklearn.neighbors import KNeighborsClassifier\n",
    "from sklearn.neighbors import LocalOutlierFactor\n",
    "from sklearn.naive_bayes import GaussianNB\n",
    "from sklearn.pipeline import Pipeline\n",
    "from sklearn.pipeline import make_pipeline\n",
    "from polylearn import PolynomialNetworkClassifier\n",
    "from polylearn import FactorizationMachineClassifier\n"
   ]
  },
  {
   "cell_type": "markdown",
   "id": "colonial-birth",
   "metadata": {},
   "source": [
    "## Exploratory Data Analysis "
   ]
  },
  {
   "cell_type": "markdown",
   "id": "crucial-square",
   "metadata": {},
   "source": [
    "### File and parameters loading"
   ]
  },
  {
   "cell_type": "code",
   "execution_count": 2,
   "id": "tested-employer",
   "metadata": {},
   "outputs": [],
   "source": [
    "problem_type = 'classification'"
   ]
  },
  {
   "cell_type": "code",
   "execution_count": 3,
   "id": "improved-transcript",
   "metadata": {},
   "outputs": [],
   "source": [
    "stacking = 'True'"
   ]
  },
  {
   "cell_type": "code",
   "execution_count": 4,
   "id": "prerequisite-smooth",
   "metadata": {},
   "outputs": [],
   "source": [
    "data_size = 'small'"
   ]
  },
  {
   "cell_type": "code",
   "execution_count": 5,
   "id": "fundamental-privilege",
   "metadata": {},
   "outputs": [],
   "source": [
    "df = pd.read_csv('/home/philippe/Documents/python project/EZStacking-v0.5/dataset/iris.csv')"
   ]
  },
  {
   "cell_type": "code",
   "execution_count": 6,
   "id": "destroyed-orientation",
   "metadata": {},
   "outputs": [],
   "source": [
    "target_col = 'variety'"
   ]
  },
  {
   "cell_type": "code",
   "execution_count": 7,
   "id": "judicial-ozone",
   "metadata": {},
   "outputs": [],
   "source": [
    "user_drop_cols = []"
   ]
  },
  {
   "cell_type": "code",
   "execution_count": 8,
   "id": "russian-pittsburgh",
   "metadata": {},
   "outputs": [],
   "source": [
    "threshold_NaN = 0.5"
   ]
  },
  {
   "cell_type": "code",
   "execution_count": 9,
   "id": "weighted-highway",
   "metadata": {},
   "outputs": [],
   "source": [
    "threshold_cat = 5"
   ]
  },
  {
   "cell_type": "code",
   "execution_count": 10,
   "id": "dirty-transcription",
   "metadata": {},
   "outputs": [],
   "source": [
    "threshold_Z = 3.0"
   ]
  },
  {
   "cell_type": "markdown",
   "id": "saved-cotton",
   "metadata": {},
   "source": [
    "### Dataset Information"
   ]
  },
  {
   "cell_type": "code",
   "execution_count": 11,
   "id": "complimentary-czech",
   "metadata": {},
   "outputs": [
    {
     "data": {
      "text/plain": [
       "(150, 5)"
      ]
     },
     "execution_count": 11,
     "metadata": {},
     "output_type": "execute_result"
    }
   ],
   "source": [
    "df.shape"
   ]
  },
  {
   "cell_type": "markdown",
   "id": "reserved-moment",
   "metadata": {},
   "source": [
    "Some records"
   ]
  },
  {
   "cell_type": "code",
   "execution_count": 12,
   "id": "worldwide-tablet",
   "metadata": {},
   "outputs": [
    {
     "data": {
      "text/html": [
       "<div>\n",
       "<style scoped>\n",
       "    .dataframe tbody tr th:only-of-type {\n",
       "        vertical-align: middle;\n",
       "    }\n",
       "\n",
       "    .dataframe tbody tr th {\n",
       "        vertical-align: top;\n",
       "    }\n",
       "\n",
       "    .dataframe thead th {\n",
       "        text-align: right;\n",
       "    }\n",
       "</style>\n",
       "<table border=\"1\" class=\"dataframe\">\n",
       "  <thead>\n",
       "    <tr style=\"text-align: right;\">\n",
       "      <th></th>\n",
       "      <th>sepal.length</th>\n",
       "      <th>sepal.width</th>\n",
       "      <th>petal.length</th>\n",
       "      <th>petal.width</th>\n",
       "      <th>variety</th>\n",
       "    </tr>\n",
       "  </thead>\n",
       "  <tbody>\n",
       "    <tr>\n",
       "      <th>0</th>\n",
       "      <td>5.1</td>\n",
       "      <td>3.5</td>\n",
       "      <td>1.4</td>\n",
       "      <td>0.2</td>\n",
       "      <td>Setosa</td>\n",
       "    </tr>\n",
       "    <tr>\n",
       "      <th>1</th>\n",
       "      <td>4.9</td>\n",
       "      <td>3.0</td>\n",
       "      <td>1.4</td>\n",
       "      <td>0.2</td>\n",
       "      <td>Setosa</td>\n",
       "    </tr>\n",
       "    <tr>\n",
       "      <th>2</th>\n",
       "      <td>4.7</td>\n",
       "      <td>3.2</td>\n",
       "      <td>1.3</td>\n",
       "      <td>0.2</td>\n",
       "      <td>Setosa</td>\n",
       "    </tr>\n",
       "    <tr>\n",
       "      <th>3</th>\n",
       "      <td>4.6</td>\n",
       "      <td>3.1</td>\n",
       "      <td>1.5</td>\n",
       "      <td>0.2</td>\n",
       "      <td>Setosa</td>\n",
       "    </tr>\n",
       "    <tr>\n",
       "      <th>4</th>\n",
       "      <td>5.0</td>\n",
       "      <td>3.6</td>\n",
       "      <td>1.4</td>\n",
       "      <td>0.2</td>\n",
       "      <td>Setosa</td>\n",
       "    </tr>\n",
       "    <tr>\n",
       "      <th>...</th>\n",
       "      <td>...</td>\n",
       "      <td>...</td>\n",
       "      <td>...</td>\n",
       "      <td>...</td>\n",
       "      <td>...</td>\n",
       "    </tr>\n",
       "    <tr>\n",
       "      <th>145</th>\n",
       "      <td>6.7</td>\n",
       "      <td>3.0</td>\n",
       "      <td>5.2</td>\n",
       "      <td>2.3</td>\n",
       "      <td>Virginica</td>\n",
       "    </tr>\n",
       "    <tr>\n",
       "      <th>146</th>\n",
       "      <td>6.3</td>\n",
       "      <td>2.5</td>\n",
       "      <td>5.0</td>\n",
       "      <td>1.9</td>\n",
       "      <td>Virginica</td>\n",
       "    </tr>\n",
       "    <tr>\n",
       "      <th>147</th>\n",
       "      <td>6.5</td>\n",
       "      <td>3.0</td>\n",
       "      <td>5.2</td>\n",
       "      <td>2.0</td>\n",
       "      <td>Virginica</td>\n",
       "    </tr>\n",
       "    <tr>\n",
       "      <th>148</th>\n",
       "      <td>6.2</td>\n",
       "      <td>3.4</td>\n",
       "      <td>5.4</td>\n",
       "      <td>2.3</td>\n",
       "      <td>Virginica</td>\n",
       "    </tr>\n",
       "    <tr>\n",
       "      <th>149</th>\n",
       "      <td>5.9</td>\n",
       "      <td>3.0</td>\n",
       "      <td>5.1</td>\n",
       "      <td>1.8</td>\n",
       "      <td>Virginica</td>\n",
       "    </tr>\n",
       "  </tbody>\n",
       "</table>\n",
       "<p>150 rows × 5 columns</p>\n",
       "</div>"
      ],
      "text/plain": [
       "     sepal.length  sepal.width  petal.length  petal.width    variety\n",
       "0             5.1          3.5           1.4          0.2     Setosa\n",
       "1             4.9          3.0           1.4          0.2     Setosa\n",
       "2             4.7          3.2           1.3          0.2     Setosa\n",
       "3             4.6          3.1           1.5          0.2     Setosa\n",
       "4             5.0          3.6           1.4          0.2     Setosa\n",
       "..            ...          ...           ...          ...        ...\n",
       "145           6.7          3.0           5.2          2.3  Virginica\n",
       "146           6.3          2.5           5.0          1.9  Virginica\n",
       "147           6.5          3.0           5.2          2.0  Virginica\n",
       "148           6.2          3.4           5.4          2.3  Virginica\n",
       "149           5.9          3.0           5.1          1.8  Virginica\n",
       "\n",
       "[150 rows x 5 columns]"
      ]
     },
     "metadata": {},
     "output_type": "display_data"
    }
   ],
   "source": [
    "display(df)"
   ]
  },
  {
   "cell_type": "markdown",
   "id": "legal-compensation",
   "metadata": {},
   "source": [
    "### Dataframe structure"
   ]
  },
  {
   "cell_type": "code",
   "execution_count": 13,
   "id": "brazilian-manufacturer",
   "metadata": {},
   "outputs": [
    {
     "data": {
      "image/png": "[encoded data removed]",
      "text/plain": [
       "<Figure size 432x288 with 1 Axes>"
      ]
     },
     "metadata": {},
     "output_type": "display_data"
    }
   ],
   "source": [
    "plot_dataframe_structure(df)"
   ]
  },
  {
   "cell_type": "markdown",
   "id": "acoustic-ancient",
   "metadata": {},
   "source": [
    "### Dataframe statistics"
   ]
  },
  {
   "cell_type": "code",
   "execution_count": 14,
   "id": "sticky-dylan",
   "metadata": {},
   "outputs": [
    {
     "data": {
      "text/html": [
       "<div>\n",
       "<style scoped>\n",
       "    .dataframe tbody tr th:only-of-type {\n",
       "        vertical-align: middle;\n",
       "    }\n",
       "\n",
       "    .dataframe tbody tr th {\n",
       "        vertical-align: top;\n",
       "    }\n",
       "\n",
       "    .dataframe thead th {\n",
       "        text-align: right;\n",
       "    }\n",
       "</style>\n",
       "<table border=\"1\" class=\"dataframe\">\n",
       "  <thead>\n",
       "    <tr style=\"text-align: right;\">\n",
       "      <th></th>\n",
       "      <th>count</th>\n",
       "      <th>mean</th>\n",
       "      <th>std</th>\n",
       "      <th>min</th>\n",
       "      <th>25%</th>\n",
       "      <th>50%</th>\n",
       "      <th>75%</th>\n",
       "      <th>max</th>\n",
       "    </tr>\n",
       "  </thead>\n",
       "  <tbody>\n",
       "    <tr>\n",
       "      <th>sepal.length</th>\n",
       "      <td>150.0</td>\n",
       "      <td>5.843333</td>\n",
       "      <td>0.828066</td>\n",
       "      <td>4.3</td>\n",
       "      <td>5.1</td>\n",
       "      <td>5.80</td>\n",
       "      <td>6.4</td>\n",
       "      <td>7.9</td>\n",
       "    </tr>\n",
       "    <tr>\n",
       "      <th>sepal.width</th>\n",
       "      <td>150.0</td>\n",
       "      <td>3.057333</td>\n",
       "      <td>0.435866</td>\n",
       "      <td>2.0</td>\n",
       "      <td>2.8</td>\n",
       "      <td>3.00</td>\n",
       "      <td>3.3</td>\n",
       "      <td>4.4</td>\n",
       "    </tr>\n",
       "    <tr>\n",
       "      <th>petal.length</th>\n",
       "      <td>150.0</td>\n",
       "      <td>3.758000</td>\n",
       "      <td>1.765298</td>\n",
       "      <td>1.0</td>\n",
       "      <td>1.6</td>\n",
       "      <td>4.35</td>\n",
       "      <td>5.1</td>\n",
       "      <td>6.9</td>\n",
       "    </tr>\n",
       "    <tr>\n",
       "      <th>petal.width</th>\n",
       "      <td>150.0</td>\n",
       "      <td>1.199333</td>\n",
       "      <td>0.762238</td>\n",
       "      <td>0.1</td>\n",
       "      <td>0.3</td>\n",
       "      <td>1.30</td>\n",
       "      <td>1.8</td>\n",
       "      <td>2.5</td>\n",
       "    </tr>\n",
       "  </tbody>\n",
       "</table>\n",
       "</div>"
      ],
      "text/plain": [
       "              count      mean       std  min  25%   50%  75%  max\n",
       "sepal.length  150.0  5.843333  0.828066  4.3  5.1  5.80  6.4  7.9\n",
       "sepal.width   150.0  3.057333  0.435866  2.0  2.8  3.00  3.3  4.4\n",
       "petal.length  150.0  3.758000  1.765298  1.0  1.6  4.35  5.1  6.9\n",
       "petal.width   150.0  1.199333  0.762238  0.1  0.3  1.30  1.8  2.5"
      ]
     },
     "metadata": {},
     "output_type": "display_data"
    }
   ],
   "source": [
    "display(df.describe().T)"
   ]
  },
  {
   "cell_type": "markdown",
   "id": "exposed-eagle",
   "metadata": {},
   "source": [
    "Which columns could be categorical ?"
   ]
  },
  {
   "cell_type": "code",
   "execution_count": 15,
   "id": "controversial-speaker",
   "metadata": {},
   "outputs": [
    {
     "data": {
      "image/png": "[encoded data removed]",
      "text/plain": [
       "<Figure size 432x288 with 1 Axes>"
      ]
     },
     "metadata": {
      "needs_background": "light"
     },
     "output_type": "display_data"
    }
   ],
   "source": [
    "plot_categorical(df)"
   ]
  },
  {
   "cell_type": "markdown",
   "id": "round-center",
   "metadata": {},
   "source": [
    "### Dataset Cleaning"
   ]
  },
  {
   "cell_type": "markdown",
   "id": "toxic-physics",
   "metadata": {},
   "source": [
    "#### Duplicate rows:"
   ]
  },
  {
   "cell_type": "code",
   "execution_count": 16,
   "id": "looking-contractor",
   "metadata": {},
   "outputs": [
    {
     "name": "stdout",
     "output_type": "stream",
     "text": [
      "Number of rows before removing: 150\n",
      "Number of duplicate rows: 1\n",
      "Number of rows after removing: 149\n"
     ]
    },
    {
     "data": {
      "text/html": [
       "<div>\n",
       "<style scoped>\n",
       "    .dataframe tbody tr th:only-of-type {\n",
       "        vertical-align: middle;\n",
       "    }\n",
       "\n",
       "    .dataframe tbody tr th {\n",
       "        vertical-align: top;\n",
       "    }\n",
       "\n",
       "    .dataframe thead th {\n",
       "        text-align: right;\n",
       "    }\n",
       "</style>\n",
       "<table border=\"1\" class=\"dataframe\">\n",
       "  <thead>\n",
       "    <tr style=\"text-align: right;\">\n",
       "      <th></th>\n",
       "      <th>sepal.length</th>\n",
       "      <th>sepal.width</th>\n",
       "      <th>petal.length</th>\n",
       "      <th>petal.width</th>\n",
       "      <th>variety</th>\n",
       "    </tr>\n",
       "  </thead>\n",
       "  <tbody>\n",
       "    <tr>\n",
       "      <th>0</th>\n",
       "      <td>5.1</td>\n",
       "      <td>3.5</td>\n",
       "      <td>1.4</td>\n",
       "      <td>0.2</td>\n",
       "      <td>Setosa</td>\n",
       "    </tr>\n",
       "    <tr>\n",
       "      <th>1</th>\n",
       "      <td>4.9</td>\n",
       "      <td>3.0</td>\n",
       "      <td>1.4</td>\n",
       "      <td>0.2</td>\n",
       "      <td>Setosa</td>\n",
       "    </tr>\n",
       "    <tr>\n",
       "      <th>2</th>\n",
       "      <td>4.7</td>\n",
       "      <td>3.2</td>\n",
       "      <td>1.3</td>\n",
       "      <td>0.2</td>\n",
       "      <td>Setosa</td>\n",
       "    </tr>\n",
       "    <tr>\n",
       "      <th>3</th>\n",
       "      <td>4.6</td>\n",
       "      <td>3.1</td>\n",
       "      <td>1.5</td>\n",
       "      <td>0.2</td>\n",
       "      <td>Setosa</td>\n",
       "    </tr>\n",
       "    <tr>\n",
       "      <th>4</th>\n",
       "      <td>5.0</td>\n",
       "      <td>3.6</td>\n",
       "      <td>1.4</td>\n",
       "      <td>0.2</td>\n",
       "      <td>Setosa</td>\n",
       "    </tr>\n",
       "    <tr>\n",
       "      <th>...</th>\n",
       "      <td>...</td>\n",
       "      <td>...</td>\n",
       "      <td>...</td>\n",
       "      <td>...</td>\n",
       "      <td>...</td>\n",
       "    </tr>\n",
       "    <tr>\n",
       "      <th>145</th>\n",
       "      <td>6.7</td>\n",
       "      <td>3.0</td>\n",
       "      <td>5.2</td>\n",
       "      <td>2.3</td>\n",
       "      <td>Virginica</td>\n",
       "    </tr>\n",
       "    <tr>\n",
       "      <th>146</th>\n",
       "      <td>6.3</td>\n",
       "      <td>2.5</td>\n",
       "      <td>5.0</td>\n",
       "      <td>1.9</td>\n",
       "      <td>Virginica</td>\n",
       "    </tr>\n",
       "    <tr>\n",
       "      <th>147</th>\n",
       "      <td>6.5</td>\n",
       "      <td>3.0</td>\n",
       "      <td>5.2</td>\n",
       "      <td>2.0</td>\n",
       "      <td>Virginica</td>\n",
       "    </tr>\n",
       "    <tr>\n",
       "      <th>148</th>\n",
       "      <td>6.2</td>\n",
       "      <td>3.4</td>\n",
       "      <td>5.4</td>\n",
       "      <td>2.3</td>\n",
       "      <td>Virginica</td>\n",
       "    </tr>\n",
       "    <tr>\n",
       "      <th>149</th>\n",
       "      <td>5.9</td>\n",
       "      <td>3.0</td>\n",
       "      <td>5.1</td>\n",
       "      <td>1.8</td>\n",
       "      <td>Virginica</td>\n",
       "    </tr>\n",
       "  </tbody>\n",
       "</table>\n",
       "<p>149 rows × 5 columns</p>\n",
       "</div>"
      ],
      "text/plain": [
       "     sepal.length  sepal.width  petal.length  petal.width    variety\n",
       "0             5.1          3.5           1.4          0.2     Setosa\n",
       "1             4.9          3.0           1.4          0.2     Setosa\n",
       "2             4.7          3.2           1.3          0.2     Setosa\n",
       "3             4.6          3.1           1.5          0.2     Setosa\n",
       "4             5.0          3.6           1.4          0.2     Setosa\n",
       "..            ...          ...           ...          ...        ...\n",
       "145           6.7          3.0           5.2          2.3  Virginica\n",
       "146           6.3          2.5           5.0          1.9  Virginica\n",
       "147           6.5          3.0           5.2          2.0  Virginica\n",
       "148           6.2          3.4           5.4          2.3  Virginica\n",
       "149           5.9          3.0           5.1          1.8  Virginica\n",
       "\n",
       "[149 rows x 5 columns]"
      ]
     },
     "execution_count": 16,
     "metadata": {},
     "output_type": "execute_result"
    }
   ],
   "source": [
    "duplicates(df)"
   ]
  },
  {
   "cell_type": "markdown",
   "id": "tracked-holmes",
   "metadata": {},
   "source": [
    "#### Drop user's columns:"
   ]
  },
  {
   "cell_type": "code",
   "execution_count": 17,
   "id": "fantastic-flavor",
   "metadata": {},
   "outputs": [
    {
     "name": "stdout",
     "output_type": "stream",
     "text": [
      "user_drop_cols =  []\n"
     ]
    }
   ],
   "source": [
    "print('user_drop_cols = ', user_drop_cols)"
   ]
  },
  {
   "cell_type": "code",
   "execution_count": 18,
   "id": "continental-distribution",
   "metadata": {},
   "outputs": [],
   "source": [
    "df = df.drop(user_drop_cols, axis=1)"
   ]
  },
  {
   "cell_type": "markdown",
   "id": "invalid-colombia",
   "metadata": {},
   "source": [
    "#### Drop NaN:"
   ]
  },
  {
   "cell_type": "code",
   "execution_count": 19,
   "id": "lined-gardening",
   "metadata": {},
   "outputs": [
    {
     "name": "stdout",
     "output_type": "stream",
     "text": [
      "No need to drop columns.\n"
     ]
    }
   ],
   "source": [
    "df, drop_cols = drop_na(df, threshold_NaN)"
   ]
  },
  {
   "cell_type": "markdown",
   "id": "specific-architect",
   "metadata": {},
   "source": [
    "Final set of dropped columns"
   ]
  },
  {
   "cell_type": "code",
   "execution_count": 20,
   "id": "pursuant-domestic",
   "metadata": {},
   "outputs": [],
   "source": [
    "dropped_cols = np.unique(np.concatenate((drop_cols, user_drop_cols)))"
   ]
  },
  {
   "cell_type": "code",
   "execution_count": 21,
   "id": "fifty-portsmouth",
   "metadata": {},
   "outputs": [
    {
     "data": {
      "text/plain": [
       "array([], dtype=float64)"
      ]
     },
     "metadata": {},
     "output_type": "display_data"
    }
   ],
   "source": [
    "display(dropped_cols)"
   ]
  },
  {
   "cell_type": "markdown",
   "id": "configured-slope",
   "metadata": {},
   "source": [
    "#### Encoding data:"
   ]
  },
  {
   "cell_type": "code",
   "execution_count": 22,
   "id": "nutritional-artwork",
   "metadata": {},
   "outputs": [
    {
     "name": "stdout",
     "output_type": "stream",
     "text": [
      "Encoding numeric column: sepal.length\n",
      "Encoding numeric column: sepal.width\n",
      "Encoding numeric column: petal.length\n",
      "Encoding numeric column: petal.width\n",
      "Encoding object column: variety\n"
     ]
    }
   ],
   "source": [
    "df, encoded_cols = encoding(df, threshold_cat)"
   ]
  },
  {
   "cell_type": "markdown",
   "id": "congressional-specialist",
   "metadata": {},
   "source": [
    "#### Imputing NaN using IterativeImputer"
   ]
  },
  {
   "cell_type": "markdown",
   "id": "distinguished-aurora",
   "metadata": {},
   "source": [
    "##### Imputation"
   ]
  },
  {
   "cell_type": "code",
   "execution_count": 23,
   "id": "accepted-convergence",
   "metadata": {},
   "outputs": [
    {
     "name": "stdout",
     "output_type": "stream",
     "text": [
      "No need to impute data.\n"
     ]
    }
   ],
   "source": [
    "df = imputation(df)"
   ]
  },
  {
   "cell_type": "markdown",
   "id": "biological-watch",
   "metadata": {},
   "source": [
    "#### Data compression:"
   ]
  },
  {
   "cell_type": "code",
   "execution_count": 24,
   "id": "adjusted-mercy",
   "metadata": {},
   "outputs": [
    {
     "name": "stdout",
     "output_type": "stream",
     "text": [
      "Memory usage of dataframe is 0.01MB\n",
      "Memory usage after optimization is: 0.00MB\n",
      "Decreased by 75.9%\n"
     ]
    }
   ],
   "source": [
    "df = downcast_dtypes(df)"
   ]
  },
  {
   "cell_type": "markdown",
   "id": "encouraging-stable",
   "metadata": {},
   "source": [
    "Dataframe structure after compression"
   ]
  },
  {
   "cell_type": "code",
   "execution_count": 25,
   "id": "prescribed-gospel",
   "metadata": {},
   "outputs": [
    {
     "data": {
      "image/png": "[encoded data removed]",
      "text/plain": [
       "<Figure size 432x288 with 1 Axes>"
      ]
     },
     "metadata": {},
     "output_type": "display_data"
    }
   ],
   "source": [
    "plot_dataframe_structure(df)"
   ]
  },
  {
   "cell_type": "markdown",
   "id": "instant-incidence",
   "metadata": {},
   "source": [
    "#### Outliers:"
   ]
  },
  {
   "cell_type": "code",
   "execution_count": 26,
   "id": "heavy-treatment",
   "metadata": {},
   "outputs": [
    {
     "name": "stdout",
     "output_type": "stream",
     "text": [
      "Using Z_score,  1  rows will be suppressed.\n"
     ]
    }
   ],
   "source": [
    "df = outliers(df, threshold_Z)"
   ]
  },
  {
   "cell_type": "markdown",
   "id": "rural-diversity",
   "metadata": {},
   "source": [
    "#### Splitting dataframe in features and targets"
   ]
  },
  {
   "cell_type": "code",
   "execution_count": 27,
   "id": "renewable-medline",
   "metadata": {},
   "outputs": [],
   "source": [
    "y = df[target_col]"
   ]
  },
  {
   "cell_type": "code",
   "execution_count": 28,
   "id": "coated-muscle",
   "metadata": {},
   "outputs": [],
   "source": [
    "X = df.drop(target_col, axis=1)"
   ]
  },
  {
   "cell_type": "markdown",
   "id": "everyday-cornell",
   "metadata": {},
   "source": [
    "## Splitting data in train and test sets "
   ]
  },
  {
   "cell_type": "code",
   "execution_count": 29,
   "id": "arbitrary-messenger",
   "metadata": {},
   "outputs": [],
   "source": [
    "X_train, X_test, y_train, y_test = split(X, y, test_size=0.33)"
   ]
  },
  {
   "cell_type": "markdown",
   "id": "second-christianity",
   "metadata": {},
   "source": [
    "## Modeling"
   ]
  },
  {
   "cell_type": "markdown",
   "id": "graphic-client",
   "metadata": {},
   "source": [
    "### Building the model"
   ]
  },
  {
   "cell_type": "markdown",
   "id": "banner-poultry",
   "metadata": {},
   "source": [
    "Level-0 models"
   ]
  },
  {
   "cell_type": "code",
   "execution_count": 30,
   "id": "shaped-spoke",
   "metadata": {},
   "outputs": [],
   "source": [
    "level_0 = [ \n",
    "          ( 'GPC' , GaussianProcessClassifier() ), \n",
    "          ( 'DTC' , DecisionTreeClassifier(max_depth=5) ), \n",
    "          ( 'RFC' , RandomForestClassifier(max_depth=5, n_estimators=10, max_features='auto') ), \n",
    "          ( 'ABC' , AdaBoostClassifier() ), \n",
    "          ( 'LOGR' , LogisticRegression() ), \n",
    "          ( 'MLPC' , MLPClassifier(alpha=1, max_iter=1000, early_stopping=True) ), \n",
    "          ( 'KNC' , KNeighborsClassifier(n_neighbors=len(y.unique())) ), \n",
    "          ( 'GNB' , GaussianNB() ), \n",
    "          ]"
   ]
  },
  {
   "cell_type": "markdown",
   "id": "oriented-fluid",
   "metadata": {},
   "source": [
    "Level-1 model"
   ]
  },
  {
   "cell_type": "code",
   "execution_count": 31,
   "id": "piano-uniform",
   "metadata": {},
   "outputs": [],
   "source": [
    "level_1 = MLPClassifier()"
   ]
  },
  {
   "cell_type": "markdown",
   "id": "alive-vegetable",
   "metadata": {},
   "source": [
    "Stacking for classification"
   ]
  },
  {
   "cell_type": "code",
   "execution_count": 32,
   "id": "transsexual-forum",
   "metadata": {},
   "outputs": [],
   "source": [
    "model = StackingClassifier(level_0, final_estimator=level_1)"
   ]
  },
  {
   "cell_type": "markdown",
   "id": "greek-listening",
   "metadata": {},
   "source": [
    "### Model fitting"
   ]
  },
  {
   "cell_type": "code",
   "execution_count": 33,
   "id": "dental-furniture",
   "metadata": {},
   "outputs": [
    {
     "name": "stdout",
     "output_type": "stream",
     "text": [
      "CPU times: user 2.93 s, sys: 923 ms, total: 3.85 s\n",
      "Wall time: 2.04 s\n"
     ]
    },
    {
     "data": {
      "text/html": [
       "<style>div.sk-top-container {color: black;background-color: white;}div.sk-toggleable {background-color: white;}label.sk-toggleable__label {cursor: pointer;display: block;width: 100%;margin-bottom: 0;padding: 0.2em 0.3em;box-sizing: border-box;text-align: center;}div.sk-toggleable__content {max-height: 0;max-width: 0;overflow: hidden;text-align: left;background-color: #f0f8ff;}div.sk-toggleable__content pre {margin: 0.2em;color: black;border-radius: 0.25em;background-color: #f0f8ff;}input.sk-toggleable__control:checked~div.sk-toggleable__content {max-height: 200px;max-width: 100%;overflow: auto;}div.sk-estimator input.sk-toggleable__control:checked~label.sk-toggleable__label {background-color: #d4ebff;}div.sk-label input.sk-toggleable__control:checked~label.sk-toggleable__label {background-color: #d4ebff;}input.sk-hidden--visually {border: 0;clip: rect(1px 1px 1px 1px);clip: rect(1px, 1px, 1px, 1px);height: 1px;margin: -1px;overflow: hidden;padding: 0;position: absolute;width: 1px;}div.sk-estimator {font-family: monospace;background-color: #f0f8ff;margin: 0.25em 0.25em;border: 1px dotted black;border-radius: 0.25em;box-sizing: border-box;}div.sk-estimator:hover {background-color: #d4ebff;}div.sk-parallel-item::after {content: \"\";width: 100%;border-bottom: 1px solid gray;flex-grow: 1;}div.sk-label:hover label.sk-toggleable__label {background-color: #d4ebff;}div.sk-serial::before {content: \"\";position: absolute;border-left: 1px solid gray;box-sizing: border-box;top: 2em;bottom: 0;left: 50%;}div.sk-serial {display: flex;flex-direction: column;align-items: center;background-color: white;}div.sk-item {z-index: 1;}div.sk-parallel {display: flex;align-items: stretch;justify-content: center;background-color: white;}div.sk-parallel-item {display: flex;flex-direction: column;position: relative;background-color: white;}div.sk-parallel-item:first-child::after {align-self: flex-end;width: 50%;}div.sk-parallel-item:last-child::after {align-self: flex-start;width: 50%;}div.sk-parallel-item:only-child::after {width: 0;}div.sk-dashed-wrapped {border: 1px dashed gray;margin: 0.2em;box-sizing: border-box;padding-bottom: 0.1em;background-color: white;position: relative;}div.sk-label label {font-family: monospace;font-weight: bold;background-color: white;display: inline-block;line-height: 1.2em;}div.sk-label-container {position: relative;z-index: 2;text-align: center;}div.sk-container {display: inline-block;position: relative;}</style><div class=\"sk-top-container\"><div class=\"sk-container\"><div class=\"sk-item sk-dashed-wrapped\"><div class=\"sk-label-container\"><div class=\"sk-label sk-toggleable\"><input class=\"sk-toggleable__control sk-hidden--visually\" id=\"7d60991d-647c-4947-8147-167f2aa1cf65\" type=\"checkbox\" ><label class=\"sk-toggleable__label\" for=\"7d60991d-647c-4947-8147-167f2aa1cf65\">StackingClassifier</label><div class=\"sk-toggleable__content\"><pre>StackingClassifier(estimators=[('GPC', GaussianProcessClassifier()),\n",
       "                               ('DTC', DecisionTreeClassifier(max_depth=5)),\n",
       "                               ('RFC',\n",
       "                                RandomForestClassifier(max_depth=5,\n",
       "                                                       n_estimators=10)),\n",
       "                               ('ABC', AdaBoostClassifier()),\n",
       "                               ('LOGR', LogisticRegression()),\n",
       "                               ('MLPC',\n",
       "                                MLPClassifier(alpha=1, early_stopping=True,\n",
       "                                              max_iter=1000)),\n",
       "                               ('KNC', KNeighborsClassifier(n_neighbors=3)),\n",
       "                               ('GNB', GaussianNB())],\n",
       "                   final_estimator=MLPClassifier())</pre></div></div></div><div class=\"sk-serial\"><div class=\"sk-item\"><div class=\"sk-serial\"><div class=\"sk-item\"><div class=\"sk-parallel\"><div class=\"sk-parallel-item\"><div class=\"sk-item\"><div class=\"sk-label-container\"><div class=\"sk-label sk-toggleable\"><label>GPC</label></div></div><div class=\"sk-serial\"><div class=\"sk-item\"><div class=\"sk-estimator sk-toggleable\"><input class=\"sk-toggleable__control sk-hidden--visually\" id=\"ab94862c-05ad-4ff4-b32e-e797fab0be6b\" type=\"checkbox\" ><label class=\"sk-toggleable__label\" for=\"ab94862c-05ad-4ff4-b32e-e797fab0be6b\">GaussianProcessClassifier</label><div class=\"sk-toggleable__content\"><pre>GaussianProcessClassifier()</pre></div></div></div></div></div></div><div class=\"sk-parallel-item\"><div class=\"sk-item\"><div class=\"sk-label-container\"><div class=\"sk-label sk-toggleable\"><label>DTC</label></div></div><div class=\"sk-serial\"><div class=\"sk-item\"><div class=\"sk-estimator sk-toggleable\"><input class=\"sk-toggleable__control sk-hidden--visually\" id=\"6be202ac-d500-4479-966a-0bb9f28d2a33\" type=\"checkbox\" ><label class=\"sk-toggleable__label\" for=\"6be202ac-d500-4479-966a-0bb9f28d2a33\">DecisionTreeClassifier</label><div class=\"sk-toggleable__content\"><pre>DecisionTreeClassifier(max_depth=5)</pre></div></div></div></div></div></div><div class=\"sk-parallel-item\"><div class=\"sk-item\"><div class=\"sk-label-container\"><div class=\"sk-label sk-toggleable\"><label>RFC</label></div></div><div class=\"sk-serial\"><div class=\"sk-item\"><div class=\"sk-estimator sk-toggleable\"><input class=\"sk-toggleable__control sk-hidden--visually\" id=\"82841a32-9fd4-421c-bdb3-7146600f9ccc\" type=\"checkbox\" ><label class=\"sk-toggleable__label\" for=\"82841a32-9fd4-421c-bdb3-7146600f9ccc\">RandomForestClassifier</label><div class=\"sk-toggleable__content\"><pre>RandomForestClassifier(max_depth=5, n_estimators=10)</pre></div></div></div></div></div></div><div class=\"sk-parallel-item\"><div class=\"sk-item\"><div class=\"sk-label-container\"><div class=\"sk-label sk-toggleable\"><label>ABC</label></div></div><div class=\"sk-serial\"><div class=\"sk-item\"><div class=\"sk-estimator sk-toggleable\"><input class=\"sk-toggleable__control sk-hidden--visually\" id=\"98469f55-ddbf-4833-8c59-5a271007eafe\" type=\"checkbox\" ><label class=\"sk-toggleable__label\" for=\"98469f55-ddbf-4833-8c59-5a271007eafe\">AdaBoostClassifier</label><div class=\"sk-toggleable__content\"><pre>AdaBoostClassifier()</pre></div></div></div></div></div></div><div class=\"sk-parallel-item\"><div class=\"sk-item\"><div class=\"sk-label-container\"><div class=\"sk-label sk-toggleable\"><label>LOGR</label></div></div><div class=\"sk-serial\"><div class=\"sk-item\"><div class=\"sk-estimator sk-toggleable\"><input class=\"sk-toggleable__control sk-hidden--visually\" id=\"65ec1697-9001-4bd5-96a6-4437b6aee4e1\" type=\"checkbox\" ><label class=\"sk-toggleable__label\" for=\"65ec1697-9001-4bd5-96a6-4437b6aee4e1\">LogisticRegression</label><div class=\"sk-toggleable__content\"><pre>LogisticRegression()</pre></div></div></div></div></div></div><div class=\"sk-parallel-item\"><div class=\"sk-item\"><div class=\"sk-label-container\"><div class=\"sk-label sk-toggleable\"><label>MLPC</label></div></div><div class=\"sk-serial\"><div class=\"sk-item\"><div class=\"sk-estimator sk-toggleable\"><input class=\"sk-toggleable__control sk-hidden--visually\" id=\"e4fce7d5-a2e3-4316-b532-1b0a1080b4d8\" type=\"checkbox\" ><label class=\"sk-toggleable__label\" for=\"e4fce7d5-a2e3-4316-b532-1b0a1080b4d8\">MLPClassifier</label><div class=\"sk-toggleable__content\"><pre>MLPClassifier(alpha=1, early_stopping=True, max_iter=1000)</pre></div></div></div></div></div></div><div class=\"sk-parallel-item\"><div class=\"sk-item\"><div class=\"sk-label-container\"><div class=\"sk-label sk-toggleable\"><label>KNC</label></div></div><div class=\"sk-serial\"><div class=\"sk-item\"><div class=\"sk-estimator sk-toggleable\"><input class=\"sk-toggleable__control sk-hidden--visually\" id=\"a681000b-8d49-476a-8c3a-608abd181d92\" type=\"checkbox\" ><label class=\"sk-toggleable__label\" for=\"a681000b-8d49-476a-8c3a-608abd181d92\">KNeighborsClassifier</label><div class=\"sk-toggleable__content\"><pre>KNeighborsClassifier(n_neighbors=3)</pre></div></div></div></div></div></div><div class=\"sk-parallel-item\"><div class=\"sk-item\"><div class=\"sk-label-container\"><div class=\"sk-label sk-toggleable\"><label>GNB</label></div></div><div class=\"sk-serial\"><div class=\"sk-item\"><div class=\"sk-estimator sk-toggleable\"><input class=\"sk-toggleable__control sk-hidden--visually\" id=\"a6991f24-4d96-42e5-a97c-39b4f10639da\" type=\"checkbox\" ><label class=\"sk-toggleable__label\" for=\"a6991f24-4d96-42e5-a97c-39b4f10639da\">GaussianNB</label><div class=\"sk-toggleable__content\"><pre>GaussianNB()</pre></div></div></div></div></div></div></div></div><div class=\"sk-item\"><div class=\"sk-estimator sk-toggleable\"><input class=\"sk-toggleable__control sk-hidden--visually\" id=\"7b59c76a-2cb8-4c6e-aedd-e569dd3d9c36\" type=\"checkbox\" ><label class=\"sk-toggleable__label\" for=\"7b59c76a-2cb8-4c6e-aedd-e569dd3d9c36\">MLPClassifier</label><div class=\"sk-toggleable__content\"><pre>MLPClassifier()</pre></div></div></div></div></div></div></div></div></div>"
      ],
      "text/plain": [
       "StackingClassifier(estimators=[('GPC', GaussianProcessClassifier()),\n",
       "                               ('DTC', DecisionTreeClassifier(max_depth=5)),\n",
       "                               ('RFC',\n",
       "                                RandomForestClassifier(max_depth=5,\n",
       "                                                       n_estimators=10)),\n",
       "                               ('ABC', AdaBoostClassifier()),\n",
       "                               ('LOGR', LogisticRegression()),\n",
       "                               ('MLPC',\n",
       "                                MLPClassifier(alpha=1, early_stopping=True,\n",
       "                                              max_iter=1000)),\n",
       "                               ('KNC', KNeighborsClassifier(n_neighbors=3)),\n",
       "                               ('GNB', GaussianNB())],\n",
       "                   final_estimator=MLPClassifier())"
      ]
     },
     "execution_count": 33,
     "metadata": {},
     "output_type": "execute_result"
    }
   ],
   "source": [
    "%%time\n",
    "set_config(display='diagram') \n",
    "model.fit(X_train, y_train)"
   ]
  },
  {
   "cell_type": "markdown",
   "id": "human-retreat",
   "metadata": {},
   "source": [
    "### Model evaluation"
   ]
  },
  {
   "cell_type": "markdown",
   "id": "large-garlic",
   "metadata": {},
   "source": [
    "#### Model scoring"
   ]
  },
  {
   "cell_type": "code",
   "execution_count": 34,
   "id": "formal-monaco",
   "metadata": {},
   "outputs": [
    {
     "data": {
      "image/png": "[encoded data removed]",
      "text/plain": [
       "<Figure size 576x360 with 1 Axes>"
      ]
     },
     "metadata": {
      "needs_background": "light"
     },
     "output_type": "display_data"
    },
    {
     "data": {
      "text/plain": [
       "array([['GPC', 0.9696969696969697, 0.94],\n",
       "       ['DTC', 1.0, 0.96],\n",
       "       ['RFC', 1.0, 0.94],\n",
       "       ['ABC', 0.9696969696969697, 0.94],\n",
       "       ['LOGR', 0.9595959595959596, 0.94],\n",
       "       ['MLPC', 0.7878787878787878, 0.78],\n",
       "       ['KNC', 0.9595959595959596, 0.94],\n",
       "       ['GNB', 0.9797979797979798, 0.92],\n",
       "       ['Stack', 0.9797979797979798, 0.94]], dtype=object)"
      ]
     },
     "execution_count": 34,
     "metadata": {},
     "output_type": "execute_result"
    }
   ],
   "source": [
    "score_stacking_c(model, X_train, y_train, X_test, y_test)"
   ]
  },
  {
   "cell_type": "markdown",
   "id": "extreme-christianity",
   "metadata": {},
   "source": [
    "#### Feature permutation importance (a posteriori)"
   ]
  },
  {
   "cell_type": "code",
   "execution_count": 35,
   "id": "dental-combining",
   "metadata": {},
   "outputs": [
    {
     "data": {
      "image/png": "[encoded data removed]",
      "text/plain": [
       "<Figure size 432x288 with 1 Axes>"
      ]
     },
     "metadata": {
      "needs_background": "light"
     },
     "output_type": "display_data"
    }
   ],
   "source": [
    "plot_perm_imp(model, X, y, scoring = 'accuracy');"
   ]
  }
 ],
 "metadata": {
  "kernelspec": {
   "display_name": "Python 3",
   "language": "python",
   "name": "python3"
  },
  "language_info": {
   "codemirror_mode": {
    "name": "ipython",
    "version": 3
   },
   "file_extension": ".py",
   "mimetype": "text/x-python",
   "name": "python",
   "nbconvert_exporter": "python",
   "pygments_lexer": "ipython3",
   "version": "3.8.12"
  }
 },
 "nbformat": 4,
 "nbformat_minor": 5
}
