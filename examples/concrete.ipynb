{
 "cells": [
  {
   "cell_type": "markdown",
   "id": "friendly-bhutan",
   "metadata": {},
   "source": [
    "# EDA & Modelling"
   ]
  },
  {
   "cell_type": "markdown",
   "id": "military-shield",
   "metadata": {},
   "source": [
    "## Package loading"
   ]
  },
  {
   "cell_type": "code",
   "execution_count": null,
   "id": "eight-garlic",
   "metadata": {},
   "outputs": [],
   "source": [
    "from EZS_func import *\n",
    "import numpy as np\n",
    "import pandas as pd\n",
    "import os\n",
    "import gc\n",
    "import matplotlib.pyplot as plt\n",
    "import warnings\n",
    "warnings.filterwarnings('ignore')\n",
    "import re\n",
    "import math\n",
    "from sklearn.base import BaseEstimator\n",
    "from sklearn.base import TransformerMixin\n",
    "from sklearn.gaussian_process import GaussianProcessRegressor\n",
    "from sklearn.tree import DecisionTreeRegressor\n",
    "from sklearn.ensemble import RandomForestRegressor\n",
    "from sklearn.ensemble import AdaBoostRegressor\n",
    "from sklearn.ensemble import HistGradientBoostingRegressor\n",
    "from sklearn.ensemble import StackingRegressor\n",
    "from sklearn.linear_model import SGDRegressor\n",
    "from sklearn.linear_model import ElasticNet\n",
    "from sklearn.linear_model import LinearRegression\n",
    "from sklearn.linear_model import ElasticNetCV\n",
    "from sklearn.neural_network import MLPRegressor\n",
    "from sklearn.neighbors import KNeighborsRegressor\n",
    "from sklearn.neighbors import LocalOutlierFactor\n",
    "from sklearn.experimental import enable_iterative_imputer\n",
    "from sklearn.impute import SimpleImputer\n",
    "from sklearn.impute import IterativeImputer\n",
    "from sklearn.inspection import permutation_importance\n",
    "from sklearn.gaussian_process.kernels import RBF\n",
    "from sklearn.gaussian_process.kernels import WhiteKernel\n",
    "from sklearn.gaussian_process.kernels import ConstantKernel\n",
    "from sklearn.gaussian_process.kernels import Matern\n",
    "from sklearn.gaussian_process.kernels import RationalQuadratic\n",
    "from sklearn.gaussian_process.kernels import ExpSineSquared\n",
    "from sklearn.gaussian_process.kernels import DotProduct\n",
    "from sklearn.metrics import mean_squared_error\n",
    "from sklearn.metrics import r2_score\n",
    "from pandas.api.types import is_numeric_dtype\n",
    "from itertools import product\n",
    "from joblib import dump\n",
    "from scipy import stats\n",
    "from sklearn import set_config\n",
    "from sklearn import datasets\n",
    "from sklearn.model_selection import train_test_split\n",
    "from sklearn.model_selection import StratifiedKFold\n",
    "from sklearn.model_selection import RepeatedStratifiedKFold\n",
    "from sklearn.pipeline import Pipeline\n",
    "from sklearn.pipeline import make_pipeline\n",
    "from sklearn.compose import make_column_selector\n",
    "from sklearn.compose import make_column_transformer\n",
    "from sklearn.preprocessing import StandardScaler\n",
    "from sklearn.preprocessing import OneHotEncoder\n",
    "from sklearn.preprocessing import OrdinalEncoder\n",
    "from sklearn.preprocessing import LabelEncoder\n",
    "from sklearn.preprocessing import FunctionTransformer\n",
    "from yellowbrick.model_selection import learning_curve\n",
    "from yellowbrick.model_selection import feature_importances\n",
    "from yellowbrick.features import rank1d\n",
    "from yellowbrick.features import rank2d\n",
    "from yellowbrick.contrib.missing import MissingValuesBar\n",
    "from yellowbrick.contrib.missing import MissingValuesDispersion\n",
    "from yellowbrick.target.feature_correlation import feature_correlation\n",
    "from yellowbrick.regressor import prediction_error\n",
    "from yellowbrick.regressor import residuals_plot\n"
   ]
  },
  {
   "cell_type": "markdown",
   "id": "brave-shopper",
   "metadata": {},
   "source": [
    "## Exploratory Data Analysis "
   ]
  },
  {
   "cell_type": "markdown",
   "id": "irish-valley",
   "metadata": {},
   "source": [
    "### File and parameters loading"
   ]
  },
  {
   "cell_type": "code",
   "execution_count": null,
   "id": "substantial-salvation",
   "metadata": {},
   "outputs": [],
   "source": [
    "problem_type = 'regression'"
   ]
  },
  {
   "cell_type": "code",
   "execution_count": null,
   "id": "dress-baseball",
   "metadata": {},
   "outputs": [],
   "source": [
    "stacking = 'True'"
   ]
  },
  {
   "cell_type": "code",
   "execution_count": null,
   "id": "dimensional-dividend",
   "metadata": {},
   "outputs": [],
   "source": [
    "data_size = 'small'"
   ]
  },
  {
   "cell_type": "code",
   "execution_count": null,
   "id": "sixth-answer",
   "metadata": {},
   "outputs": [],
   "source": [
    "df = pd.read_csv('/home/philippe/Documents/python project/EZStacking-v0.13/dataset/concrete_data.csv')"
   ]
  },
  {
   "cell_type": "code",
   "execution_count": null,
   "id": "regulation-hunter",
   "metadata": {},
   "outputs": [],
   "source": [
    "target_col = 'Strength'"
   ]
  },
  {
   "cell_type": "markdown",
   "id": "synthetic-burst",
   "metadata": {},
   "source": [
    "#### Thresholds"
   ]
  },
  {
   "cell_type": "code",
   "execution_count": null,
   "id": "rapid-personal",
   "metadata": {},
   "outputs": [],
   "source": [
    "threshold_NaN = 0.5"
   ]
  },
  {
   "cell_type": "code",
   "execution_count": null,
   "id": "temporal-kuwait",
   "metadata": {},
   "outputs": [],
   "source": [
    "threshold_cat = 5"
   ]
  },
  {
   "cell_type": "code",
   "execution_count": null,
   "id": "compatible-sheffield",
   "metadata": {},
   "outputs": [],
   "source": [
    "threshold_Z = 3.0"
   ]
  },
  {
   "cell_type": "code",
   "execution_count": null,
   "id": "rolled-buying",
   "metadata": {},
   "outputs": [],
   "source": [
    "threshold_corr = 0.95"
   ]
  },
  {
   "cell_type": "code",
   "execution_count": null,
   "id": "following-bandwidth",
   "metadata": {},
   "outputs": [],
   "source": [
    "threshold_model = 5"
   ]
  },
  {
   "cell_type": "code",
   "execution_count": null,
   "id": "serial-fitting",
   "metadata": {},
   "outputs": [],
   "source": [
    "threshold_score = 0.5"
   ]
  },
  {
   "cell_type": "markdown",
   "id": "pretty-symbol",
   "metadata": {},
   "source": [
    "#### Drop user's columns:"
   ]
  },
  {
   "cell_type": "code",
   "execution_count": null,
   "id": "victorian-neighborhood",
   "metadata": {},
   "outputs": [],
   "source": [
    "user_drop_cols = []"
   ]
  },
  {
   "cell_type": "markdown",
   "id": "persistent-chemistry",
   "metadata": {},
   "source": [
    "Dataset before deletion"
   ]
  },
  {
   "cell_type": "code",
   "execution_count": null,
   "id": "coordinated-apollo",
   "metadata": {},
   "outputs": [],
   "source": [
    "display(df)"
   ]
  },
  {
   "cell_type": "code",
   "execution_count": null,
   "id": "provincial-brisbane",
   "metadata": {},
   "outputs": [],
   "source": [
    "df = df.drop(user_drop_cols, axis=1)"
   ]
  },
  {
   "cell_type": "markdown",
   "id": "ethical-minimum",
   "metadata": {},
   "source": [
    "Dataset after deletion"
   ]
  },
  {
   "cell_type": "code",
   "execution_count": null,
   "id": "bottom-martial",
   "metadata": {},
   "outputs": [],
   "source": [
    "display(df)"
   ]
  },
  {
   "cell_type": "markdown",
   "id": "twelve-plumbing",
   "metadata": {},
   "source": [
    "#### Dataset copy"
   ]
  },
  {
   "cell_type": "code",
   "execution_count": null,
   "id": "significant-rapid",
   "metadata": {},
   "outputs": [],
   "source": [
    "df_copy = df.copy()"
   ]
  },
  {
   "cell_type": "markdown",
   "id": "linear-trinity",
   "metadata": {},
   "source": [
    "### Dataset Information"
   ]
  },
  {
   "cell_type": "code",
   "execution_count": null,
   "id": "forty-thought",
   "metadata": {},
   "outputs": [],
   "source": [
    "df.shape"
   ]
  },
  {
   "cell_type": "markdown",
   "id": "angry-auditor",
   "metadata": {},
   "source": [
    "#### Some records"
   ]
  },
  {
   "cell_type": "code",
   "execution_count": null,
   "id": "indoor-longitude",
   "metadata": {},
   "outputs": [],
   "source": [
    "display(df)"
   ]
  },
  {
   "cell_type": "markdown",
   "id": "public-dairy",
   "metadata": {},
   "source": [
    "#### Dataframe structure"
   ]
  },
  {
   "cell_type": "code",
   "execution_count": null,
   "id": "continent-acrylic",
   "metadata": {},
   "outputs": [],
   "source": [
    "plot_dataframe_structure(df)"
   ]
  },
  {
   "cell_type": "markdown",
   "id": "charitable-tomato",
   "metadata": {},
   "source": [
    "#### Dataframe statistics"
   ]
  },
  {
   "cell_type": "code",
   "execution_count": null,
   "id": "broke-processor",
   "metadata": {},
   "outputs": [],
   "source": [
    "display(df.describe().T)"
   ]
  },
  {
   "cell_type": "markdown",
   "id": "postal-aurora",
   "metadata": {},
   "source": [
    "#### Which columns could be categorical ?"
   ]
  },
  {
   "cell_type": "code",
   "execution_count": null,
   "id": "traditional-answer",
   "metadata": {},
   "outputs": [],
   "source": [
    "plot_categorical(df)"
   ]
  },
  {
   "cell_type": "markdown",
   "id": "normal-basin",
   "metadata": {},
   "source": [
    "### Dataset Cleaning"
   ]
  },
  {
   "cell_type": "markdown",
   "id": "robust-majority",
   "metadata": {},
   "source": [
    "#### Duplicate rows:"
   ]
  },
  {
   "cell_type": "code",
   "execution_count": null,
   "id": "flush-lawsuit",
   "metadata": {},
   "outputs": [],
   "source": [
    "duplicates(df)"
   ]
  },
  {
   "cell_type": "markdown",
   "id": "protecting-shopping",
   "metadata": {},
   "source": [
    "#### Drop NaN:"
   ]
  },
  {
   "cell_type": "code",
   "execution_count": null,
   "id": "seasonal-disclosure",
   "metadata": {},
   "outputs": [],
   "source": [
    "df, drop_cols = drop_na(df, threshold_NaN)"
   ]
  },
  {
   "cell_type": "markdown",
   "id": "simplified-reasoning",
   "metadata": {},
   "source": [
    "Final set of dropped columns"
   ]
  },
  {
   "cell_type": "code",
   "execution_count": null,
   "id": "hungry-anderson",
   "metadata": {},
   "outputs": [],
   "source": [
    "dropped_cols = np.unique(np.concatenate((drop_cols, user_drop_cols)))"
   ]
  },
  {
   "cell_type": "code",
   "execution_count": null,
   "id": "clear-shoot",
   "metadata": {},
   "outputs": [],
   "source": [
    "display(dropped_cols)"
   ]
  },
  {
   "cell_type": "markdown",
   "id": "needed-laptop",
   "metadata": {},
   "source": [
    "#### Encoding data:"
   ]
  },
  {
   "cell_type": "code",
   "execution_count": null,
   "id": "outer-collection",
   "metadata": {},
   "outputs": [],
   "source": [
    "df, encoded_cols = encoding(df, threshold_cat, target_col)"
   ]
  },
  {
   "cell_type": "markdown",
   "id": "corporate-pregnancy",
   "metadata": {},
   "source": [
    "#### Imputing NaN using IterativeImputer"
   ]
  },
  {
   "cell_type": "code",
   "execution_count": null,
   "id": "clinical-country",
   "metadata": {},
   "outputs": [],
   "source": [
    "visualizer = MissingValuesBar(features=df.select_dtypes(include=np.number).columns.tolist())\n",
    "visualizer.fit(df.select_dtypes(include=np.number))\n",
    "visualizer.show();"
   ]
  },
  {
   "cell_type": "markdown",
   "id": "rubber-plaza",
   "metadata": {},
   "source": [
    "##### Imputation"
   ]
  },
  {
   "cell_type": "code",
   "execution_count": null,
   "id": "corporate-brave",
   "metadata": {},
   "outputs": [],
   "source": [
    "df = imputation(df)"
   ]
  },
  {
   "cell_type": "markdown",
   "id": "surgical-purse",
   "metadata": {},
   "source": [
    "#### Data compression:"
   ]
  },
  {
   "cell_type": "code",
   "execution_count": null,
   "id": "facial-catch",
   "metadata": {},
   "outputs": [],
   "source": [
    "df = downcast_dtypes(df)"
   ]
  },
  {
   "cell_type": "markdown",
   "id": "abroad-norway",
   "metadata": {},
   "source": [
    "##### Dataframe structure after compression"
   ]
  },
  {
   "cell_type": "code",
   "execution_count": null,
   "id": "satisfied-virginia",
   "metadata": {},
   "outputs": [],
   "source": [
    "plot_dataframe_structure(df)"
   ]
  },
  {
   "cell_type": "markdown",
   "id": "exclusive-depression",
   "metadata": {},
   "source": [
    "#### Outliers:"
   ]
  },
  {
   "cell_type": "code",
   "execution_count": null,
   "id": "necessary-accuracy",
   "metadata": {},
   "outputs": [],
   "source": [
    "df = outliers(df, threshold_Z)"
   ]
  },
  {
   "cell_type": "markdown",
   "id": "controlled-thesis",
   "metadata": {},
   "source": [
    "#### Splitting dataframe in features and targets"
   ]
  },
  {
   "cell_type": "code",
   "execution_count": null,
   "id": "binding-lodge",
   "metadata": {},
   "outputs": [],
   "source": [
    "y = df[target_col]"
   ]
  },
  {
   "cell_type": "code",
   "execution_count": null,
   "id": "durable-macro",
   "metadata": {},
   "outputs": [],
   "source": [
    "X = df.drop(target_col, axis=1)"
   ]
  },
  {
   "cell_type": "markdown",
   "id": "gothic-court",
   "metadata": {},
   "source": [
    "### Plottings"
   ]
  },
  {
   "cell_type": "markdown",
   "id": "retired-manufacturer",
   "metadata": {},
   "source": [
    "#### Ranking "
   ]
  },
  {
   "cell_type": "markdown",
   "id": "liked-amateur",
   "metadata": {},
   "source": [
    "##### Ranking 1D "
   ]
  },
  {
   "cell_type": "code",
   "execution_count": null,
   "id": "impressive-certification",
   "metadata": {},
   "outputs": [],
   "source": [
    "rank1d(df);"
   ]
  },
  {
   "cell_type": "markdown",
   "id": "immediate-palace",
   "metadata": {},
   "source": [
    "##### Ranking 2D "
   ]
  },
  {
   "cell_type": "markdown",
   "id": "governmental-worcester",
   "metadata": {},
   "source": [
    "###### Ranking 2D according to Pearson"
   ]
  },
  {
   "cell_type": "code",
   "execution_count": null,
   "id": "restricted-subcommittee",
   "metadata": {},
   "outputs": [],
   "source": [
    "rank2d(df, algorithm='pearson');"
   ]
  },
  {
   "cell_type": "markdown",
   "id": "atomic-instrument",
   "metadata": {},
   "source": [
    "###### Ranking 2D based on covariance"
   ]
  },
  {
   "cell_type": "code",
   "execution_count": null,
   "id": "north-english",
   "metadata": {},
   "outputs": [],
   "source": [
    "rank2d(df, algorithm='covariance');"
   ]
  },
  {
   "cell_type": "markdown",
   "id": "purple-estimate",
   "metadata": {},
   "source": [
    "###### Ranking 2D according to Spearman"
   ]
  },
  {
   "cell_type": "code",
   "execution_count": null,
   "id": "colored-monte",
   "metadata": {},
   "outputs": [],
   "source": [
    "rank2d(df, algorithm='spearman');"
   ]
  },
  {
   "cell_type": "markdown",
   "id": "prescription-texas",
   "metadata": {},
   "source": [
    "###### Ranking 2D according to Kendalltau"
   ]
  },
  {
   "cell_type": "code",
   "execution_count": null,
   "id": "velvet-window",
   "metadata": {},
   "outputs": [],
   "source": [
    "rank2d(df, algorithm='kendalltau');"
   ]
  },
  {
   "cell_type": "markdown",
   "id": "similar-classics",
   "metadata": {},
   "source": [
    "#### Correlation"
   ]
  },
  {
   "cell_type": "markdown",
   "id": "urban-compatibility",
   "metadata": {},
   "source": [
    "##### Correlation with Yellow Bricks"
   ]
  },
  {
   "cell_type": "code",
   "execution_count": null,
   "id": "appreciated-mineral",
   "metadata": {},
   "outputs": [],
   "source": [
    "feature_correlation(X, y);"
   ]
  },
  {
   "cell_type": "code",
   "execution_count": null,
   "id": "nervous-status",
   "metadata": {},
   "outputs": [],
   "source": [
    "feature_correlation(X, y, method='mutual_info-regression');"
   ]
  },
  {
   "cell_type": "markdown",
   "id": "superior-comfort",
   "metadata": {},
   "source": [
    "#### Feature importance (a priori)"
   ]
  },
  {
   "cell_type": "markdown",
   "id": "received-configuration",
   "metadata": {},
   "source": [
    "##### According to decision tree"
   ]
  },
  {
   "cell_type": "code",
   "execution_count": null,
   "id": "brave-paraguay",
   "metadata": {},
   "outputs": [],
   "source": [
    "feature_importances(DecisionTreeRegressor(), X, y);"
   ]
  },
  {
   "cell_type": "markdown",
   "id": "peripheral-equation",
   "metadata": {},
   "source": [
    "##### According to elasticnet regression"
   ]
  },
  {
   "cell_type": "code",
   "execution_count": null,
   "id": "virgin-tract",
   "metadata": {},
   "outputs": [],
   "source": [
    "feature_importances(ElasticNet(alpha=0.01, l1_ratio=0.5), X, y);"
   ]
  },
  {
   "cell_type": "markdown",
   "id": "latter-gallery",
   "metadata": {},
   "source": [
    "#### Check columns that should be dropped"
   ]
  },
  {
   "cell_type": "code",
   "execution_count": null,
   "id": "maritime-manual",
   "metadata": {},
   "outputs": [],
   "source": [
    "print(dropped_cols)"
   ]
  },
  {
   "cell_type": "markdown",
   "id": "adequate-sport",
   "metadata": {},
   "source": [
    "## Splittings "
   ]
  },
  {
   "cell_type": "code",
   "execution_count": null,
   "id": "freelance-violence",
   "metadata": {},
   "outputs": [],
   "source": [
    "df = df_copy"
   ]
  },
  {
   "cell_type": "markdown",
   "id": "burning-smooth",
   "metadata": {},
   "source": [
    "#### Splitting dataframe in features and targets"
   ]
  },
  {
   "cell_type": "code",
   "execution_count": null,
   "id": "documented-jurisdiction",
   "metadata": {},
   "outputs": [],
   "source": [
    "y = df[target_col]"
   ]
  },
  {
   "cell_type": "code",
   "execution_count": null,
   "id": "weekly-meeting",
   "metadata": {},
   "outputs": [],
   "source": [
    "X = df.drop(target_col, axis=1)"
   ]
  },
  {
   "cell_type": "markdown",
   "id": "joined-occurrence",
   "metadata": {},
   "source": [
    "##### Dimensions"
   ]
  },
  {
   "cell_type": "code",
   "execution_count": null,
   "id": "canadian-silence",
   "metadata": {},
   "outputs": [],
   "source": [
    "nb_features = len(X.columns.tolist())"
   ]
  },
  {
   "cell_type": "code",
   "execution_count": null,
   "id": "christian-instrumentation",
   "metadata": {},
   "outputs": [],
   "source": [
    "nb_targets = 1"
   ]
  },
  {
   "cell_type": "code",
   "execution_count": null,
   "id": "excessive-knitting",
   "metadata": {},
   "outputs": [],
   "source": [
    "layer_size = nb_features + nb_targets + 2"
   ]
  },
  {
   "cell_type": "markdown",
   "id": "romance-mention",
   "metadata": {},
   "source": [
    "##### Splitting data in train and test sets "
   ]
  },
  {
   "cell_type": "code",
   "execution_count": null,
   "id": "relative-current",
   "metadata": {},
   "outputs": [],
   "source": [
    "X_train, X_test, y_train, y_test = split(X, y, test_size=0.33)"
   ]
  },
  {
   "cell_type": "markdown",
   "id": "saving-crime",
   "metadata": {},
   "source": [
    "## Modelling"
   ]
  },
  {
   "cell_type": "markdown",
   "id": "coral-night",
   "metadata": {},
   "source": [
    "### Model building"
   ]
  },
  {
   "cell_type": "markdown",
   "id": "ceramic-present",
   "metadata": {},
   "source": [
    "#### Pipeline building"
   ]
  },
  {
   "cell_type": "markdown",
   "id": "clear-cardiff",
   "metadata": {},
   "source": [
    "##### Select the categorical and numerical columns"
   ]
  },
  {
   "cell_type": "code",
   "execution_count": null,
   "id": "bizarre-carol",
   "metadata": {},
   "outputs": [],
   "source": [
    "cat_selector = make_column_selector(dtype_include=object)"
   ]
  },
  {
   "cell_type": "code",
   "execution_count": null,
   "id": "lyric-district",
   "metadata": {},
   "outputs": [],
   "source": [
    "num_selector = make_column_selector(dtype_include=np.number)"
   ]
  },
  {
   "cell_type": "markdown",
   "id": "pacific-renewal",
   "metadata": {},
   "source": [
    "##### For models based on tree"
   ]
  },
  {
   "cell_type": "code",
   "execution_count": null,
   "id": "coupled-amino",
   "metadata": {},
   "outputs": [],
   "source": [
    "cat_tree_processor = make_pipeline(SimpleImputer(strategy='most_frequent'), OrdinalEncoder(handle_unknown='use_encoded_value', unknown_value=-1), Decorrelator(threshold_corr))"
   ]
  },
  {
   "cell_type": "code",
   "execution_count": null,
   "id": "intended-operator",
   "metadata": {},
   "outputs": [],
   "source": [
    "num_tree_processor = make_pipeline(SimpleImputer(strategy='mean', add_indicator=True), Decorrelator(threshold_corr))"
   ]
  },
  {
   "cell_type": "code",
   "execution_count": null,
   "id": "continuous-cleanup",
   "metadata": {},
   "outputs": [],
   "source": [
    "tree_preprocessor = make_column_transformer((num_tree_processor, num_selector), (cat_tree_processor, cat_selector))"
   ]
  },
  {
   "cell_type": "markdown",
   "id": "moved-stone",
   "metadata": {},
   "source": [
    "##### For models not based on tree"
   ]
  },
  {
   "cell_type": "code",
   "execution_count": null,
   "id": "finite-bikini",
   "metadata": {},
   "outputs": [],
   "source": [
    "cat_ntree_processor = make_pipeline(SimpleImputer(strategy='most_frequent'), OneHotEncoder(handle_unknown='ignore', sparse=False), Decorrelator(threshold_corr))"
   ]
  },
  {
   "cell_type": "code",
   "execution_count": null,
   "id": "certified-window",
   "metadata": {},
   "outputs": [],
   "source": [
    "num_ntree_processor = make_pipeline(SimpleImputer(strategy='mean', add_indicator=True), StandardScaler(), Decorrelator(threshold_corr))"
   ]
  },
  {
   "cell_type": "code",
   "execution_count": null,
   "id": "active-singles",
   "metadata": {},
   "outputs": [],
   "source": [
    "ntree_preprocessor = make_column_transformer((num_ntree_processor, num_selector), (cat_ntree_processor, cat_selector))"
   ]
  },
  {
   "cell_type": "markdown",
   "id": "computational-failure",
   "metadata": {},
   "source": [
    "##### Level-0 models"
   ]
  },
  {
   "cell_type": "code",
   "execution_count": null,
   "id": "scenic-boulder",
   "metadata": {},
   "outputs": [],
   "source": [
    "level_0 = [ \n",
    "          ('GPRL', make_pipeline(ntree_preprocessor, GaussianProcessRegressor(kernel = ConstantKernel() * DotProduct() + ConstantKernel() + WhiteKernel()))), \n",
    "          ('GPRR', make_pipeline(ntree_preprocessor, GaussianProcessRegressor(kernel = ConstantKernel() * RBF() + ConstantKernel() + WhiteKernel()))), \n",
    "          ('DTR', make_pipeline(tree_preprocessor, DecisionTreeRegressor(max_depth=5))), \n",
    "          ('RFR', make_pipeline(tree_preprocessor, RandomForestRegressor(max_depth=5, n_estimators=10, max_features='auto'))), \n",
    "          ('ABR', make_pipeline(tree_preprocessor, AdaBoostRegressor())), \n",
    "          ('HGBR', make_pipeline(tree_preprocessor, HistGradientBoostingRegressor(early_stopping=True))), \n",
    "          ('ELNE', make_pipeline(ntree_preprocessor, ElasticNet(alpha=0.01, l1_ratio=0.5))), \n",
    "          ('ELNECV', make_pipeline(ntree_preprocessor, ElasticNetCV(cv=5))), \n",
    "          ('LINR', make_pipeline(ntree_preprocessor, LinearRegression())), \n",
    "          ('MLPR', make_pipeline(ntree_preprocessor, MLPRegressor(hidden_layer_sizes = (layer_size, layer_size,), max_iter=1000, early_stopping=True))), \n",
    "          ('KNR', make_pipeline(ntree_preprocessor, KNeighborsRegressor())), \n",
    "          ]"
   ]
  },
  {
   "cell_type": "markdown",
   "id": "center-parliament",
   "metadata": {},
   "source": [
    "##### Level-1 model"
   ]
  },
  {
   "cell_type": "code",
   "execution_count": null,
   "id": "pending-coordinator",
   "metadata": {},
   "outputs": [],
   "source": [
    "level_1 = ElasticNetCV(cv=5)"
   ]
  },
  {
   "cell_type": "markdown",
   "id": "defensive-apollo",
   "metadata": {},
   "source": [
    "##### Stacking for regression"
   ]
  },
  {
   "cell_type": "code",
   "execution_count": null,
   "id": "short-honey",
   "metadata": {},
   "outputs": [],
   "source": [
    "model = StackingRegressor(level_0, final_estimator=level_1, n_jobs=-1)"
   ]
  },
  {
   "cell_type": "markdown",
   "id": "internal-cycling",
   "metadata": {},
   "source": [
    "### Model fitting"
   ]
  },
  {
   "cell_type": "code",
   "execution_count": null,
   "id": "freelance-helicopter",
   "metadata": {},
   "outputs": [],
   "source": [
    "%%time \n",
    "set_config(display='diagram') \n",
    "model.fit(X_train, y_train)"
   ]
  },
  {
   "cell_type": "markdown",
   "id": "marked-surprise",
   "metadata": {},
   "source": [
    "### Model evaluation"
   ]
  },
  {
   "cell_type": "markdown",
   "id": "settled-parameter",
   "metadata": {},
   "source": [
    "#### Model scoring"
   ]
  },
  {
   "cell_type": "code",
   "execution_count": null,
   "id": "vanilla-viking",
   "metadata": {},
   "outputs": [],
   "source": [
    "score_stack, mod_imp_score = score_stacking(model, X_train, y_train, X_test, y_test)"
   ]
  },
  {
   "cell_type": "markdown",
   "id": "european-supplement",
   "metadata": {},
   "source": [
    "#### Model importance"
   ]
  },
  {
   "cell_type": "code",
   "execution_count": null,
   "id": "married-distinction",
   "metadata": {},
   "outputs": [],
   "source": [
    "model_imp = plot_model_importance(model)"
   ]
  },
  {
   "cell_type": "markdown",
   "id": "focused-adoption",
   "metadata": {},
   "source": [
    "#### Feature permutation importance (a posteriori)"
   ]
  },
  {
   "cell_type": "code",
   "execution_count": null,
   "id": "metallic-elimination",
   "metadata": {},
   "outputs": [],
   "source": [
    "plot_perm_importance(model, X_test, y_test)"
   ]
  },
  {
   "cell_type": "markdown",
   "id": "collected-roberts",
   "metadata": {},
   "source": [
    "#### Partial Dependence & Individual Conditional Expectation "
   ]
  },
  {
   "cell_type": "markdown",
   "id": "noble-fellow",
   "metadata": {},
   "source": [
    "##### Features of interest"
   ]
  },
  {
   "cell_type": "code",
   "execution_count": null,
   "id": "cathedral-limit",
   "metadata": {},
   "outputs": [],
   "source": [
    "features_of_interest = []"
   ]
  },
  {
   "cell_type": "code",
   "execution_count": null,
   "id": "atmospheric-economics",
   "metadata": {},
   "outputs": [],
   "source": [
    "plot_partial_dependence(model, X_train, features_of_interest)"
   ]
  },
  {
   "cell_type": "markdown",
   "id": "honest-founder",
   "metadata": {},
   "source": [
    "#### Residuals plot"
   ]
  },
  {
   "cell_type": "code",
   "execution_count": null,
   "id": "tender-stylus",
   "metadata": {},
   "outputs": [],
   "source": [
    "residuals_plot(model, X_train, y_train, X_test, y_test);"
   ]
  },
  {
   "cell_type": "markdown",
   "id": "amino-machine",
   "metadata": {},
   "source": [
    "#### Prediction error"
   ]
  },
  {
   "cell_type": "code",
   "execution_count": null,
   "id": "minute-ecology",
   "metadata": {},
   "outputs": [],
   "source": [
    "prediction_error(model, X_train, y_train, X_test, y_test);"
   ]
  },
  {
   "cell_type": "markdown",
   "id": "attractive-profile",
   "metadata": {},
   "source": [
    "### Final Model"
   ]
  },
  {
   "cell_type": "code",
   "execution_count": null,
   "id": "dedicated-personality",
   "metadata": {},
   "outputs": [],
   "source": [
    "threshold_model = 5"
   ]
  },
  {
   "cell_type": "code",
   "execution_count": null,
   "id": "limited-outline",
   "metadata": {},
   "outputs": [],
   "source": [
    "threshold_score = 0.5"
   ]
  },
  {
   "cell_type": "markdown",
   "id": "earned-envelope",
   "metadata": {},
   "source": [
    "##### Filtered Level-0 models"
   ]
  },
  {
   "cell_type": "code",
   "execution_count": null,
   "id": "historic-sydney",
   "metadata": {},
   "outputs": [],
   "source": [
    "level_0_f = model_filtering(level_0, model_imp, threshold_model, score_stack, threshold_score)"
   ]
  },
  {
   "cell_type": "markdown",
   "id": "alert-mortgage",
   "metadata": {},
   "source": [
    "##### Final Level-1 model"
   ]
  },
  {
   "cell_type": "code",
   "execution_count": null,
   "id": "peripheral-vietnamese",
   "metadata": {},
   "outputs": [],
   "source": [
    "level_1 = ElasticNetCV(cv=5)"
   ]
  },
  {
   "cell_type": "markdown",
   "id": "traditional-occurrence",
   "metadata": {},
   "source": [
    "##### Build final model"
   ]
  },
  {
   "cell_type": "code",
   "execution_count": null,
   "id": "dedicated-tribune",
   "metadata": {},
   "outputs": [],
   "source": [
    "model = StackingRegressor(level_0_f, final_estimator=level_1, n_jobs=-1)"
   ]
  },
  {
   "cell_type": "markdown",
   "id": "genetic-neighbor",
   "metadata": {},
   "source": [
    "### Final Model fitting"
   ]
  },
  {
   "cell_type": "code",
   "execution_count": null,
   "id": "outside-serve",
   "metadata": {},
   "outputs": [],
   "source": [
    "%%time \n",
    "set_config(display='diagram') \n",
    "model.fit(X_train, y_train)"
   ]
  },
  {
   "cell_type": "markdown",
   "id": "armed-leeds",
   "metadata": {},
   "source": [
    "#### Final Model scoring"
   ]
  },
  {
   "cell_type": "code",
   "execution_count": null,
   "id": "genuine-prototype",
   "metadata": {},
   "outputs": [],
   "source": [
    "score_stacking(model, X_train, y_train, X_test, y_test)"
   ]
  },
  {
   "cell_type": "markdown",
   "id": "contemporary-alberta",
   "metadata": {},
   "source": [
    "#### Final feature permutation importance"
   ]
  },
  {
   "cell_type": "code",
   "execution_count": null,
   "id": "explicit-water",
   "metadata": {},
   "outputs": [],
   "source": [
    "plot_perm_importance(model, X_test, y_test)"
   ]
  },
  {
   "cell_type": "markdown",
   "id": "harmful-forty",
   "metadata": {},
   "source": [
    "#### Final Residuals plot"
   ]
  },
  {
   "cell_type": "code",
   "execution_count": null,
   "id": "still-legend",
   "metadata": {},
   "outputs": [],
   "source": [
    "residuals_plot(model, X_train, y_train, X_test, y_test);"
   ]
  },
  {
   "cell_type": "markdown",
   "id": "conditional-shannon",
   "metadata": {},
   "source": [
    "#### Final Prediction error"
   ]
  },
  {
   "cell_type": "code",
   "execution_count": null,
   "id": "numeric-omega",
   "metadata": {},
   "outputs": [],
   "source": [
    "prediction_error(model, X_train, y_train, X_test, y_test);"
   ]
  },
  {
   "cell_type": "markdown",
   "id": "identified-august",
   "metadata": {},
   "source": [
    "## Deployment"
   ]
  },
  {
   "cell_type": "markdown",
   "id": "cardiac-garden",
   "metadata": {},
   "source": [
    "### Save your model"
   ]
  },
  {
   "cell_type": "code",
   "execution_count": null,
   "id": "completed-application",
   "metadata": {},
   "outputs": [],
   "source": [
    "model_name = 'model.sav' \n",
    "dump(model, model_name)"
   ]
  },
  {
   "cell_type": "markdown",
   "id": "surgical-fisher",
   "metadata": {},
   "source": [
    "### Generate your server"
   ]
  },
  {
   "cell_type": "code",
   "execution_count": null,
   "id": "brave-advisory",
   "metadata": {},
   "outputs": [],
   "source": [
    "fastapi_server(model, 'model.sav', X, y)"
   ]
  },
  {
   "cell_type": "markdown",
   "id": "another-tyler",
   "metadata": {},
   "source": [
    "### Start your server"
   ]
  },
  {
   "cell_type": "code",
   "execution_count": null,
   "id": "drawn-victory",
   "metadata": {},
   "outputs": [],
   "source": [
    "run server.py"
   ]
  },
  {
   "cell_type": "markdown",
   "id": "expanded-reservation",
   "metadata": {},
   "source": [
    "### Test your API at http://127.0.0.1:8000/docs"
   ]
  }
 ],
 "metadata": {
  "kernelspec": {
   "display_name": "python3",
   "language": "python",
   "name": "python3"
  }
 },
 "nbformat": 4,
 "nbformat_minor": 5
}
