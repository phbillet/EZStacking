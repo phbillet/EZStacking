{
 "cells": [
  {
   "cell_type": "markdown",
   "id": "opposite-visit",
   "metadata": {
    "papermill": {
     "duration": 0.133917,
     "end_time": "2022-05-17T08:58:34.772780",
     "exception": false,
     "start_time": "2022-05-17T08:58:34.638863",
     "status": "completed"
    },
    "tags": []
   },
   "source": [
    "# EDA & Modelling"
   ]
  },
  {
   "cell_type": "markdown",
   "id": "packed-durham",
   "metadata": {
    "papermill": {
     "duration": 0.123755,
     "end_time": "2022-05-17T08:58:35.003046",
     "exception": false,
     "start_time": "2022-05-17T08:58:34.879291",
     "status": "completed"
    },
    "tags": []
   },
   "source": [
    "## Package loading"
   ]
  },
  {
   "cell_type": "code",
   "execution_count": 1,
   "id": "nervous-discrimination",
   "metadata": {
    "execution": {
     "iopub.execute_input": "2022-05-17T08:58:35.253772Z",
     "iopub.status.busy": "2022-05-17T08:58:35.252389Z",
     "iopub.status.idle": "2022-05-17T08:58:37.405502Z",
     "shell.execute_reply": "2022-05-17T08:58:37.406343Z"
    },
    "papermill": {
     "duration": 2.303683,
     "end_time": "2022-05-17T08:58:37.406820",
     "exception": false,
     "start_time": "2022-05-17T08:58:35.103137",
     "status": "completed"
    },
    "tags": []
   },
   "outputs": [],
   "source": [
    "from EZS_func import *\n",
    "import numpy as np\n",
    "import pandas as pd\n",
    "import os\n",
    "import gc\n",
    "import matplotlib.pyplot as plt\n",
    "import warnings\n",
    "warnings.filterwarnings('ignore')\n",
    "import re\n",
    "import math\n",
    "from sklearn.gaussian_process import GaussianProcessClassifier\n",
    "from sklearn.tree import DecisionTreeClassifier\n",
    "from sklearn.ensemble import RandomForestClassifier\n",
    "from sklearn.ensemble import AdaBoostClassifier\n",
    "from sklearn.ensemble import HistGradientBoostingClassifier\n",
    "from sklearn.ensemble import StackingClassifier\n",
    "from sklearn.linear_model import SGDClassifier\n",
    "from sklearn.linear_model import LogisticRegression\n",
    "from sklearn.linear_model import LogisticRegressionCV\n",
    "from sklearn.neural_network import MLPClassifier\n",
    "from sklearn.neighbors import KNeighborsClassifier\n",
    "from sklearn.neighbors import LocalOutlierFactor\n",
    "from sklearn.naive_bayes import GaussianNB\n",
    "from sklearn.base import BaseEstimator\n",
    "from sklearn.base import TransformerMixin\n",
    "from sklearn.experimental import enable_iterative_imputer\n",
    "from sklearn.impute import SimpleImputer\n",
    "from sklearn.impute import IterativeImputer\n",
    "from sklearn.inspection import permutation_importance\n",
    "from sklearn.gaussian_process.kernels import RBF\n",
    "from sklearn.gaussian_process.kernels import WhiteKernel\n",
    "from sklearn.gaussian_process.kernels import ConstantKernel\n",
    "from sklearn.gaussian_process.kernels import Matern\n",
    "from sklearn.gaussian_process.kernels import RationalQuadratic\n",
    "from sklearn.gaussian_process.kernels import ExpSineSquared\n",
    "from sklearn.gaussian_process.kernels import DotProduct\n",
    "from sklearn.metrics import accuracy_score\n",
    "from sklearn.metrics import f1_score\n",
    "from sklearn.metrics import recall_score\n",
    "from pandas.api.types import is_numeric_dtype\n",
    "from itertools import product\n",
    "from joblib import dump\n",
    "from scipy import stats\n",
    "from sklearn import set_config\n",
    "from sklearn import datasets\n",
    "from sklearn.model_selection import train_test_split\n",
    "from sklearn.model_selection import StratifiedKFold\n",
    "from sklearn.model_selection import RepeatedStratifiedKFold\n",
    "from sklearn.pipeline import Pipeline\n",
    "from sklearn.pipeline import make_pipeline\n",
    "from sklearn.compose import make_column_selector\n",
    "from sklearn.compose import make_column_transformer\n",
    "from sklearn.preprocessing import StandardScaler\n",
    "from sklearn.preprocessing import OneHotEncoder\n",
    "from sklearn.preprocessing import OrdinalEncoder\n",
    "from sklearn.preprocessing import LabelEncoder\n",
    "from sklearn.preprocessing import FunctionTransformer\n"
   ]
  },
  {
   "cell_type": "markdown",
   "id": "cosmetic-mouse",
   "metadata": {
    "papermill": {
     "duration": 0.144502,
     "end_time": "2022-05-17T08:58:37.695411",
     "exception": false,
     "start_time": "2022-05-17T08:58:37.550909",
     "status": "completed"
    },
    "tags": []
   },
   "source": [
    "## Exploratory Data Analysis "
   ]
  },
  {
   "cell_type": "markdown",
   "id": "biblical-deadline",
   "metadata": {
    "papermill": {
     "duration": 0.138419,
     "end_time": "2022-05-17T08:58:37.953154",
     "exception": false,
     "start_time": "2022-05-17T08:58:37.814735",
     "status": "completed"
    },
    "tags": []
   },
   "source": [
    "### File and parameters loading"
   ]
  },
  {
   "cell_type": "code",
   "execution_count": 2,
   "id": "convertible-finish",
   "metadata": {
    "execution": {
     "iopub.execute_input": "2022-05-17T08:58:38.197208Z",
     "iopub.status.busy": "2022-05-17T08:58:38.195421Z",
     "iopub.status.idle": "2022-05-17T08:58:38.201700Z",
     "shell.execute_reply": "2022-05-17T08:58:38.200568Z"
    },
    "papermill": {
     "duration": 0.147987,
     "end_time": "2022-05-17T08:58:38.201944",
     "exception": false,
     "start_time": "2022-05-17T08:58:38.053957",
     "status": "completed"
    },
    "tags": []
   },
   "outputs": [],
   "source": [
    "problem_type = 'classification'"
   ]
  },
  {
   "cell_type": "code",
   "execution_count": 3,
   "id": "surrounded-universe",
   "metadata": {
    "execution": {
     "iopub.execute_input": "2022-05-17T08:58:38.439015Z",
     "iopub.status.busy": "2022-05-17T08:58:38.436949Z",
     "iopub.status.idle": "2022-05-17T08:58:38.443820Z",
     "shell.execute_reply": "2022-05-17T08:58:38.442397Z"
    },
    "papermill": {
     "duration": 0.141354,
     "end_time": "2022-05-17T08:58:38.444043",
     "exception": false,
     "start_time": "2022-05-17T08:58:38.302689",
     "status": "completed"
    },
    "tags": []
   },
   "outputs": [],
   "source": [
    "stacking = 'True'"
   ]
  },
  {
   "cell_type": "code",
   "execution_count": 4,
   "id": "promising-hygiene",
   "metadata": {
    "execution": {
     "iopub.execute_input": "2022-05-17T08:58:38.687652Z",
     "iopub.status.busy": "2022-05-17T08:58:38.686699Z",
     "iopub.status.idle": "2022-05-17T08:58:38.696206Z",
     "shell.execute_reply": "2022-05-17T08:58:38.694788Z"
    },
    "papermill": {
     "duration": 0.152219,
     "end_time": "2022-05-17T08:58:38.696572",
     "exception": false,
     "start_time": "2022-05-17T08:58:38.544353",
     "status": "completed"
    },
    "tags": []
   },
   "outputs": [],
   "source": [
    "data_size = 'small'"
   ]
  },
  {
   "cell_type": "code",
   "execution_count": 5,
   "id": "guilty-meeting",
   "metadata": {
    "execution": {
     "iopub.execute_input": "2022-05-17T08:58:38.950196Z",
     "iopub.status.busy": "2022-05-17T08:58:38.949013Z",
     "iopub.status.idle": "2022-05-17T08:58:38.959530Z",
     "shell.execute_reply": "2022-05-17T08:58:38.958353Z"
    },
    "papermill": {
     "duration": 0.160806,
     "end_time": "2022-05-17T08:58:38.959805",
     "exception": false,
     "start_time": "2022-05-17T08:58:38.798999",
     "status": "completed"
    },
    "tags": []
   },
   "outputs": [],
   "source": [
    "df = pd.read_csv('/home/philippe/Documents/python project/EZStacking-v0.13/dataset/iris.csv')"
   ]
  },
  {
   "cell_type": "code",
   "execution_count": 6,
   "id": "afraid-indie",
   "metadata": {
    "execution": {
     "iopub.execute_input": "2022-05-17T08:58:39.201171Z",
     "iopub.status.busy": "2022-05-17T08:58:39.199755Z",
     "iopub.status.idle": "2022-05-17T08:58:39.205405Z",
     "shell.execute_reply": "2022-05-17T08:58:39.206171Z"
    },
    "papermill": {
     "duration": 0.142825,
     "end_time": "2022-05-17T08:58:39.206451",
     "exception": false,
     "start_time": "2022-05-17T08:58:39.063626",
     "status": "completed"
    },
    "tags": []
   },
   "outputs": [],
   "source": [
    "target_col = 'variety'"
   ]
  },
  {
   "cell_type": "markdown",
   "id": "unusual-canberra",
   "metadata": {
    "papermill": {
     "duration": 0.130259,
     "end_time": "2022-05-17T08:58:39.434247",
     "exception": false,
     "start_time": "2022-05-17T08:58:39.303988",
     "status": "completed"
    },
    "tags": []
   },
   "source": [
    "#### Thresholds"
   ]
  },
  {
   "cell_type": "code",
   "execution_count": 7,
   "id": "stylish-adelaide",
   "metadata": {
    "execution": {
     "iopub.execute_input": "2022-05-17T08:58:39.666738Z",
     "iopub.status.busy": "2022-05-17T08:58:39.665664Z",
     "iopub.status.idle": "2022-05-17T08:58:39.671194Z",
     "shell.execute_reply": "2022-05-17T08:58:39.670365Z"
    },
    "papermill": {
     "duration": 0.137283,
     "end_time": "2022-05-17T08:58:39.671396",
     "exception": false,
     "start_time": "2022-05-17T08:58:39.534113",
     "status": "completed"
    },
    "tags": []
   },
   "outputs": [],
   "source": [
    "threshold_NaN = 0.5"
   ]
  },
  {
   "cell_type": "code",
   "execution_count": 8,
   "id": "productive-victorian",
   "metadata": {
    "execution": {
     "iopub.execute_input": "2022-05-17T08:58:39.909521Z",
     "iopub.status.busy": "2022-05-17T08:58:39.907401Z",
     "iopub.status.idle": "2022-05-17T08:58:39.914190Z",
     "shell.execute_reply": "2022-05-17T08:58:39.912602Z"
    },
    "papermill": {
     "duration": 0.135472,
     "end_time": "2022-05-17T08:58:39.914501",
     "exception": false,
     "start_time": "2022-05-17T08:58:39.779029",
     "status": "completed"
    },
    "tags": []
   },
   "outputs": [],
   "source": [
    "threshold_cat = 5"
   ]
  },
  {
   "cell_type": "code",
   "execution_count": 9,
   "id": "distributed-working",
   "metadata": {
    "execution": {
     "iopub.execute_input": "2022-05-17T08:58:40.135463Z",
     "iopub.status.busy": "2022-05-17T08:58:40.134104Z",
     "iopub.status.idle": "2022-05-17T08:58:40.139007Z",
     "shell.execute_reply": "2022-05-17T08:58:40.139935Z"
    },
    "papermill": {
     "duration": 0.128251,
     "end_time": "2022-05-17T08:58:40.140326",
     "exception": false,
     "start_time": "2022-05-17T08:58:40.012075",
     "status": "completed"
    },
    "tags": []
   },
   "outputs": [],
   "source": [
    "threshold_Z = 3.0"
   ]
  },
  {
   "cell_type": "code",
   "execution_count": 10,
   "id": "framed-coaching",
   "metadata": {
    "execution": {
     "iopub.execute_input": "2022-05-17T08:58:40.388432Z",
     "iopub.status.busy": "2022-05-17T08:58:40.387372Z",
     "iopub.status.idle": "2022-05-17T08:58:40.391948Z",
     "shell.execute_reply": "2022-05-17T08:58:40.392525Z"
    },
    "papermill": {
     "duration": 0.140061,
     "end_time": "2022-05-17T08:58:40.392755",
     "exception": false,
     "start_time": "2022-05-17T08:58:40.252694",
     "status": "completed"
    },
    "tags": []
   },
   "outputs": [],
   "source": [
    "threshold_corr = 0.95"
   ]
  },
  {
   "cell_type": "code",
   "execution_count": 11,
   "id": "searching-lucas",
   "metadata": {
    "execution": {
     "iopub.execute_input": "2022-05-17T08:58:40.633139Z",
     "iopub.status.busy": "2022-05-17T08:58:40.632068Z",
     "iopub.status.idle": "2022-05-17T08:58:40.635875Z",
     "shell.execute_reply": "2022-05-17T08:58:40.636443Z"
    },
    "papermill": {
     "duration": 0.134407,
     "end_time": "2022-05-17T08:58:40.636674",
     "exception": false,
     "start_time": "2022-05-17T08:58:40.502267",
     "status": "completed"
    },
    "tags": []
   },
   "outputs": [],
   "source": [
    "threshold_model = 5"
   ]
  },
  {
   "cell_type": "code",
   "execution_count": 12,
   "id": "unknown-experiment",
   "metadata": {
    "execution": {
     "iopub.execute_input": "2022-05-17T08:58:40.875964Z",
     "iopub.status.busy": "2022-05-17T08:58:40.874959Z",
     "iopub.status.idle": "2022-05-17T08:58:40.881033Z",
     "shell.execute_reply": "2022-05-17T08:58:40.881859Z"
    },
    "papermill": {
     "duration": 0.145412,
     "end_time": "2022-05-17T08:58:40.882106",
     "exception": false,
     "start_time": "2022-05-17T08:58:40.736694",
     "status": "completed"
    },
    "tags": []
   },
   "outputs": [],
   "source": [
    "threshold_score = 0.5"
   ]
  },
  {
   "cell_type": "markdown",
   "id": "computational-purchase",
   "metadata": {
    "papermill": {
     "duration": 0.114377,
     "end_time": "2022-05-17T08:58:41.097750",
     "exception": false,
     "start_time": "2022-05-17T08:58:40.983373",
     "status": "completed"
    },
    "tags": []
   },
   "source": [
    "#### Drop user's columns:"
   ]
  },
  {
   "cell_type": "code",
   "execution_count": 13,
   "id": "rubber-letter",
   "metadata": {
    "execution": {
     "iopub.execute_input": "2022-05-17T08:58:41.353637Z",
     "iopub.status.busy": "2022-05-17T08:58:41.352730Z",
     "iopub.status.idle": "2022-05-17T08:58:41.357162Z",
     "shell.execute_reply": "2022-05-17T08:58:41.356272Z"
    },
    "papermill": {
     "duration": 0.135071,
     "end_time": "2022-05-17T08:58:41.357370",
     "exception": false,
     "start_time": "2022-05-17T08:58:41.222299",
     "status": "completed"
    },
    "tags": []
   },
   "outputs": [],
   "source": [
    "user_drop_cols = []"
   ]
  },
  {
   "cell_type": "markdown",
   "id": "level-barbados",
   "metadata": {
    "papermill": {
     "duration": 0.12267,
     "end_time": "2022-05-17T08:58:41.593569",
     "exception": false,
     "start_time": "2022-05-17T08:58:41.470899",
     "status": "completed"
    },
    "tags": []
   },
   "source": [
    "Dataset before deletion"
   ]
  },
  {
   "cell_type": "code",
   "execution_count": 14,
   "id": "color-elite",
   "metadata": {
    "execution": {
     "iopub.execute_input": "2022-05-17T08:58:41.841439Z",
     "iopub.status.busy": "2022-05-17T08:58:41.839733Z",
     "iopub.status.idle": "2022-05-17T08:58:41.864048Z",
     "shell.execute_reply": "2022-05-17T08:58:41.864763Z"
    },
    "papermill": {
     "duration": 0.164387,
     "end_time": "2022-05-17T08:58:41.865057",
     "exception": false,
     "start_time": "2022-05-17T08:58:41.700670",
     "status": "completed"
    },
    "tags": []
   },
   "outputs": [
    {
     "data": {
      "text/html": [
       "<div>\n",
       "<style scoped>\n",
       "    .dataframe tbody tr th:only-of-type {\n",
       "        vertical-align: middle;\n",
       "    }\n",
       "\n",
       "    .dataframe tbody tr th {\n",
       "        vertical-align: top;\n",
       "    }\n",
       "\n",
       "    .dataframe thead th {\n",
       "        text-align: right;\n",
       "    }\n",
       "</style>\n",
       "<table border=\"1\" class=\"dataframe\">\n",
       "  <thead>\n",
       "    <tr style=\"text-align: right;\">\n",
       "      <th></th>\n",
       "      <th>sepal_length</th>\n",
       "      <th>sepal_width</th>\n",
       "      <th>petal_length</th>\n",
       "      <th>petal_width</th>\n",
       "      <th>variety</th>\n",
       "    </tr>\n",
       "  </thead>\n",
       "  <tbody>\n",
       "    <tr>\n",
       "      <th>0</th>\n",
       "      <td>5.1</td>\n",
       "      <td>3.5</td>\n",
       "      <td>1.4</td>\n",
       "      <td>0.2</td>\n",
       "      <td>Setosa</td>\n",
       "    </tr>\n",
       "    <tr>\n",
       "      <th>1</th>\n",
       "      <td>4.9</td>\n",
       "      <td>3.0</td>\n",
       "      <td>1.4</td>\n",
       "      <td>0.2</td>\n",
       "      <td>Setosa</td>\n",
       "    </tr>\n",
       "    <tr>\n",
       "      <th>2</th>\n",
       "      <td>4.7</td>\n",
       "      <td>3.2</td>\n",
       "      <td>1.3</td>\n",
       "      <td>0.2</td>\n",
       "      <td>Setosa</td>\n",
       "    </tr>\n",
       "    <tr>\n",
       "      <th>3</th>\n",
       "      <td>4.6</td>\n",
       "      <td>3.1</td>\n",
       "      <td>1.5</td>\n",
       "      <td>0.2</td>\n",
       "      <td>Setosa</td>\n",
       "    </tr>\n",
       "    <tr>\n",
       "      <th>4</th>\n",
       "      <td>5.0</td>\n",
       "      <td>3.6</td>\n",
       "      <td>1.4</td>\n",
       "      <td>0.2</td>\n",
       "      <td>Setosa</td>\n",
       "    </tr>\n",
       "    <tr>\n",
       "      <th>...</th>\n",
       "      <td>...</td>\n",
       "      <td>...</td>\n",
       "      <td>...</td>\n",
       "      <td>...</td>\n",
       "      <td>...</td>\n",
       "    </tr>\n",
       "    <tr>\n",
       "      <th>145</th>\n",
       "      <td>6.7</td>\n",
       "      <td>3.0</td>\n",
       "      <td>5.2</td>\n",
       "      <td>2.3</td>\n",
       "      <td>Virginica</td>\n",
       "    </tr>\n",
       "    <tr>\n",
       "      <th>146</th>\n",
       "      <td>6.3</td>\n",
       "      <td>2.5</td>\n",
       "      <td>5.0</td>\n",
       "      <td>1.9</td>\n",
       "      <td>Virginica</td>\n",
       "    </tr>\n",
       "    <tr>\n",
       "      <th>147</th>\n",
       "      <td>6.5</td>\n",
       "      <td>3.0</td>\n",
       "      <td>5.2</td>\n",
       "      <td>2.0</td>\n",
       "      <td>Virginica</td>\n",
       "    </tr>\n",
       "    <tr>\n",
       "      <th>148</th>\n",
       "      <td>6.2</td>\n",
       "      <td>3.4</td>\n",
       "      <td>5.4</td>\n",
       "      <td>2.3</td>\n",
       "      <td>Virginica</td>\n",
       "    </tr>\n",
       "    <tr>\n",
       "      <th>149</th>\n",
       "      <td>5.9</td>\n",
       "      <td>3.0</td>\n",
       "      <td>5.1</td>\n",
       "      <td>1.8</td>\n",
       "      <td>Virginica</td>\n",
       "    </tr>\n",
       "  </tbody>\n",
       "</table>\n",
       "<p>150 rows × 5 columns</p>\n",
       "</div>"
      ],
      "text/plain": [
       "     sepal_length  sepal_width  petal_length  petal_width    variety\n",
       "0             5.1          3.5           1.4          0.2     Setosa\n",
       "1             4.9          3.0           1.4          0.2     Setosa\n",
       "2             4.7          3.2           1.3          0.2     Setosa\n",
       "3             4.6          3.1           1.5          0.2     Setosa\n",
       "4             5.0          3.6           1.4          0.2     Setosa\n",
       "..            ...          ...           ...          ...        ...\n",
       "145           6.7          3.0           5.2          2.3  Virginica\n",
       "146           6.3          2.5           5.0          1.9  Virginica\n",
       "147           6.5          3.0           5.2          2.0  Virginica\n",
       "148           6.2          3.4           5.4          2.3  Virginica\n",
       "149           5.9          3.0           5.1          1.8  Virginica\n",
       "\n",
       "[150 rows x 5 columns]"
      ]
     },
     "metadata": {},
     "output_type": "display_data"
    }
   ],
   "source": [
    "display(df)"
   ]
  },
  {
   "cell_type": "code",
   "execution_count": 15,
   "id": "bottom-robin",
   "metadata": {
    "execution": {
     "iopub.execute_input": "2022-05-17T08:58:42.093725Z",
     "iopub.status.busy": "2022-05-17T08:58:42.092816Z",
     "iopub.status.idle": "2022-05-17T08:58:42.097990Z",
     "shell.execute_reply": "2022-05-17T08:58:42.097198Z"
    },
    "papermill": {
     "duration": 0.131156,
     "end_time": "2022-05-17T08:58:42.098194",
     "exception": false,
     "start_time": "2022-05-17T08:58:41.967038",
     "status": "completed"
    },
    "tags": []
   },
   "outputs": [],
   "source": [
    "df = df.drop(user_drop_cols, axis=1)"
   ]
  },
  {
   "cell_type": "markdown",
   "id": "athletic-manor",
   "metadata": {
    "papermill": {
     "duration": 0.138123,
     "end_time": "2022-05-17T08:58:42.420834",
     "exception": false,
     "start_time": "2022-05-17T08:58:42.282711",
     "status": "completed"
    },
    "tags": []
   },
   "source": [
    "Dataset after deletion"
   ]
  },
  {
   "cell_type": "code",
   "execution_count": 16,
   "id": "silent-cosmetic",
   "metadata": {
    "execution": {
     "iopub.execute_input": "2022-05-17T08:58:42.715974Z",
     "iopub.status.busy": "2022-05-17T08:58:42.714400Z",
     "iopub.status.idle": "2022-05-17T08:58:42.723320Z",
     "shell.execute_reply": "2022-05-17T08:58:42.722453Z"
    },
    "papermill": {
     "duration": 0.161182,
     "end_time": "2022-05-17T08:58:42.723543",
     "exception": false,
     "start_time": "2022-05-17T08:58:42.562361",
     "status": "completed"
    },
    "tags": []
   },
   "outputs": [
    {
     "data": {
      "text/html": [
       "<div>\n",
       "<style scoped>\n",
       "    .dataframe tbody tr th:only-of-type {\n",
       "        vertical-align: middle;\n",
       "    }\n",
       "\n",
       "    .dataframe tbody tr th {\n",
       "        vertical-align: top;\n",
       "    }\n",
       "\n",
       "    .dataframe thead th {\n",
       "        text-align: right;\n",
       "    }\n",
       "</style>\n",
       "<table border=\"1\" class=\"dataframe\">\n",
       "  <thead>\n",
       "    <tr style=\"text-align: right;\">\n",
       "      <th></th>\n",
       "      <th>sepal_length</th>\n",
       "      <th>sepal_width</th>\n",
       "      <th>petal_length</th>\n",
       "      <th>petal_width</th>\n",
       "      <th>variety</th>\n",
       "    </tr>\n",
       "  </thead>\n",
       "  <tbody>\n",
       "    <tr>\n",
       "      <th>0</th>\n",
       "      <td>5.1</td>\n",
       "      <td>3.5</td>\n",
       "      <td>1.4</td>\n",
       "      <td>0.2</td>\n",
       "      <td>Setosa</td>\n",
       "    </tr>\n",
       "    <tr>\n",
       "      <th>1</th>\n",
       "      <td>4.9</td>\n",
       "      <td>3.0</td>\n",
       "      <td>1.4</td>\n",
       "      <td>0.2</td>\n",
       "      <td>Setosa</td>\n",
       "    </tr>\n",
       "    <tr>\n",
       "      <th>2</th>\n",
       "      <td>4.7</td>\n",
       "      <td>3.2</td>\n",
       "      <td>1.3</td>\n",
       "      <td>0.2</td>\n",
       "      <td>Setosa</td>\n",
       "    </tr>\n",
       "    <tr>\n",
       "      <th>3</th>\n",
       "      <td>4.6</td>\n",
       "      <td>3.1</td>\n",
       "      <td>1.5</td>\n",
       "      <td>0.2</td>\n",
       "      <td>Setosa</td>\n",
       "    </tr>\n",
       "    <tr>\n",
       "      <th>4</th>\n",
       "      <td>5.0</td>\n",
       "      <td>3.6</td>\n",
       "      <td>1.4</td>\n",
       "      <td>0.2</td>\n",
       "      <td>Setosa</td>\n",
       "    </tr>\n",
       "    <tr>\n",
       "      <th>...</th>\n",
       "      <td>...</td>\n",
       "      <td>...</td>\n",
       "      <td>...</td>\n",
       "      <td>...</td>\n",
       "      <td>...</td>\n",
       "    </tr>\n",
       "    <tr>\n",
       "      <th>145</th>\n",
       "      <td>6.7</td>\n",
       "      <td>3.0</td>\n",
       "      <td>5.2</td>\n",
       "      <td>2.3</td>\n",
       "      <td>Virginica</td>\n",
       "    </tr>\n",
       "    <tr>\n",
       "      <th>146</th>\n",
       "      <td>6.3</td>\n",
       "      <td>2.5</td>\n",
       "      <td>5.0</td>\n",
       "      <td>1.9</td>\n",
       "      <td>Virginica</td>\n",
       "    </tr>\n",
       "    <tr>\n",
       "      <th>147</th>\n",
       "      <td>6.5</td>\n",
       "      <td>3.0</td>\n",
       "      <td>5.2</td>\n",
       "      <td>2.0</td>\n",
       "      <td>Virginica</td>\n",
       "    </tr>\n",
       "    <tr>\n",
       "      <th>148</th>\n",
       "      <td>6.2</td>\n",
       "      <td>3.4</td>\n",
       "      <td>5.4</td>\n",
       "      <td>2.3</td>\n",
       "      <td>Virginica</td>\n",
       "    </tr>\n",
       "    <tr>\n",
       "      <th>149</th>\n",
       "      <td>5.9</td>\n",
       "      <td>3.0</td>\n",
       "      <td>5.1</td>\n",
       "      <td>1.8</td>\n",
       "      <td>Virginica</td>\n",
       "    </tr>\n",
       "  </tbody>\n",
       "</table>\n",
       "<p>150 rows × 5 columns</p>\n",
       "</div>"
      ],
      "text/plain": [
       "     sepal_length  sepal_width  petal_length  petal_width    variety\n",
       "0             5.1          3.5           1.4          0.2     Setosa\n",
       "1             4.9          3.0           1.4          0.2     Setosa\n",
       "2             4.7          3.2           1.3          0.2     Setosa\n",
       "3             4.6          3.1           1.5          0.2     Setosa\n",
       "4             5.0          3.6           1.4          0.2     Setosa\n",
       "..            ...          ...           ...          ...        ...\n",
       "145           6.7          3.0           5.2          2.3  Virginica\n",
       "146           6.3          2.5           5.0          1.9  Virginica\n",
       "147           6.5          3.0           5.2          2.0  Virginica\n",
       "148           6.2          3.4           5.4          2.3  Virginica\n",
       "149           5.9          3.0           5.1          1.8  Virginica\n",
       "\n",
       "[150 rows x 5 columns]"
      ]
     },
     "metadata": {},
     "output_type": "display_data"
    }
   ],
   "source": [
    "display(df)"
   ]
  },
  {
   "cell_type": "markdown",
   "id": "accurate-december",
   "metadata": {
    "papermill": {
     "duration": 0.13074,
     "end_time": "2022-05-17T08:58:42.958890",
     "exception": false,
     "start_time": "2022-05-17T08:58:42.828150",
     "status": "completed"
    },
    "tags": []
   },
   "source": [
    "#### Dataset copy"
   ]
  },
  {
   "cell_type": "code",
   "execution_count": 17,
   "id": "false-showcase",
   "metadata": {
    "execution": {
     "iopub.execute_input": "2022-05-17T08:58:43.200821Z",
     "iopub.status.busy": "2022-05-17T08:58:43.199462Z",
     "iopub.status.idle": "2022-05-17T08:58:43.207439Z",
     "shell.execute_reply": "2022-05-17T08:58:43.208588Z"
    },
    "papermill": {
     "duration": 0.145824,
     "end_time": "2022-05-17T08:58:43.209158",
     "exception": false,
     "start_time": "2022-05-17T08:58:43.063334",
     "status": "completed"
    },
    "tags": []
   },
   "outputs": [],
   "source": [
    "df_copy = df.copy()"
   ]
  },
  {
   "cell_type": "markdown",
   "id": "northern-cancellation",
   "metadata": {
    "papermill": {
     "duration": 0.138427,
     "end_time": "2022-05-17T08:58:43.458442",
     "exception": false,
     "start_time": "2022-05-17T08:58:43.320015",
     "status": "completed"
    },
    "tags": []
   },
   "source": [
    "### Dataset Information"
   ]
  },
  {
   "cell_type": "code",
   "execution_count": 18,
   "id": "perceived-wildlife",
   "metadata": {
    "execution": {
     "iopub.execute_input": "2022-05-17T08:58:43.701852Z",
     "iopub.status.busy": "2022-05-17T08:58:43.700282Z",
     "iopub.status.idle": "2022-05-17T08:58:43.709208Z",
     "shell.execute_reply": "2022-05-17T08:58:43.708425Z"
    },
    "papermill": {
     "duration": 0.144005,
     "end_time": "2022-05-17T08:58:43.709410",
     "exception": false,
     "start_time": "2022-05-17T08:58:43.565405",
     "status": "completed"
    },
    "tags": []
   },
   "outputs": [
    {
     "data": {
      "text/plain": [
       "(150, 5)"
      ]
     },
     "execution_count": 18,
     "metadata": {},
     "output_type": "execute_result"
    }
   ],
   "source": [
    "df.shape"
   ]
  },
  {
   "cell_type": "markdown",
   "id": "assured-focus",
   "metadata": {
    "papermill": {
     "duration": 0.132724,
     "end_time": "2022-05-17T08:58:43.956697",
     "exception": false,
     "start_time": "2022-05-17T08:58:43.823973",
     "status": "completed"
    },
    "tags": []
   },
   "source": [
    "#### Some records"
   ]
  },
  {
   "cell_type": "code",
   "execution_count": 19,
   "id": "stuck-navigation",
   "metadata": {
    "execution": {
     "iopub.execute_input": "2022-05-17T08:58:44.217221Z",
     "iopub.status.busy": "2022-05-17T08:58:44.206768Z",
     "iopub.status.idle": "2022-05-17T08:58:44.224345Z",
     "shell.execute_reply": "2022-05-17T08:58:44.223014Z"
    },
    "papermill": {
     "duration": 0.160268,
     "end_time": "2022-05-17T08:58:44.224598",
     "exception": false,
     "start_time": "2022-05-17T08:58:44.064330",
     "status": "completed"
    },
    "tags": []
   },
   "outputs": [
    {
     "data": {
      "text/html": [
       "<div>\n",
       "<style scoped>\n",
       "    .dataframe tbody tr th:only-of-type {\n",
       "        vertical-align: middle;\n",
       "    }\n",
       "\n",
       "    .dataframe tbody tr th {\n",
       "        vertical-align: top;\n",
       "    }\n",
       "\n",
       "    .dataframe thead th {\n",
       "        text-align: right;\n",
       "    }\n",
       "</style>\n",
       "<table border=\"1\" class=\"dataframe\">\n",
       "  <thead>\n",
       "    <tr style=\"text-align: right;\">\n",
       "      <th></th>\n",
       "      <th>sepal_length</th>\n",
       "      <th>sepal_width</th>\n",
       "      <th>petal_length</th>\n",
       "      <th>petal_width</th>\n",
       "      <th>variety</th>\n",
       "    </tr>\n",
       "  </thead>\n",
       "  <tbody>\n",
       "    <tr>\n",
       "      <th>0</th>\n",
       "      <td>5.1</td>\n",
       "      <td>3.5</td>\n",
       "      <td>1.4</td>\n",
       "      <td>0.2</td>\n",
       "      <td>Setosa</td>\n",
       "    </tr>\n",
       "    <tr>\n",
       "      <th>1</th>\n",
       "      <td>4.9</td>\n",
       "      <td>3.0</td>\n",
       "      <td>1.4</td>\n",
       "      <td>0.2</td>\n",
       "      <td>Setosa</td>\n",
       "    </tr>\n",
       "    <tr>\n",
       "      <th>2</th>\n",
       "      <td>4.7</td>\n",
       "      <td>3.2</td>\n",
       "      <td>1.3</td>\n",
       "      <td>0.2</td>\n",
       "      <td>Setosa</td>\n",
       "    </tr>\n",
       "    <tr>\n",
       "      <th>3</th>\n",
       "      <td>4.6</td>\n",
       "      <td>3.1</td>\n",
       "      <td>1.5</td>\n",
       "      <td>0.2</td>\n",
       "      <td>Setosa</td>\n",
       "    </tr>\n",
       "    <tr>\n",
       "      <th>4</th>\n",
       "      <td>5.0</td>\n",
       "      <td>3.6</td>\n",
       "      <td>1.4</td>\n",
       "      <td>0.2</td>\n",
       "      <td>Setosa</td>\n",
       "    </tr>\n",
       "    <tr>\n",
       "      <th>...</th>\n",
       "      <td>...</td>\n",
       "      <td>...</td>\n",
       "      <td>...</td>\n",
       "      <td>...</td>\n",
       "      <td>...</td>\n",
       "    </tr>\n",
       "    <tr>\n",
       "      <th>145</th>\n",
       "      <td>6.7</td>\n",
       "      <td>3.0</td>\n",
       "      <td>5.2</td>\n",
       "      <td>2.3</td>\n",
       "      <td>Virginica</td>\n",
       "    </tr>\n",
       "    <tr>\n",
       "      <th>146</th>\n",
       "      <td>6.3</td>\n",
       "      <td>2.5</td>\n",
       "      <td>5.0</td>\n",
       "      <td>1.9</td>\n",
       "      <td>Virginica</td>\n",
       "    </tr>\n",
       "    <tr>\n",
       "      <th>147</th>\n",
       "      <td>6.5</td>\n",
       "      <td>3.0</td>\n",
       "      <td>5.2</td>\n",
       "      <td>2.0</td>\n",
       "      <td>Virginica</td>\n",
       "    </tr>\n",
       "    <tr>\n",
       "      <th>148</th>\n",
       "      <td>6.2</td>\n",
       "      <td>3.4</td>\n",
       "      <td>5.4</td>\n",
       "      <td>2.3</td>\n",
       "      <td>Virginica</td>\n",
       "    </tr>\n",
       "    <tr>\n",
       "      <th>149</th>\n",
       "      <td>5.9</td>\n",
       "      <td>3.0</td>\n",
       "      <td>5.1</td>\n",
       "      <td>1.8</td>\n",
       "      <td>Virginica</td>\n",
       "    </tr>\n",
       "  </tbody>\n",
       "</table>\n",
       "<p>150 rows × 5 columns</p>\n",
       "</div>"
      ],
      "text/plain": [
       "     sepal_length  sepal_width  petal_length  petal_width    variety\n",
       "0             5.1          3.5           1.4          0.2     Setosa\n",
       "1             4.9          3.0           1.4          0.2     Setosa\n",
       "2             4.7          3.2           1.3          0.2     Setosa\n",
       "3             4.6          3.1           1.5          0.2     Setosa\n",
       "4             5.0          3.6           1.4          0.2     Setosa\n",
       "..            ...          ...           ...          ...        ...\n",
       "145           6.7          3.0           5.2          2.3  Virginica\n",
       "146           6.3          2.5           5.0          1.9  Virginica\n",
       "147           6.5          3.0           5.2          2.0  Virginica\n",
       "148           6.2          3.4           5.4          2.3  Virginica\n",
       "149           5.9          3.0           5.1          1.8  Virginica\n",
       "\n",
       "[150 rows x 5 columns]"
      ]
     },
     "metadata": {},
     "output_type": "display_data"
    }
   ],
   "source": [
    "display(df)"
   ]
  },
  {
   "cell_type": "markdown",
   "id": "distributed-founder",
   "metadata": {
    "papermill": {
     "duration": 0.147257,
     "end_time": "2022-05-17T08:58:44.477660",
     "exception": false,
     "start_time": "2022-05-17T08:58:44.330403",
     "status": "completed"
    },
    "tags": []
   },
   "source": [
    "#### Dataframe structure"
   ]
  },
  {
   "cell_type": "code",
   "execution_count": 20,
   "id": "living-lawrence",
   "metadata": {
    "execution": {
     "iopub.execute_input": "2022-05-17T08:58:44.731440Z",
     "iopub.status.busy": "2022-05-17T08:58:44.727542Z",
     "iopub.status.idle": "2022-05-17T08:58:44.957251Z",
     "shell.execute_reply": "2022-05-17T08:58:44.958377Z"
    },
    "papermill": {
     "duration": 0.372052,
     "end_time": "2022-05-17T08:58:44.958913",
     "exception": false,
     "start_time": "2022-05-17T08:58:44.586861",
     "status": "completed"
    },
    "tags": []
   },
   "outputs": [
    {
     "data": {
      "image/png": "[encoded data removed]",
      "text/plain": [
       "<Figure size 432x288 with 1 Axes>"
      ]
     },
     "metadata": {},
     "output_type": "display_data"
    }
   ],
   "source": [
    "plot_dataframe_structure(df)"
   ]
  },
  {
   "cell_type": "markdown",
   "id": "clinical-relation",
   "metadata": {
    "papermill": {
     "duration": 0.129775,
     "end_time": "2022-05-17T08:58:45.221743",
     "exception": false,
     "start_time": "2022-05-17T08:58:45.091968",
     "status": "completed"
    },
    "tags": []
   },
   "source": [
    "#### Dataframe statistics"
   ]
  },
  {
   "cell_type": "code",
   "execution_count": 21,
   "id": "standard-sunset",
   "metadata": {
    "execution": {
     "iopub.execute_input": "2022-05-17T08:58:45.508488Z",
     "iopub.status.busy": "2022-05-17T08:58:45.507492Z",
     "iopub.status.idle": "2022-05-17T08:58:45.514338Z",
     "shell.execute_reply": "2022-05-17T08:58:45.513568Z"
    },
    "papermill": {
     "duration": 0.187336,
     "end_time": "2022-05-17T08:58:45.514534",
     "exception": false,
     "start_time": "2022-05-17T08:58:45.327198",
     "status": "completed"
    },
    "tags": []
   },
   "outputs": [
    {
     "data": {
      "text/html": [
       "<div>\n",
       "<style scoped>\n",
       "    .dataframe tbody tr th:only-of-type {\n",
       "        vertical-align: middle;\n",
       "    }\n",
       "\n",
       "    .dataframe tbody tr th {\n",
       "        vertical-align: top;\n",
       "    }\n",
       "\n",
       "    .dataframe thead th {\n",
       "        text-align: right;\n",
       "    }\n",
       "</style>\n",
       "<table border=\"1\" class=\"dataframe\">\n",
       "  <thead>\n",
       "    <tr style=\"text-align: right;\">\n",
       "      <th></th>\n",
       "      <th>count</th>\n",
       "      <th>mean</th>\n",
       "      <th>std</th>\n",
       "      <th>min</th>\n",
       "      <th>25%</th>\n",
       "      <th>50%</th>\n",
       "      <th>75%</th>\n",
       "      <th>max</th>\n",
       "    </tr>\n",
       "  </thead>\n",
       "  <tbody>\n",
       "    <tr>\n",
       "      <th>sepal_length</th>\n",
       "      <td>150.0</td>\n",
       "      <td>5.843333</td>\n",
       "      <td>0.828066</td>\n",
       "      <td>4.3</td>\n",
       "      <td>5.1</td>\n",
       "      <td>5.80</td>\n",
       "      <td>6.4</td>\n",
       "      <td>7.9</td>\n",
       "    </tr>\n",
       "    <tr>\n",
       "      <th>sepal_width</th>\n",
       "      <td>150.0</td>\n",
       "      <td>3.057333</td>\n",
       "      <td>0.435866</td>\n",
       "      <td>2.0</td>\n",
       "      <td>2.8</td>\n",
       "      <td>3.00</td>\n",
       "      <td>3.3</td>\n",
       "      <td>4.4</td>\n",
       "    </tr>\n",
       "    <tr>\n",
       "      <th>petal_length</th>\n",
       "      <td>150.0</td>\n",
       "      <td>3.758000</td>\n",
       "      <td>1.765298</td>\n",
       "      <td>1.0</td>\n",
       "      <td>1.6</td>\n",
       "      <td>4.35</td>\n",
       "      <td>5.1</td>\n",
       "      <td>6.9</td>\n",
       "    </tr>\n",
       "    <tr>\n",
       "      <th>petal_width</th>\n",
       "      <td>150.0</td>\n",
       "      <td>1.199333</td>\n",
       "      <td>0.762238</td>\n",
       "      <td>0.1</td>\n",
       "      <td>0.3</td>\n",
       "      <td>1.30</td>\n",
       "      <td>1.8</td>\n",
       "      <td>2.5</td>\n",
       "    </tr>\n",
       "  </tbody>\n",
       "</table>\n",
       "</div>"
      ],
      "text/plain": [
       "              count      mean       std  min  25%   50%  75%  max\n",
       "sepal_length  150.0  5.843333  0.828066  4.3  5.1  5.80  6.4  7.9\n",
       "sepal_width   150.0  3.057333  0.435866  2.0  2.8  3.00  3.3  4.4\n",
       "petal_length  150.0  3.758000  1.765298  1.0  1.6  4.35  5.1  6.9\n",
       "petal_width   150.0  1.199333  0.762238  0.1  0.3  1.30  1.8  2.5"
      ]
     },
     "metadata": {},
     "output_type": "display_data"
    }
   ],
   "source": [
    "display(df.describe().T)"
   ]
  },
  {
   "cell_type": "markdown",
   "id": "eligible-membership",
   "metadata": {
    "papermill": {
     "duration": 0.127531,
     "end_time": "2022-05-17T08:58:45.749264",
     "exception": false,
     "start_time": "2022-05-17T08:58:45.621733",
     "status": "completed"
    },
    "tags": []
   },
   "source": [
    "#### Which columns could be categorical ?"
   ]
  },
  {
   "cell_type": "code",
   "execution_count": 22,
   "id": "medical-hearts",
   "metadata": {
    "execution": {
     "iopub.execute_input": "2022-05-17T08:58:46.133731Z",
     "iopub.status.busy": "2022-05-17T08:58:46.103282Z",
     "iopub.status.idle": "2022-05-17T08:58:46.281371Z",
     "shell.execute_reply": "2022-05-17T08:58:46.282003Z"
    },
    "papermill": {
     "duration": 0.421303,
     "end_time": "2022-05-17T08:58:46.282256",
     "exception": false,
     "start_time": "2022-05-17T08:58:45.860953",
     "status": "completed"
    },
    "tags": []
   },
   "outputs": [
    {
     "data": {
      "image/png": "[encoded data removed]",
      "text/plain": [
       "<Figure size 432x288 with 1 Axes>"
      ]
     },
     "metadata": {
      "needs_background": "light"
     },
     "output_type": "display_data"
    }
   ],
   "source": [
    "plot_categorical(df)"
   ]
  },
  {
   "cell_type": "markdown",
   "id": "particular-child",
   "metadata": {
    "papermill": {
     "duration": 0.138985,
     "end_time": "2022-05-17T08:58:46.531689",
     "exception": false,
     "start_time": "2022-05-17T08:58:46.392704",
     "status": "completed"
    },
    "tags": []
   },
   "source": [
    "### Dataset Cleaning"
   ]
  },
  {
   "cell_type": "markdown",
   "id": "seventh-matthew",
   "metadata": {
    "papermill": {
     "duration": 0.128457,
     "end_time": "2022-05-17T08:58:46.777301",
     "exception": false,
     "start_time": "2022-05-17T08:58:46.648844",
     "status": "completed"
    },
    "tags": []
   },
   "source": [
    "#### Duplicate rows:"
   ]
  },
  {
   "cell_type": "code",
   "execution_count": 23,
   "id": "stainless-integration",
   "metadata": {
    "execution": {
     "iopub.execute_input": "2022-05-17T08:58:47.063455Z",
     "iopub.status.busy": "2022-05-17T08:58:47.046922Z",
     "iopub.status.idle": "2022-05-17T08:58:47.074660Z",
     "shell.execute_reply": "2022-05-17T08:58:47.073854Z"
    },
    "papermill": {
     "duration": 0.185603,
     "end_time": "2022-05-17T08:58:47.074971",
     "exception": false,
     "start_time": "2022-05-17T08:58:46.889368",
     "status": "completed"
    },
    "tags": []
   },
   "outputs": [
    {
     "name": "stdout",
     "output_type": "stream",
     "text": [
      "Number of rows before removing: 150\n",
      "Number of duplicate rows: 1\n",
      "Number of rows after removing: 149\n"
     ]
    },
    {
     "data": {
      "text/html": [
       "<div>\n",
       "<style scoped>\n",
       "    .dataframe tbody tr th:only-of-type {\n",
       "        vertical-align: middle;\n",
       "    }\n",
       "\n",
       "    .dataframe tbody tr th {\n",
       "        vertical-align: top;\n",
       "    }\n",
       "\n",
       "    .dataframe thead th {\n",
       "        text-align: right;\n",
       "    }\n",
       "</style>\n",
       "<table border=\"1\" class=\"dataframe\">\n",
       "  <thead>\n",
       "    <tr style=\"text-align: right;\">\n",
       "      <th></th>\n",
       "      <th>sepal_length</th>\n",
       "      <th>sepal_width</th>\n",
       "      <th>petal_length</th>\n",
       "      <th>petal_width</th>\n",
       "      <th>variety</th>\n",
       "    </tr>\n",
       "  </thead>\n",
       "  <tbody>\n",
       "    <tr>\n",
       "      <th>0</th>\n",
       "      <td>5.1</td>\n",
       "      <td>3.5</td>\n",
       "      <td>1.4</td>\n",
       "      <td>0.2</td>\n",
       "      <td>Setosa</td>\n",
       "    </tr>\n",
       "    <tr>\n",
       "      <th>1</th>\n",
       "      <td>4.9</td>\n",
       "      <td>3.0</td>\n",
       "      <td>1.4</td>\n",
       "      <td>0.2</td>\n",
       "      <td>Setosa</td>\n",
       "    </tr>\n",
       "    <tr>\n",
       "      <th>2</th>\n",
       "      <td>4.7</td>\n",
       "      <td>3.2</td>\n",
       "      <td>1.3</td>\n",
       "      <td>0.2</td>\n",
       "      <td>Setosa</td>\n",
       "    </tr>\n",
       "    <tr>\n",
       "      <th>3</th>\n",
       "      <td>4.6</td>\n",
       "      <td>3.1</td>\n",
       "      <td>1.5</td>\n",
       "      <td>0.2</td>\n",
       "      <td>Setosa</td>\n",
       "    </tr>\n",
       "    <tr>\n",
       "      <th>4</th>\n",
       "      <td>5.0</td>\n",
       "      <td>3.6</td>\n",
       "      <td>1.4</td>\n",
       "      <td>0.2</td>\n",
       "      <td>Setosa</td>\n",
       "    </tr>\n",
       "    <tr>\n",
       "      <th>...</th>\n",
       "      <td>...</td>\n",
       "      <td>...</td>\n",
       "      <td>...</td>\n",
       "      <td>...</td>\n",
       "      <td>...</td>\n",
       "    </tr>\n",
       "    <tr>\n",
       "      <th>145</th>\n",
       "      <td>6.7</td>\n",
       "      <td>3.0</td>\n",
       "      <td>5.2</td>\n",
       "      <td>2.3</td>\n",
       "      <td>Virginica</td>\n",
       "    </tr>\n",
       "    <tr>\n",
       "      <th>146</th>\n",
       "      <td>6.3</td>\n",
       "      <td>2.5</td>\n",
       "      <td>5.0</td>\n",
       "      <td>1.9</td>\n",
       "      <td>Virginica</td>\n",
       "    </tr>\n",
       "    <tr>\n",
       "      <th>147</th>\n",
       "      <td>6.5</td>\n",
       "      <td>3.0</td>\n",
       "      <td>5.2</td>\n",
       "      <td>2.0</td>\n",
       "      <td>Virginica</td>\n",
       "    </tr>\n",
       "    <tr>\n",
       "      <th>148</th>\n",
       "      <td>6.2</td>\n",
       "      <td>3.4</td>\n",
       "      <td>5.4</td>\n",
       "      <td>2.3</td>\n",
       "      <td>Virginica</td>\n",
       "    </tr>\n",
       "    <tr>\n",
       "      <th>149</th>\n",
       "      <td>5.9</td>\n",
       "      <td>3.0</td>\n",
       "      <td>5.1</td>\n",
       "      <td>1.8</td>\n",
       "      <td>Virginica</td>\n",
       "    </tr>\n",
       "  </tbody>\n",
       "</table>\n",
       "<p>149 rows × 5 columns</p>\n",
       "</div>"
      ],
      "text/plain": [
       "     sepal_length  sepal_width  petal_length  petal_width    variety\n",
       "0             5.1          3.5           1.4          0.2     Setosa\n",
       "1             4.9          3.0           1.4          0.2     Setosa\n",
       "2             4.7          3.2           1.3          0.2     Setosa\n",
       "3             4.6          3.1           1.5          0.2     Setosa\n",
       "4             5.0          3.6           1.4          0.2     Setosa\n",
       "..            ...          ...           ...          ...        ...\n",
       "145           6.7          3.0           5.2          2.3  Virginica\n",
       "146           6.3          2.5           5.0          1.9  Virginica\n",
       "147           6.5          3.0           5.2          2.0  Virginica\n",
       "148           6.2          3.4           5.4          2.3  Virginica\n",
       "149           5.9          3.0           5.1          1.8  Virginica\n",
       "\n",
       "[149 rows x 5 columns]"
      ]
     },
     "execution_count": 23,
     "metadata": {},
     "output_type": "execute_result"
    }
   ],
   "source": [
    "duplicates(df)"
   ]
  },
  {
   "cell_type": "markdown",
   "id": "vietnamese-flashing",
   "metadata": {
    "papermill": {
     "duration": 0.129745,
     "end_time": "2022-05-17T08:58:47.308243",
     "exception": false,
     "start_time": "2022-05-17T08:58:47.178498",
     "status": "completed"
    },
    "tags": []
   },
   "source": [
    "#### Drop NaN:"
   ]
  },
  {
   "cell_type": "code",
   "execution_count": 24,
   "id": "visible-convergence",
   "metadata": {
    "execution": {
     "iopub.execute_input": "2022-05-17T08:58:47.600627Z",
     "iopub.status.busy": "2022-05-17T08:58:47.599127Z",
     "iopub.status.idle": "2022-05-17T08:58:47.605642Z",
     "shell.execute_reply": "2022-05-17T08:58:47.607286Z"
    },
    "papermill": {
     "duration": 0.17945,
     "end_time": "2022-05-17T08:58:47.607700",
     "exception": false,
     "start_time": "2022-05-17T08:58:47.428250",
     "status": "completed"
    },
    "tags": []
   },
   "outputs": [
    {
     "name": "stdout",
     "output_type": "stream",
     "text": [
      "No need to drop columns.\n"
     ]
    }
   ],
   "source": [
    "df, drop_cols = drop_na(df, threshold_NaN)"
   ]
  },
  {
   "cell_type": "markdown",
   "id": "greenhouse-formula",
   "metadata": {
    "papermill": {
     "duration": 0.142804,
     "end_time": "2022-05-17T08:58:47.864324",
     "exception": false,
     "start_time": "2022-05-17T08:58:47.721520",
     "status": "completed"
    },
    "tags": []
   },
   "source": [
    "Final set of dropped columns"
   ]
  },
  {
   "cell_type": "code",
   "execution_count": 25,
   "id": "complex-expression",
   "metadata": {
    "execution": {
     "iopub.execute_input": "2022-05-17T08:58:48.118600Z",
     "iopub.status.busy": "2022-05-17T08:58:48.117726Z",
     "iopub.status.idle": "2022-05-17T08:58:48.122538Z",
     "shell.execute_reply": "2022-05-17T08:58:48.123133Z"
    },
    "papermill": {
     "duration": 0.144383,
     "end_time": "2022-05-17T08:58:48.123389",
     "exception": false,
     "start_time": "2022-05-17T08:58:47.979006",
     "status": "completed"
    },
    "tags": []
   },
   "outputs": [],
   "source": [
    "dropped_cols = np.unique(np.concatenate((drop_cols, user_drop_cols)))"
   ]
  },
  {
   "cell_type": "code",
   "execution_count": 26,
   "id": "sustained-sugar",
   "metadata": {
    "execution": {
     "iopub.execute_input": "2022-05-17T08:58:48.374915Z",
     "iopub.status.busy": "2022-05-17T08:58:48.373560Z",
     "iopub.status.idle": "2022-05-17T08:58:48.381676Z",
     "shell.execute_reply": "2022-05-17T08:58:48.383038Z"
    },
    "papermill": {
     "duration": 0.143946,
     "end_time": "2022-05-17T08:58:48.383377",
     "exception": false,
     "start_time": "2022-05-17T08:58:48.239431",
     "status": "completed"
    },
    "tags": []
   },
   "outputs": [
    {
     "data": {
      "text/plain": [
       "array([], dtype=float64)"
      ]
     },
     "metadata": {},
     "output_type": "display_data"
    }
   ],
   "source": [
    "display(dropped_cols)"
   ]
  },
  {
   "cell_type": "markdown",
   "id": "proud-moldova",
   "metadata": {
    "papermill": {
     "duration": 0.136115,
     "end_time": "2022-05-17T08:58:48.631514",
     "exception": false,
     "start_time": "2022-05-17T08:58:48.495399",
     "status": "completed"
    },
    "tags": []
   },
   "source": [
    "#### Encoding data:"
   ]
  },
  {
   "cell_type": "code",
   "execution_count": 27,
   "id": "universal-hamilton",
   "metadata": {
    "execution": {
     "iopub.execute_input": "2022-05-17T08:58:48.896442Z",
     "iopub.status.busy": "2022-05-17T08:58:48.886879Z",
     "iopub.status.idle": "2022-05-17T08:58:48.918840Z",
     "shell.execute_reply": "2022-05-17T08:58:48.919890Z"
    },
    "papermill": {
     "duration": 0.173235,
     "end_time": "2022-05-17T08:58:48.920273",
     "exception": false,
     "start_time": "2022-05-17T08:58:48.747038",
     "status": "completed"
    },
    "tags": []
   },
   "outputs": [
    {
     "name": "stdout",
     "output_type": "stream",
     "text": [
      "Encoding numeric column: sepal_length\n",
      "Encoding numeric column: sepal_width\n",
      "Encoding numeric column: petal_length\n",
      "Encoding numeric column: petal_width\n",
      "Encoding object column: variety\n"
     ]
    }
   ],
   "source": [
    "df, encoded_cols = encoding(df, threshold_cat, target_col)"
   ]
  },
  {
   "cell_type": "markdown",
   "id": "brief-persian",
   "metadata": {
    "papermill": {
     "duration": 0.14237,
     "end_time": "2022-05-17T08:58:49.188632",
     "exception": false,
     "start_time": "2022-05-17T08:58:49.046262",
     "status": "completed"
    },
    "tags": []
   },
   "source": [
    "#### Imputing NaN using IterativeImputer"
   ]
  },
  {
   "cell_type": "markdown",
   "id": "deluxe-congo",
   "metadata": {
    "papermill": {
     "duration": 0.132746,
     "end_time": "2022-05-17T08:58:49.480337",
     "exception": false,
     "start_time": "2022-05-17T08:58:49.347591",
     "status": "completed"
    },
    "tags": []
   },
   "source": [
    "##### Imputation"
   ]
  },
  {
   "cell_type": "code",
   "execution_count": 28,
   "id": "armed-royal",
   "metadata": {
    "execution": {
     "iopub.execute_input": "2022-05-17T08:58:49.744150Z",
     "iopub.status.busy": "2022-05-17T08:58:49.742845Z",
     "iopub.status.idle": "2022-05-17T08:58:49.748998Z",
     "shell.execute_reply": "2022-05-17T08:58:49.749798Z"
    },
    "papermill": {
     "duration": 0.150911,
     "end_time": "2022-05-17T08:58:49.750039",
     "exception": false,
     "start_time": "2022-05-17T08:58:49.599128",
     "status": "completed"
    },
    "tags": []
   },
   "outputs": [
    {
     "name": "stdout",
     "output_type": "stream",
     "text": [
      "No need to impute data.\n"
     ]
    }
   ],
   "source": [
    "df = imputation(df)"
   ]
  },
  {
   "cell_type": "markdown",
   "id": "french-plaza",
   "metadata": {
    "papermill": {
     "duration": 0.14224,
     "end_time": "2022-05-17T08:58:50.008022",
     "exception": false,
     "start_time": "2022-05-17T08:58:49.865782",
     "status": "completed"
    },
    "tags": []
   },
   "source": [
    "#### Data compression:"
   ]
  },
  {
   "cell_type": "code",
   "execution_count": 29,
   "id": "meaning-torture",
   "metadata": {
    "execution": {
     "iopub.execute_input": "2022-05-17T08:58:50.273298Z",
     "iopub.status.busy": "2022-05-17T08:58:50.271994Z",
     "iopub.status.idle": "2022-05-17T08:58:50.277970Z",
     "shell.execute_reply": "2022-05-17T08:58:50.277174Z"
    },
    "papermill": {
     "duration": 0.15118,
     "end_time": "2022-05-17T08:58:50.278171",
     "exception": false,
     "start_time": "2022-05-17T08:58:50.126991",
     "status": "completed"
    },
    "tags": []
   },
   "outputs": [
    {
     "name": "stdout",
     "output_type": "stream",
     "text": [
      "Memory usage of dataframe is 0.01MB\n",
      "Memory usage after optimization is: 0.00MB\n",
      "Decreased by 75.9%\n"
     ]
    }
   ],
   "source": [
    "df = downcast_dtypes(df)"
   ]
  },
  {
   "cell_type": "markdown",
   "id": "novel-stand",
   "metadata": {
    "papermill": {
     "duration": 0.143838,
     "end_time": "2022-05-17T08:58:50.534682",
     "exception": false,
     "start_time": "2022-05-17T08:58:50.390844",
     "status": "completed"
    },
    "tags": []
   },
   "source": [
    "##### Dataframe structure after compression"
   ]
  },
  {
   "cell_type": "code",
   "execution_count": 30,
   "id": "mental-baghdad",
   "metadata": {
    "execution": {
     "iopub.execute_input": "2022-05-17T08:58:50.815926Z",
     "iopub.status.busy": "2022-05-17T08:58:50.801279Z",
     "iopub.status.idle": "2022-05-17T08:58:50.925880Z",
     "shell.execute_reply": "2022-05-17T08:58:50.927116Z"
    },
    "papermill": {
     "duration": 0.274318,
     "end_time": "2022-05-17T08:58:50.927551",
     "exception": false,
     "start_time": "2022-05-17T08:58:50.653233",
     "status": "completed"
    },
    "tags": []
   },
   "outputs": [
    {
     "data": {
      "image/png": "[encoded data removed]",
      "text/plain": [
       "<Figure size 432x288 with 1 Axes>"
      ]
     },
     "metadata": {},
     "output_type": "display_data"
    }
   ],
   "source": [
    "plot_dataframe_structure(df)"
   ]
  },
  {
   "cell_type": "markdown",
   "id": "authentic-bible",
   "metadata": {
    "papermill": {
     "duration": 0.134779,
     "end_time": "2022-05-17T08:58:51.220929",
     "exception": false,
     "start_time": "2022-05-17T08:58:51.086150",
     "status": "completed"
    },
    "tags": []
   },
   "source": [
    "#### Outliers:"
   ]
  },
  {
   "cell_type": "code",
   "execution_count": 31,
   "id": "persistent-bathroom",
   "metadata": {
    "execution": {
     "iopub.execute_input": "2022-05-17T08:58:51.493669Z",
     "iopub.status.busy": "2022-05-17T08:58:51.485332Z",
     "iopub.status.idle": "2022-05-17T08:58:51.503307Z",
     "shell.execute_reply": "2022-05-17T08:58:51.503934Z"
    },
    "papermill": {
     "duration": 0.165108,
     "end_time": "2022-05-17T08:58:51.504187",
     "exception": false,
     "start_time": "2022-05-17T08:58:51.339079",
     "status": "completed"
    },
    "tags": []
   },
   "outputs": [
    {
     "name": "stdout",
     "output_type": "stream",
     "text": [
      "Using Z_score,  1  rows will be suppressed.\n"
     ]
    }
   ],
   "source": [
    "df = outliers(df, threshold_Z)"
   ]
  },
  {
   "cell_type": "markdown",
   "id": "simple-excerpt",
   "metadata": {
    "papermill": {
     "duration": 0.139638,
     "end_time": "2022-05-17T08:58:51.758261",
     "exception": false,
     "start_time": "2022-05-17T08:58:51.618623",
     "status": "completed"
    },
    "tags": []
   },
   "source": [
    "#### Splitting dataframe in features and targets"
   ]
  },
  {
   "cell_type": "code",
   "execution_count": 32,
   "id": "chief-match",
   "metadata": {
    "execution": {
     "iopub.execute_input": "2022-05-17T08:58:52.023656Z",
     "iopub.status.busy": "2022-05-17T08:58:52.022483Z",
     "iopub.status.idle": "2022-05-17T08:58:52.028127Z",
     "shell.execute_reply": "2022-05-17T08:58:52.028736Z"
    },
    "papermill": {
     "duration": 0.147572,
     "end_time": "2022-05-17T08:58:52.029085",
     "exception": false,
     "start_time": "2022-05-17T08:58:51.881513",
     "status": "completed"
    },
    "tags": []
   },
   "outputs": [],
   "source": [
    "y = df[target_col]"
   ]
  },
  {
   "cell_type": "code",
   "execution_count": 33,
   "id": "distinguished-punishment",
   "metadata": {
    "execution": {
     "iopub.execute_input": "2022-05-17T08:58:52.289073Z",
     "iopub.status.busy": "2022-05-17T08:58:52.288231Z",
     "iopub.status.idle": "2022-05-17T08:58:52.293566Z",
     "shell.execute_reply": "2022-05-17T08:58:52.292919Z"
    },
    "papermill": {
     "duration": 0.148749,
     "end_time": "2022-05-17T08:58:52.293771",
     "exception": false,
     "start_time": "2022-05-17T08:58:52.145022",
     "status": "completed"
    },
    "tags": []
   },
   "outputs": [],
   "source": [
    "X = df.drop(target_col, axis=1)"
   ]
  },
  {
   "cell_type": "markdown",
   "id": "minus-houston",
   "metadata": {
    "papermill": {
     "duration": 0.138502,
     "end_time": "2022-05-17T08:58:52.558839",
     "exception": false,
     "start_time": "2022-05-17T08:58:52.420337",
     "status": "completed"
    },
    "tags": []
   },
   "source": [
    "#### Check columns that should be dropped"
   ]
  },
  {
   "cell_type": "code",
   "execution_count": 34,
   "id": "threaded-rebecca",
   "metadata": {
    "execution": {
     "iopub.execute_input": "2022-05-17T08:58:52.826497Z",
     "iopub.status.busy": "2022-05-17T08:58:52.824817Z",
     "iopub.status.idle": "2022-05-17T08:58:52.831233Z",
     "shell.execute_reply": "2022-05-17T08:58:52.830255Z"
    },
    "papermill": {
     "duration": 0.153215,
     "end_time": "2022-05-17T08:58:52.831459",
     "exception": false,
     "start_time": "2022-05-17T08:58:52.678244",
     "status": "completed"
    },
    "tags": []
   },
   "outputs": [
    {
     "name": "stdout",
     "output_type": "stream",
     "text": [
      "[]\n"
     ]
    }
   ],
   "source": [
    "print(dropped_cols)"
   ]
  },
  {
   "cell_type": "markdown",
   "id": "vital-break",
   "metadata": {
    "papermill": {
     "duration": 0.138187,
     "end_time": "2022-05-17T08:58:53.089562",
     "exception": false,
     "start_time": "2022-05-17T08:58:52.951375",
     "status": "completed"
    },
    "tags": []
   },
   "source": [
    "## Splittings "
   ]
  },
  {
   "cell_type": "code",
   "execution_count": 35,
   "id": "rubber-remedy",
   "metadata": {
    "execution": {
     "iopub.execute_input": "2022-05-17T08:58:53.353463Z",
     "iopub.status.busy": "2022-05-17T08:58:53.351814Z",
     "iopub.status.idle": "2022-05-17T08:58:53.357452Z",
     "shell.execute_reply": "2022-05-17T08:58:53.356773Z"
    },
    "papermill": {
     "duration": 0.143807,
     "end_time": "2022-05-17T08:58:53.357656",
     "exception": false,
     "start_time": "2022-05-17T08:58:53.213849",
     "status": "completed"
    },
    "tags": []
   },
   "outputs": [],
   "source": [
    "df = df_copy"
   ]
  },
  {
   "cell_type": "markdown",
   "id": "eight-cookie",
   "metadata": {
    "papermill": {
     "duration": 0.135037,
     "end_time": "2022-05-17T08:58:53.614733",
     "exception": false,
     "start_time": "2022-05-17T08:58:53.479696",
     "status": "completed"
    },
    "tags": []
   },
   "source": [
    "#### Splitting dataframe in features and targets"
   ]
  },
  {
   "cell_type": "code",
   "execution_count": 36,
   "id": "second-verification",
   "metadata": {
    "execution": {
     "iopub.execute_input": "2022-05-17T08:58:53.892561Z",
     "iopub.status.busy": "2022-05-17T08:58:53.891339Z",
     "iopub.status.idle": "2022-05-17T08:58:53.894673Z",
     "shell.execute_reply": "2022-05-17T08:58:53.895390Z"
    },
    "papermill": {
     "duration": 0.158637,
     "end_time": "2022-05-17T08:58:53.895685",
     "exception": false,
     "start_time": "2022-05-17T08:58:53.737048",
     "status": "completed"
    },
    "tags": []
   },
   "outputs": [],
   "source": [
    "y = df[target_col]"
   ]
  },
  {
   "cell_type": "code",
   "execution_count": 37,
   "id": "partial-equilibrium",
   "metadata": {
    "execution": {
     "iopub.execute_input": "2022-05-17T08:58:54.168329Z",
     "iopub.status.busy": "2022-05-17T08:58:54.167259Z",
     "iopub.status.idle": "2022-05-17T08:58:54.173311Z",
     "shell.execute_reply": "2022-05-17T08:58:54.172563Z"
    },
    "papermill": {
     "duration": 0.154587,
     "end_time": "2022-05-17T08:58:54.173521",
     "exception": false,
     "start_time": "2022-05-17T08:58:54.018934",
     "status": "completed"
    },
    "tags": []
   },
   "outputs": [],
   "source": [
    "X = df.drop(target_col, axis=1)"
   ]
  },
  {
   "cell_type": "markdown",
   "id": "academic-throat",
   "metadata": {
    "papermill": {
     "duration": 0.129611,
     "end_time": "2022-05-17T08:58:54.427513",
     "exception": false,
     "start_time": "2022-05-17T08:58:54.297902",
     "status": "completed"
    },
    "tags": []
   },
   "source": [
    "##### Dimensions"
   ]
  },
  {
   "cell_type": "code",
   "execution_count": 38,
   "id": "dominant-cache",
   "metadata": {
    "execution": {
     "iopub.execute_input": "2022-05-17T08:58:54.709198Z",
     "iopub.status.busy": "2022-05-17T08:58:54.707398Z",
     "iopub.status.idle": "2022-05-17T08:58:54.712195Z",
     "shell.execute_reply": "2022-05-17T08:58:54.713217Z"
    },
    "papermill": {
     "duration": 0.157616,
     "end_time": "2022-05-17T08:58:54.713608",
     "exception": false,
     "start_time": "2022-05-17T08:58:54.555992",
     "status": "completed"
    },
    "tags": []
   },
   "outputs": [],
   "source": [
    "nb_features = len(X.columns.tolist())"
   ]
  },
  {
   "cell_type": "code",
   "execution_count": 39,
   "id": "trained-fusion",
   "metadata": {
    "execution": {
     "iopub.execute_input": "2022-05-17T08:58:54.979734Z",
     "iopub.status.busy": "2022-05-17T08:58:54.978463Z",
     "iopub.status.idle": "2022-05-17T08:58:54.984797Z",
     "shell.execute_reply": "2022-05-17T08:58:54.983966Z"
    },
    "papermill": {
     "duration": 0.157406,
     "end_time": "2022-05-17T08:58:54.985002",
     "exception": false,
     "start_time": "2022-05-17T08:58:54.827596",
     "status": "completed"
    },
    "tags": []
   },
   "outputs": [],
   "source": [
    "nb_targets = len(y.unique())"
   ]
  },
  {
   "cell_type": "code",
   "execution_count": 40,
   "id": "accessible-barrel",
   "metadata": {
    "execution": {
     "iopub.execute_input": "2022-05-17T08:58:55.253907Z",
     "iopub.status.busy": "2022-05-17T08:58:55.253079Z",
     "iopub.status.idle": "2022-05-17T08:58:55.257632Z",
     "shell.execute_reply": "2022-05-17T08:58:55.256857Z"
    },
    "papermill": {
     "duration": 0.156487,
     "end_time": "2022-05-17T08:58:55.257833",
     "exception": false,
     "start_time": "2022-05-17T08:58:55.101346",
     "status": "completed"
    },
    "tags": []
   },
   "outputs": [],
   "source": [
    "layer_size = nb_features + nb_targets + 2"
   ]
  },
  {
   "cell_type": "markdown",
   "id": "radio-carry",
   "metadata": {
    "papermill": {
     "duration": 0.144794,
     "end_time": "2022-05-17T08:58:55.520005",
     "exception": false,
     "start_time": "2022-05-17T08:58:55.375211",
     "status": "completed"
    },
    "tags": []
   },
   "source": [
    "##### Splitting data in train and test sets "
   ]
  },
  {
   "cell_type": "code",
   "execution_count": 41,
   "id": "cooked-birthday",
   "metadata": {
    "execution": {
     "iopub.execute_input": "2022-05-17T08:58:55.796573Z",
     "iopub.status.busy": "2022-05-17T08:58:55.793334Z",
     "iopub.status.idle": "2022-05-17T08:58:55.798582Z",
     "shell.execute_reply": "2022-05-17T08:58:55.799599Z"
    },
    "papermill": {
     "duration": 0.153922,
     "end_time": "2022-05-17T08:58:55.799961",
     "exception": false,
     "start_time": "2022-05-17T08:58:55.646039",
     "status": "completed"
    },
    "tags": []
   },
   "outputs": [],
   "source": [
    "X_train, X_test, y_train, y_test = split(X, y, test_size=0.33)"
   ]
  },
  {
   "cell_type": "markdown",
   "id": "encouraging-dryer",
   "metadata": {
    "papermill": {
     "duration": 0.141093,
     "end_time": "2022-05-17T08:58:56.059518",
     "exception": false,
     "start_time": "2022-05-17T08:58:55.918425",
     "status": "completed"
    },
    "tags": []
   },
   "source": [
    "##### Encoding"
   ]
  },
  {
   "cell_type": "code",
   "execution_count": 42,
   "id": "amended-formula",
   "metadata": {
    "execution": {
     "iopub.execute_input": "2022-05-17T08:58:56.350814Z",
     "iopub.status.busy": "2022-05-17T08:58:56.349485Z",
     "iopub.status.idle": "2022-05-17T08:58:56.356738Z",
     "shell.execute_reply": "2022-05-17T08:58:56.355619Z"
    },
    "papermill": {
     "duration": 0.174576,
     "end_time": "2022-05-17T08:58:56.357042",
     "exception": false,
     "start_time": "2022-05-17T08:58:56.182466",
     "status": "completed"
    },
    "tags": []
   },
   "outputs": [],
   "source": [
    "target_encoder = LabelEncoder() \n",
    "y_train = pd.Series(target_encoder.fit_transform(y_train)) \n",
    "y_test = pd.Series(target_encoder.transform(y_test))"
   ]
  },
  {
   "cell_type": "markdown",
   "id": "junior-ukraine",
   "metadata": {
    "papermill": {
     "duration": 0.130042,
     "end_time": "2022-05-17T08:58:56.609308",
     "exception": false,
     "start_time": "2022-05-17T08:58:56.479266",
     "status": "completed"
    },
    "tags": []
   },
   "source": [
    "## Modelling"
   ]
  },
  {
   "cell_type": "markdown",
   "id": "healthy-thompson",
   "metadata": {
    "papermill": {
     "duration": 0.144843,
     "end_time": "2022-05-17T08:58:56.879383",
     "exception": false,
     "start_time": "2022-05-17T08:58:56.734540",
     "status": "completed"
    },
    "tags": []
   },
   "source": [
    "### Model building"
   ]
  },
  {
   "cell_type": "markdown",
   "id": "opposed-trader",
   "metadata": {
    "papermill": {
     "duration": 0.143034,
     "end_time": "2022-05-17T08:58:57.142310",
     "exception": false,
     "start_time": "2022-05-17T08:58:56.999276",
     "status": "completed"
    },
    "tags": []
   },
   "source": [
    "#### Pipeline building"
   ]
  },
  {
   "cell_type": "markdown",
   "id": "figured-journalism",
   "metadata": {
    "papermill": {
     "duration": 0.132557,
     "end_time": "2022-05-17T08:58:57.396688",
     "exception": false,
     "start_time": "2022-05-17T08:58:57.264131",
     "status": "completed"
    },
    "tags": []
   },
   "source": [
    "##### Select the categorical and numerical columns"
   ]
  },
  {
   "cell_type": "code",
   "execution_count": 43,
   "id": "noble-catalyst",
   "metadata": {
    "execution": {
     "iopub.execute_input": "2022-05-17T08:58:57.721687Z",
     "iopub.status.busy": "2022-05-17T08:58:57.720224Z",
     "iopub.status.idle": "2022-05-17T08:58:57.727830Z",
     "shell.execute_reply": "2022-05-17T08:58:57.726384Z"
    },
    "papermill": {
     "duration": 0.200792,
     "end_time": "2022-05-17T08:58:57.728144",
     "exception": false,
     "start_time": "2022-05-17T08:58:57.527352",
     "status": "completed"
    },
    "tags": []
   },
   "outputs": [],
   "source": [
    "cat_selector = make_column_selector(dtype_include=object)"
   ]
  },
  {
   "cell_type": "code",
   "execution_count": 44,
   "id": "extensive-diploma",
   "metadata": {
    "execution": {
     "iopub.execute_input": "2022-05-17T08:58:58.043551Z",
     "iopub.status.busy": "2022-05-17T08:58:58.042490Z",
     "iopub.status.idle": "2022-05-17T08:58:58.049396Z",
     "shell.execute_reply": "2022-05-17T08:58:58.048330Z"
    },
    "papermill": {
     "duration": 0.156526,
     "end_time": "2022-05-17T08:58:58.049670",
     "exception": false,
     "start_time": "2022-05-17T08:58:57.893144",
     "status": "completed"
    },
    "tags": []
   },
   "outputs": [],
   "source": [
    "num_selector = make_column_selector(dtype_include=np.number)"
   ]
  },
  {
   "cell_type": "markdown",
   "id": "competent-republican",
   "metadata": {
    "papermill": {
     "duration": 0.140943,
     "end_time": "2022-05-17T08:58:58.307912",
     "exception": false,
     "start_time": "2022-05-17T08:58:58.166969",
     "status": "completed"
    },
    "tags": []
   },
   "source": [
    "##### For models based on tree"
   ]
  },
  {
   "cell_type": "code",
   "execution_count": 45,
   "id": "destroyed-priority",
   "metadata": {
    "execution": {
     "iopub.execute_input": "2022-05-17T08:58:58.586424Z",
     "iopub.status.busy": "2022-05-17T08:58:58.582604Z",
     "iopub.status.idle": "2022-05-17T08:58:58.590982Z",
     "shell.execute_reply": "2022-05-17T08:58:58.590237Z"
    },
    "papermill": {
     "duration": 0.155447,
     "end_time": "2022-05-17T08:58:58.591185",
     "exception": false,
     "start_time": "2022-05-17T08:58:58.435738",
     "status": "completed"
    },
    "tags": []
   },
   "outputs": [],
   "source": [
    "cat_tree_processor = make_pipeline(SimpleImputer(strategy='most_frequent'), OrdinalEncoder(handle_unknown='use_encoded_value', unknown_value=-1), Decorrelator(threshold_corr))"
   ]
  },
  {
   "cell_type": "code",
   "execution_count": 46,
   "id": "orange-charm",
   "metadata": {
    "execution": {
     "iopub.execute_input": "2022-05-17T08:58:58.849645Z",
     "iopub.status.busy": "2022-05-17T08:58:58.848513Z",
     "iopub.status.idle": "2022-05-17T08:58:58.853510Z",
     "shell.execute_reply": "2022-05-17T08:58:58.854059Z"
    },
    "papermill": {
     "duration": 0.146975,
     "end_time": "2022-05-17T08:58:58.854344",
     "exception": false,
     "start_time": "2022-05-17T08:58:58.707369",
     "status": "completed"
    },
    "tags": []
   },
   "outputs": [],
   "source": [
    "num_tree_processor = make_pipeline(SimpleImputer(strategy='mean', add_indicator=True), Decorrelator(threshold_corr))"
   ]
  },
  {
   "cell_type": "code",
   "execution_count": 47,
   "id": "elegant-poker",
   "metadata": {
    "execution": {
     "iopub.execute_input": "2022-05-17T08:58:59.120235Z",
     "iopub.status.busy": "2022-05-17T08:58:59.118923Z",
     "iopub.status.idle": "2022-05-17T08:58:59.125006Z",
     "shell.execute_reply": "2022-05-17T08:58:59.129411Z"
    },
    "papermill": {
     "duration": 0.162122,
     "end_time": "2022-05-17T08:58:59.129947",
     "exception": false,
     "start_time": "2022-05-17T08:58:58.967825",
     "status": "completed"
    },
    "tags": []
   },
   "outputs": [],
   "source": [
    "tree_preprocessor = make_column_transformer((num_tree_processor, num_selector), (cat_tree_processor, cat_selector))"
   ]
  },
  {
   "cell_type": "markdown",
   "id": "scenic-bachelor",
   "metadata": {
    "papermill": {
     "duration": 0.140004,
     "end_time": "2022-05-17T08:58:59.388721",
     "exception": false,
     "start_time": "2022-05-17T08:58:59.248717",
     "status": "completed"
    },
    "tags": []
   },
   "source": [
    "##### For models not based on tree"
   ]
  },
  {
   "cell_type": "code",
   "execution_count": 48,
   "id": "electoral-universe",
   "metadata": {
    "execution": {
     "iopub.execute_input": "2022-05-17T08:58:59.655430Z",
     "iopub.status.busy": "2022-05-17T08:58:59.654456Z",
     "iopub.status.idle": "2022-05-17T08:58:59.661210Z",
     "shell.execute_reply": "2022-05-17T08:58:59.659951Z"
    },
    "papermill": {
     "duration": 0.141706,
     "end_time": "2022-05-17T08:58:59.661502",
     "exception": false,
     "start_time": "2022-05-17T08:58:59.519796",
     "status": "completed"
    },
    "tags": []
   },
   "outputs": [],
   "source": [
    "cat_ntree_processor = make_pipeline(SimpleImputer(strategy='most_frequent'), OneHotEncoder(handle_unknown='ignore', sparse=False), Decorrelator(threshold_corr))"
   ]
  },
  {
   "cell_type": "code",
   "execution_count": 49,
   "id": "lined-swedish",
   "metadata": {
    "execution": {
     "iopub.execute_input": "2022-05-17T08:58:59.938411Z",
     "iopub.status.busy": "2022-05-17T08:58:59.937365Z",
     "iopub.status.idle": "2022-05-17T08:58:59.944182Z",
     "shell.execute_reply": "2022-05-17T08:58:59.942930Z"
    },
    "papermill": {
     "duration": 0.163091,
     "end_time": "2022-05-17T08:58:59.944541",
     "exception": false,
     "start_time": "2022-05-17T08:58:59.781450",
     "status": "completed"
    },
    "tags": []
   },
   "outputs": [],
   "source": [
    "num_ntree_processor = make_pipeline(SimpleImputer(strategy='mean', add_indicator=True), StandardScaler(), Decorrelator(threshold_corr))"
   ]
  },
  {
   "cell_type": "code",
   "execution_count": 50,
   "id": "animated-wallet",
   "metadata": {
    "execution": {
     "iopub.execute_input": "2022-05-17T08:59:00.231844Z",
     "iopub.status.busy": "2022-05-17T08:59:00.230206Z",
     "iopub.status.idle": "2022-05-17T08:59:00.237635Z",
     "shell.execute_reply": "2022-05-17T08:59:00.236769Z"
    },
    "papermill": {
     "duration": 0.162105,
     "end_time": "2022-05-17T08:59:00.237932",
     "exception": false,
     "start_time": "2022-05-17T08:59:00.075827",
     "status": "completed"
    },
    "tags": []
   },
   "outputs": [],
   "source": [
    "ntree_preprocessor = make_column_transformer((num_ntree_processor, num_selector), (cat_ntree_processor, cat_selector))"
   ]
  },
  {
   "cell_type": "markdown",
   "id": "neural-poultry",
   "metadata": {
    "papermill": {
     "duration": 0.14623,
     "end_time": "2022-05-17T08:59:00.504786",
     "exception": false,
     "start_time": "2022-05-17T08:59:00.358556",
     "status": "completed"
    },
    "tags": []
   },
   "source": [
    "##### Level-0 models"
   ]
  },
  {
   "cell_type": "code",
   "execution_count": 51,
   "id": "compressed-voluntary",
   "metadata": {
    "execution": {
     "iopub.execute_input": "2022-05-17T08:59:00.767302Z",
     "iopub.status.busy": "2022-05-17T08:59:00.766383Z",
     "iopub.status.idle": "2022-05-17T08:59:00.771794Z",
     "shell.execute_reply": "2022-05-17T08:59:00.772608Z"
    },
    "papermill": {
     "duration": 0.150936,
     "end_time": "2022-05-17T08:59:00.773003",
     "exception": false,
     "start_time": "2022-05-17T08:59:00.622067",
     "status": "completed"
    },
    "tags": []
   },
   "outputs": [],
   "source": [
    "level_0 = [ \n",
    "          ('GPCL', make_pipeline(ntree_preprocessor, GaussianProcessClassifier(kernel = ConstantKernel() * DotProduct() + ConstantKernel() + WhiteKernel()))), \n",
    "          ('GPCR', make_pipeline(ntree_preprocessor, GaussianProcessClassifier(kernel = ConstantKernel() * RBF() + ConstantKernel() + WhiteKernel()))), \n",
    "          ('DTC', make_pipeline(tree_preprocessor, DecisionTreeClassifier(max_depth=5))), \n",
    "          ('RFC', make_pipeline(tree_preprocessor, RandomForestClassifier(max_depth=5, n_estimators=10, max_features='auto'))), \n",
    "          ('ABC', make_pipeline(tree_preprocessor, AdaBoostClassifier())), \n",
    "          ('HGBC', make_pipeline(tree_preprocessor, HistGradientBoostingClassifier(early_stopping=True))), \n",
    "          ('LOGR', make_pipeline(ntree_preprocessor, LogisticRegression())), \n",
    "          ('LOGRCV', make_pipeline(ntree_preprocessor, LogisticRegressionCV(cv=5))), \n",
    "          ('MLPC', make_pipeline(ntree_preprocessor, MLPClassifier(hidden_layer_sizes = (layer_size, layer_size,), max_iter=1000, early_stopping=True))), \n",
    "          ('KNC', make_pipeline(ntree_preprocessor, KNeighborsClassifier(n_neighbors=len(y.unique())))), \n",
    "          ('GNB', make_pipeline(ntree_preprocessor, GaussianNB())), \n",
    "          ]"
   ]
  },
  {
   "cell_type": "markdown",
   "id": "miniature-wichita",
   "metadata": {
    "papermill": {
     "duration": 0.137843,
     "end_time": "2022-05-17T08:59:01.029161",
     "exception": false,
     "start_time": "2022-05-17T08:59:00.891318",
     "status": "completed"
    },
    "tags": []
   },
   "source": [
    "##### Level-1 model"
   ]
  },
  {
   "cell_type": "code",
   "execution_count": 52,
   "id": "prepared-apparatus",
   "metadata": {
    "execution": {
     "iopub.execute_input": "2022-05-17T08:59:01.299616Z",
     "iopub.status.busy": "2022-05-17T08:59:01.298102Z",
     "iopub.status.idle": "2022-05-17T08:59:01.304632Z",
     "shell.execute_reply": "2022-05-17T08:59:01.305492Z"
    },
    "papermill": {
     "duration": 0.15403,
     "end_time": "2022-05-17T08:59:01.305816",
     "exception": false,
     "start_time": "2022-05-17T08:59:01.151786",
     "status": "completed"
    },
    "tags": []
   },
   "outputs": [],
   "source": [
    "level_1 = LogisticRegressionCV(cv=5, solver='saga', penalty='elasticnet', l1_ratios=[0.1, 0.5, 0.9])"
   ]
  },
  {
   "cell_type": "markdown",
   "id": "optimum-commerce",
   "metadata": {
    "papermill": {
     "duration": 0.148323,
     "end_time": "2022-05-17T08:59:01.579109",
     "exception": false,
     "start_time": "2022-05-17T08:59:01.430786",
     "status": "completed"
    },
    "tags": []
   },
   "source": [
    "##### Stacking for classification"
   ]
  },
  {
   "cell_type": "code",
   "execution_count": 53,
   "id": "polished-representative",
   "metadata": {
    "execution": {
     "iopub.execute_input": "2022-05-17T08:59:01.852904Z",
     "iopub.status.busy": "2022-05-17T08:59:01.850693Z",
     "iopub.status.idle": "2022-05-17T08:59:01.857540Z",
     "shell.execute_reply": "2022-05-17T08:59:01.856052Z"
    },
    "papermill": {
     "duration": 0.158913,
     "end_time": "2022-05-17T08:59:01.858105",
     "exception": false,
     "start_time": "2022-05-17T08:59:01.699192",
     "status": "completed"
    },
    "tags": []
   },
   "outputs": [],
   "source": [
    "model = StackingClassifier(level_0, final_estimator=level_1, n_jobs=-1)"
   ]
  },
  {
   "cell_type": "markdown",
   "id": "polished-advantage",
   "metadata": {
    "papermill": {
     "duration": 0.143277,
     "end_time": "2022-05-17T08:59:02.119545",
     "exception": false,
     "start_time": "2022-05-17T08:59:01.976268",
     "status": "completed"
    },
    "tags": []
   },
   "source": [
    "### Model fitting"
   ]
  },
  {
   "cell_type": "code",
   "execution_count": 54,
   "id": "insured-ceiling",
   "metadata": {
    "execution": {
     "iopub.execute_input": "2022-05-17T08:59:02.399658Z",
     "iopub.status.busy": "2022-05-17T08:59:02.398402Z",
     "iopub.status.idle": "2022-05-17T08:59:23.336859Z",
     "shell.execute_reply": "2022-05-17T08:59:23.337427Z"
    },
    "papermill": {
     "duration": 21.090577,
     "end_time": "2022-05-17T08:59:23.337656",
     "exception": false,
     "start_time": "2022-05-17T08:59:02.247079",
     "status": "completed"
    },
    "tags": []
   },
   "outputs": [
    {
     "name": "stdout",
     "output_type": "stream",
     "text": [
      "CPU times: user 1.46 s, sys: 90.5 ms, total: 1.55 s\n",
      "Wall time: 18.8 s\n"
     ]
    },
    {
     "data": {
      "text/html": [
       "<style>#sk-container-id-1 {color: black;background-color: white;}#sk-container-id-1 pre{padding: 0;}#sk-container-id-1 div.sk-toggleable {background-color: white;}#sk-container-id-1 label.sk-toggleable__label {cursor: pointer;display: block;width: 100%;margin-bottom: 0;padding: 0.3em;box-sizing: border-box;text-align: center;}#sk-container-id-1 label.sk-toggleable__label-arrow:before {content: \"▸\";float: left;margin-right: 0.25em;color: #696969;}#sk-container-id-1 label.sk-toggleable__label-arrow:hover:before {color: black;}#sk-container-id-1 div.sk-estimator:hover label.sk-toggleable__label-arrow:before {color: black;}#sk-container-id-1 div.sk-toggleable__content {max-height: 0;max-width: 0;overflow: hidden;text-align: left;background-color: #f0f8ff;}#sk-container-id-1 div.sk-toggleable__content pre {margin: 0.2em;color: black;border-radius: 0.25em;background-color: #f0f8ff;}#sk-container-id-1 input.sk-toggleable__control:checked~div.sk-toggleable__content {max-height: 200px;max-width: 100%;overflow: auto;}#sk-container-id-1 input.sk-toggleable__control:checked~label.sk-toggleable__label-arrow:before {content: \"▾\";}#sk-container-id-1 div.sk-estimator input.sk-toggleable__control:checked~label.sk-toggleable__label {background-color: #d4ebff;}#sk-container-id-1 div.sk-label input.sk-toggleable__control:checked~label.sk-toggleable__label {background-color: #d4ebff;}#sk-container-id-1 input.sk-hidden--visually {border: 0;clip: rect(1px 1px 1px 1px);clip: rect(1px, 1px, 1px, 1px);height: 1px;margin: -1px;overflow: hidden;padding: 0;position: absolute;width: 1px;}#sk-container-id-1 div.sk-estimator {font-family: monospace;background-color: #f0f8ff;border: 1px dotted black;border-radius: 0.25em;box-sizing: border-box;margin-bottom: 0.5em;}#sk-container-id-1 div.sk-estimator:hover {background-color: #d4ebff;}#sk-container-id-1 div.sk-parallel-item::after {content: \"\";width: 100%;border-bottom: 1px solid gray;flex-grow: 1;}#sk-container-id-1 div.sk-label:hover label.sk-toggleable__label {background-color: #d4ebff;}#sk-container-id-1 div.sk-serial::before {content: \"\";position: absolute;border-left: 1px solid gray;box-sizing: border-box;top: 0;bottom: 0;left: 50%;z-index: 0;}#sk-container-id-1 div.sk-serial {display: flex;flex-direction: column;align-items: center;background-color: white;padding-right: 0.2em;padding-left: 0.2em;position: relative;}#sk-container-id-1 div.sk-item {position: relative;z-index: 1;}#sk-container-id-1 div.sk-parallel {display: flex;align-items: stretch;justify-content: center;background-color: white;position: relative;}#sk-container-id-1 div.sk-item::before, #sk-container-id-1 div.sk-parallel-item::before {content: \"\";position: absolute;border-left: 1px solid gray;box-sizing: border-box;top: 0;bottom: 0;left: 50%;z-index: -1;}#sk-container-id-1 div.sk-parallel-item {display: flex;flex-direction: column;z-index: 1;position: relative;background-color: white;}#sk-container-id-1 div.sk-parallel-item:first-child::after {align-self: flex-end;width: 50%;}#sk-container-id-1 div.sk-parallel-item:last-child::after {align-self: flex-start;width: 50%;}#sk-container-id-1 div.sk-parallel-item:only-child::after {width: 0;}#sk-container-id-1 div.sk-dashed-wrapped {border: 1px dashed gray;margin: 0 0.4em 0.5em 0.4em;box-sizing: border-box;padding-bottom: 0.4em;background-color: white;}#sk-container-id-1 div.sk-label label {font-family: monospace;font-weight: bold;display: inline-block;line-height: 1.2em;}#sk-container-id-1 div.sk-label-container {text-align: center;}#sk-container-id-1 div.sk-container {/* jupyter's `normalize.less` sets `[hidden] { display: none; }` but bootstrap.min.css set `[hidden] { display: none !important; }` so we also need the `!important` here to be able to override the default hidden behavior on the sphinx rendered scikit-learn.org. See: https://github.com/scikit-learn/scikit-learn/issues/21755 */display: inline-block !important;position: relative;}#sk-container-id-1 div.sk-text-repr-fallback {display: none;}</style><div id=\"sk-container-id-1\" class=\"sk-top-container\"><div class=\"sk-text-repr-fallback\"><pre>StackingClassifier(estimators=[(&#x27;GPCL&#x27;,\n",
       "                                Pipeline(steps=[(&#x27;columntransformer&#x27;,\n",
       "                                                 ColumnTransformer(transformers=[(&#x27;pipeline-1&#x27;,\n",
       "                                                                                  Pipeline(steps=[(&#x27;simpleimputer&#x27;,\n",
       "                                                                                                   SimpleImputer(add_indicator=True)),\n",
       "                                                                                                  (&#x27;standardscaler&#x27;,\n",
       "                                                                                                   StandardScaler()),\n",
       "                                                                                                  (&#x27;decorrelator&#x27;,\n",
       "                                                                                                   Decorrelator(threshold=0.95))]),\n",
       "                                                                                  &lt;sklearn.compose._column_transformer.make_column_selector object at 0x7fdfd0f73...\n",
       "                                                                                                   SimpleImputer(strategy=&#x27;most_frequent&#x27;)),\n",
       "                                                                                                  (&#x27;onehotencoder&#x27;,\n",
       "                                                                                                   OneHotEncoder(handle_unknown=&#x27;ignore&#x27;,\n",
       "                                                                                                                 sparse=False)),\n",
       "                                                                                                  (&#x27;decorrelator&#x27;,\n",
       "                                                                                                   Decorrelator(threshold=0.95))]),\n",
       "                                                                                  &lt;sklearn.compose._column_transformer.make_column_selector object at 0x7fdfd0f024c0&gt;)])),\n",
       "                                                (&#x27;gaussiannb&#x27;,\n",
       "                                                 GaussianNB())]))],\n",
       "                   final_estimator=LogisticRegressionCV(cv=5,\n",
       "                                                        l1_ratios=[0.1, 0.5,\n",
       "                                                                   0.9],\n",
       "                                                        penalty=&#x27;elasticnet&#x27;,\n",
       "                                                        solver=&#x27;saga&#x27;),\n",
       "                   n_jobs=-1)</pre><b>In a Jupyter environment, please rerun this cell to show the HTML representation or trust the notebook. <br />On GitHub, the HTML representation is unable to render, please try loading this page with nbviewer.org.</b></div><div class=\"sk-container\" hidden><div class=\"sk-item sk-dashed-wrapped\"><div class=\"sk-label-container\"><div class=\"sk-label sk-toggleable\"><input class=\"sk-toggleable__control sk-hidden--visually\" id=\"sk-estimator-id-1\" type=\"checkbox\" ><label for=\"sk-estimator-id-1\" class=\"sk-toggleable__label sk-toggleable__label-arrow\">StackingClassifier</label><div class=\"sk-toggleable__content\"><pre>StackingClassifier(estimators=[(&#x27;GPCL&#x27;,\n",
       "                                Pipeline(steps=[(&#x27;columntransformer&#x27;,\n",
       "                                                 ColumnTransformer(transformers=[(&#x27;pipeline-1&#x27;,\n",
       "                                                                                  Pipeline(steps=[(&#x27;simpleimputer&#x27;,\n",
       "                                                                                                   SimpleImputer(add_indicator=True)),\n",
       "                                                                                                  (&#x27;standardscaler&#x27;,\n",
       "                                                                                                   StandardScaler()),\n",
       "                                                                                                  (&#x27;decorrelator&#x27;,\n",
       "                                                                                                   Decorrelator(threshold=0.95))]),\n",
       "                                                                                  &lt;sklearn.compose._column_transformer.make_column_selector object at 0x7fdfd0f73...\n",
       "                                                                                                   SimpleImputer(strategy=&#x27;most_frequent&#x27;)),\n",
       "                                                                                                  (&#x27;onehotencoder&#x27;,\n",
       "                                                                                                   OneHotEncoder(handle_unknown=&#x27;ignore&#x27;,\n",
       "                                                                                                                 sparse=False)),\n",
       "                                                                                                  (&#x27;decorrelator&#x27;,\n",
       "                                                                                                   Decorrelator(threshold=0.95))]),\n",
       "                                                                                  &lt;sklearn.compose._column_transformer.make_column_selector object at 0x7fdfd0f024c0&gt;)])),\n",
       "                                                (&#x27;gaussiannb&#x27;,\n",
       "                                                 GaussianNB())]))],\n",
       "                   final_estimator=LogisticRegressionCV(cv=5,\n",
       "                                                        l1_ratios=[0.1, 0.5,\n",
       "                                                                   0.9],\n",
       "                                                        penalty=&#x27;elasticnet&#x27;,\n",
       "                                                        solver=&#x27;saga&#x27;),\n",
       "                   n_jobs=-1)</pre></div></div></div><div class=\"sk-serial\"><div class=\"sk-item\"><div class=\"sk-parallel\"><div class=\"sk-parallel-item\"><div class=\"sk-item\"><div class=\"sk-label-container\"><div class=\"sk-label sk-toggleable\"><label>GPCL</label></div></div><div class=\"sk-serial\"><div class=\"sk-item\"><div class=\"sk-serial\"><div class=\"sk-item sk-dashed-wrapped\"><div class=\"sk-label-container\"><div class=\"sk-label sk-toggleable\"><input class=\"sk-toggleable__control sk-hidden--visually\" id=\"sk-estimator-id-2\" type=\"checkbox\" ><label for=\"sk-estimator-id-2\" class=\"sk-toggleable__label sk-toggleable__label-arrow\">columntransformer: ColumnTransformer</label><div class=\"sk-toggleable__content\"><pre>ColumnTransformer(transformers=[(&#x27;pipeline-1&#x27;,\n",
       "                                 Pipeline(steps=[(&#x27;simpleimputer&#x27;,\n",
       "                                                  SimpleImputer(add_indicator=True)),\n",
       "                                                 (&#x27;standardscaler&#x27;,\n",
       "                                                  StandardScaler()),\n",
       "                                                 (&#x27;decorrelator&#x27;,\n",
       "                                                  Decorrelator(threshold=0.95))]),\n",
       "                                 &lt;sklearn.compose._column_transformer.make_column_selector object at 0x7fdfd0f73cd0&gt;),\n",
       "                                (&#x27;pipeline-2&#x27;,\n",
       "                                 Pipeline(steps=[(&#x27;simpleimputer&#x27;,\n",
       "                                                  SimpleImputer(strategy=&#x27;most_frequent&#x27;)),\n",
       "                                                 (&#x27;onehotencoder&#x27;,\n",
       "                                                  OneHotEncoder(handle_unknown=&#x27;ignore&#x27;,\n",
       "                                                                sparse=False)),\n",
       "                                                 (&#x27;decorrelator&#x27;,\n",
       "                                                  Decorrelator(threshold=0.95))]),\n",
       "                                 &lt;sklearn.compose._column_transformer.make_column_selector object at 0x7fdfd0f024c0&gt;)])</pre></div></div></div><div class=\"sk-parallel\"><div class=\"sk-parallel-item\"><div class=\"sk-item\"><div class=\"sk-label-container\"><div class=\"sk-label sk-toggleable\"><input class=\"sk-toggleable__control sk-hidden--visually\" id=\"sk-estimator-id-3\" type=\"checkbox\" ><label for=\"sk-estimator-id-3\" class=\"sk-toggleable__label sk-toggleable__label-arrow\">pipeline-1</label><div class=\"sk-toggleable__content\"><pre>&lt;sklearn.compose._column_transformer.make_column_selector object at 0x7fdfd0f73cd0&gt;</pre></div></div></div><div class=\"sk-serial\"><div class=\"sk-item\"><div class=\"sk-serial\"><div class=\"sk-item\"><div class=\"sk-estimator sk-toggleable\"><input class=\"sk-toggleable__control sk-hidden--visually\" id=\"sk-estimator-id-4\" type=\"checkbox\" ><label for=\"sk-estimator-id-4\" class=\"sk-toggleable__label sk-toggleable__label-arrow\">SimpleImputer</label><div class=\"sk-toggleable__content\"><pre>SimpleImputer(add_indicator=True)</pre></div></div></div><div class=\"sk-item\"><div class=\"sk-estimator sk-toggleable\"><input class=\"sk-toggleable__control sk-hidden--visually\" id=\"sk-estimator-id-5\" type=\"checkbox\" ><label for=\"sk-estimator-id-5\" class=\"sk-toggleable__label sk-toggleable__label-arrow\">StandardScaler</label><div class=\"sk-toggleable__content\"><pre>StandardScaler()</pre></div></div></div><div class=\"sk-item\"><div class=\"sk-estimator sk-toggleable\"><input class=\"sk-toggleable__control sk-hidden--visually\" id=\"sk-estimator-id-6\" type=\"checkbox\" ><label for=\"sk-estimator-id-6\" class=\"sk-toggleable__label sk-toggleable__label-arrow\">Decorrelator</label><div class=\"sk-toggleable__content\"><pre>Decorrelator(threshold=0.95)</pre></div></div></div></div></div></div></div></div><div class=\"sk-parallel-item\"><div class=\"sk-item\"><div class=\"sk-label-container\"><div class=\"sk-label sk-toggleable\"><input class=\"sk-toggleable__control sk-hidden--visually\" id=\"sk-estimator-id-7\" type=\"checkbox\" ><label for=\"sk-estimator-id-7\" class=\"sk-toggleable__label sk-toggleable__label-arrow\">pipeline-2</label><div class=\"sk-toggleable__content\"><pre>&lt;sklearn.compose._column_transformer.make_column_selector object at 0x7fdfd0f024c0&gt;</pre></div></div></div><div class=\"sk-serial\"><div class=\"sk-item\"><div class=\"sk-serial\"><div class=\"sk-item\"><div class=\"sk-estimator sk-toggleable\"><input class=\"sk-toggleable__control sk-hidden--visually\" id=\"sk-estimator-id-8\" type=\"checkbox\" ><label for=\"sk-estimator-id-8\" class=\"sk-toggleable__label sk-toggleable__label-arrow\">SimpleImputer</label><div class=\"sk-toggleable__content\"><pre>SimpleImputer(strategy=&#x27;most_frequent&#x27;)</pre></div></div></div><div class=\"sk-item\"><div class=\"sk-estimator sk-toggleable\"><input class=\"sk-toggleable__control sk-hidden--visually\" id=\"sk-estimator-id-9\" type=\"checkbox\" ><label for=\"sk-estimator-id-9\" class=\"sk-toggleable__label sk-toggleable__label-arrow\">OneHotEncoder</label><div class=\"sk-toggleable__content\"><pre>OneHotEncoder(handle_unknown=&#x27;ignore&#x27;, sparse=False)</pre></div></div></div><div class=\"sk-item\"><div class=\"sk-estimator sk-toggleable\"><input class=\"sk-toggleable__control sk-hidden--visually\" id=\"sk-estimator-id-10\" type=\"checkbox\" ><label for=\"sk-estimator-id-10\" class=\"sk-toggleable__label sk-toggleable__label-arrow\">Decorrelator</label><div class=\"sk-toggleable__content\"><pre>Decorrelator(threshold=0.95)</pre></div></div></div></div></div></div></div></div></div></div><div class=\"sk-item\"><div class=\"sk-estimator sk-toggleable\"><input class=\"sk-toggleable__control sk-hidden--visually\" id=\"sk-estimator-id-11\" type=\"checkbox\" ><label for=\"sk-estimator-id-11\" class=\"sk-toggleable__label sk-toggleable__label-arrow\">GaussianProcessClassifier</label><div class=\"sk-toggleable__content\"><pre>GaussianProcessClassifier(kernel=1**2 * DotProduct(sigma_0=1) + 1**2 + WhiteKernel(noise_level=1))</pre></div></div></div></div></div></div></div></div><div class=\"sk-parallel-item\"><div class=\"sk-item\"><div class=\"sk-label-container\"><div class=\"sk-label sk-toggleable\"><label>GPCR</label></div></div><div class=\"sk-serial\"><div class=\"sk-item\"><div class=\"sk-serial\"><div class=\"sk-item sk-dashed-wrapped\"><div class=\"sk-label-container\"><div class=\"sk-label sk-toggleable\"><input class=\"sk-toggleable__control sk-hidden--visually\" id=\"sk-estimator-id-12\" type=\"checkbox\" ><label for=\"sk-estimator-id-12\" class=\"sk-toggleable__label sk-toggleable__label-arrow\">columntransformer: ColumnTransformer</label><div class=\"sk-toggleable__content\"><pre>ColumnTransformer(transformers=[(&#x27;pipeline-1&#x27;,\n",
       "                                 Pipeline(steps=[(&#x27;simpleimputer&#x27;,\n",
       "                                                  SimpleImputer(add_indicator=True)),\n",
       "                                                 (&#x27;standardscaler&#x27;,\n",
       "                                                  StandardScaler()),\n",
       "                                                 (&#x27;decorrelator&#x27;,\n",
       "                                                  Decorrelator(threshold=0.95))]),\n",
       "                                 &lt;sklearn.compose._column_transformer.make_column_selector object at 0x7fdfd0f73cd0&gt;),\n",
       "                                (&#x27;pipeline-2&#x27;,\n",
       "                                 Pipeline(steps=[(&#x27;simpleimputer&#x27;,\n",
       "                                                  SimpleImputer(strategy=&#x27;most_frequent&#x27;)),\n",
       "                                                 (&#x27;onehotencoder&#x27;,\n",
       "                                                  OneHotEncoder(handle_unknown=&#x27;ignore&#x27;,\n",
       "                                                                sparse=False)),\n",
       "                                                 (&#x27;decorrelator&#x27;,\n",
       "                                                  Decorrelator(threshold=0.95))]),\n",
       "                                 &lt;sklearn.compose._column_transformer.make_column_selector object at 0x7fdfd0f024c0&gt;)])</pre></div></div></div><div class=\"sk-parallel\"><div class=\"sk-parallel-item\"><div class=\"sk-item\"><div class=\"sk-label-container\"><div class=\"sk-label sk-toggleable\"><input class=\"sk-toggleable__control sk-hidden--visually\" id=\"sk-estimator-id-13\" type=\"checkbox\" ><label for=\"sk-estimator-id-13\" class=\"sk-toggleable__label sk-toggleable__label-arrow\">pipeline-1</label><div class=\"sk-toggleable__content\"><pre>&lt;sklearn.compose._column_transformer.make_column_selector object at 0x7fdfd0f73cd0&gt;</pre></div></div></div><div class=\"sk-serial\"><div class=\"sk-item\"><div class=\"sk-serial\"><div class=\"sk-item\"><div class=\"sk-estimator sk-toggleable\"><input class=\"sk-toggleable__control sk-hidden--visually\" id=\"sk-estimator-id-14\" type=\"checkbox\" ><label for=\"sk-estimator-id-14\" class=\"sk-toggleable__label sk-toggleable__label-arrow\">SimpleImputer</label><div class=\"sk-toggleable__content\"><pre>SimpleImputer(add_indicator=True)</pre></div></div></div><div class=\"sk-item\"><div class=\"sk-estimator sk-toggleable\"><input class=\"sk-toggleable__control sk-hidden--visually\" id=\"sk-estimator-id-15\" type=\"checkbox\" ><label for=\"sk-estimator-id-15\" class=\"sk-toggleable__label sk-toggleable__label-arrow\">StandardScaler</label><div class=\"sk-toggleable__content\"><pre>StandardScaler()</pre></div></div></div><div class=\"sk-item\"><div class=\"sk-estimator sk-toggleable\"><input class=\"sk-toggleable__control sk-hidden--visually\" id=\"sk-estimator-id-16\" type=\"checkbox\" ><label for=\"sk-estimator-id-16\" class=\"sk-toggleable__label sk-toggleable__label-arrow\">Decorrelator</label><div class=\"sk-toggleable__content\"><pre>Decorrelator(threshold=0.95)</pre></div></div></div></div></div></div></div></div><div class=\"sk-parallel-item\"><div class=\"sk-item\"><div class=\"sk-label-container\"><div class=\"sk-label sk-toggleable\"><input class=\"sk-toggleable__control sk-hidden--visually\" id=\"sk-estimator-id-17\" type=\"checkbox\" ><label for=\"sk-estimator-id-17\" class=\"sk-toggleable__label sk-toggleable__label-arrow\">pipeline-2</label><div class=\"sk-toggleable__content\"><pre>&lt;sklearn.compose._column_transformer.make_column_selector object at 0x7fdfd0f024c0&gt;</pre></div></div></div><div class=\"sk-serial\"><div class=\"sk-item\"><div class=\"sk-serial\"><div class=\"sk-item\"><div class=\"sk-estimator sk-toggleable\"><input class=\"sk-toggleable__control sk-hidden--visually\" id=\"sk-estimator-id-18\" type=\"checkbox\" ><label for=\"sk-estimator-id-18\" class=\"sk-toggleable__label sk-toggleable__label-arrow\">SimpleImputer</label><div class=\"sk-toggleable__content\"><pre>SimpleImputer(strategy=&#x27;most_frequent&#x27;)</pre></div></div></div><div class=\"sk-item\"><div class=\"sk-estimator sk-toggleable\"><input class=\"sk-toggleable__control sk-hidden--visually\" id=\"sk-estimator-id-19\" type=\"checkbox\" ><label for=\"sk-estimator-id-19\" class=\"sk-toggleable__label sk-toggleable__label-arrow\">OneHotEncoder</label><div class=\"sk-toggleable__content\"><pre>OneHotEncoder(handle_unknown=&#x27;ignore&#x27;, sparse=False)</pre></div></div></div><div class=\"sk-item\"><div class=\"sk-estimator sk-toggleable\"><input class=\"sk-toggleable__control sk-hidden--visually\" id=\"sk-estimator-id-20\" type=\"checkbox\" ><label for=\"sk-estimator-id-20\" class=\"sk-toggleable__label sk-toggleable__label-arrow\">Decorrelator</label><div class=\"sk-toggleable__content\"><pre>Decorrelator(threshold=0.95)</pre></div></div></div></div></div></div></div></div></div></div><div class=\"sk-item\"><div class=\"sk-estimator sk-toggleable\"><input class=\"sk-toggleable__control sk-hidden--visually\" id=\"sk-estimator-id-21\" type=\"checkbox\" ><label for=\"sk-estimator-id-21\" class=\"sk-toggleable__label sk-toggleable__label-arrow\">GaussianProcessClassifier</label><div class=\"sk-toggleable__content\"><pre>GaussianProcessClassifier(kernel=1**2 * RBF(length_scale=1) + 1**2 + WhiteKernel(noise_level=1))</pre></div></div></div></div></div></div></div></div><div class=\"sk-parallel-item\"><div class=\"sk-item\"><div class=\"sk-label-container\"><div class=\"sk-label sk-toggleable\"><label>DTC</label></div></div><div class=\"sk-serial\"><div class=\"sk-item\"><div class=\"sk-serial\"><div class=\"sk-item sk-dashed-wrapped\"><div class=\"sk-label-container\"><div class=\"sk-label sk-toggleable\"><input class=\"sk-toggleable__control sk-hidden--visually\" id=\"sk-estimator-id-22\" type=\"checkbox\" ><label for=\"sk-estimator-id-22\" class=\"sk-toggleable__label sk-toggleable__label-arrow\">columntransformer: ColumnTransformer</label><div class=\"sk-toggleable__content\"><pre>ColumnTransformer(transformers=[(&#x27;pipeline-1&#x27;,\n",
       "                                 Pipeline(steps=[(&#x27;simpleimputer&#x27;,\n",
       "                                                  SimpleImputer(add_indicator=True)),\n",
       "                                                 (&#x27;decorrelator&#x27;,\n",
       "                                                  Decorrelator(threshold=0.95))]),\n",
       "                                 &lt;sklearn.compose._column_transformer.make_column_selector object at 0x7fdfd0f73cd0&gt;),\n",
       "                                (&#x27;pipeline-2&#x27;,\n",
       "                                 Pipeline(steps=[(&#x27;simpleimputer&#x27;,\n",
       "                                                  SimpleImputer(strategy=&#x27;most_frequent&#x27;)),\n",
       "                                                 (&#x27;ordinalencoder&#x27;,\n",
       "                                                  OrdinalEncoder(handle_unknown=&#x27;use_encoded_value&#x27;,\n",
       "                                                                 unknown_value=-1)),\n",
       "                                                 (&#x27;decorrelator&#x27;,\n",
       "                                                  Decorrelator(threshold=0.95))]),\n",
       "                                 &lt;sklearn.compose._column_transformer.make_column_selector object at 0x7fdfd0f024c0&gt;)])</pre></div></div></div><div class=\"sk-parallel\"><div class=\"sk-parallel-item\"><div class=\"sk-item\"><div class=\"sk-label-container\"><div class=\"sk-label sk-toggleable\"><input class=\"sk-toggleable__control sk-hidden--visually\" id=\"sk-estimator-id-23\" type=\"checkbox\" ><label for=\"sk-estimator-id-23\" class=\"sk-toggleable__label sk-toggleable__label-arrow\">pipeline-1</label><div class=\"sk-toggleable__content\"><pre>&lt;sklearn.compose._column_transformer.make_column_selector object at 0x7fdfd0f73cd0&gt;</pre></div></div></div><div class=\"sk-serial\"><div class=\"sk-item\"><div class=\"sk-serial\"><div class=\"sk-item\"><div class=\"sk-estimator sk-toggleable\"><input class=\"sk-toggleable__control sk-hidden--visually\" id=\"sk-estimator-id-24\" type=\"checkbox\" ><label for=\"sk-estimator-id-24\" class=\"sk-toggleable__label sk-toggleable__label-arrow\">SimpleImputer</label><div class=\"sk-toggleable__content\"><pre>SimpleImputer(add_indicator=True)</pre></div></div></div><div class=\"sk-item\"><div class=\"sk-estimator sk-toggleable\"><input class=\"sk-toggleable__control sk-hidden--visually\" id=\"sk-estimator-id-25\" type=\"checkbox\" ><label for=\"sk-estimator-id-25\" class=\"sk-toggleable__label sk-toggleable__label-arrow\">Decorrelator</label><div class=\"sk-toggleable__content\"><pre>Decorrelator(threshold=0.95)</pre></div></div></div></div></div></div></div></div><div class=\"sk-parallel-item\"><div class=\"sk-item\"><div class=\"sk-label-container\"><div class=\"sk-label sk-toggleable\"><input class=\"sk-toggleable__control sk-hidden--visually\" id=\"sk-estimator-id-26\" type=\"checkbox\" ><label for=\"sk-estimator-id-26\" class=\"sk-toggleable__label sk-toggleable__label-arrow\">pipeline-2</label><div class=\"sk-toggleable__content\"><pre>&lt;sklearn.compose._column_transformer.make_column_selector object at 0x7fdfd0f024c0&gt;</pre></div></div></div><div class=\"sk-serial\"><div class=\"sk-item\"><div class=\"sk-serial\"><div class=\"sk-item\"><div class=\"sk-estimator sk-toggleable\"><input class=\"sk-toggleable__control sk-hidden--visually\" id=\"sk-estimator-id-27\" type=\"checkbox\" ><label for=\"sk-estimator-id-27\" class=\"sk-toggleable__label sk-toggleable__label-arrow\">SimpleImputer</label><div class=\"sk-toggleable__content\"><pre>SimpleImputer(strategy=&#x27;most_frequent&#x27;)</pre></div></div></div><div class=\"sk-item\"><div class=\"sk-estimator sk-toggleable\"><input class=\"sk-toggleable__control sk-hidden--visually\" id=\"sk-estimator-id-28\" type=\"checkbox\" ><label for=\"sk-estimator-id-28\" class=\"sk-toggleable__label sk-toggleable__label-arrow\">OrdinalEncoder</label><div class=\"sk-toggleable__content\"><pre>OrdinalEncoder(handle_unknown=&#x27;use_encoded_value&#x27;, unknown_value=-1)</pre></div></div></div><div class=\"sk-item\"><div class=\"sk-estimator sk-toggleable\"><input class=\"sk-toggleable__control sk-hidden--visually\" id=\"sk-estimator-id-29\" type=\"checkbox\" ><label for=\"sk-estimator-id-29\" class=\"sk-toggleable__label sk-toggleable__label-arrow\">Decorrelator</label><div class=\"sk-toggleable__content\"><pre>Decorrelator(threshold=0.95)</pre></div></div></div></div></div></div></div></div></div></div><div class=\"sk-item\"><div class=\"sk-estimator sk-toggleable\"><input class=\"sk-toggleable__control sk-hidden--visually\" id=\"sk-estimator-id-30\" type=\"checkbox\" ><label for=\"sk-estimator-id-30\" class=\"sk-toggleable__label sk-toggleable__label-arrow\">DecisionTreeClassifier</label><div class=\"sk-toggleable__content\"><pre>DecisionTreeClassifier(max_depth=5)</pre></div></div></div></div></div></div></div></div><div class=\"sk-parallel-item\"><div class=\"sk-item\"><div class=\"sk-label-container\"><div class=\"sk-label sk-toggleable\"><label>RFC</label></div></div><div class=\"sk-serial\"><div class=\"sk-item\"><div class=\"sk-serial\"><div class=\"sk-item sk-dashed-wrapped\"><div class=\"sk-label-container\"><div class=\"sk-label sk-toggleable\"><input class=\"sk-toggleable__control sk-hidden--visually\" id=\"sk-estimator-id-31\" type=\"checkbox\" ><label for=\"sk-estimator-id-31\" class=\"sk-toggleable__label sk-toggleable__label-arrow\">columntransformer: ColumnTransformer</label><div class=\"sk-toggleable__content\"><pre>ColumnTransformer(transformers=[(&#x27;pipeline-1&#x27;,\n",
       "                                 Pipeline(steps=[(&#x27;simpleimputer&#x27;,\n",
       "                                                  SimpleImputer(add_indicator=True)),\n",
       "                                                 (&#x27;decorrelator&#x27;,\n",
       "                                                  Decorrelator(threshold=0.95))]),\n",
       "                                 &lt;sklearn.compose._column_transformer.make_column_selector object at 0x7fdfd0f73cd0&gt;),\n",
       "                                (&#x27;pipeline-2&#x27;,\n",
       "                                 Pipeline(steps=[(&#x27;simpleimputer&#x27;,\n",
       "                                                  SimpleImputer(strategy=&#x27;most_frequent&#x27;)),\n",
       "                                                 (&#x27;ordinalencoder&#x27;,\n",
       "                                                  OrdinalEncoder(handle_unknown=&#x27;use_encoded_value&#x27;,\n",
       "                                                                 unknown_value=-1)),\n",
       "                                                 (&#x27;decorrelator&#x27;,\n",
       "                                                  Decorrelator(threshold=0.95))]),\n",
       "                                 &lt;sklearn.compose._column_transformer.make_column_selector object at 0x7fdfd0f024c0&gt;)])</pre></div></div></div><div class=\"sk-parallel\"><div class=\"sk-parallel-item\"><div class=\"sk-item\"><div class=\"sk-label-container\"><div class=\"sk-label sk-toggleable\"><input class=\"sk-toggleable__control sk-hidden--visually\" id=\"sk-estimator-id-32\" type=\"checkbox\" ><label for=\"sk-estimator-id-32\" class=\"sk-toggleable__label sk-toggleable__label-arrow\">pipeline-1</label><div class=\"sk-toggleable__content\"><pre>&lt;sklearn.compose._column_transformer.make_column_selector object at 0x7fdfd0f73cd0&gt;</pre></div></div></div><div class=\"sk-serial\"><div class=\"sk-item\"><div class=\"sk-serial\"><div class=\"sk-item\"><div class=\"sk-estimator sk-toggleable\"><input class=\"sk-toggleable__control sk-hidden--visually\" id=\"sk-estimator-id-33\" type=\"checkbox\" ><label for=\"sk-estimator-id-33\" class=\"sk-toggleable__label sk-toggleable__label-arrow\">SimpleImputer</label><div class=\"sk-toggleable__content\"><pre>SimpleImputer(add_indicator=True)</pre></div></div></div><div class=\"sk-item\"><div class=\"sk-estimator sk-toggleable\"><input class=\"sk-toggleable__control sk-hidden--visually\" id=\"sk-estimator-id-34\" type=\"checkbox\" ><label for=\"sk-estimator-id-34\" class=\"sk-toggleable__label sk-toggleable__label-arrow\">Decorrelator</label><div class=\"sk-toggleable__content\"><pre>Decorrelator(threshold=0.95)</pre></div></div></div></div></div></div></div></div><div class=\"sk-parallel-item\"><div class=\"sk-item\"><div class=\"sk-label-container\"><div class=\"sk-label sk-toggleable\"><input class=\"sk-toggleable__control sk-hidden--visually\" id=\"sk-estimator-id-35\" type=\"checkbox\" ><label for=\"sk-estimator-id-35\" class=\"sk-toggleable__label sk-toggleable__label-arrow\">pipeline-2</label><div class=\"sk-toggleable__content\"><pre>&lt;sklearn.compose._column_transformer.make_column_selector object at 0x7fdfd0f024c0&gt;</pre></div></div></div><div class=\"sk-serial\"><div class=\"sk-item\"><div class=\"sk-serial\"><div class=\"sk-item\"><div class=\"sk-estimator sk-toggleable\"><input class=\"sk-toggleable__control sk-hidden--visually\" id=\"sk-estimator-id-36\" type=\"checkbox\" ><label for=\"sk-estimator-id-36\" class=\"sk-toggleable__label sk-toggleable__label-arrow\">SimpleImputer</label><div class=\"sk-toggleable__content\"><pre>SimpleImputer(strategy=&#x27;most_frequent&#x27;)</pre></div></div></div><div class=\"sk-item\"><div class=\"sk-estimator sk-toggleable\"><input class=\"sk-toggleable__control sk-hidden--visually\" id=\"sk-estimator-id-37\" type=\"checkbox\" ><label for=\"sk-estimator-id-37\" class=\"sk-toggleable__label sk-toggleable__label-arrow\">OrdinalEncoder</label><div class=\"sk-toggleable__content\"><pre>OrdinalEncoder(handle_unknown=&#x27;use_encoded_value&#x27;, unknown_value=-1)</pre></div></div></div><div class=\"sk-item\"><div class=\"sk-estimator sk-toggleable\"><input class=\"sk-toggleable__control sk-hidden--visually\" id=\"sk-estimator-id-38\" type=\"checkbox\" ><label for=\"sk-estimator-id-38\" class=\"sk-toggleable__label sk-toggleable__label-arrow\">Decorrelator</label><div class=\"sk-toggleable__content\"><pre>Decorrelator(threshold=0.95)</pre></div></div></div></div></div></div></div></div></div></div><div class=\"sk-item\"><div class=\"sk-estimator sk-toggleable\"><input class=\"sk-toggleable__control sk-hidden--visually\" id=\"sk-estimator-id-39\" type=\"checkbox\" ><label for=\"sk-estimator-id-39\" class=\"sk-toggleable__label sk-toggleable__label-arrow\">RandomForestClassifier</label><div class=\"sk-toggleable__content\"><pre>RandomForestClassifier(max_depth=5, max_features=&#x27;auto&#x27;, n_estimators=10)</pre></div></div></div></div></div></div></div></div><div class=\"sk-parallel-item\"><div class=\"sk-item\"><div class=\"sk-label-container\"><div class=\"sk-label sk-toggleable\"><label>ABC</label></div></div><div class=\"sk-serial\"><div class=\"sk-item\"><div class=\"sk-serial\"><div class=\"sk-item sk-dashed-wrapped\"><div class=\"sk-label-container\"><div class=\"sk-label sk-toggleable\"><input class=\"sk-toggleable__control sk-hidden--visually\" id=\"sk-estimator-id-40\" type=\"checkbox\" ><label for=\"sk-estimator-id-40\" class=\"sk-toggleable__label sk-toggleable__label-arrow\">columntransformer: ColumnTransformer</label><div class=\"sk-toggleable__content\"><pre>ColumnTransformer(transformers=[(&#x27;pipeline-1&#x27;,\n",
       "                                 Pipeline(steps=[(&#x27;simpleimputer&#x27;,\n",
       "                                                  SimpleImputer(add_indicator=True)),\n",
       "                                                 (&#x27;decorrelator&#x27;,\n",
       "                                                  Decorrelator(threshold=0.95))]),\n",
       "                                 &lt;sklearn.compose._column_transformer.make_column_selector object at 0x7fdfd0f73cd0&gt;),\n",
       "                                (&#x27;pipeline-2&#x27;,\n",
       "                                 Pipeline(steps=[(&#x27;simpleimputer&#x27;,\n",
       "                                                  SimpleImputer(strategy=&#x27;most_frequent&#x27;)),\n",
       "                                                 (&#x27;ordinalencoder&#x27;,\n",
       "                                                  OrdinalEncoder(handle_unknown=&#x27;use_encoded_value&#x27;,\n",
       "                                                                 unknown_value=-1)),\n",
       "                                                 (&#x27;decorrelator&#x27;,\n",
       "                                                  Decorrelator(threshold=0.95))]),\n",
       "                                 &lt;sklearn.compose._column_transformer.make_column_selector object at 0x7fdfd0f024c0&gt;)])</pre></div></div></div><div class=\"sk-parallel\"><div class=\"sk-parallel-item\"><div class=\"sk-item\"><div class=\"sk-label-container\"><div class=\"sk-label sk-toggleable\"><input class=\"sk-toggleable__control sk-hidden--visually\" id=\"sk-estimator-id-41\" type=\"checkbox\" ><label for=\"sk-estimator-id-41\" class=\"sk-toggleable__label sk-toggleable__label-arrow\">pipeline-1</label><div class=\"sk-toggleable__content\"><pre>&lt;sklearn.compose._column_transformer.make_column_selector object at 0x7fdfd0f73cd0&gt;</pre></div></div></div><div class=\"sk-serial\"><div class=\"sk-item\"><div class=\"sk-serial\"><div class=\"sk-item\"><div class=\"sk-estimator sk-toggleable\"><input class=\"sk-toggleable__control sk-hidden--visually\" id=\"sk-estimator-id-42\" type=\"checkbox\" ><label for=\"sk-estimator-id-42\" class=\"sk-toggleable__label sk-toggleable__label-arrow\">SimpleImputer</label><div class=\"sk-toggleable__content\"><pre>SimpleImputer(add_indicator=True)</pre></div></div></div><div class=\"sk-item\"><div class=\"sk-estimator sk-toggleable\"><input class=\"sk-toggleable__control sk-hidden--visually\" id=\"sk-estimator-id-43\" type=\"checkbox\" ><label for=\"sk-estimator-id-43\" class=\"sk-toggleable__label sk-toggleable__label-arrow\">Decorrelator</label><div class=\"sk-toggleable__content\"><pre>Decorrelator(threshold=0.95)</pre></div></div></div></div></div></div></div></div><div class=\"sk-parallel-item\"><div class=\"sk-item\"><div class=\"sk-label-container\"><div class=\"sk-label sk-toggleable\"><input class=\"sk-toggleable__control sk-hidden--visually\" id=\"sk-estimator-id-44\" type=\"checkbox\" ><label for=\"sk-estimator-id-44\" class=\"sk-toggleable__label sk-toggleable__label-arrow\">pipeline-2</label><div class=\"sk-toggleable__content\"><pre>&lt;sklearn.compose._column_transformer.make_column_selector object at 0x7fdfd0f024c0&gt;</pre></div></div></div><div class=\"sk-serial\"><div class=\"sk-item\"><div class=\"sk-serial\"><div class=\"sk-item\"><div class=\"sk-estimator sk-toggleable\"><input class=\"sk-toggleable__control sk-hidden--visually\" id=\"sk-estimator-id-45\" type=\"checkbox\" ><label for=\"sk-estimator-id-45\" class=\"sk-toggleable__label sk-toggleable__label-arrow\">SimpleImputer</label><div class=\"sk-toggleable__content\"><pre>SimpleImputer(strategy=&#x27;most_frequent&#x27;)</pre></div></div></div><div class=\"sk-item\"><div class=\"sk-estimator sk-toggleable\"><input class=\"sk-toggleable__control sk-hidden--visually\" id=\"sk-estimator-id-46\" type=\"checkbox\" ><label for=\"sk-estimator-id-46\" class=\"sk-toggleable__label sk-toggleable__label-arrow\">OrdinalEncoder</label><div class=\"sk-toggleable__content\"><pre>OrdinalEncoder(handle_unknown=&#x27;use_encoded_value&#x27;, unknown_value=-1)</pre></div></div></div><div class=\"sk-item\"><div class=\"sk-estimator sk-toggleable\"><input class=\"sk-toggleable__control sk-hidden--visually\" id=\"sk-estimator-id-47\" type=\"checkbox\" ><label for=\"sk-estimator-id-47\" class=\"sk-toggleable__label sk-toggleable__label-arrow\">Decorrelator</label><div class=\"sk-toggleable__content\"><pre>Decorrelator(threshold=0.95)</pre></div></div></div></div></div></div></div></div></div></div><div class=\"sk-item\"><div class=\"sk-estimator sk-toggleable\"><input class=\"sk-toggleable__control sk-hidden--visually\" id=\"sk-estimator-id-48\" type=\"checkbox\" ><label for=\"sk-estimator-id-48\" class=\"sk-toggleable__label sk-toggleable__label-arrow\">AdaBoostClassifier</label><div class=\"sk-toggleable__content\"><pre>AdaBoostClassifier()</pre></div></div></div></div></div></div></div></div><div class=\"sk-parallel-item\"><div class=\"sk-item\"><div class=\"sk-label-container\"><div class=\"sk-label sk-toggleable\"><label>HGBC</label></div></div><div class=\"sk-serial\"><div class=\"sk-item\"><div class=\"sk-serial\"><div class=\"sk-item sk-dashed-wrapped\"><div class=\"sk-label-container\"><div class=\"sk-label sk-toggleable\"><input class=\"sk-toggleable__control sk-hidden--visually\" id=\"sk-estimator-id-49\" type=\"checkbox\" ><label for=\"sk-estimator-id-49\" class=\"sk-toggleable__label sk-toggleable__label-arrow\">columntransformer: ColumnTransformer</label><div class=\"sk-toggleable__content\"><pre>ColumnTransformer(transformers=[(&#x27;pipeline-1&#x27;,\n",
       "                                 Pipeline(steps=[(&#x27;simpleimputer&#x27;,\n",
       "                                                  SimpleImputer(add_indicator=True)),\n",
       "                                                 (&#x27;decorrelator&#x27;,\n",
       "                                                  Decorrelator(threshold=0.95))]),\n",
       "                                 &lt;sklearn.compose._column_transformer.make_column_selector object at 0x7fdfd0f73cd0&gt;),\n",
       "                                (&#x27;pipeline-2&#x27;,\n",
       "                                 Pipeline(steps=[(&#x27;simpleimputer&#x27;,\n",
       "                                                  SimpleImputer(strategy=&#x27;most_frequent&#x27;)),\n",
       "                                                 (&#x27;ordinalencoder&#x27;,\n",
       "                                                  OrdinalEncoder(handle_unknown=&#x27;use_encoded_value&#x27;,\n",
       "                                                                 unknown_value=-1)),\n",
       "                                                 (&#x27;decorrelator&#x27;,\n",
       "                                                  Decorrelator(threshold=0.95))]),\n",
       "                                 &lt;sklearn.compose._column_transformer.make_column_selector object at 0x7fdfd0f024c0&gt;)])</pre></div></div></div><div class=\"sk-parallel\"><div class=\"sk-parallel-item\"><div class=\"sk-item\"><div class=\"sk-label-container\"><div class=\"sk-label sk-toggleable\"><input class=\"sk-toggleable__control sk-hidden--visually\" id=\"sk-estimator-id-50\" type=\"checkbox\" ><label for=\"sk-estimator-id-50\" class=\"sk-toggleable__label sk-toggleable__label-arrow\">pipeline-1</label><div class=\"sk-toggleable__content\"><pre>&lt;sklearn.compose._column_transformer.make_column_selector object at 0x7fdfd0f73cd0&gt;</pre></div></div></div><div class=\"sk-serial\"><div class=\"sk-item\"><div class=\"sk-serial\"><div class=\"sk-item\"><div class=\"sk-estimator sk-toggleable\"><input class=\"sk-toggleable__control sk-hidden--visually\" id=\"sk-estimator-id-51\" type=\"checkbox\" ><label for=\"sk-estimator-id-51\" class=\"sk-toggleable__label sk-toggleable__label-arrow\">SimpleImputer</label><div class=\"sk-toggleable__content\"><pre>SimpleImputer(add_indicator=True)</pre></div></div></div><div class=\"sk-item\"><div class=\"sk-estimator sk-toggleable\"><input class=\"sk-toggleable__control sk-hidden--visually\" id=\"sk-estimator-id-52\" type=\"checkbox\" ><label for=\"sk-estimator-id-52\" class=\"sk-toggleable__label sk-toggleable__label-arrow\">Decorrelator</label><div class=\"sk-toggleable__content\"><pre>Decorrelator(threshold=0.95)</pre></div></div></div></div></div></div></div></div><div class=\"sk-parallel-item\"><div class=\"sk-item\"><div class=\"sk-label-container\"><div class=\"sk-label sk-toggleable\"><input class=\"sk-toggleable__control sk-hidden--visually\" id=\"sk-estimator-id-53\" type=\"checkbox\" ><label for=\"sk-estimator-id-53\" class=\"sk-toggleable__label sk-toggleable__label-arrow\">pipeline-2</label><div class=\"sk-toggleable__content\"><pre>&lt;sklearn.compose._column_transformer.make_column_selector object at 0x7fdfd0f024c0&gt;</pre></div></div></div><div class=\"sk-serial\"><div class=\"sk-item\"><div class=\"sk-serial\"><div class=\"sk-item\"><div class=\"sk-estimator sk-toggleable\"><input class=\"sk-toggleable__control sk-hidden--visually\" id=\"sk-estimator-id-54\" type=\"checkbox\" ><label for=\"sk-estimator-id-54\" class=\"sk-toggleable__label sk-toggleable__label-arrow\">SimpleImputer</label><div class=\"sk-toggleable__content\"><pre>SimpleImputer(strategy=&#x27;most_frequent&#x27;)</pre></div></div></div><div class=\"sk-item\"><div class=\"sk-estimator sk-toggleable\"><input class=\"sk-toggleable__control sk-hidden--visually\" id=\"sk-estimator-id-55\" type=\"checkbox\" ><label for=\"sk-estimator-id-55\" class=\"sk-toggleable__label sk-toggleable__label-arrow\">OrdinalEncoder</label><div class=\"sk-toggleable__content\"><pre>OrdinalEncoder(handle_unknown=&#x27;use_encoded_value&#x27;, unknown_value=-1)</pre></div></div></div><div class=\"sk-item\"><div class=\"sk-estimator sk-toggleable\"><input class=\"sk-toggleable__control sk-hidden--visually\" id=\"sk-estimator-id-56\" type=\"checkbox\" ><label for=\"sk-estimator-id-56\" class=\"sk-toggleable__label sk-toggleable__label-arrow\">Decorrelator</label><div class=\"sk-toggleable__content\"><pre>Decorrelator(threshold=0.95)</pre></div></div></div></div></div></div></div></div></div></div><div class=\"sk-item\"><div class=\"sk-estimator sk-toggleable\"><input class=\"sk-toggleable__control sk-hidden--visually\" id=\"sk-estimator-id-57\" type=\"checkbox\" ><label for=\"sk-estimator-id-57\" class=\"sk-toggleable__label sk-toggleable__label-arrow\">HistGradientBoostingClassifier</label><div class=\"sk-toggleable__content\"><pre>HistGradientBoostingClassifier(early_stopping=True)</pre></div></div></div></div></div></div></div></div><div class=\"sk-parallel-item\"><div class=\"sk-item\"><div class=\"sk-label-container\"><div class=\"sk-label sk-toggleable\"><label>LOGR</label></div></div><div class=\"sk-serial\"><div class=\"sk-item\"><div class=\"sk-serial\"><div class=\"sk-item sk-dashed-wrapped\"><div class=\"sk-label-container\"><div class=\"sk-label sk-toggleable\"><input class=\"sk-toggleable__control sk-hidden--visually\" id=\"sk-estimator-id-58\" type=\"checkbox\" ><label for=\"sk-estimator-id-58\" class=\"sk-toggleable__label sk-toggleable__label-arrow\">columntransformer: ColumnTransformer</label><div class=\"sk-toggleable__content\"><pre>ColumnTransformer(transformers=[(&#x27;pipeline-1&#x27;,\n",
       "                                 Pipeline(steps=[(&#x27;simpleimputer&#x27;,\n",
       "                                                  SimpleImputer(add_indicator=True)),\n",
       "                                                 (&#x27;standardscaler&#x27;,\n",
       "                                                  StandardScaler()),\n",
       "                                                 (&#x27;decorrelator&#x27;,\n",
       "                                                  Decorrelator(threshold=0.95))]),\n",
       "                                 &lt;sklearn.compose._column_transformer.make_column_selector object at 0x7fdfd0f73cd0&gt;),\n",
       "                                (&#x27;pipeline-2&#x27;,\n",
       "                                 Pipeline(steps=[(&#x27;simpleimputer&#x27;,\n",
       "                                                  SimpleImputer(strategy=&#x27;most_frequent&#x27;)),\n",
       "                                                 (&#x27;onehotencoder&#x27;,\n",
       "                                                  OneHotEncoder(handle_unknown=&#x27;ignore&#x27;,\n",
       "                                                                sparse=False)),\n",
       "                                                 (&#x27;decorrelator&#x27;,\n",
       "                                                  Decorrelator(threshold=0.95))]),\n",
       "                                 &lt;sklearn.compose._column_transformer.make_column_selector object at 0x7fdfd0f024c0&gt;)])</pre></div></div></div><div class=\"sk-parallel\"><div class=\"sk-parallel-item\"><div class=\"sk-item\"><div class=\"sk-label-container\"><div class=\"sk-label sk-toggleable\"><input class=\"sk-toggleable__control sk-hidden--visually\" id=\"sk-estimator-id-59\" type=\"checkbox\" ><label for=\"sk-estimator-id-59\" class=\"sk-toggleable__label sk-toggleable__label-arrow\">pipeline-1</label><div class=\"sk-toggleable__content\"><pre>&lt;sklearn.compose._column_transformer.make_column_selector object at 0x7fdfd0f73cd0&gt;</pre></div></div></div><div class=\"sk-serial\"><div class=\"sk-item\"><div class=\"sk-serial\"><div class=\"sk-item\"><div class=\"sk-estimator sk-toggleable\"><input class=\"sk-toggleable__control sk-hidden--visually\" id=\"sk-estimator-id-60\" type=\"checkbox\" ><label for=\"sk-estimator-id-60\" class=\"sk-toggleable__label sk-toggleable__label-arrow\">SimpleImputer</label><div class=\"sk-toggleable__content\"><pre>SimpleImputer(add_indicator=True)</pre></div></div></div><div class=\"sk-item\"><div class=\"sk-estimator sk-toggleable\"><input class=\"sk-toggleable__control sk-hidden--visually\" id=\"sk-estimator-id-61\" type=\"checkbox\" ><label for=\"sk-estimator-id-61\" class=\"sk-toggleable__label sk-toggleable__label-arrow\">StandardScaler</label><div class=\"sk-toggleable__content\"><pre>StandardScaler()</pre></div></div></div><div class=\"sk-item\"><div class=\"sk-estimator sk-toggleable\"><input class=\"sk-toggleable__control sk-hidden--visually\" id=\"sk-estimator-id-62\" type=\"checkbox\" ><label for=\"sk-estimator-id-62\" class=\"sk-toggleable__label sk-toggleable__label-arrow\">Decorrelator</label><div class=\"sk-toggleable__content\"><pre>Decorrelator(threshold=0.95)</pre></div></div></div></div></div></div></div></div><div class=\"sk-parallel-item\"><div class=\"sk-item\"><div class=\"sk-label-container\"><div class=\"sk-label sk-toggleable\"><input class=\"sk-toggleable__control sk-hidden--visually\" id=\"sk-estimator-id-63\" type=\"checkbox\" ><label for=\"sk-estimator-id-63\" class=\"sk-toggleable__label sk-toggleable__label-arrow\">pipeline-2</label><div class=\"sk-toggleable__content\"><pre>&lt;sklearn.compose._column_transformer.make_column_selector object at 0x7fdfd0f024c0&gt;</pre></div></div></div><div class=\"sk-serial\"><div class=\"sk-item\"><div class=\"sk-serial\"><div class=\"sk-item\"><div class=\"sk-estimator sk-toggleable\"><input class=\"sk-toggleable__control sk-hidden--visually\" id=\"sk-estimator-id-64\" type=\"checkbox\" ><label for=\"sk-estimator-id-64\" class=\"sk-toggleable__label sk-toggleable__label-arrow\">SimpleImputer</label><div class=\"sk-toggleable__content\"><pre>SimpleImputer(strategy=&#x27;most_frequent&#x27;)</pre></div></div></div><div class=\"sk-item\"><div class=\"sk-estimator sk-toggleable\"><input class=\"sk-toggleable__control sk-hidden--visually\" id=\"sk-estimator-id-65\" type=\"checkbox\" ><label for=\"sk-estimator-id-65\" class=\"sk-toggleable__label sk-toggleable__label-arrow\">OneHotEncoder</label><div class=\"sk-toggleable__content\"><pre>OneHotEncoder(handle_unknown=&#x27;ignore&#x27;, sparse=False)</pre></div></div></div><div class=\"sk-item\"><div class=\"sk-estimator sk-toggleable\"><input class=\"sk-toggleable__control sk-hidden--visually\" id=\"sk-estimator-id-66\" type=\"checkbox\" ><label for=\"sk-estimator-id-66\" class=\"sk-toggleable__label sk-toggleable__label-arrow\">Decorrelator</label><div class=\"sk-toggleable__content\"><pre>Decorrelator(threshold=0.95)</pre></div></div></div></div></div></div></div></div></div></div><div class=\"sk-item\"><div class=\"sk-estimator sk-toggleable\"><input class=\"sk-toggleable__control sk-hidden--visually\" id=\"sk-estimator-id-67\" type=\"checkbox\" ><label for=\"sk-estimator-id-67\" class=\"sk-toggleable__label sk-toggleable__label-arrow\">LogisticRegression</label><div class=\"sk-toggleable__content\"><pre>LogisticRegression()</pre></div></div></div></div></div></div></div></div><div class=\"sk-parallel-item\"><div class=\"sk-item\"><div class=\"sk-label-container\"><div class=\"sk-label sk-toggleable\"><label>LOGRCV</label></div></div><div class=\"sk-serial\"><div class=\"sk-item\"><div class=\"sk-serial\"><div class=\"sk-item sk-dashed-wrapped\"><div class=\"sk-label-container\"><div class=\"sk-label sk-toggleable\"><input class=\"sk-toggleable__control sk-hidden--visually\" id=\"sk-estimator-id-68\" type=\"checkbox\" ><label for=\"sk-estimator-id-68\" class=\"sk-toggleable__label sk-toggleable__label-arrow\">columntransformer: ColumnTransformer</label><div class=\"sk-toggleable__content\"><pre>ColumnTransformer(transformers=[(&#x27;pipeline-1&#x27;,\n",
       "                                 Pipeline(steps=[(&#x27;simpleimputer&#x27;,\n",
       "                                                  SimpleImputer(add_indicator=True)),\n",
       "                                                 (&#x27;standardscaler&#x27;,\n",
       "                                                  StandardScaler()),\n",
       "                                                 (&#x27;decorrelator&#x27;,\n",
       "                                                  Decorrelator(threshold=0.95))]),\n",
       "                                 &lt;sklearn.compose._column_transformer.make_column_selector object at 0x7fdfd0f73cd0&gt;),\n",
       "                                (&#x27;pipeline-2&#x27;,\n",
       "                                 Pipeline(steps=[(&#x27;simpleimputer&#x27;,\n",
       "                                                  SimpleImputer(strategy=&#x27;most_frequent&#x27;)),\n",
       "                                                 (&#x27;onehotencoder&#x27;,\n",
       "                                                  OneHotEncoder(handle_unknown=&#x27;ignore&#x27;,\n",
       "                                                                sparse=False)),\n",
       "                                                 (&#x27;decorrelator&#x27;,\n",
       "                                                  Decorrelator(threshold=0.95))]),\n",
       "                                 &lt;sklearn.compose._column_transformer.make_column_selector object at 0x7fdfd0f024c0&gt;)])</pre></div></div></div><div class=\"sk-parallel\"><div class=\"sk-parallel-item\"><div class=\"sk-item\"><div class=\"sk-label-container\"><div class=\"sk-label sk-toggleable\"><input class=\"sk-toggleable__control sk-hidden--visually\" id=\"sk-estimator-id-69\" type=\"checkbox\" ><label for=\"sk-estimator-id-69\" class=\"sk-toggleable__label sk-toggleable__label-arrow\">pipeline-1</label><div class=\"sk-toggleable__content\"><pre>&lt;sklearn.compose._column_transformer.make_column_selector object at 0x7fdfd0f73cd0&gt;</pre></div></div></div><div class=\"sk-serial\"><div class=\"sk-item\"><div class=\"sk-serial\"><div class=\"sk-item\"><div class=\"sk-estimator sk-toggleable\"><input class=\"sk-toggleable__control sk-hidden--visually\" id=\"sk-estimator-id-70\" type=\"checkbox\" ><label for=\"sk-estimator-id-70\" class=\"sk-toggleable__label sk-toggleable__label-arrow\">SimpleImputer</label><div class=\"sk-toggleable__content\"><pre>SimpleImputer(add_indicator=True)</pre></div></div></div><div class=\"sk-item\"><div class=\"sk-estimator sk-toggleable\"><input class=\"sk-toggleable__control sk-hidden--visually\" id=\"sk-estimator-id-71\" type=\"checkbox\" ><label for=\"sk-estimator-id-71\" class=\"sk-toggleable__label sk-toggleable__label-arrow\">StandardScaler</label><div class=\"sk-toggleable__content\"><pre>StandardScaler()</pre></div></div></div><div class=\"sk-item\"><div class=\"sk-estimator sk-toggleable\"><input class=\"sk-toggleable__control sk-hidden--visually\" id=\"sk-estimator-id-72\" type=\"checkbox\" ><label for=\"sk-estimator-id-72\" class=\"sk-toggleable__label sk-toggleable__label-arrow\">Decorrelator</label><div class=\"sk-toggleable__content\"><pre>Decorrelator(threshold=0.95)</pre></div></div></div></div></div></div></div></div><div class=\"sk-parallel-item\"><div class=\"sk-item\"><div class=\"sk-label-container\"><div class=\"sk-label sk-toggleable\"><input class=\"sk-toggleable__control sk-hidden--visually\" id=\"sk-estimator-id-73\" type=\"checkbox\" ><label for=\"sk-estimator-id-73\" class=\"sk-toggleable__label sk-toggleable__label-arrow\">pipeline-2</label><div class=\"sk-toggleable__content\"><pre>&lt;sklearn.compose._column_transformer.make_column_selector object at 0x7fdfd0f024c0&gt;</pre></div></div></div><div class=\"sk-serial\"><div class=\"sk-item\"><div class=\"sk-serial\"><div class=\"sk-item\"><div class=\"sk-estimator sk-toggleable\"><input class=\"sk-toggleable__control sk-hidden--visually\" id=\"sk-estimator-id-74\" type=\"checkbox\" ><label for=\"sk-estimator-id-74\" class=\"sk-toggleable__label sk-toggleable__label-arrow\">SimpleImputer</label><div class=\"sk-toggleable__content\"><pre>SimpleImputer(strategy=&#x27;most_frequent&#x27;)</pre></div></div></div><div class=\"sk-item\"><div class=\"sk-estimator sk-toggleable\"><input class=\"sk-toggleable__control sk-hidden--visually\" id=\"sk-estimator-id-75\" type=\"checkbox\" ><label for=\"sk-estimator-id-75\" class=\"sk-toggleable__label sk-toggleable__label-arrow\">OneHotEncoder</label><div class=\"sk-toggleable__content\"><pre>OneHotEncoder(handle_unknown=&#x27;ignore&#x27;, sparse=False)</pre></div></div></div><div class=\"sk-item\"><div class=\"sk-estimator sk-toggleable\"><input class=\"sk-toggleable__control sk-hidden--visually\" id=\"sk-estimator-id-76\" type=\"checkbox\" ><label for=\"sk-estimator-id-76\" class=\"sk-toggleable__label sk-toggleable__label-arrow\">Decorrelator</label><div class=\"sk-toggleable__content\"><pre>Decorrelator(threshold=0.95)</pre></div></div></div></div></div></div></div></div></div></div><div class=\"sk-item\"><div class=\"sk-estimator sk-toggleable\"><input class=\"sk-toggleable__control sk-hidden--visually\" id=\"sk-estimator-id-77\" type=\"checkbox\" ><label for=\"sk-estimator-id-77\" class=\"sk-toggleable__label sk-toggleable__label-arrow\">LogisticRegressionCV</label><div class=\"sk-toggleable__content\"><pre>LogisticRegressionCV(cv=5)</pre></div></div></div></div></div></div></div></div><div class=\"sk-parallel-item\"><div class=\"sk-item\"><div class=\"sk-label-container\"><div class=\"sk-label sk-toggleable\"><label>MLPC</label></div></div><div class=\"sk-serial\"><div class=\"sk-item\"><div class=\"sk-serial\"><div class=\"sk-item sk-dashed-wrapped\"><div class=\"sk-label-container\"><div class=\"sk-label sk-toggleable\"><input class=\"sk-toggleable__control sk-hidden--visually\" id=\"sk-estimator-id-78\" type=\"checkbox\" ><label for=\"sk-estimator-id-78\" class=\"sk-toggleable__label sk-toggleable__label-arrow\">columntransformer: ColumnTransformer</label><div class=\"sk-toggleable__content\"><pre>ColumnTransformer(transformers=[(&#x27;pipeline-1&#x27;,\n",
       "                                 Pipeline(steps=[(&#x27;simpleimputer&#x27;,\n",
       "                                                  SimpleImputer(add_indicator=True)),\n",
       "                                                 (&#x27;standardscaler&#x27;,\n",
       "                                                  StandardScaler()),\n",
       "                                                 (&#x27;decorrelator&#x27;,\n",
       "                                                  Decorrelator(threshold=0.95))]),\n",
       "                                 &lt;sklearn.compose._column_transformer.make_column_selector object at 0x7fdfd0f73cd0&gt;),\n",
       "                                (&#x27;pipeline-2&#x27;,\n",
       "                                 Pipeline(steps=[(&#x27;simpleimputer&#x27;,\n",
       "                                                  SimpleImputer(strategy=&#x27;most_frequent&#x27;)),\n",
       "                                                 (&#x27;onehotencoder&#x27;,\n",
       "                                                  OneHotEncoder(handle_unknown=&#x27;ignore&#x27;,\n",
       "                                                                sparse=False)),\n",
       "                                                 (&#x27;decorrelator&#x27;,\n",
       "                                                  Decorrelator(threshold=0.95))]),\n",
       "                                 &lt;sklearn.compose._column_transformer.make_column_selector object at 0x7fdfd0f024c0&gt;)])</pre></div></div></div><div class=\"sk-parallel\"><div class=\"sk-parallel-item\"><div class=\"sk-item\"><div class=\"sk-label-container\"><div class=\"sk-label sk-toggleable\"><input class=\"sk-toggleable__control sk-hidden--visually\" id=\"sk-estimator-id-79\" type=\"checkbox\" ><label for=\"sk-estimator-id-79\" class=\"sk-toggleable__label sk-toggleable__label-arrow\">pipeline-1</label><div class=\"sk-toggleable__content\"><pre>&lt;sklearn.compose._column_transformer.make_column_selector object at 0x7fdfd0f73cd0&gt;</pre></div></div></div><div class=\"sk-serial\"><div class=\"sk-item\"><div class=\"sk-serial\"><div class=\"sk-item\"><div class=\"sk-estimator sk-toggleable\"><input class=\"sk-toggleable__control sk-hidden--visually\" id=\"sk-estimator-id-80\" type=\"checkbox\" ><label for=\"sk-estimator-id-80\" class=\"sk-toggleable__label sk-toggleable__label-arrow\">SimpleImputer</label><div class=\"sk-toggleable__content\"><pre>SimpleImputer(add_indicator=True)</pre></div></div></div><div class=\"sk-item\"><div class=\"sk-estimator sk-toggleable\"><input class=\"sk-toggleable__control sk-hidden--visually\" id=\"sk-estimator-id-81\" type=\"checkbox\" ><label for=\"sk-estimator-id-81\" class=\"sk-toggleable__label sk-toggleable__label-arrow\">StandardScaler</label><div class=\"sk-toggleable__content\"><pre>StandardScaler()</pre></div></div></div><div class=\"sk-item\"><div class=\"sk-estimator sk-toggleable\"><input class=\"sk-toggleable__control sk-hidden--visually\" id=\"sk-estimator-id-82\" type=\"checkbox\" ><label for=\"sk-estimator-id-82\" class=\"sk-toggleable__label sk-toggleable__label-arrow\">Decorrelator</label><div class=\"sk-toggleable__content\"><pre>Decorrelator(threshold=0.95)</pre></div></div></div></div></div></div></div></div><div class=\"sk-parallel-item\"><div class=\"sk-item\"><div class=\"sk-label-container\"><div class=\"sk-label sk-toggleable\"><input class=\"sk-toggleable__control sk-hidden--visually\" id=\"sk-estimator-id-83\" type=\"checkbox\" ><label for=\"sk-estimator-id-83\" class=\"sk-toggleable__label sk-toggleable__label-arrow\">pipeline-2</label><div class=\"sk-toggleable__content\"><pre>&lt;sklearn.compose._column_transformer.make_column_selector object at 0x7fdfd0f024c0&gt;</pre></div></div></div><div class=\"sk-serial\"><div class=\"sk-item\"><div class=\"sk-serial\"><div class=\"sk-item\"><div class=\"sk-estimator sk-toggleable\"><input class=\"sk-toggleable__control sk-hidden--visually\" id=\"sk-estimator-id-84\" type=\"checkbox\" ><label for=\"sk-estimator-id-84\" class=\"sk-toggleable__label sk-toggleable__label-arrow\">SimpleImputer</label><div class=\"sk-toggleable__content\"><pre>SimpleImputer(strategy=&#x27;most_frequent&#x27;)</pre></div></div></div><div class=\"sk-item\"><div class=\"sk-estimator sk-toggleable\"><input class=\"sk-toggleable__control sk-hidden--visually\" id=\"sk-estimator-id-85\" type=\"checkbox\" ><label for=\"sk-estimator-id-85\" class=\"sk-toggleable__label sk-toggleable__label-arrow\">OneHotEncoder</label><div class=\"sk-toggleable__content\"><pre>OneHotEncoder(handle_unknown=&#x27;ignore&#x27;, sparse=False)</pre></div></div></div><div class=\"sk-item\"><div class=\"sk-estimator sk-toggleable\"><input class=\"sk-toggleable__control sk-hidden--visually\" id=\"sk-estimator-id-86\" type=\"checkbox\" ><label for=\"sk-estimator-id-86\" class=\"sk-toggleable__label sk-toggleable__label-arrow\">Decorrelator</label><div class=\"sk-toggleable__content\"><pre>Decorrelator(threshold=0.95)</pre></div></div></div></div></div></div></div></div></div></div><div class=\"sk-item\"><div class=\"sk-estimator sk-toggleable\"><input class=\"sk-toggleable__control sk-hidden--visually\" id=\"sk-estimator-id-87\" type=\"checkbox\" ><label for=\"sk-estimator-id-87\" class=\"sk-toggleable__label sk-toggleable__label-arrow\">MLPClassifier</label><div class=\"sk-toggleable__content\"><pre>MLPClassifier(early_stopping=True, hidden_layer_sizes=(9, 9), max_iter=1000)</pre></div></div></div></div></div></div></div></div><div class=\"sk-parallel-item\"><div class=\"sk-item\"><div class=\"sk-label-container\"><div class=\"sk-label sk-toggleable\"><label>KNC</label></div></div><div class=\"sk-serial\"><div class=\"sk-item\"><div class=\"sk-serial\"><div class=\"sk-item sk-dashed-wrapped\"><div class=\"sk-label-container\"><div class=\"sk-label sk-toggleable\"><input class=\"sk-toggleable__control sk-hidden--visually\" id=\"sk-estimator-id-88\" type=\"checkbox\" ><label for=\"sk-estimator-id-88\" class=\"sk-toggleable__label sk-toggleable__label-arrow\">columntransformer: ColumnTransformer</label><div class=\"sk-toggleable__content\"><pre>ColumnTransformer(transformers=[(&#x27;pipeline-1&#x27;,\n",
       "                                 Pipeline(steps=[(&#x27;simpleimputer&#x27;,\n",
       "                                                  SimpleImputer(add_indicator=True)),\n",
       "                                                 (&#x27;standardscaler&#x27;,\n",
       "                                                  StandardScaler()),\n",
       "                                                 (&#x27;decorrelator&#x27;,\n",
       "                                                  Decorrelator(threshold=0.95))]),\n",
       "                                 &lt;sklearn.compose._column_transformer.make_column_selector object at 0x7fdfd0f73cd0&gt;),\n",
       "                                (&#x27;pipeline-2&#x27;,\n",
       "                                 Pipeline(steps=[(&#x27;simpleimputer&#x27;,\n",
       "                                                  SimpleImputer(strategy=&#x27;most_frequent&#x27;)),\n",
       "                                                 (&#x27;onehotencoder&#x27;,\n",
       "                                                  OneHotEncoder(handle_unknown=&#x27;ignore&#x27;,\n",
       "                                                                sparse=False)),\n",
       "                                                 (&#x27;decorrelator&#x27;,\n",
       "                                                  Decorrelator(threshold=0.95))]),\n",
       "                                 &lt;sklearn.compose._column_transformer.make_column_selector object at 0x7fdfd0f024c0&gt;)])</pre></div></div></div><div class=\"sk-parallel\"><div class=\"sk-parallel-item\"><div class=\"sk-item\"><div class=\"sk-label-container\"><div class=\"sk-label sk-toggleable\"><input class=\"sk-toggleable__control sk-hidden--visually\" id=\"sk-estimator-id-89\" type=\"checkbox\" ><label for=\"sk-estimator-id-89\" class=\"sk-toggleable__label sk-toggleable__label-arrow\">pipeline-1</label><div class=\"sk-toggleable__content\"><pre>&lt;sklearn.compose._column_transformer.make_column_selector object at 0x7fdfd0f73cd0&gt;</pre></div></div></div><div class=\"sk-serial\"><div class=\"sk-item\"><div class=\"sk-serial\"><div class=\"sk-item\"><div class=\"sk-estimator sk-toggleable\"><input class=\"sk-toggleable__control sk-hidden--visually\" id=\"sk-estimator-id-90\" type=\"checkbox\" ><label for=\"sk-estimator-id-90\" class=\"sk-toggleable__label sk-toggleable__label-arrow\">SimpleImputer</label><div class=\"sk-toggleable__content\"><pre>SimpleImputer(add_indicator=True)</pre></div></div></div><div class=\"sk-item\"><div class=\"sk-estimator sk-toggleable\"><input class=\"sk-toggleable__control sk-hidden--visually\" id=\"sk-estimator-id-91\" type=\"checkbox\" ><label for=\"sk-estimator-id-91\" class=\"sk-toggleable__label sk-toggleable__label-arrow\">StandardScaler</label><div class=\"sk-toggleable__content\"><pre>StandardScaler()</pre></div></div></div><div class=\"sk-item\"><div class=\"sk-estimator sk-toggleable\"><input class=\"sk-toggleable__control sk-hidden--visually\" id=\"sk-estimator-id-92\" type=\"checkbox\" ><label for=\"sk-estimator-id-92\" class=\"sk-toggleable__label sk-toggleable__label-arrow\">Decorrelator</label><div class=\"sk-toggleable__content\"><pre>Decorrelator(threshold=0.95)</pre></div></div></div></div></div></div></div></div><div class=\"sk-parallel-item\"><div class=\"sk-item\"><div class=\"sk-label-container\"><div class=\"sk-label sk-toggleable\"><input class=\"sk-toggleable__control sk-hidden--visually\" id=\"sk-estimator-id-93\" type=\"checkbox\" ><label for=\"sk-estimator-id-93\" class=\"sk-toggleable__label sk-toggleable__label-arrow\">pipeline-2</label><div class=\"sk-toggleable__content\"><pre>&lt;sklearn.compose._column_transformer.make_column_selector object at 0x7fdfd0f024c0&gt;</pre></div></div></div><div class=\"sk-serial\"><div class=\"sk-item\"><div class=\"sk-serial\"><div class=\"sk-item\"><div class=\"sk-estimator sk-toggleable\"><input class=\"sk-toggleable__control sk-hidden--visually\" id=\"sk-estimator-id-94\" type=\"checkbox\" ><label for=\"sk-estimator-id-94\" class=\"sk-toggleable__label sk-toggleable__label-arrow\">SimpleImputer</label><div class=\"sk-toggleable__content\"><pre>SimpleImputer(strategy=&#x27;most_frequent&#x27;)</pre></div></div></div><div class=\"sk-item\"><div class=\"sk-estimator sk-toggleable\"><input class=\"sk-toggleable__control sk-hidden--visually\" id=\"sk-estimator-id-95\" type=\"checkbox\" ><label for=\"sk-estimator-id-95\" class=\"sk-toggleable__label sk-toggleable__label-arrow\">OneHotEncoder</label><div class=\"sk-toggleable__content\"><pre>OneHotEncoder(handle_unknown=&#x27;ignore&#x27;, sparse=False)</pre></div></div></div><div class=\"sk-item\"><div class=\"sk-estimator sk-toggleable\"><input class=\"sk-toggleable__control sk-hidden--visually\" id=\"sk-estimator-id-96\" type=\"checkbox\" ><label for=\"sk-estimator-id-96\" class=\"sk-toggleable__label sk-toggleable__label-arrow\">Decorrelator</label><div class=\"sk-toggleable__content\"><pre>Decorrelator(threshold=0.95)</pre></div></div></div></div></div></div></div></div></div></div><div class=\"sk-item\"><div class=\"sk-estimator sk-toggleable\"><input class=\"sk-toggleable__control sk-hidden--visually\" id=\"sk-estimator-id-97\" type=\"checkbox\" ><label for=\"sk-estimator-id-97\" class=\"sk-toggleable__label sk-toggleable__label-arrow\">KNeighborsClassifier</label><div class=\"sk-toggleable__content\"><pre>KNeighborsClassifier(n_neighbors=3)</pre></div></div></div></div></div></div></div></div><div class=\"sk-parallel-item\"><div class=\"sk-item\"><div class=\"sk-label-container\"><div class=\"sk-label sk-toggleable\"><label>GNB</label></div></div><div class=\"sk-serial\"><div class=\"sk-item\"><div class=\"sk-serial\"><div class=\"sk-item sk-dashed-wrapped\"><div class=\"sk-label-container\"><div class=\"sk-label sk-toggleable\"><input class=\"sk-toggleable__control sk-hidden--visually\" id=\"sk-estimator-id-98\" type=\"checkbox\" ><label for=\"sk-estimator-id-98\" class=\"sk-toggleable__label sk-toggleable__label-arrow\">columntransformer: ColumnTransformer</label><div class=\"sk-toggleable__content\"><pre>ColumnTransformer(transformers=[(&#x27;pipeline-1&#x27;,\n",
       "                                 Pipeline(steps=[(&#x27;simpleimputer&#x27;,\n",
       "                                                  SimpleImputer(add_indicator=True)),\n",
       "                                                 (&#x27;standardscaler&#x27;,\n",
       "                                                  StandardScaler()),\n",
       "                                                 (&#x27;decorrelator&#x27;,\n",
       "                                                  Decorrelator(threshold=0.95))]),\n",
       "                                 &lt;sklearn.compose._column_transformer.make_column_selector object at 0x7fdfd0f73cd0&gt;),\n",
       "                                (&#x27;pipeline-2&#x27;,\n",
       "                                 Pipeline(steps=[(&#x27;simpleimputer&#x27;,\n",
       "                                                  SimpleImputer(strategy=&#x27;most_frequent&#x27;)),\n",
       "                                                 (&#x27;onehotencoder&#x27;,\n",
       "                                                  OneHotEncoder(handle_unknown=&#x27;ignore&#x27;,\n",
       "                                                                sparse=False)),\n",
       "                                                 (&#x27;decorrelator&#x27;,\n",
       "                                                  Decorrelator(threshold=0.95))]),\n",
       "                                 &lt;sklearn.compose._column_transformer.make_column_selector object at 0x7fdfd0f024c0&gt;)])</pre></div></div></div><div class=\"sk-parallel\"><div class=\"sk-parallel-item\"><div class=\"sk-item\"><div class=\"sk-label-container\"><div class=\"sk-label sk-toggleable\"><input class=\"sk-toggleable__control sk-hidden--visually\" id=\"sk-estimator-id-99\" type=\"checkbox\" ><label for=\"sk-estimator-id-99\" class=\"sk-toggleable__label sk-toggleable__label-arrow\">pipeline-1</label><div class=\"sk-toggleable__content\"><pre>&lt;sklearn.compose._column_transformer.make_column_selector object at 0x7fdfd0f73cd0&gt;</pre></div></div></div><div class=\"sk-serial\"><div class=\"sk-item\"><div class=\"sk-serial\"><div class=\"sk-item\"><div class=\"sk-estimator sk-toggleable\"><input class=\"sk-toggleable__control sk-hidden--visually\" id=\"sk-estimator-id-100\" type=\"checkbox\" ><label for=\"sk-estimator-id-100\" class=\"sk-toggleable__label sk-toggleable__label-arrow\">SimpleImputer</label><div class=\"sk-toggleable__content\"><pre>SimpleImputer(add_indicator=True)</pre></div></div></div><div class=\"sk-item\"><div class=\"sk-estimator sk-toggleable\"><input class=\"sk-toggleable__control sk-hidden--visually\" id=\"sk-estimator-id-101\" type=\"checkbox\" ><label for=\"sk-estimator-id-101\" class=\"sk-toggleable__label sk-toggleable__label-arrow\">StandardScaler</label><div class=\"sk-toggleable__content\"><pre>StandardScaler()</pre></div></div></div><div class=\"sk-item\"><div class=\"sk-estimator sk-toggleable\"><input class=\"sk-toggleable__control sk-hidden--visually\" id=\"sk-estimator-id-102\" type=\"checkbox\" ><label for=\"sk-estimator-id-102\" class=\"sk-toggleable__label sk-toggleable__label-arrow\">Decorrelator</label><div class=\"sk-toggleable__content\"><pre>Decorrelator(threshold=0.95)</pre></div></div></div></div></div></div></div></div><div class=\"sk-parallel-item\"><div class=\"sk-item\"><div class=\"sk-label-container\"><div class=\"sk-label sk-toggleable\"><input class=\"sk-toggleable__control sk-hidden--visually\" id=\"sk-estimator-id-103\" type=\"checkbox\" ><label for=\"sk-estimator-id-103\" class=\"sk-toggleable__label sk-toggleable__label-arrow\">pipeline-2</label><div class=\"sk-toggleable__content\"><pre>&lt;sklearn.compose._column_transformer.make_column_selector object at 0x7fdfd0f024c0&gt;</pre></div></div></div><div class=\"sk-serial\"><div class=\"sk-item\"><div class=\"sk-serial\"><div class=\"sk-item\"><div class=\"sk-estimator sk-toggleable\"><input class=\"sk-toggleable__control sk-hidden--visually\" id=\"sk-estimator-id-104\" type=\"checkbox\" ><label for=\"sk-estimator-id-104\" class=\"sk-toggleable__label sk-toggleable__label-arrow\">SimpleImputer</label><div class=\"sk-toggleable__content\"><pre>SimpleImputer(strategy=&#x27;most_frequent&#x27;)</pre></div></div></div><div class=\"sk-item\"><div class=\"sk-estimator sk-toggleable\"><input class=\"sk-toggleable__control sk-hidden--visually\" id=\"sk-estimator-id-105\" type=\"checkbox\" ><label for=\"sk-estimator-id-105\" class=\"sk-toggleable__label sk-toggleable__label-arrow\">OneHotEncoder</label><div class=\"sk-toggleable__content\"><pre>OneHotEncoder(handle_unknown=&#x27;ignore&#x27;, sparse=False)</pre></div></div></div><div class=\"sk-item\"><div class=\"sk-estimator sk-toggleable\"><input class=\"sk-toggleable__control sk-hidden--visually\" id=\"sk-estimator-id-106\" type=\"checkbox\" ><label for=\"sk-estimator-id-106\" class=\"sk-toggleable__label sk-toggleable__label-arrow\">Decorrelator</label><div class=\"sk-toggleable__content\"><pre>Decorrelator(threshold=0.95)</pre></div></div></div></div></div></div></div></div></div></div><div class=\"sk-item\"><div class=\"sk-estimator sk-toggleable\"><input class=\"sk-toggleable__control sk-hidden--visually\" id=\"sk-estimator-id-107\" type=\"checkbox\" ><label for=\"sk-estimator-id-107\" class=\"sk-toggleable__label sk-toggleable__label-arrow\">GaussianNB</label><div class=\"sk-toggleable__content\"><pre>GaussianNB()</pre></div></div></div></div></div></div></div></div></div></div><div class=\"sk-item\"><div class=\"sk-parallel\"><div class=\"sk-parallel-item\"><div class=\"sk-item\"><div class=\"sk-label-container\"><div class=\"sk-label sk-toggleable\"><label>final_estimator</label></div></div><div class=\"sk-serial\"><div class=\"sk-item\"><div class=\"sk-estimator sk-toggleable\"><input class=\"sk-toggleable__control sk-hidden--visually\" id=\"sk-estimator-id-108\" type=\"checkbox\" ><label for=\"sk-estimator-id-108\" class=\"sk-toggleable__label sk-toggleable__label-arrow\">LogisticRegressionCV</label><div class=\"sk-toggleable__content\"><pre>LogisticRegressionCV(cv=5, l1_ratios=[0.1, 0.5, 0.9], penalty=&#x27;elasticnet&#x27;,\n",
       "                     solver=&#x27;saga&#x27;)</pre></div></div></div></div></div></div></div></div></div></div></div></div>"
      ],
      "text/plain": [
       "StackingClassifier(estimators=[('GPCL',\n",
       "                                Pipeline(steps=[('columntransformer',\n",
       "                                                 ColumnTransformer(transformers=[('pipeline-1',\n",
       "                                                                                  Pipeline(steps=[('simpleimputer',\n",
       "                                                                                                   SimpleImputer(add_indicator=True)),\n",
       "                                                                                                  ('standardscaler',\n",
       "                                                                                                   StandardScaler()),\n",
       "                                                                                                  ('decorrelator',\n",
       "                                                                                                   Decorrelator(threshold=0.95))]),\n",
       "                                                                                  <sklearn.compose._column_transformer.make_column_selector object at 0x7fdfd0f73...\n",
       "                                                                                                   SimpleImputer(strategy='most_frequent')),\n",
       "                                                                                                  ('onehotencoder',\n",
       "                                                                                                   OneHotEncoder(handle_unknown='ignore',\n",
       "                                                                                                                 sparse=False)),\n",
       "                                                                                                  ('decorrelator',\n",
       "                                                                                                   Decorrelator(threshold=0.95))]),\n",
       "                                                                                  <sklearn.compose._column_transformer.make_column_selector object at 0x7fdfd0f024c0>)])),\n",
       "                                                ('gaussiannb',\n",
       "                                                 GaussianNB())]))],\n",
       "                   final_estimator=LogisticRegressionCV(cv=5,\n",
       "                                                        l1_ratios=[0.1, 0.5,\n",
       "                                                                   0.9],\n",
       "                                                        penalty='elasticnet',\n",
       "                                                        solver='saga'),\n",
       "                   n_jobs=-1)"
      ]
     },
     "execution_count": 54,
     "metadata": {},
     "output_type": "execute_result"
    }
   ],
   "source": [
    "%%time \n",
    "set_config(display='diagram') \n",
    "model.fit(X_train, y_train)"
   ]
  },
  {
   "cell_type": "markdown",
   "id": "seasonal-cruise",
   "metadata": {
    "papermill": {
     "duration": 0.156433,
     "end_time": "2022-05-17T08:59:23.616486",
     "exception": false,
     "start_time": "2022-05-17T08:59:23.460053",
     "status": "completed"
    },
    "tags": []
   },
   "source": [
    "### Model evaluation"
   ]
  },
  {
   "cell_type": "markdown",
   "id": "artificial-detective",
   "metadata": {
    "papermill": {
     "duration": 0.162714,
     "end_time": "2022-05-17T08:59:23.901893",
     "exception": false,
     "start_time": "2022-05-17T08:59:23.739179",
     "status": "completed"
    },
    "tags": []
   },
   "source": [
    "#### Model scoring"
   ]
  },
  {
   "cell_type": "code",
   "execution_count": 55,
   "id": "agreed-argentina",
   "metadata": {
    "execution": {
     "iopub.execute_input": "2022-05-17T08:59:24.217723Z",
     "iopub.status.busy": "2022-05-17T08:59:24.216896Z",
     "iopub.status.idle": "2022-05-17T08:59:27.475325Z",
     "shell.execute_reply": "2022-05-17T08:59:27.474514Z"
    },
    "papermill": {
     "duration": 3.439192,
     "end_time": "2022-05-17T08:59:27.475528",
     "exception": false,
     "start_time": "2022-05-17T08:59:24.036336",
     "status": "completed"
    },
    "tags": []
   },
   "outputs": [
    {
     "data": {
      "image/png": "[encoded data removed]",
      "text/plain": [
       "<Figure size 576x360 with 1 Axes>"
      ]
     },
     "metadata": {
      "needs_background": "light"
     },
     "output_type": "display_data"
    },
    {
     "data": {
      "image/png": "[encoded data removed]",
      "text/plain": [
       "<Figure size 432x288 with 1 Axes>"
      ]
     },
     "metadata": {
      "needs_background": "light"
     },
     "output_type": "display_data"
    }
   ],
   "source": [
    "score_stack, mod_imp_score = score_stacking(model, X_train, y_train, X_test, y_test)"
   ]
  },
  {
   "cell_type": "markdown",
   "id": "amateur-huntington",
   "metadata": {
    "papermill": {
     "duration": 0.203106,
     "end_time": "2022-05-17T08:59:27.800819",
     "exception": false,
     "start_time": "2022-05-17T08:59:27.597713",
     "status": "completed"
    },
    "tags": []
   },
   "source": [
    "#### Model importance"
   ]
  },
  {
   "cell_type": "code",
   "execution_count": 56,
   "id": "opposite-advertising",
   "metadata": {
    "execution": {
     "iopub.execute_input": "2022-05-17T08:59:28.124683Z",
     "iopub.status.busy": "2022-05-17T08:59:28.086054Z",
     "iopub.status.idle": "2022-05-17T08:59:28.387781Z",
     "shell.execute_reply": "2022-05-17T08:59:28.387120Z"
    },
    "papermill": {
     "duration": 0.449943,
     "end_time": "2022-05-17T08:59:28.388111",
     "exception": false,
     "start_time": "2022-05-17T08:59:27.938168",
     "status": "completed"
    },
    "tags": []
   },
   "outputs": [
    {
     "data": {
      "image/png": "[encoded data removed]",
      "text/plain": [
       "<Figure size 432x288 with 1 Axes>"
      ]
     },
     "metadata": {
      "needs_background": "light"
     },
     "output_type": "display_data"
    }
   ],
   "source": [
    "model_imp = plot_model_importance(model)"
   ]
  },
  {
   "cell_type": "markdown",
   "id": "civil-pressure",
   "metadata": {
    "papermill": {
     "duration": 0.165448,
     "end_time": "2022-05-17T08:59:28.685115",
     "exception": false,
     "start_time": "2022-05-17T08:59:28.519667",
     "status": "completed"
    },
    "tags": []
   },
   "source": [
    "#### Feature permutation importance (a posteriori)"
   ]
  },
  {
   "cell_type": "code",
   "execution_count": 57,
   "id": "international-northern",
   "metadata": {
    "execution": {
     "iopub.execute_input": "2022-05-17T08:59:29.010404Z",
     "iopub.status.busy": "2022-05-17T08:59:29.009381Z",
     "iopub.status.idle": "2022-05-17T08:59:31.336947Z",
     "shell.execute_reply": "2022-05-17T08:59:31.337735Z"
    },
    "papermill": {
     "duration": 2.513587,
     "end_time": "2022-05-17T08:59:31.337998",
     "exception": false,
     "start_time": "2022-05-17T08:59:28.824411",
     "status": "completed"
    },
    "tags": []
   },
   "outputs": [
    {
     "data": {
      "image/png": "[encoded data removed]",
      "text/plain": [
       "<Figure size 432x288 with 1 Axes>"
      ]
     },
     "metadata": {
      "needs_background": "light"
     },
     "output_type": "display_data"
    },
    {
     "data": {
      "text/plain": [
       "array([['sepal_length', -0.006920415224913503],\n",
       "       ['sepal_width', -0.0034602076124567514],\n",
       "       ['petal_width', 0.0],\n",
       "       ['petal_length', 1.0103806228373702]], dtype=object)"
      ]
     },
     "execution_count": 57,
     "metadata": {},
     "output_type": "execute_result"
    }
   ],
   "source": [
    "plot_perm_importance(model, X_test, y_test)"
   ]
  },
  {
   "cell_type": "markdown",
   "id": "round-miami",
   "metadata": {
    "papermill": {
     "duration": 0.162318,
     "end_time": "2022-05-17T08:59:31.636980",
     "exception": false,
     "start_time": "2022-05-17T08:59:31.474662",
     "status": "completed"
    },
    "tags": []
   },
   "source": [
    "#### Partial Dependence & Individual Conditional Expectation "
   ]
  },
  {
   "cell_type": "markdown",
   "id": "dirty-volume",
   "metadata": {
    "papermill": {
     "duration": 0.158548,
     "end_time": "2022-05-17T08:59:31.932565",
     "exception": false,
     "start_time": "2022-05-17T08:59:31.774017",
     "status": "completed"
    },
    "tags": []
   },
   "source": [
    "##### Features of interest"
   ]
  },
  {
   "cell_type": "code",
   "execution_count": 58,
   "id": "pharmaceutical-cruise",
   "metadata": {
    "execution": {
     "iopub.execute_input": "2022-05-17T08:59:32.262534Z",
     "iopub.status.busy": "2022-05-17T08:59:32.261483Z",
     "iopub.status.idle": "2022-05-17T08:59:32.268526Z",
     "shell.execute_reply": "2022-05-17T08:59:32.267406Z"
    },
    "papermill": {
     "duration": 0.177199,
     "end_time": "2022-05-17T08:59:32.268833",
     "exception": false,
     "start_time": "2022-05-17T08:59:32.091634",
     "status": "completed"
    },
    "tags": []
   },
   "outputs": [],
   "source": [
    "features_of_interest = []"
   ]
  },
  {
   "cell_type": "code",
   "execution_count": 59,
   "id": "patient-renaissance",
   "metadata": {
    "execution": {
     "iopub.execute_input": "2022-05-17T08:59:32.592419Z",
     "iopub.status.busy": "2022-05-17T08:59:32.590692Z",
     "iopub.status.idle": "2022-05-17T08:59:47.982358Z",
     "shell.execute_reply": "2022-05-17T08:59:47.981501Z"
    },
    "papermill": {
     "duration": 15.569733,
     "end_time": "2022-05-17T08:59:47.982694",
     "exception": false,
     "start_time": "2022-05-17T08:59:32.412961",
     "status": "completed"
    },
    "tags": []
   },
   "outputs": [
    {
     "data": {
      "image/png": "[encoded data removed]",
      "text/plain": [
       "<Figure size 432x288 with 5 Axes>"
      ]
     },
     "metadata": {
      "needs_background": "light"
     },
     "output_type": "display_data"
    },
    {
     "data": {
      "image/png": "[encoded data removed]",
      "text/plain": [
       "<Figure size 432x288 with 5 Axes>"
      ]
     },
     "metadata": {
      "needs_background": "light"
     },
     "output_type": "display_data"
    },
    {
     "data": {
      "image/png": "[encoded data removed]",
      "text/plain": [
       "<Figure size 432x288 with 5 Axes>"
      ]
     },
     "metadata": {
      "needs_background": "light"
     },
     "output_type": "display_data"
    }
   ],
   "source": [
    "plot_partial_dependence(model, X_train, features_of_interest)"
   ]
  },
  {
   "cell_type": "markdown",
   "id": "pharmaceutical-majority",
   "metadata": {
    "papermill": {
     "duration": 0.168808,
     "end_time": "2022-05-17T08:59:48.281232",
     "exception": false,
     "start_time": "2022-05-17T08:59:48.112424",
     "status": "completed"
    },
    "tags": []
   },
   "source": [
    "#### Classification report"
   ]
  },
  {
   "cell_type": "code",
   "execution_count": 60,
   "id": "modified-apache",
   "metadata": {
    "execution": {
     "iopub.execute_input": "2022-05-17T08:59:48.616875Z",
     "iopub.status.busy": "2022-05-17T08:59:48.615809Z",
     "iopub.status.idle": "2022-05-17T08:59:49.245406Z",
     "shell.execute_reply": "2022-05-17T08:59:49.246006Z"
    },
    "papermill": {
     "duration": 0.820035,
     "end_time": "2022-05-17T08:59:49.246239",
     "exception": false,
     "start_time": "2022-05-17T08:59:48.426204",
     "status": "completed"
    },
    "tags": []
   },
   "outputs": [
    {
     "data": {
      "text/html": [
       "<style type=\"text/css\">\n",
       "</style>\n",
       "<table id=\"T_8566c\">\n",
       "  <caption>Classification report on train set</caption>\n",
       "  <thead>\n",
       "    <tr>\n",
       "      <th class=\"blank level0\" >&nbsp;</th>\n",
       "      <th id=\"T_8566c_level0_col0\" class=\"col_heading level0 col0\" >precision</th>\n",
       "      <th id=\"T_8566c_level0_col1\" class=\"col_heading level0 col1\" >recall</th>\n",
       "      <th id=\"T_8566c_level0_col2\" class=\"col_heading level0 col2\" >f1-score</th>\n",
       "      <th id=\"T_8566c_level0_col3\" class=\"col_heading level0 col3\" >support</th>\n",
       "    </tr>\n",
       "  </thead>\n",
       "  <tbody>\n",
       "    <tr>\n",
       "      <th id=\"T_8566c_level0_row0\" class=\"row_heading level0 row0\" >0</th>\n",
       "      <td id=\"T_8566c_row0_col0\" class=\"data row0 col0\" >1.000000</td>\n",
       "      <td id=\"T_8566c_row0_col1\" class=\"data row0 col1\" >1.000000</td>\n",
       "      <td id=\"T_8566c_row0_col2\" class=\"data row0 col2\" >1.000000</td>\n",
       "      <td id=\"T_8566c_row0_col3\" class=\"data row0 col3\" >29.000000</td>\n",
       "    </tr>\n",
       "    <tr>\n",
       "      <th id=\"T_8566c_level0_row1\" class=\"row_heading level0 row1\" >1</th>\n",
       "      <td id=\"T_8566c_row1_col0\" class=\"data row1 col0\" >1.000000</td>\n",
       "      <td id=\"T_8566c_row1_col1\" class=\"data row1 col1\" >1.000000</td>\n",
       "      <td id=\"T_8566c_row1_col2\" class=\"data row1 col2\" >1.000000</td>\n",
       "      <td id=\"T_8566c_row1_col3\" class=\"data row1 col3\" >34.000000</td>\n",
       "    </tr>\n",
       "    <tr>\n",
       "      <th id=\"T_8566c_level0_row2\" class=\"row_heading level0 row2\" >2</th>\n",
       "      <td id=\"T_8566c_row2_col0\" class=\"data row2 col0\" >1.000000</td>\n",
       "      <td id=\"T_8566c_row2_col1\" class=\"data row2 col1\" >1.000000</td>\n",
       "      <td id=\"T_8566c_row2_col2\" class=\"data row2 col2\" >1.000000</td>\n",
       "      <td id=\"T_8566c_row2_col3\" class=\"data row2 col3\" >37.000000</td>\n",
       "    </tr>\n",
       "    <tr>\n",
       "      <th id=\"T_8566c_level0_row3\" class=\"row_heading level0 row3\" >accuracy</th>\n",
       "      <td id=\"T_8566c_row3_col0\" class=\"data row3 col0\" >1.000000</td>\n",
       "      <td id=\"T_8566c_row3_col1\" class=\"data row3 col1\" >1.000000</td>\n",
       "      <td id=\"T_8566c_row3_col2\" class=\"data row3 col2\" >1.000000</td>\n",
       "      <td id=\"T_8566c_row3_col3\" class=\"data row3 col3\" >1.000000</td>\n",
       "    </tr>\n",
       "    <tr>\n",
       "      <th id=\"T_8566c_level0_row4\" class=\"row_heading level0 row4\" >macro avg</th>\n",
       "      <td id=\"T_8566c_row4_col0\" class=\"data row4 col0\" >1.000000</td>\n",
       "      <td id=\"T_8566c_row4_col1\" class=\"data row4 col1\" >1.000000</td>\n",
       "      <td id=\"T_8566c_row4_col2\" class=\"data row4 col2\" >1.000000</td>\n",
       "      <td id=\"T_8566c_row4_col3\" class=\"data row4 col3\" >100.000000</td>\n",
       "    </tr>\n",
       "    <tr>\n",
       "      <th id=\"T_8566c_level0_row5\" class=\"row_heading level0 row5\" >weighted avg</th>\n",
       "      <td id=\"T_8566c_row5_col0\" class=\"data row5 col0\" >1.000000</td>\n",
       "      <td id=\"T_8566c_row5_col1\" class=\"data row5 col1\" >1.000000</td>\n",
       "      <td id=\"T_8566c_row5_col2\" class=\"data row5 col2\" >1.000000</td>\n",
       "      <td id=\"T_8566c_row5_col3\" class=\"data row5 col3\" >100.000000</td>\n",
       "    </tr>\n",
       "  </tbody>\n",
       "</table>\n"
      ],
      "text/plain": [
       "<pandas.io.formats.style.Styler at 0x7fdfd01aff40>"
      ]
     },
     "metadata": {},
     "output_type": "display_data"
    },
    {
     "data": {
      "text/html": [
       "<style type=\"text/css\">\n",
       "</style>\n",
       "<table id=\"T_24a96\">\n",
       "  <caption>Classification report on test set</caption>\n",
       "  <thead>\n",
       "    <tr>\n",
       "      <th class=\"blank level0\" >&nbsp;</th>\n",
       "      <th id=\"T_24a96_level0_col0\" class=\"col_heading level0 col0\" >precision</th>\n",
       "      <th id=\"T_24a96_level0_col1\" class=\"col_heading level0 col1\" >recall</th>\n",
       "      <th id=\"T_24a96_level0_col2\" class=\"col_heading level0 col2\" >f1-score</th>\n",
       "      <th id=\"T_24a96_level0_col3\" class=\"col_heading level0 col3\" >support</th>\n",
       "    </tr>\n",
       "  </thead>\n",
       "  <tbody>\n",
       "    <tr>\n",
       "      <th id=\"T_24a96_level0_row0\" class=\"row_heading level0 row0\" >0</th>\n",
       "      <td id=\"T_24a96_row0_col0\" class=\"data row0 col0\" >1.000000</td>\n",
       "      <td id=\"T_24a96_row0_col1\" class=\"data row0 col1\" >1.000000</td>\n",
       "      <td id=\"T_24a96_row0_col2\" class=\"data row0 col2\" >1.000000</td>\n",
       "      <td id=\"T_24a96_row0_col3\" class=\"data row0 col3\" >21.000000</td>\n",
       "    </tr>\n",
       "    <tr>\n",
       "      <th id=\"T_24a96_level0_row1\" class=\"row_heading level0 row1\" >1</th>\n",
       "      <td id=\"T_24a96_row1_col0\" class=\"data row1 col0\" >0.933333</td>\n",
       "      <td id=\"T_24a96_row1_col1\" class=\"data row1 col1\" >0.875000</td>\n",
       "      <td id=\"T_24a96_row1_col2\" class=\"data row1 col2\" >0.903226</td>\n",
       "      <td id=\"T_24a96_row1_col3\" class=\"data row1 col3\" >16.000000</td>\n",
       "    </tr>\n",
       "    <tr>\n",
       "      <th id=\"T_24a96_level0_row2\" class=\"row_heading level0 row2\" >2</th>\n",
       "      <td id=\"T_24a96_row2_col0\" class=\"data row2 col0\" >0.857143</td>\n",
       "      <td id=\"T_24a96_row2_col1\" class=\"data row2 col1\" >0.923077</td>\n",
       "      <td id=\"T_24a96_row2_col2\" class=\"data row2 col2\" >0.888889</td>\n",
       "      <td id=\"T_24a96_row2_col3\" class=\"data row2 col3\" >13.000000</td>\n",
       "    </tr>\n",
       "    <tr>\n",
       "      <th id=\"T_24a96_level0_row3\" class=\"row_heading level0 row3\" >accuracy</th>\n",
       "      <td id=\"T_24a96_row3_col0\" class=\"data row3 col0\" >0.940000</td>\n",
       "      <td id=\"T_24a96_row3_col1\" class=\"data row3 col1\" >0.940000</td>\n",
       "      <td id=\"T_24a96_row3_col2\" class=\"data row3 col2\" >0.940000</td>\n",
       "      <td id=\"T_24a96_row3_col3\" class=\"data row3 col3\" >0.940000</td>\n",
       "    </tr>\n",
       "    <tr>\n",
       "      <th id=\"T_24a96_level0_row4\" class=\"row_heading level0 row4\" >macro avg</th>\n",
       "      <td id=\"T_24a96_row4_col0\" class=\"data row4 col0\" >0.930159</td>\n",
       "      <td id=\"T_24a96_row4_col1\" class=\"data row4 col1\" >0.932692</td>\n",
       "      <td id=\"T_24a96_row4_col2\" class=\"data row4 col2\" >0.930705</td>\n",
       "      <td id=\"T_24a96_row4_col3\" class=\"data row4 col3\" >50.000000</td>\n",
       "    </tr>\n",
       "    <tr>\n",
       "      <th id=\"T_24a96_level0_row5\" class=\"row_heading level0 row5\" >weighted avg</th>\n",
       "      <td id=\"T_24a96_row5_col0\" class=\"data row5 col0\" >0.941524</td>\n",
       "      <td id=\"T_24a96_row5_col1\" class=\"data row5 col1\" >0.940000</td>\n",
       "      <td id=\"T_24a96_row5_col2\" class=\"data row5 col2\" >0.940143</td>\n",
       "      <td id=\"T_24a96_row5_col3\" class=\"data row5 col3\" >50.000000</td>\n",
       "    </tr>\n",
       "  </tbody>\n",
       "</table>\n"
      ],
      "text/plain": [
       "<pandas.io.formats.style.Styler at 0x7fdfd04eaee0>"
      ]
     },
     "metadata": {},
     "output_type": "display_data"
    }
   ],
   "source": [
    "K_classification_report(model, X_train, y_train, X_test, y_test)"
   ]
  },
  {
   "cell_type": "markdown",
   "id": "trying-twenty",
   "metadata": {
    "papermill": {
     "duration": 0.17195,
     "end_time": "2022-05-17T08:59:49.550001",
     "exception": false,
     "start_time": "2022-05-17T08:59:49.378051",
     "status": "completed"
    },
    "tags": []
   },
   "source": [
    "#### Confusion matrix"
   ]
  },
  {
   "cell_type": "code",
   "execution_count": 61,
   "id": "normal-bottom",
   "metadata": {
    "execution": {
     "iopub.execute_input": "2022-05-17T08:59:49.885603Z",
     "iopub.status.busy": "2022-05-17T08:59:49.884301Z",
     "iopub.status.idle": "2022-05-17T08:59:51.247786Z",
     "shell.execute_reply": "2022-05-17T08:59:51.247001Z"
    },
    "papermill": {
     "duration": 1.539874,
     "end_time": "2022-05-17T08:59:51.247987",
     "exception": false,
     "start_time": "2022-05-17T08:59:49.708113",
     "status": "completed"
    },
    "tags": []
   },
   "outputs": [
    {
     "data": {
      "image/png": "[encoded data removed]",
      "text/plain": [
       "<Figure size 432x288 with 2 Axes>"
      ]
     },
     "metadata": {
      "needs_background": "light"
     },
     "output_type": "display_data"
    },
    {
     "data": {
      "image/png": "[encoded data removed]",
      "text/plain": [
       "<Figure size 432x288 with 2 Axes>"
      ]
     },
     "metadata": {
      "needs_background": "light"
     },
     "output_type": "display_data"
    }
   ],
   "source": [
    "K_confusion_matrix(model, X_train, y_train, X_test, y_test)"
   ]
  },
  {
   "cell_type": "markdown",
   "id": "stuck-virginia",
   "metadata": {
    "papermill": {
     "duration": 0.179686,
     "end_time": "2022-05-17T08:59:51.559894",
     "exception": false,
     "start_time": "2022-05-17T08:59:51.380208",
     "status": "completed"
    },
    "tags": []
   },
   "source": [
    "### Final Model"
   ]
  },
  {
   "cell_type": "code",
   "execution_count": 62,
   "id": "angry-biotechnology",
   "metadata": {
    "execution": {
     "iopub.execute_input": "2022-05-17T08:59:51.898634Z",
     "iopub.status.busy": "2022-05-17T08:59:51.897492Z",
     "iopub.status.idle": "2022-05-17T08:59:51.904738Z",
     "shell.execute_reply": "2022-05-17T08:59:51.905693Z"
    },
    "papermill": {
     "duration": 0.194744,
     "end_time": "2022-05-17T08:59:51.906135",
     "exception": false,
     "start_time": "2022-05-17T08:59:51.711391",
     "status": "completed"
    },
    "tags": []
   },
   "outputs": [],
   "source": [
    "threshold_model = 5"
   ]
  },
  {
   "cell_type": "code",
   "execution_count": 63,
   "id": "internal-address",
   "metadata": {
    "execution": {
     "iopub.execute_input": "2022-05-17T08:59:52.228647Z",
     "iopub.status.busy": "2022-05-17T08:59:52.227261Z",
     "iopub.status.idle": "2022-05-17T08:59:52.233241Z",
     "shell.execute_reply": "2022-05-17T08:59:52.232411Z"
    },
    "papermill": {
     "duration": 0.181038,
     "end_time": "2022-05-17T08:59:52.233454",
     "exception": false,
     "start_time": "2022-05-17T08:59:52.052416",
     "status": "completed"
    },
    "tags": []
   },
   "outputs": [],
   "source": [
    "threshold_score = 0.5"
   ]
  },
  {
   "cell_type": "markdown",
   "id": "reflected-universe",
   "metadata": {
    "papermill": {
     "duration": 0.171797,
     "end_time": "2022-05-17T08:59:52.552990",
     "exception": false,
     "start_time": "2022-05-17T08:59:52.381193",
     "status": "completed"
    },
    "tags": []
   },
   "source": [
    "##### Filtered Level-0 models"
   ]
  },
  {
   "cell_type": "code",
   "execution_count": 64,
   "id": "mental-rapid",
   "metadata": {
    "execution": {
     "iopub.execute_input": "2022-05-17T08:59:52.892088Z",
     "iopub.status.busy": "2022-05-17T08:59:52.891239Z",
     "iopub.status.idle": "2022-05-17T08:59:52.897113Z",
     "shell.execute_reply": "2022-05-17T08:59:52.896234Z"
    },
    "papermill": {
     "duration": 0.188634,
     "end_time": "2022-05-17T08:59:52.897351",
     "exception": false,
     "start_time": "2022-05-17T08:59:52.708717",
     "status": "completed"
    },
    "tags": []
   },
   "outputs": [],
   "source": [
    "level_0_f = model_filtering(level_0, model_imp, threshold_model, score_stack, threshold_score)"
   ]
  },
  {
   "cell_type": "markdown",
   "id": "electoral-thanks",
   "metadata": {
    "papermill": {
     "duration": 0.172407,
     "end_time": "2022-05-17T08:59:53.226121",
     "exception": false,
     "start_time": "2022-05-17T08:59:53.053714",
     "status": "completed"
    },
    "tags": []
   },
   "source": [
    "##### Final Level-1 model"
   ]
  },
  {
   "cell_type": "code",
   "execution_count": 65,
   "id": "saved-reunion",
   "metadata": {
    "execution": {
     "iopub.execute_input": "2022-05-17T08:59:53.573385Z",
     "iopub.status.busy": "2022-05-17T08:59:53.571852Z",
     "iopub.status.idle": "2022-05-17T08:59:53.578634Z",
     "shell.execute_reply": "2022-05-17T08:59:53.577600Z"
    },
    "papermill": {
     "duration": 0.196019,
     "end_time": "2022-05-17T08:59:53.578971",
     "exception": false,
     "start_time": "2022-05-17T08:59:53.382952",
     "status": "completed"
    },
    "tags": []
   },
   "outputs": [],
   "source": [
    "level_1 = LogisticRegressionCV(cv=5, solver='saga', penalty='elasticnet', l1_ratios=[0.1, 0.5, 0.9])"
   ]
  },
  {
   "cell_type": "markdown",
   "id": "superior-faith",
   "metadata": {
    "papermill": {
     "duration": 0.163311,
     "end_time": "2022-05-17T08:59:53.886557",
     "exception": false,
     "start_time": "2022-05-17T08:59:53.723246",
     "status": "completed"
    },
    "tags": []
   },
   "source": [
    "##### Build final model"
   ]
  },
  {
   "cell_type": "code",
   "execution_count": 66,
   "id": "laughing-criticism",
   "metadata": {
    "execution": {
     "iopub.execute_input": "2022-05-17T08:59:54.218480Z",
     "iopub.status.busy": "2022-05-17T08:59:54.217710Z",
     "iopub.status.idle": "2022-05-17T08:59:54.222184Z",
     "shell.execute_reply": "2022-05-17T08:59:54.221388Z"
    },
    "papermill": {
     "duration": 0.182952,
     "end_time": "2022-05-17T08:59:54.222386",
     "exception": false,
     "start_time": "2022-05-17T08:59:54.039434",
     "status": "completed"
    },
    "tags": []
   },
   "outputs": [],
   "source": [
    "model = StackingClassifier(level_0_f, final_estimator=level_1, n_jobs=-1)"
   ]
  },
  {
   "cell_type": "markdown",
   "id": "indie-tender",
   "metadata": {
    "papermill": {
     "duration": 0.175966,
     "end_time": "2022-05-17T08:59:54.543582",
     "exception": false,
     "start_time": "2022-05-17T08:59:54.367616",
     "status": "completed"
    },
    "tags": []
   },
   "source": [
    "### Final Model fitting"
   ]
  },
  {
   "cell_type": "code",
   "execution_count": 67,
   "id": "alive-haiti",
   "metadata": {
    "execution": {
     "iopub.execute_input": "2022-05-17T08:59:54.877749Z",
     "iopub.status.busy": "2022-05-17T08:59:54.876195Z",
     "iopub.status.idle": "2022-05-17T09:00:02.140133Z",
     "shell.execute_reply": "2022-05-17T09:00:02.140751Z"
    },
    "papermill": {
     "duration": 7.44892,
     "end_time": "2022-05-17T09:00:02.140993",
     "exception": false,
     "start_time": "2022-05-17T08:59:54.692073",
     "status": "completed"
    },
    "tags": []
   },
   "outputs": [
    {
     "name": "stdout",
     "output_type": "stream",
     "text": [
      "CPU times: user 1 s, sys: 12.4 ms, total: 1.02 s\n",
      "Wall time: 6.04 s\n"
     ]
    },
    {
     "data": {
      "text/html": [
       "<style>#sk-container-id-2 {color: black;background-color: white;}#sk-container-id-2 pre{padding: 0;}#sk-container-id-2 div.sk-toggleable {background-color: white;}#sk-container-id-2 label.sk-toggleable__label {cursor: pointer;display: block;width: 100%;margin-bottom: 0;padding: 0.3em;box-sizing: border-box;text-align: center;}#sk-container-id-2 label.sk-toggleable__label-arrow:before {content: \"▸\";float: left;margin-right: 0.25em;color: #696969;}#sk-container-id-2 label.sk-toggleable__label-arrow:hover:before {color: black;}#sk-container-id-2 div.sk-estimator:hover label.sk-toggleable__label-arrow:before {color: black;}#sk-container-id-2 div.sk-toggleable__content {max-height: 0;max-width: 0;overflow: hidden;text-align: left;background-color: #f0f8ff;}#sk-container-id-2 div.sk-toggleable__content pre {margin: 0.2em;color: black;border-radius: 0.25em;background-color: #f0f8ff;}#sk-container-id-2 input.sk-toggleable__control:checked~div.sk-toggleable__content {max-height: 200px;max-width: 100%;overflow: auto;}#sk-container-id-2 input.sk-toggleable__control:checked~label.sk-toggleable__label-arrow:before {content: \"▾\";}#sk-container-id-2 div.sk-estimator input.sk-toggleable__control:checked~label.sk-toggleable__label {background-color: #d4ebff;}#sk-container-id-2 div.sk-label input.sk-toggleable__control:checked~label.sk-toggleable__label {background-color: #d4ebff;}#sk-container-id-2 input.sk-hidden--visually {border: 0;clip: rect(1px 1px 1px 1px);clip: rect(1px, 1px, 1px, 1px);height: 1px;margin: -1px;overflow: hidden;padding: 0;position: absolute;width: 1px;}#sk-container-id-2 div.sk-estimator {font-family: monospace;background-color: #f0f8ff;border: 1px dotted black;border-radius: 0.25em;box-sizing: border-box;margin-bottom: 0.5em;}#sk-container-id-2 div.sk-estimator:hover {background-color: #d4ebff;}#sk-container-id-2 div.sk-parallel-item::after {content: \"\";width: 100%;border-bottom: 1px solid gray;flex-grow: 1;}#sk-container-id-2 div.sk-label:hover label.sk-toggleable__label {background-color: #d4ebff;}#sk-container-id-2 div.sk-serial::before {content: \"\";position: absolute;border-left: 1px solid gray;box-sizing: border-box;top: 0;bottom: 0;left: 50%;z-index: 0;}#sk-container-id-2 div.sk-serial {display: flex;flex-direction: column;align-items: center;background-color: white;padding-right: 0.2em;padding-left: 0.2em;position: relative;}#sk-container-id-2 div.sk-item {position: relative;z-index: 1;}#sk-container-id-2 div.sk-parallel {display: flex;align-items: stretch;justify-content: center;background-color: white;position: relative;}#sk-container-id-2 div.sk-item::before, #sk-container-id-2 div.sk-parallel-item::before {content: \"\";position: absolute;border-left: 1px solid gray;box-sizing: border-box;top: 0;bottom: 0;left: 50%;z-index: -1;}#sk-container-id-2 div.sk-parallel-item {display: flex;flex-direction: column;z-index: 1;position: relative;background-color: white;}#sk-container-id-2 div.sk-parallel-item:first-child::after {align-self: flex-end;width: 50%;}#sk-container-id-2 div.sk-parallel-item:last-child::after {align-self: flex-start;width: 50%;}#sk-container-id-2 div.sk-parallel-item:only-child::after {width: 0;}#sk-container-id-2 div.sk-dashed-wrapped {border: 1px dashed gray;margin: 0 0.4em 0.5em 0.4em;box-sizing: border-box;padding-bottom: 0.4em;background-color: white;}#sk-container-id-2 div.sk-label label {font-family: monospace;font-weight: bold;display: inline-block;line-height: 1.2em;}#sk-container-id-2 div.sk-label-container {text-align: center;}#sk-container-id-2 div.sk-container {/* jupyter's `normalize.less` sets `[hidden] { display: none; }` but bootstrap.min.css set `[hidden] { display: none !important; }` so we also need the `!important` here to be able to override the default hidden behavior on the sphinx rendered scikit-learn.org. See: https://github.com/scikit-learn/scikit-learn/issues/21755 */display: inline-block !important;position: relative;}#sk-container-id-2 div.sk-text-repr-fallback {display: none;}</style><div id=\"sk-container-id-2\" class=\"sk-top-container\"><div class=\"sk-text-repr-fallback\"><pre>StackingClassifier(estimators=[(&#x27;DTC&#x27;,\n",
       "                                Pipeline(steps=[(&#x27;columntransformer&#x27;,\n",
       "                                                 ColumnTransformer(transformers=[(&#x27;pipeline-1&#x27;,\n",
       "                                                                                  Pipeline(steps=[(&#x27;simpleimputer&#x27;,\n",
       "                                                                                                   SimpleImputer(add_indicator=True)),\n",
       "                                                                                                  (&#x27;decorrelator&#x27;,\n",
       "                                                                                                   Decorrelator(threshold=0.95))]),\n",
       "                                                                                  &lt;sklearn.compose._column_transformer.make_column_selector object at 0x7fdfd0f73cd0&gt;),\n",
       "                                                                                 (&#x27;pipeline-2&#x27;,\n",
       "                                                                                  Pipeline(steps=[(...\n",
       "                                                                                                   OneHotEncoder(handle_unknown=&#x27;ignore&#x27;,\n",
       "                                                                                                                 sparse=False)),\n",
       "                                                                                                  (&#x27;decorrelator&#x27;,\n",
       "                                                                                                   Decorrelator(threshold=0.95))]),\n",
       "                                                                                  &lt;sklearn.compose._column_transformer.make_column_selector object at 0x7fdfd0f024c0&gt;)])),\n",
       "                                                (&#x27;kneighborsclassifier&#x27;,\n",
       "                                                 KNeighborsClassifier(n_neighbors=3))]))],\n",
       "                   final_estimator=LogisticRegressionCV(cv=5,\n",
       "                                                        l1_ratios=[0.1, 0.5,\n",
       "                                                                   0.9],\n",
       "                                                        penalty=&#x27;elasticnet&#x27;,\n",
       "                                                        solver=&#x27;saga&#x27;),\n",
       "                   n_jobs=-1)</pre><b>In a Jupyter environment, please rerun this cell to show the HTML representation or trust the notebook. <br />On GitHub, the HTML representation is unable to render, please try loading this page with nbviewer.org.</b></div><div class=\"sk-container\" hidden><div class=\"sk-item sk-dashed-wrapped\"><div class=\"sk-label-container\"><div class=\"sk-label sk-toggleable\"><input class=\"sk-toggleable__control sk-hidden--visually\" id=\"sk-estimator-id-109\" type=\"checkbox\" ><label for=\"sk-estimator-id-109\" class=\"sk-toggleable__label sk-toggleable__label-arrow\">StackingClassifier</label><div class=\"sk-toggleable__content\"><pre>StackingClassifier(estimators=[(&#x27;DTC&#x27;,\n",
       "                                Pipeline(steps=[(&#x27;columntransformer&#x27;,\n",
       "                                                 ColumnTransformer(transformers=[(&#x27;pipeline-1&#x27;,\n",
       "                                                                                  Pipeline(steps=[(&#x27;simpleimputer&#x27;,\n",
       "                                                                                                   SimpleImputer(add_indicator=True)),\n",
       "                                                                                                  (&#x27;decorrelator&#x27;,\n",
       "                                                                                                   Decorrelator(threshold=0.95))]),\n",
       "                                                                                  &lt;sklearn.compose._column_transformer.make_column_selector object at 0x7fdfd0f73cd0&gt;),\n",
       "                                                                                 (&#x27;pipeline-2&#x27;,\n",
       "                                                                                  Pipeline(steps=[(...\n",
       "                                                                                                   OneHotEncoder(handle_unknown=&#x27;ignore&#x27;,\n",
       "                                                                                                                 sparse=False)),\n",
       "                                                                                                  (&#x27;decorrelator&#x27;,\n",
       "                                                                                                   Decorrelator(threshold=0.95))]),\n",
       "                                                                                  &lt;sklearn.compose._column_transformer.make_column_selector object at 0x7fdfd0f024c0&gt;)])),\n",
       "                                                (&#x27;kneighborsclassifier&#x27;,\n",
       "                                                 KNeighborsClassifier(n_neighbors=3))]))],\n",
       "                   final_estimator=LogisticRegressionCV(cv=5,\n",
       "                                                        l1_ratios=[0.1, 0.5,\n",
       "                                                                   0.9],\n",
       "                                                        penalty=&#x27;elasticnet&#x27;,\n",
       "                                                        solver=&#x27;saga&#x27;),\n",
       "                   n_jobs=-1)</pre></div></div></div><div class=\"sk-serial\"><div class=\"sk-item\"><div class=\"sk-parallel\"><div class=\"sk-parallel-item\"><div class=\"sk-item\"><div class=\"sk-label-container\"><div class=\"sk-label sk-toggleable\"><label>DTC</label></div></div><div class=\"sk-serial\"><div class=\"sk-item\"><div class=\"sk-serial\"><div class=\"sk-item sk-dashed-wrapped\"><div class=\"sk-label-container\"><div class=\"sk-label sk-toggleable\"><input class=\"sk-toggleable__control sk-hidden--visually\" id=\"sk-estimator-id-110\" type=\"checkbox\" ><label for=\"sk-estimator-id-110\" class=\"sk-toggleable__label sk-toggleable__label-arrow\">columntransformer: ColumnTransformer</label><div class=\"sk-toggleable__content\"><pre>ColumnTransformer(transformers=[(&#x27;pipeline-1&#x27;,\n",
       "                                 Pipeline(steps=[(&#x27;simpleimputer&#x27;,\n",
       "                                                  SimpleImputer(add_indicator=True)),\n",
       "                                                 (&#x27;decorrelator&#x27;,\n",
       "                                                  Decorrelator(threshold=0.95))]),\n",
       "                                 &lt;sklearn.compose._column_transformer.make_column_selector object at 0x7fdfd0f73cd0&gt;),\n",
       "                                (&#x27;pipeline-2&#x27;,\n",
       "                                 Pipeline(steps=[(&#x27;simpleimputer&#x27;,\n",
       "                                                  SimpleImputer(strategy=&#x27;most_frequent&#x27;)),\n",
       "                                                 (&#x27;ordinalencoder&#x27;,\n",
       "                                                  OrdinalEncoder(handle_unknown=&#x27;use_encoded_value&#x27;,\n",
       "                                                                 unknown_value=-1)),\n",
       "                                                 (&#x27;decorrelator&#x27;,\n",
       "                                                  Decorrelator(threshold=0.95))]),\n",
       "                                 &lt;sklearn.compose._column_transformer.make_column_selector object at 0x7fdfd0f024c0&gt;)])</pre></div></div></div><div class=\"sk-parallel\"><div class=\"sk-parallel-item\"><div class=\"sk-item\"><div class=\"sk-label-container\"><div class=\"sk-label sk-toggleable\"><input class=\"sk-toggleable__control sk-hidden--visually\" id=\"sk-estimator-id-111\" type=\"checkbox\" ><label for=\"sk-estimator-id-111\" class=\"sk-toggleable__label sk-toggleable__label-arrow\">pipeline-1</label><div class=\"sk-toggleable__content\"><pre>&lt;sklearn.compose._column_transformer.make_column_selector object at 0x7fdfd0f73cd0&gt;</pre></div></div></div><div class=\"sk-serial\"><div class=\"sk-item\"><div class=\"sk-serial\"><div class=\"sk-item\"><div class=\"sk-estimator sk-toggleable\"><input class=\"sk-toggleable__control sk-hidden--visually\" id=\"sk-estimator-id-112\" type=\"checkbox\" ><label for=\"sk-estimator-id-112\" class=\"sk-toggleable__label sk-toggleable__label-arrow\">SimpleImputer</label><div class=\"sk-toggleable__content\"><pre>SimpleImputer(add_indicator=True)</pre></div></div></div><div class=\"sk-item\"><div class=\"sk-estimator sk-toggleable\"><input class=\"sk-toggleable__control sk-hidden--visually\" id=\"sk-estimator-id-113\" type=\"checkbox\" ><label for=\"sk-estimator-id-113\" class=\"sk-toggleable__label sk-toggleable__label-arrow\">Decorrelator</label><div class=\"sk-toggleable__content\"><pre>Decorrelator(threshold=0.95)</pre></div></div></div></div></div></div></div></div><div class=\"sk-parallel-item\"><div class=\"sk-item\"><div class=\"sk-label-container\"><div class=\"sk-label sk-toggleable\"><input class=\"sk-toggleable__control sk-hidden--visually\" id=\"sk-estimator-id-114\" type=\"checkbox\" ><label for=\"sk-estimator-id-114\" class=\"sk-toggleable__label sk-toggleable__label-arrow\">pipeline-2</label><div class=\"sk-toggleable__content\"><pre>&lt;sklearn.compose._column_transformer.make_column_selector object at 0x7fdfd0f024c0&gt;</pre></div></div></div><div class=\"sk-serial\"><div class=\"sk-item\"><div class=\"sk-serial\"><div class=\"sk-item\"><div class=\"sk-estimator sk-toggleable\"><input class=\"sk-toggleable__control sk-hidden--visually\" id=\"sk-estimator-id-115\" type=\"checkbox\" ><label for=\"sk-estimator-id-115\" class=\"sk-toggleable__label sk-toggleable__label-arrow\">SimpleImputer</label><div class=\"sk-toggleable__content\"><pre>SimpleImputer(strategy=&#x27;most_frequent&#x27;)</pre></div></div></div><div class=\"sk-item\"><div class=\"sk-estimator sk-toggleable\"><input class=\"sk-toggleable__control sk-hidden--visually\" id=\"sk-estimator-id-116\" type=\"checkbox\" ><label for=\"sk-estimator-id-116\" class=\"sk-toggleable__label sk-toggleable__label-arrow\">OrdinalEncoder</label><div class=\"sk-toggleable__content\"><pre>OrdinalEncoder(handle_unknown=&#x27;use_encoded_value&#x27;, unknown_value=-1)</pre></div></div></div><div class=\"sk-item\"><div class=\"sk-estimator sk-toggleable\"><input class=\"sk-toggleable__control sk-hidden--visually\" id=\"sk-estimator-id-117\" type=\"checkbox\" ><label for=\"sk-estimator-id-117\" class=\"sk-toggleable__label sk-toggleable__label-arrow\">Decorrelator</label><div class=\"sk-toggleable__content\"><pre>Decorrelator(threshold=0.95)</pre></div></div></div></div></div></div></div></div></div></div><div class=\"sk-item\"><div class=\"sk-estimator sk-toggleable\"><input class=\"sk-toggleable__control sk-hidden--visually\" id=\"sk-estimator-id-118\" type=\"checkbox\" ><label for=\"sk-estimator-id-118\" class=\"sk-toggleable__label sk-toggleable__label-arrow\">DecisionTreeClassifier</label><div class=\"sk-toggleable__content\"><pre>DecisionTreeClassifier(max_depth=5)</pre></div></div></div></div></div></div></div></div><div class=\"sk-parallel-item\"><div class=\"sk-item\"><div class=\"sk-label-container\"><div class=\"sk-label sk-toggleable\"><label>ABC</label></div></div><div class=\"sk-serial\"><div class=\"sk-item\"><div class=\"sk-serial\"><div class=\"sk-item sk-dashed-wrapped\"><div class=\"sk-label-container\"><div class=\"sk-label sk-toggleable\"><input class=\"sk-toggleable__control sk-hidden--visually\" id=\"sk-estimator-id-119\" type=\"checkbox\" ><label for=\"sk-estimator-id-119\" class=\"sk-toggleable__label sk-toggleable__label-arrow\">columntransformer: ColumnTransformer</label><div class=\"sk-toggleable__content\"><pre>ColumnTransformer(transformers=[(&#x27;pipeline-1&#x27;,\n",
       "                                 Pipeline(steps=[(&#x27;simpleimputer&#x27;,\n",
       "                                                  SimpleImputer(add_indicator=True)),\n",
       "                                                 (&#x27;decorrelator&#x27;,\n",
       "                                                  Decorrelator(threshold=0.95))]),\n",
       "                                 &lt;sklearn.compose._column_transformer.make_column_selector object at 0x7fdfd0f73cd0&gt;),\n",
       "                                (&#x27;pipeline-2&#x27;,\n",
       "                                 Pipeline(steps=[(&#x27;simpleimputer&#x27;,\n",
       "                                                  SimpleImputer(strategy=&#x27;most_frequent&#x27;)),\n",
       "                                                 (&#x27;ordinalencoder&#x27;,\n",
       "                                                  OrdinalEncoder(handle_unknown=&#x27;use_encoded_value&#x27;,\n",
       "                                                                 unknown_value=-1)),\n",
       "                                                 (&#x27;decorrelator&#x27;,\n",
       "                                                  Decorrelator(threshold=0.95))]),\n",
       "                                 &lt;sklearn.compose._column_transformer.make_column_selector object at 0x7fdfd0f024c0&gt;)])</pre></div></div></div><div class=\"sk-parallel\"><div class=\"sk-parallel-item\"><div class=\"sk-item\"><div class=\"sk-label-container\"><div class=\"sk-label sk-toggleable\"><input class=\"sk-toggleable__control sk-hidden--visually\" id=\"sk-estimator-id-120\" type=\"checkbox\" ><label for=\"sk-estimator-id-120\" class=\"sk-toggleable__label sk-toggleable__label-arrow\">pipeline-1</label><div class=\"sk-toggleable__content\"><pre>&lt;sklearn.compose._column_transformer.make_column_selector object at 0x7fdfd0f73cd0&gt;</pre></div></div></div><div class=\"sk-serial\"><div class=\"sk-item\"><div class=\"sk-serial\"><div class=\"sk-item\"><div class=\"sk-estimator sk-toggleable\"><input class=\"sk-toggleable__control sk-hidden--visually\" id=\"sk-estimator-id-121\" type=\"checkbox\" ><label for=\"sk-estimator-id-121\" class=\"sk-toggleable__label sk-toggleable__label-arrow\">SimpleImputer</label><div class=\"sk-toggleable__content\"><pre>SimpleImputer(add_indicator=True)</pre></div></div></div><div class=\"sk-item\"><div class=\"sk-estimator sk-toggleable\"><input class=\"sk-toggleable__control sk-hidden--visually\" id=\"sk-estimator-id-122\" type=\"checkbox\" ><label for=\"sk-estimator-id-122\" class=\"sk-toggleable__label sk-toggleable__label-arrow\">Decorrelator</label><div class=\"sk-toggleable__content\"><pre>Decorrelator(threshold=0.95)</pre></div></div></div></div></div></div></div></div><div class=\"sk-parallel-item\"><div class=\"sk-item\"><div class=\"sk-label-container\"><div class=\"sk-label sk-toggleable\"><input class=\"sk-toggleable__control sk-hidden--visually\" id=\"sk-estimator-id-123\" type=\"checkbox\" ><label for=\"sk-estimator-id-123\" class=\"sk-toggleable__label sk-toggleable__label-arrow\">pipeline-2</label><div class=\"sk-toggleable__content\"><pre>&lt;sklearn.compose._column_transformer.make_column_selector object at 0x7fdfd0f024c0&gt;</pre></div></div></div><div class=\"sk-serial\"><div class=\"sk-item\"><div class=\"sk-serial\"><div class=\"sk-item\"><div class=\"sk-estimator sk-toggleable\"><input class=\"sk-toggleable__control sk-hidden--visually\" id=\"sk-estimator-id-124\" type=\"checkbox\" ><label for=\"sk-estimator-id-124\" class=\"sk-toggleable__label sk-toggleable__label-arrow\">SimpleImputer</label><div class=\"sk-toggleable__content\"><pre>SimpleImputer(strategy=&#x27;most_frequent&#x27;)</pre></div></div></div><div class=\"sk-item\"><div class=\"sk-estimator sk-toggleable\"><input class=\"sk-toggleable__control sk-hidden--visually\" id=\"sk-estimator-id-125\" type=\"checkbox\" ><label for=\"sk-estimator-id-125\" class=\"sk-toggleable__label sk-toggleable__label-arrow\">OrdinalEncoder</label><div class=\"sk-toggleable__content\"><pre>OrdinalEncoder(handle_unknown=&#x27;use_encoded_value&#x27;, unknown_value=-1)</pre></div></div></div><div class=\"sk-item\"><div class=\"sk-estimator sk-toggleable\"><input class=\"sk-toggleable__control sk-hidden--visually\" id=\"sk-estimator-id-126\" type=\"checkbox\" ><label for=\"sk-estimator-id-126\" class=\"sk-toggleable__label sk-toggleable__label-arrow\">Decorrelator</label><div class=\"sk-toggleable__content\"><pre>Decorrelator(threshold=0.95)</pre></div></div></div></div></div></div></div></div></div></div><div class=\"sk-item\"><div class=\"sk-estimator sk-toggleable\"><input class=\"sk-toggleable__control sk-hidden--visually\" id=\"sk-estimator-id-127\" type=\"checkbox\" ><label for=\"sk-estimator-id-127\" class=\"sk-toggleable__label sk-toggleable__label-arrow\">AdaBoostClassifier</label><div class=\"sk-toggleable__content\"><pre>AdaBoostClassifier()</pre></div></div></div></div></div></div></div></div><div class=\"sk-parallel-item\"><div class=\"sk-item\"><div class=\"sk-label-container\"><div class=\"sk-label sk-toggleable\"><label>HGBC</label></div></div><div class=\"sk-serial\"><div class=\"sk-item\"><div class=\"sk-serial\"><div class=\"sk-item sk-dashed-wrapped\"><div class=\"sk-label-container\"><div class=\"sk-label sk-toggleable\"><input class=\"sk-toggleable__control sk-hidden--visually\" id=\"sk-estimator-id-128\" type=\"checkbox\" ><label for=\"sk-estimator-id-128\" class=\"sk-toggleable__label sk-toggleable__label-arrow\">columntransformer: ColumnTransformer</label><div class=\"sk-toggleable__content\"><pre>ColumnTransformer(transformers=[(&#x27;pipeline-1&#x27;,\n",
       "                                 Pipeline(steps=[(&#x27;simpleimputer&#x27;,\n",
       "                                                  SimpleImputer(add_indicator=True)),\n",
       "                                                 (&#x27;decorrelator&#x27;,\n",
       "                                                  Decorrelator(threshold=0.95))]),\n",
       "                                 &lt;sklearn.compose._column_transformer.make_column_selector object at 0x7fdfd0f73cd0&gt;),\n",
       "                                (&#x27;pipeline-2&#x27;,\n",
       "                                 Pipeline(steps=[(&#x27;simpleimputer&#x27;,\n",
       "                                                  SimpleImputer(strategy=&#x27;most_frequent&#x27;)),\n",
       "                                                 (&#x27;ordinalencoder&#x27;,\n",
       "                                                  OrdinalEncoder(handle_unknown=&#x27;use_encoded_value&#x27;,\n",
       "                                                                 unknown_value=-1)),\n",
       "                                                 (&#x27;decorrelator&#x27;,\n",
       "                                                  Decorrelator(threshold=0.95))]),\n",
       "                                 &lt;sklearn.compose._column_transformer.make_column_selector object at 0x7fdfd0f024c0&gt;)])</pre></div></div></div><div class=\"sk-parallel\"><div class=\"sk-parallel-item\"><div class=\"sk-item\"><div class=\"sk-label-container\"><div class=\"sk-label sk-toggleable\"><input class=\"sk-toggleable__control sk-hidden--visually\" id=\"sk-estimator-id-129\" type=\"checkbox\" ><label for=\"sk-estimator-id-129\" class=\"sk-toggleable__label sk-toggleable__label-arrow\">pipeline-1</label><div class=\"sk-toggleable__content\"><pre>&lt;sklearn.compose._column_transformer.make_column_selector object at 0x7fdfd0f73cd0&gt;</pre></div></div></div><div class=\"sk-serial\"><div class=\"sk-item\"><div class=\"sk-serial\"><div class=\"sk-item\"><div class=\"sk-estimator sk-toggleable\"><input class=\"sk-toggleable__control sk-hidden--visually\" id=\"sk-estimator-id-130\" type=\"checkbox\" ><label for=\"sk-estimator-id-130\" class=\"sk-toggleable__label sk-toggleable__label-arrow\">SimpleImputer</label><div class=\"sk-toggleable__content\"><pre>SimpleImputer(add_indicator=True)</pre></div></div></div><div class=\"sk-item\"><div class=\"sk-estimator sk-toggleable\"><input class=\"sk-toggleable__control sk-hidden--visually\" id=\"sk-estimator-id-131\" type=\"checkbox\" ><label for=\"sk-estimator-id-131\" class=\"sk-toggleable__label sk-toggleable__label-arrow\">Decorrelator</label><div class=\"sk-toggleable__content\"><pre>Decorrelator(threshold=0.95)</pre></div></div></div></div></div></div></div></div><div class=\"sk-parallel-item\"><div class=\"sk-item\"><div class=\"sk-label-container\"><div class=\"sk-label sk-toggleable\"><input class=\"sk-toggleable__control sk-hidden--visually\" id=\"sk-estimator-id-132\" type=\"checkbox\" ><label for=\"sk-estimator-id-132\" class=\"sk-toggleable__label sk-toggleable__label-arrow\">pipeline-2</label><div class=\"sk-toggleable__content\"><pre>&lt;sklearn.compose._column_transformer.make_column_selector object at 0x7fdfd0f024c0&gt;</pre></div></div></div><div class=\"sk-serial\"><div class=\"sk-item\"><div class=\"sk-serial\"><div class=\"sk-item\"><div class=\"sk-estimator sk-toggleable\"><input class=\"sk-toggleable__control sk-hidden--visually\" id=\"sk-estimator-id-133\" type=\"checkbox\" ><label for=\"sk-estimator-id-133\" class=\"sk-toggleable__label sk-toggleable__label-arrow\">SimpleImputer</label><div class=\"sk-toggleable__content\"><pre>SimpleImputer(strategy=&#x27;most_frequent&#x27;)</pre></div></div></div><div class=\"sk-item\"><div class=\"sk-estimator sk-toggleable\"><input class=\"sk-toggleable__control sk-hidden--visually\" id=\"sk-estimator-id-134\" type=\"checkbox\" ><label for=\"sk-estimator-id-134\" class=\"sk-toggleable__label sk-toggleable__label-arrow\">OrdinalEncoder</label><div class=\"sk-toggleable__content\"><pre>OrdinalEncoder(handle_unknown=&#x27;use_encoded_value&#x27;, unknown_value=-1)</pre></div></div></div><div class=\"sk-item\"><div class=\"sk-estimator sk-toggleable\"><input class=\"sk-toggleable__control sk-hidden--visually\" id=\"sk-estimator-id-135\" type=\"checkbox\" ><label for=\"sk-estimator-id-135\" class=\"sk-toggleable__label sk-toggleable__label-arrow\">Decorrelator</label><div class=\"sk-toggleable__content\"><pre>Decorrelator(threshold=0.95)</pre></div></div></div></div></div></div></div></div></div></div><div class=\"sk-item\"><div class=\"sk-estimator sk-toggleable\"><input class=\"sk-toggleable__control sk-hidden--visually\" id=\"sk-estimator-id-136\" type=\"checkbox\" ><label for=\"sk-estimator-id-136\" class=\"sk-toggleable__label sk-toggleable__label-arrow\">HistGradientBoostingClassifier</label><div class=\"sk-toggleable__content\"><pre>HistGradientBoostingClassifier(early_stopping=True)</pre></div></div></div></div></div></div></div></div><div class=\"sk-parallel-item\"><div class=\"sk-item\"><div class=\"sk-label-container\"><div class=\"sk-label sk-toggleable\"><label>LOGRCV</label></div></div><div class=\"sk-serial\"><div class=\"sk-item\"><div class=\"sk-serial\"><div class=\"sk-item sk-dashed-wrapped\"><div class=\"sk-label-container\"><div class=\"sk-label sk-toggleable\"><input class=\"sk-toggleable__control sk-hidden--visually\" id=\"sk-estimator-id-137\" type=\"checkbox\" ><label for=\"sk-estimator-id-137\" class=\"sk-toggleable__label sk-toggleable__label-arrow\">columntransformer: ColumnTransformer</label><div class=\"sk-toggleable__content\"><pre>ColumnTransformer(transformers=[(&#x27;pipeline-1&#x27;,\n",
       "                                 Pipeline(steps=[(&#x27;simpleimputer&#x27;,\n",
       "                                                  SimpleImputer(add_indicator=True)),\n",
       "                                                 (&#x27;standardscaler&#x27;,\n",
       "                                                  StandardScaler()),\n",
       "                                                 (&#x27;decorrelator&#x27;,\n",
       "                                                  Decorrelator(threshold=0.95))]),\n",
       "                                 &lt;sklearn.compose._column_transformer.make_column_selector object at 0x7fdfd0f73cd0&gt;),\n",
       "                                (&#x27;pipeline-2&#x27;,\n",
       "                                 Pipeline(steps=[(&#x27;simpleimputer&#x27;,\n",
       "                                                  SimpleImputer(strategy=&#x27;most_frequent&#x27;)),\n",
       "                                                 (&#x27;onehotencoder&#x27;,\n",
       "                                                  OneHotEncoder(handle_unknown=&#x27;ignore&#x27;,\n",
       "                                                                sparse=False)),\n",
       "                                                 (&#x27;decorrelator&#x27;,\n",
       "                                                  Decorrelator(threshold=0.95))]),\n",
       "                                 &lt;sklearn.compose._column_transformer.make_column_selector object at 0x7fdfd0f024c0&gt;)])</pre></div></div></div><div class=\"sk-parallel\"><div class=\"sk-parallel-item\"><div class=\"sk-item\"><div class=\"sk-label-container\"><div class=\"sk-label sk-toggleable\"><input class=\"sk-toggleable__control sk-hidden--visually\" id=\"sk-estimator-id-138\" type=\"checkbox\" ><label for=\"sk-estimator-id-138\" class=\"sk-toggleable__label sk-toggleable__label-arrow\">pipeline-1</label><div class=\"sk-toggleable__content\"><pre>&lt;sklearn.compose._column_transformer.make_column_selector object at 0x7fdfd0f73cd0&gt;</pre></div></div></div><div class=\"sk-serial\"><div class=\"sk-item\"><div class=\"sk-serial\"><div class=\"sk-item\"><div class=\"sk-estimator sk-toggleable\"><input class=\"sk-toggleable__control sk-hidden--visually\" id=\"sk-estimator-id-139\" type=\"checkbox\" ><label for=\"sk-estimator-id-139\" class=\"sk-toggleable__label sk-toggleable__label-arrow\">SimpleImputer</label><div class=\"sk-toggleable__content\"><pre>SimpleImputer(add_indicator=True)</pre></div></div></div><div class=\"sk-item\"><div class=\"sk-estimator sk-toggleable\"><input class=\"sk-toggleable__control sk-hidden--visually\" id=\"sk-estimator-id-140\" type=\"checkbox\" ><label for=\"sk-estimator-id-140\" class=\"sk-toggleable__label sk-toggleable__label-arrow\">StandardScaler</label><div class=\"sk-toggleable__content\"><pre>StandardScaler()</pre></div></div></div><div class=\"sk-item\"><div class=\"sk-estimator sk-toggleable\"><input class=\"sk-toggleable__control sk-hidden--visually\" id=\"sk-estimator-id-141\" type=\"checkbox\" ><label for=\"sk-estimator-id-141\" class=\"sk-toggleable__label sk-toggleable__label-arrow\">Decorrelator</label><div class=\"sk-toggleable__content\"><pre>Decorrelator(threshold=0.95)</pre></div></div></div></div></div></div></div></div><div class=\"sk-parallel-item\"><div class=\"sk-item\"><div class=\"sk-label-container\"><div class=\"sk-label sk-toggleable\"><input class=\"sk-toggleable__control sk-hidden--visually\" id=\"sk-estimator-id-142\" type=\"checkbox\" ><label for=\"sk-estimator-id-142\" class=\"sk-toggleable__label sk-toggleable__label-arrow\">pipeline-2</label><div class=\"sk-toggleable__content\"><pre>&lt;sklearn.compose._column_transformer.make_column_selector object at 0x7fdfd0f024c0&gt;</pre></div></div></div><div class=\"sk-serial\"><div class=\"sk-item\"><div class=\"sk-serial\"><div class=\"sk-item\"><div class=\"sk-estimator sk-toggleable\"><input class=\"sk-toggleable__control sk-hidden--visually\" id=\"sk-estimator-id-143\" type=\"checkbox\" ><label for=\"sk-estimator-id-143\" class=\"sk-toggleable__label sk-toggleable__label-arrow\">SimpleImputer</label><div class=\"sk-toggleable__content\"><pre>SimpleImputer(strategy=&#x27;most_frequent&#x27;)</pre></div></div></div><div class=\"sk-item\"><div class=\"sk-estimator sk-toggleable\"><input class=\"sk-toggleable__control sk-hidden--visually\" id=\"sk-estimator-id-144\" type=\"checkbox\" ><label for=\"sk-estimator-id-144\" class=\"sk-toggleable__label sk-toggleable__label-arrow\">OneHotEncoder</label><div class=\"sk-toggleable__content\"><pre>OneHotEncoder(handle_unknown=&#x27;ignore&#x27;, sparse=False)</pre></div></div></div><div class=\"sk-item\"><div class=\"sk-estimator sk-toggleable\"><input class=\"sk-toggleable__control sk-hidden--visually\" id=\"sk-estimator-id-145\" type=\"checkbox\" ><label for=\"sk-estimator-id-145\" class=\"sk-toggleable__label sk-toggleable__label-arrow\">Decorrelator</label><div class=\"sk-toggleable__content\"><pre>Decorrelator(threshold=0.95)</pre></div></div></div></div></div></div></div></div></div></div><div class=\"sk-item\"><div class=\"sk-estimator sk-toggleable\"><input class=\"sk-toggleable__control sk-hidden--visually\" id=\"sk-estimator-id-146\" type=\"checkbox\" ><label for=\"sk-estimator-id-146\" class=\"sk-toggleable__label sk-toggleable__label-arrow\">LogisticRegressionCV</label><div class=\"sk-toggleable__content\"><pre>LogisticRegressionCV(cv=5)</pre></div></div></div></div></div></div></div></div><div class=\"sk-parallel-item\"><div class=\"sk-item\"><div class=\"sk-label-container\"><div class=\"sk-label sk-toggleable\"><label>KNC</label></div></div><div class=\"sk-serial\"><div class=\"sk-item\"><div class=\"sk-serial\"><div class=\"sk-item sk-dashed-wrapped\"><div class=\"sk-label-container\"><div class=\"sk-label sk-toggleable\"><input class=\"sk-toggleable__control sk-hidden--visually\" id=\"sk-estimator-id-147\" type=\"checkbox\" ><label for=\"sk-estimator-id-147\" class=\"sk-toggleable__label sk-toggleable__label-arrow\">columntransformer: ColumnTransformer</label><div class=\"sk-toggleable__content\"><pre>ColumnTransformer(transformers=[(&#x27;pipeline-1&#x27;,\n",
       "                                 Pipeline(steps=[(&#x27;simpleimputer&#x27;,\n",
       "                                                  SimpleImputer(add_indicator=True)),\n",
       "                                                 (&#x27;standardscaler&#x27;,\n",
       "                                                  StandardScaler()),\n",
       "                                                 (&#x27;decorrelator&#x27;,\n",
       "                                                  Decorrelator(threshold=0.95))]),\n",
       "                                 &lt;sklearn.compose._column_transformer.make_column_selector object at 0x7fdfd0f73cd0&gt;),\n",
       "                                (&#x27;pipeline-2&#x27;,\n",
       "                                 Pipeline(steps=[(&#x27;simpleimputer&#x27;,\n",
       "                                                  SimpleImputer(strategy=&#x27;most_frequent&#x27;)),\n",
       "                                                 (&#x27;onehotencoder&#x27;,\n",
       "                                                  OneHotEncoder(handle_unknown=&#x27;ignore&#x27;,\n",
       "                                                                sparse=False)),\n",
       "                                                 (&#x27;decorrelator&#x27;,\n",
       "                                                  Decorrelator(threshold=0.95))]),\n",
       "                                 &lt;sklearn.compose._column_transformer.make_column_selector object at 0x7fdfd0f024c0&gt;)])</pre></div></div></div><div class=\"sk-parallel\"><div class=\"sk-parallel-item\"><div class=\"sk-item\"><div class=\"sk-label-container\"><div class=\"sk-label sk-toggleable\"><input class=\"sk-toggleable__control sk-hidden--visually\" id=\"sk-estimator-id-148\" type=\"checkbox\" ><label for=\"sk-estimator-id-148\" class=\"sk-toggleable__label sk-toggleable__label-arrow\">pipeline-1</label><div class=\"sk-toggleable__content\"><pre>&lt;sklearn.compose._column_transformer.make_column_selector object at 0x7fdfd0f73cd0&gt;</pre></div></div></div><div class=\"sk-serial\"><div class=\"sk-item\"><div class=\"sk-serial\"><div class=\"sk-item\"><div class=\"sk-estimator sk-toggleable\"><input class=\"sk-toggleable__control sk-hidden--visually\" id=\"sk-estimator-id-149\" type=\"checkbox\" ><label for=\"sk-estimator-id-149\" class=\"sk-toggleable__label sk-toggleable__label-arrow\">SimpleImputer</label><div class=\"sk-toggleable__content\"><pre>SimpleImputer(add_indicator=True)</pre></div></div></div><div class=\"sk-item\"><div class=\"sk-estimator sk-toggleable\"><input class=\"sk-toggleable__control sk-hidden--visually\" id=\"sk-estimator-id-150\" type=\"checkbox\" ><label for=\"sk-estimator-id-150\" class=\"sk-toggleable__label sk-toggleable__label-arrow\">StandardScaler</label><div class=\"sk-toggleable__content\"><pre>StandardScaler()</pre></div></div></div><div class=\"sk-item\"><div class=\"sk-estimator sk-toggleable\"><input class=\"sk-toggleable__control sk-hidden--visually\" id=\"sk-estimator-id-151\" type=\"checkbox\" ><label for=\"sk-estimator-id-151\" class=\"sk-toggleable__label sk-toggleable__label-arrow\">Decorrelator</label><div class=\"sk-toggleable__content\"><pre>Decorrelator(threshold=0.95)</pre></div></div></div></div></div></div></div></div><div class=\"sk-parallel-item\"><div class=\"sk-item\"><div class=\"sk-label-container\"><div class=\"sk-label sk-toggleable\"><input class=\"sk-toggleable__control sk-hidden--visually\" id=\"sk-estimator-id-152\" type=\"checkbox\" ><label for=\"sk-estimator-id-152\" class=\"sk-toggleable__label sk-toggleable__label-arrow\">pipeline-2</label><div class=\"sk-toggleable__content\"><pre>&lt;sklearn.compose._column_transformer.make_column_selector object at 0x7fdfd0f024c0&gt;</pre></div></div></div><div class=\"sk-serial\"><div class=\"sk-item\"><div class=\"sk-serial\"><div class=\"sk-item\"><div class=\"sk-estimator sk-toggleable\"><input class=\"sk-toggleable__control sk-hidden--visually\" id=\"sk-estimator-id-153\" type=\"checkbox\" ><label for=\"sk-estimator-id-153\" class=\"sk-toggleable__label sk-toggleable__label-arrow\">SimpleImputer</label><div class=\"sk-toggleable__content\"><pre>SimpleImputer(strategy=&#x27;most_frequent&#x27;)</pre></div></div></div><div class=\"sk-item\"><div class=\"sk-estimator sk-toggleable\"><input class=\"sk-toggleable__control sk-hidden--visually\" id=\"sk-estimator-id-154\" type=\"checkbox\" ><label for=\"sk-estimator-id-154\" class=\"sk-toggleable__label sk-toggleable__label-arrow\">OneHotEncoder</label><div class=\"sk-toggleable__content\"><pre>OneHotEncoder(handle_unknown=&#x27;ignore&#x27;, sparse=False)</pre></div></div></div><div class=\"sk-item\"><div class=\"sk-estimator sk-toggleable\"><input class=\"sk-toggleable__control sk-hidden--visually\" id=\"sk-estimator-id-155\" type=\"checkbox\" ><label for=\"sk-estimator-id-155\" class=\"sk-toggleable__label sk-toggleable__label-arrow\">Decorrelator</label><div class=\"sk-toggleable__content\"><pre>Decorrelator(threshold=0.95)</pre></div></div></div></div></div></div></div></div></div></div><div class=\"sk-item\"><div class=\"sk-estimator sk-toggleable\"><input class=\"sk-toggleable__control sk-hidden--visually\" id=\"sk-estimator-id-156\" type=\"checkbox\" ><label for=\"sk-estimator-id-156\" class=\"sk-toggleable__label sk-toggleable__label-arrow\">KNeighborsClassifier</label><div class=\"sk-toggleable__content\"><pre>KNeighborsClassifier(n_neighbors=3)</pre></div></div></div></div></div></div></div></div></div></div><div class=\"sk-item\"><div class=\"sk-parallel\"><div class=\"sk-parallel-item\"><div class=\"sk-item\"><div class=\"sk-label-container\"><div class=\"sk-label sk-toggleable\"><label>final_estimator</label></div></div><div class=\"sk-serial\"><div class=\"sk-item\"><div class=\"sk-estimator sk-toggleable\"><input class=\"sk-toggleable__control sk-hidden--visually\" id=\"sk-estimator-id-157\" type=\"checkbox\" ><label for=\"sk-estimator-id-157\" class=\"sk-toggleable__label sk-toggleable__label-arrow\">LogisticRegressionCV</label><div class=\"sk-toggleable__content\"><pre>LogisticRegressionCV(cv=5, l1_ratios=[0.1, 0.5, 0.9], penalty=&#x27;elasticnet&#x27;,\n",
       "                     solver=&#x27;saga&#x27;)</pre></div></div></div></div></div></div></div></div></div></div></div></div>"
      ],
      "text/plain": [
       "StackingClassifier(estimators=[('DTC',\n",
       "                                Pipeline(steps=[('columntransformer',\n",
       "                                                 ColumnTransformer(transformers=[('pipeline-1',\n",
       "                                                                                  Pipeline(steps=[('simpleimputer',\n",
       "                                                                                                   SimpleImputer(add_indicator=True)),\n",
       "                                                                                                  ('decorrelator',\n",
       "                                                                                                   Decorrelator(threshold=0.95))]),\n",
       "                                                                                  <sklearn.compose._column_transformer.make_column_selector object at 0x7fdfd0f73cd0>),\n",
       "                                                                                 ('pipeline-2',\n",
       "                                                                                  Pipeline(steps=[(...\n",
       "                                                                                                   OneHotEncoder(handle_unknown='ignore',\n",
       "                                                                                                                 sparse=False)),\n",
       "                                                                                                  ('decorrelator',\n",
       "                                                                                                   Decorrelator(threshold=0.95))]),\n",
       "                                                                                  <sklearn.compose._column_transformer.make_column_selector object at 0x7fdfd0f024c0>)])),\n",
       "                                                ('kneighborsclassifier',\n",
       "                                                 KNeighborsClassifier(n_neighbors=3))]))],\n",
       "                   final_estimator=LogisticRegressionCV(cv=5,\n",
       "                                                        l1_ratios=[0.1, 0.5,\n",
       "                                                                   0.9],\n",
       "                                                        penalty='elasticnet',\n",
       "                                                        solver='saga'),\n",
       "                   n_jobs=-1)"
      ]
     },
     "execution_count": 67,
     "metadata": {},
     "output_type": "execute_result"
    }
   ],
   "source": [
    "%%time \n",
    "set_config(display='diagram') \n",
    "model.fit(X_train, y_train)"
   ]
  },
  {
   "cell_type": "markdown",
   "id": "experimental-dryer",
   "metadata": {
    "papermill": {
     "duration": 0.178375,
     "end_time": "2022-05-17T09:00:02.486859",
     "exception": false,
     "start_time": "2022-05-17T09:00:02.308484",
     "status": "completed"
    },
    "tags": []
   },
   "source": [
    "#### Final Model scoring"
   ]
  },
  {
   "cell_type": "code",
   "execution_count": 68,
   "id": "super-truck",
   "metadata": {
    "execution": {
     "iopub.execute_input": "2022-05-17T09:00:02.856475Z",
     "iopub.status.busy": "2022-05-17T09:00:02.854103Z",
     "iopub.status.idle": "2022-05-17T09:00:03.766691Z",
     "shell.execute_reply": "2022-05-17T09:00:03.766018Z"
    },
    "papermill": {
     "duration": 1.120114,
     "end_time": "2022-05-17T09:00:03.766900",
     "exception": false,
     "start_time": "2022-05-17T09:00:02.646786",
     "status": "completed"
    },
    "tags": []
   },
   "outputs": [
    {
     "data": {
      "image/png": "[encoded data removed]",
      "text/plain": [
       "<Figure size 576x360 with 1 Axes>"
      ]
     },
     "metadata": {
      "needs_background": "light"
     },
     "output_type": "display_data"
    },
    {
     "data": {
      "image/png": "[encoded data removed]",
      "text/plain": [
       "<Figure size 432x288 with 1 Axes>"
      ]
     },
     "metadata": {
      "needs_background": "light"
     },
     "output_type": "display_data"
    },
    {
     "data": {
      "text/plain": [
       "(array([['DTC', 1.0, 0.94],\n",
       "        ['ABC', 0.98, 0.94],\n",
       "        ['HGBC', 1.0, 0.94],\n",
       "        ['LOGRCV', 0.98, 0.96],\n",
       "        ['KNC', 0.95, 0.82],\n",
       "        ['Stack', 1.0, 0.94]], dtype=object),\n",
       " array([['KNC', 0.1782608695652174],\n",
       "        ['DTC', 0.20434782608695654],\n",
       "        ['ABC', 0.20434782608695654],\n",
       "        ['HGBC', 0.20434782608695654],\n",
       "        ['LOGRCV', 0.20869565217391306]], dtype=object))"
      ]
     },
     "execution_count": 68,
     "metadata": {},
     "output_type": "execute_result"
    }
   ],
   "source": [
    "score_stacking(model, X_train, y_train, X_test, y_test)"
   ]
  },
  {
   "cell_type": "markdown",
   "id": "hidden-fever",
   "metadata": {
    "papermill": {
     "duration": 0.187189,
     "end_time": "2022-05-17T09:00:04.093543",
     "exception": false,
     "start_time": "2022-05-17T09:00:03.906354",
     "status": "completed"
    },
    "tags": []
   },
   "source": [
    "#### Final feature permutation importance"
   ]
  },
  {
   "cell_type": "code",
   "execution_count": 69,
   "id": "authentic-platinum",
   "metadata": {
    "execution": {
     "iopub.execute_input": "2022-05-17T09:00:04.475214Z",
     "iopub.status.busy": "2022-05-17T09:00:04.440988Z",
     "iopub.status.idle": "2022-05-17T09:00:05.951227Z",
     "shell.execute_reply": "2022-05-17T09:00:05.950631Z"
    },
    "papermill": {
     "duration": 1.70016,
     "end_time": "2022-05-17T09:00:05.951428",
     "exception": false,
     "start_time": "2022-05-17T09:00:04.251268",
     "status": "completed"
    },
    "tags": []
   },
   "outputs": [
    {
     "data": {
      "image/png": "[encoded data removed]",
      "text/plain": [
       "<Figure size 432x288 with 1 Axes>"
      ]
     },
     "metadata": {
      "needs_background": "light"
     },
     "output_type": "display_data"
    },
    {
     "data": {
      "text/plain": [
       "array([['sepal_width', -0.010000000000000012],\n",
       "       ['sepal_length', -0.006666666666666675],\n",
       "       ['petal_width', 0.0],\n",
       "       ['petal_length', 1.0166666666666666]], dtype=object)"
      ]
     },
     "execution_count": 69,
     "metadata": {},
     "output_type": "execute_result"
    }
   ],
   "source": [
    "plot_perm_importance(model, X_test, y_test)"
   ]
  },
  {
   "cell_type": "markdown",
   "id": "incident-secondary",
   "metadata": {
    "papermill": {
     "duration": 0.1756,
     "end_time": "2022-05-17T09:00:06.269470",
     "exception": false,
     "start_time": "2022-05-17T09:00:06.093870",
     "status": "completed"
    },
    "tags": []
   },
   "source": [
    "#### Final Classification report"
   ]
  },
  {
   "cell_type": "code",
   "execution_count": 70,
   "id": "broken-richardson",
   "metadata": {
    "execution": {
     "iopub.execute_input": "2022-05-17T09:00:06.663663Z",
     "iopub.status.busy": "2022-05-17T09:00:06.643980Z",
     "iopub.status.idle": "2022-05-17T09:00:06.785059Z",
     "shell.execute_reply": "2022-05-17T09:00:06.785768Z"
    },
    "papermill": {
     "duration": 0.356285,
     "end_time": "2022-05-17T09:00:06.786039",
     "exception": false,
     "start_time": "2022-05-17T09:00:06.429754",
     "status": "completed"
    },
    "tags": []
   },
   "outputs": [
    {
     "data": {
      "text/html": [
       "<style type=\"text/css\">\n",
       "</style>\n",
       "<table id=\"T_3eccf\">\n",
       "  <caption>Classification report on train set</caption>\n",
       "  <thead>\n",
       "    <tr>\n",
       "      <th class=\"blank level0\" >&nbsp;</th>\n",
       "      <th id=\"T_3eccf_level0_col0\" class=\"col_heading level0 col0\" >precision</th>\n",
       "      <th id=\"T_3eccf_level0_col1\" class=\"col_heading level0 col1\" >recall</th>\n",
       "      <th id=\"T_3eccf_level0_col2\" class=\"col_heading level0 col2\" >f1-score</th>\n",
       "      <th id=\"T_3eccf_level0_col3\" class=\"col_heading level0 col3\" >support</th>\n",
       "    </tr>\n",
       "  </thead>\n",
       "  <tbody>\n",
       "    <tr>\n",
       "      <th id=\"T_3eccf_level0_row0\" class=\"row_heading level0 row0\" >0</th>\n",
       "      <td id=\"T_3eccf_row0_col0\" class=\"data row0 col0\" >1.000000</td>\n",
       "      <td id=\"T_3eccf_row0_col1\" class=\"data row0 col1\" >1.000000</td>\n",
       "      <td id=\"T_3eccf_row0_col2\" class=\"data row0 col2\" >1.000000</td>\n",
       "      <td id=\"T_3eccf_row0_col3\" class=\"data row0 col3\" >29.000000</td>\n",
       "    </tr>\n",
       "    <tr>\n",
       "      <th id=\"T_3eccf_level0_row1\" class=\"row_heading level0 row1\" >1</th>\n",
       "      <td id=\"T_3eccf_row1_col0\" class=\"data row1 col0\" >1.000000</td>\n",
       "      <td id=\"T_3eccf_row1_col1\" class=\"data row1 col1\" >1.000000</td>\n",
       "      <td id=\"T_3eccf_row1_col2\" class=\"data row1 col2\" >1.000000</td>\n",
       "      <td id=\"T_3eccf_row1_col3\" class=\"data row1 col3\" >34.000000</td>\n",
       "    </tr>\n",
       "    <tr>\n",
       "      <th id=\"T_3eccf_level0_row2\" class=\"row_heading level0 row2\" >2</th>\n",
       "      <td id=\"T_3eccf_row2_col0\" class=\"data row2 col0\" >1.000000</td>\n",
       "      <td id=\"T_3eccf_row2_col1\" class=\"data row2 col1\" >1.000000</td>\n",
       "      <td id=\"T_3eccf_row2_col2\" class=\"data row2 col2\" >1.000000</td>\n",
       "      <td id=\"T_3eccf_row2_col3\" class=\"data row2 col3\" >37.000000</td>\n",
       "    </tr>\n",
       "    <tr>\n",
       "      <th id=\"T_3eccf_level0_row3\" class=\"row_heading level0 row3\" >accuracy</th>\n",
       "      <td id=\"T_3eccf_row3_col0\" class=\"data row3 col0\" >1.000000</td>\n",
       "      <td id=\"T_3eccf_row3_col1\" class=\"data row3 col1\" >1.000000</td>\n",
       "      <td id=\"T_3eccf_row3_col2\" class=\"data row3 col2\" >1.000000</td>\n",
       "      <td id=\"T_3eccf_row3_col3\" class=\"data row3 col3\" >1.000000</td>\n",
       "    </tr>\n",
       "    <tr>\n",
       "      <th id=\"T_3eccf_level0_row4\" class=\"row_heading level0 row4\" >macro avg</th>\n",
       "      <td id=\"T_3eccf_row4_col0\" class=\"data row4 col0\" >1.000000</td>\n",
       "      <td id=\"T_3eccf_row4_col1\" class=\"data row4 col1\" >1.000000</td>\n",
       "      <td id=\"T_3eccf_row4_col2\" class=\"data row4 col2\" >1.000000</td>\n",
       "      <td id=\"T_3eccf_row4_col3\" class=\"data row4 col3\" >100.000000</td>\n",
       "    </tr>\n",
       "    <tr>\n",
       "      <th id=\"T_3eccf_level0_row5\" class=\"row_heading level0 row5\" >weighted avg</th>\n",
       "      <td id=\"T_3eccf_row5_col0\" class=\"data row5 col0\" >1.000000</td>\n",
       "      <td id=\"T_3eccf_row5_col1\" class=\"data row5 col1\" >1.000000</td>\n",
       "      <td id=\"T_3eccf_row5_col2\" class=\"data row5 col2\" >1.000000</td>\n",
       "      <td id=\"T_3eccf_row5_col3\" class=\"data row5 col3\" >100.000000</td>\n",
       "    </tr>\n",
       "  </tbody>\n",
       "</table>\n"
      ],
      "text/plain": [
       "<pandas.io.formats.style.Styler at 0x7fdfd04d82b0>"
      ]
     },
     "metadata": {},
     "output_type": "display_data"
    },
    {
     "data": {
      "text/html": [
       "<style type=\"text/css\">\n",
       "</style>\n",
       "<table id=\"T_6bc87\">\n",
       "  <caption>Classification report on test set</caption>\n",
       "  <thead>\n",
       "    <tr>\n",
       "      <th class=\"blank level0\" >&nbsp;</th>\n",
       "      <th id=\"T_6bc87_level0_col0\" class=\"col_heading level0 col0\" >precision</th>\n",
       "      <th id=\"T_6bc87_level0_col1\" class=\"col_heading level0 col1\" >recall</th>\n",
       "      <th id=\"T_6bc87_level0_col2\" class=\"col_heading level0 col2\" >f1-score</th>\n",
       "      <th id=\"T_6bc87_level0_col3\" class=\"col_heading level0 col3\" >support</th>\n",
       "    </tr>\n",
       "  </thead>\n",
       "  <tbody>\n",
       "    <tr>\n",
       "      <th id=\"T_6bc87_level0_row0\" class=\"row_heading level0 row0\" >0</th>\n",
       "      <td id=\"T_6bc87_row0_col0\" class=\"data row0 col0\" >1.000000</td>\n",
       "      <td id=\"T_6bc87_row0_col1\" class=\"data row0 col1\" >1.000000</td>\n",
       "      <td id=\"T_6bc87_row0_col2\" class=\"data row0 col2\" >1.000000</td>\n",
       "      <td id=\"T_6bc87_row0_col3\" class=\"data row0 col3\" >21.000000</td>\n",
       "    </tr>\n",
       "    <tr>\n",
       "      <th id=\"T_6bc87_level0_row1\" class=\"row_heading level0 row1\" >1</th>\n",
       "      <td id=\"T_6bc87_row1_col0\" class=\"data row1 col0\" >0.933333</td>\n",
       "      <td id=\"T_6bc87_row1_col1\" class=\"data row1 col1\" >0.875000</td>\n",
       "      <td id=\"T_6bc87_row1_col2\" class=\"data row1 col2\" >0.903226</td>\n",
       "      <td id=\"T_6bc87_row1_col3\" class=\"data row1 col3\" >16.000000</td>\n",
       "    </tr>\n",
       "    <tr>\n",
       "      <th id=\"T_6bc87_level0_row2\" class=\"row_heading level0 row2\" >2</th>\n",
       "      <td id=\"T_6bc87_row2_col0\" class=\"data row2 col0\" >0.857143</td>\n",
       "      <td id=\"T_6bc87_row2_col1\" class=\"data row2 col1\" >0.923077</td>\n",
       "      <td id=\"T_6bc87_row2_col2\" class=\"data row2 col2\" >0.888889</td>\n",
       "      <td id=\"T_6bc87_row2_col3\" class=\"data row2 col3\" >13.000000</td>\n",
       "    </tr>\n",
       "    <tr>\n",
       "      <th id=\"T_6bc87_level0_row3\" class=\"row_heading level0 row3\" >accuracy</th>\n",
       "      <td id=\"T_6bc87_row3_col0\" class=\"data row3 col0\" >0.940000</td>\n",
       "      <td id=\"T_6bc87_row3_col1\" class=\"data row3 col1\" >0.940000</td>\n",
       "      <td id=\"T_6bc87_row3_col2\" class=\"data row3 col2\" >0.940000</td>\n",
       "      <td id=\"T_6bc87_row3_col3\" class=\"data row3 col3\" >0.940000</td>\n",
       "    </tr>\n",
       "    <tr>\n",
       "      <th id=\"T_6bc87_level0_row4\" class=\"row_heading level0 row4\" >macro avg</th>\n",
       "      <td id=\"T_6bc87_row4_col0\" class=\"data row4 col0\" >0.930159</td>\n",
       "      <td id=\"T_6bc87_row4_col1\" class=\"data row4 col1\" >0.932692</td>\n",
       "      <td id=\"T_6bc87_row4_col2\" class=\"data row4 col2\" >0.930705</td>\n",
       "      <td id=\"T_6bc87_row4_col3\" class=\"data row4 col3\" >50.000000</td>\n",
       "    </tr>\n",
       "    <tr>\n",
       "      <th id=\"T_6bc87_level0_row5\" class=\"row_heading level0 row5\" >weighted avg</th>\n",
       "      <td id=\"T_6bc87_row5_col0\" class=\"data row5 col0\" >0.941524</td>\n",
       "      <td id=\"T_6bc87_row5_col1\" class=\"data row5 col1\" >0.940000</td>\n",
       "      <td id=\"T_6bc87_row5_col2\" class=\"data row5 col2\" >0.940143</td>\n",
       "      <td id=\"T_6bc87_row5_col3\" class=\"data row5 col3\" >50.000000</td>\n",
       "    </tr>\n",
       "  </tbody>\n",
       "</table>\n"
      ],
      "text/plain": [
       "<pandas.io.formats.style.Styler at 0x7fdfd010a670>"
      ]
     },
     "metadata": {},
     "output_type": "display_data"
    }
   ],
   "source": [
    "K_classification_report(model, X_train, y_train, X_test, y_test)"
   ]
  },
  {
   "cell_type": "markdown",
   "id": "champion-matter",
   "metadata": {
    "papermill": {
     "duration": 0.184782,
     "end_time": "2022-05-17T09:00:07.113021",
     "exception": false,
     "start_time": "2022-05-17T09:00:06.928239",
     "status": "completed"
    },
    "tags": []
   },
   "source": [
    "#### Final Confusion matrix"
   ]
  },
  {
   "cell_type": "code",
   "execution_count": 71,
   "id": "baking-headline",
   "metadata": {
    "execution": {
     "iopub.execute_input": "2022-05-17T09:00:07.473527Z",
     "iopub.status.busy": "2022-05-17T09:00:07.466965Z",
     "iopub.status.idle": "2022-05-17T09:00:08.114976Z",
     "shell.execute_reply": "2022-05-17T09:00:08.114196Z"
    },
    "papermill": {
     "duration": 0.843068,
     "end_time": "2022-05-17T09:00:08.115175",
     "exception": false,
     "start_time": "2022-05-17T09:00:07.272107",
     "status": "completed"
    },
    "tags": []
   },
   "outputs": [
    {
     "data": {
      "image/png": "[encoded data removed]",
      "text/plain": [
       "<Figure size 432x288 with 2 Axes>"
      ]
     },
     "metadata": {
      "needs_background": "light"
     },
     "output_type": "display_data"
    },
    {
     "data": {
      "image/png": "[encoded data removed]",
      "text/plain": [
       "<Figure size 432x288 with 2 Axes>"
      ]
     },
     "metadata": {
      "needs_background": "light"
     },
     "output_type": "display_data"
    }
   ],
   "source": [
    "K_confusion_matrix(model, X_train, y_train, X_test, y_test)"
   ]
  },
  {
   "cell_type": "markdown",
   "id": "welsh-somalia",
   "metadata": {
    "papermill": {
     "duration": 0.179966,
     "end_time": "2022-05-17T09:00:08.443680",
     "exception": false,
     "start_time": "2022-05-17T09:00:08.263714",
     "status": "completed"
    },
    "tags": []
   },
   "source": [
    "## Deployment"
   ]
  },
  {
   "cell_type": "markdown",
   "id": "organizational-expression",
   "metadata": {
    "papermill": {
     "duration": 0.179488,
     "end_time": "2022-05-17T09:00:08.802652",
     "exception": false,
     "start_time": "2022-05-17T09:00:08.623164",
     "status": "completed"
    },
    "tags": []
   },
   "source": [
    "### Save your model"
   ]
  },
  {
   "cell_type": "code",
   "execution_count": 72,
   "id": "numerical-authority",
   "metadata": {
    "execution": {
     "iopub.execute_input": "2022-05-17T09:00:09.168417Z",
     "iopub.status.busy": "2022-05-17T09:00:09.167190Z",
     "iopub.status.idle": "2022-05-17T09:00:09.605026Z",
     "shell.execute_reply": "2022-05-17T09:00:09.604084Z"
    },
    "papermill": {
     "duration": 0.636438,
     "end_time": "2022-05-17T09:00:09.605243",
     "exception": false,
     "start_time": "2022-05-17T09:00:08.968805",
     "status": "completed"
    },
    "tags": []
   },
   "outputs": [
    {
     "data": {
      "text/plain": [
       "['model.sav']"
      ]
     },
     "execution_count": 72,
     "metadata": {},
     "output_type": "execute_result"
    }
   ],
   "source": [
    "model_name = 'model.sav' \n",
    "dump(model, model_name)"
   ]
  },
  {
   "cell_type": "markdown",
   "id": "aware-medicaid",
   "metadata": {
    "papermill": {
     "duration": 0.184377,
     "end_time": "2022-05-17T09:00:09.953070",
     "exception": false,
     "start_time": "2022-05-17T09:00:09.768693",
     "status": "completed"
    },
    "tags": []
   },
   "source": [
    "### Generate your server"
   ]
  },
  {
   "cell_type": "code",
   "execution_count": 73,
   "id": "inner-cooler",
   "metadata": {
    "execution": {
     "iopub.execute_input": "2022-05-17T09:00:10.318303Z",
     "iopub.status.busy": "2022-05-17T09:00:10.315620Z",
     "iopub.status.idle": "2022-05-17T09:00:10.325423Z",
     "shell.execute_reply": "2022-05-17T09:00:10.324741Z"
    },
    "papermill": {
     "duration": 0.202298,
     "end_time": "2022-05-17T09:00:10.325674",
     "exception": false,
     "start_time": "2022-05-17T09:00:10.123376",
     "status": "completed"
    },
    "tags": []
   },
   "outputs": [],
   "source": [
    "fastapi_server(model, 'model.sav', X, y)"
   ]
  },
  {
   "cell_type": "markdown",
   "id": "differential-majority",
   "metadata": {
    "papermill": {
     "duration": 0.185407,
     "end_time": "2022-05-17T09:00:10.669291",
     "exception": false,
     "start_time": "2022-05-17T09:00:10.483884",
     "status": "completed"
    },
    "tags": []
   },
   "source": [
    "### Start your server"
   ]
  },
  {
   "cell_type": "code",
   "execution_count": null,
   "id": "eleven-nepal",
   "metadata": {
    "execution": {
     "iopub.execute_input": "2022-05-17T09:00:11.024139Z",
     "iopub.status.busy": "2022-05-17T09:00:11.020906Z",
     "iopub.status.idle": "2022-05-17T09:01:31.469292Z",
     "shell.execute_reply": "2022-05-17T09:01:31.461058Z"
    },
    "papermill": {
     "duration": 80.183288,
     "end_time": "2022-05-17T09:01:31.017246",
     "exception": false,
     "start_time": "2022-05-17T09:00:10.833958",
     "status": "completed"
    },
    "tags": []
   },
   "outputs": [
    {
     "name": "stderr",
     "output_type": "stream",
     "text": [
      "INFO:     Started server process [17779]\n",
      "INFO:     Waiting for application startup.\n",
      "INFO:     Application startup complete.\n",
      "INFO:     Uvicorn running on http://127.0.0.1:8000 (Press CTRL+C to quit)\n"
     ]
    },
    {
     "name": "stdout",
     "output_type": "stream",
     "text": [
      "INFO:     127.0.0.1:36096 - \"GET / HTTP/1.1\" 404 Not Found\n",
      "INFO:     127.0.0.1:36098 - \"GET /docs HTTP/1.1\" 200 OK\n",
      "INFO:     127.0.0.1:36098 - \"GET /openapi.json HTTP/1.1\" 200 OK\n",
      "INFO:     127.0.0.1:36104 - \"POST /predict HTTP/1.1\" 200 OK\n"
     ]
    }
   ],
   "source": [
    "run server.py"
   ]
  },
  {
   "cell_type": "markdown",
   "id": "union-gospel",
   "metadata": {
    "papermill": {
     "duration": null,
     "end_time": null,
     "exception": null,
     "start_time": null,
     "status": "completed"
    },
    "tags": []
   },
   "source": [
    "### Test your API at http://127.0.0.1:8000/docs"
   ]
  }
 ],
 "metadata": {
  "kernelspec": {
   "display_name": "Python 3",
   "language": "python",
   "name": "python3"
  },
  "language_info": {
   "codemirror_mode": {
    "name": "ipython",
    "version": 3
   },
   "file_extension": ".py",
   "mimetype": "text/x-python",
   "name": "python",
   "nbconvert_exporter": "python",
   "pygments_lexer": "ipython3",
   "version": "3.8.13"
  },
  "papermill": {
   "default_parameters": {},
   "duration": 179.472532,
   "end_time": "2022-05-17T09:01:32.300729",
   "environment_variables": {},
   "exception": null,
   "input_path": "iris_basic.ipynb",
   "output_path": "iris_basic.ipynb",
   "parameters": {},
   "start_time": "2022-05-17T08:58:32.828197",
   "version": "2.3.4"
  }
 },
 "nbformat": 4,
 "nbformat_minor": 5
}
