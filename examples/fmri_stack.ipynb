{
 "cells": [
  {
   "cell_type": "markdown",
   "id": "bored-monitor",
   "metadata": {},
   "source": [
    "# EDA & Modelling"
   ]
  },
  {
   "cell_type": "markdown",
   "id": "regulation-honey",
   "metadata": {},
   "source": [
    "## Package loading"
   ]
  },
  {
   "cell_type": "code",
   "execution_count": null,
   "id": "documentary-clear",
   "metadata": {},
   "outputs": [],
   "source": [
    "from EZS_func import *\n",
    "import numpy as np\n",
    "import pandas as pd\n",
    "import os\n",
    "import gc\n",
    "import matplotlib.pyplot as plt\n",
    "import warnings\n",
    "warnings.filterwarnings('ignore')\n",
    "import re\n",
    "import math\n",
    "from pandas.api.types import is_numeric_dtype\n",
    "from itertools import product\n",
    "from scipy import stats\n",
    "from sklearn import set_config\n",
    "from sklearn import datasets\n",
    "from sklearn.base import BaseEstimator\n",
    "from sklearn.base import TransformerMixin\n",
    "from sklearn.experimental import enable_iterative_imputer\n",
    "from sklearn.impute import SimpleImputer\n",
    "from sklearn.impute import IterativeImputer\n",
    "from sklearn.inspection import permutation_importance\n",
    "from sklearn.gaussian_process import GaussianProcessRegressor\n",
    "from sklearn.gaussian_process.kernels import RBF\n",
    "from sklearn.tree import DecisionTreeRegressor\n",
    "from sklearn.ensemble import RandomForestRegressor\n",
    "from sklearn.ensemble import AdaBoostRegressor\n",
    "from sklearn.ensemble import StackingRegressor\n",
    "from sklearn.linear_model import SGDRegressor\n",
    "from sklearn.linear_model import ElasticNet\n",
    "from sklearn.linear_model import LinearRegression\n",
    "from sklearn.metrics import mean_squared_error\n",
    "from sklearn.metrics import r2_score\n",
    "from sklearn.model_selection import train_test_split\n",
    "from sklearn.model_selection import StratifiedKFold\n",
    "from sklearn.model_selection import RepeatedStratifiedKFold\n",
    "from sklearn.neural_network import MLPRegressor\n",
    "from sklearn.neighbors import KNeighborsRegressor\n",
    "from sklearn.neighbors import LocalOutlierFactor\n",
    "from sklearn.preprocessing import StandardScaler\n",
    "from sklearn.preprocessing import OneHotEncoder\n",
    "from sklearn.preprocessing import OrdinalEncoder\n",
    "from sklearn.preprocessing import LabelEncoder\n",
    "from sklearn.preprocessing import FunctionTransformer\n",
    "from yellowbrick.model_selection import learning_curve\n",
    "from yellowbrick.model_selection import feature_importances\n",
    "from yellowbrick.features import rank1d\n",
    "from yellowbrick.features import rank2d\n",
    "from yellowbrick.regressor import prediction_error\n",
    "from yellowbrick.regressor import residuals_plot\n",
    "from yellowbrick.contrib.missing import MissingValuesBar\n",
    "from yellowbrick.contrib.missing import MissingValuesDispersion\n",
    "from yellowbrick.target.feature_correlation import feature_correlation\n",
    "from polylearn import PolynomialNetworkRegressor\n",
    "from polylearn import FactorizationMachineRegressor\n"
   ]
  },
  {
   "cell_type": "markdown",
   "id": "therapeutic-breeding",
   "metadata": {},
   "source": [
    "## Exploratory Data Analysis "
   ]
  },
  {
   "cell_type": "markdown",
   "id": "designing-projection",
   "metadata": {},
   "source": [
    "### File and parameters loading"
   ]
  },
  {
   "cell_type": "code",
   "execution_count": null,
   "id": "studied-structure",
   "metadata": {},
   "outputs": [],
   "source": [
    "problem_type = 'regression'"
   ]
  },
  {
   "cell_type": "code",
   "execution_count": null,
   "id": "isolated-effects",
   "metadata": {},
   "outputs": [],
   "source": [
    "stacking = 'True'"
   ]
  },
  {
   "cell_type": "code",
   "execution_count": null,
   "id": "ultimate-final",
   "metadata": {},
   "outputs": [],
   "source": [
    "data_size = 'small'"
   ]
  },
  {
   "cell_type": "code",
   "execution_count": null,
   "id": "requested-neighborhood",
   "metadata": {},
   "outputs": [],
   "source": [
    "df = pd.read_csv('/home/philippe/Documents/python project/EZStacking-v0.6/dataset/fmri.csv')"
   ]
  },
  {
   "cell_type": "code",
   "execution_count": null,
   "id": "green-ontario",
   "metadata": {},
   "outputs": [],
   "source": [
    "target_col = 'signal'"
   ]
  },
  {
   "cell_type": "code",
   "execution_count": null,
   "id": "directed-crime",
   "metadata": {},
   "outputs": [],
   "source": [
    "user_drop_cols = []"
   ]
  },
  {
   "cell_type": "code",
   "execution_count": null,
   "id": "fallen-damages",
   "metadata": {},
   "outputs": [],
   "source": [
    "threshold_NaN = 0.5"
   ]
  },
  {
   "cell_type": "code",
   "execution_count": null,
   "id": "environmental-oakland",
   "metadata": {},
   "outputs": [],
   "source": [
    "threshold_cat = 5"
   ]
  },
  {
   "cell_type": "code",
   "execution_count": null,
   "id": "legendary-despite",
   "metadata": {},
   "outputs": [],
   "source": [
    "threshold_Z = 3.0"
   ]
  },
  {
   "cell_type": "markdown",
   "id": "banner-escape",
   "metadata": {},
   "source": [
    "### Dataset Information"
   ]
  },
  {
   "cell_type": "code",
   "execution_count": null,
   "id": "another-prefix",
   "metadata": {},
   "outputs": [],
   "source": [
    "df.shape"
   ]
  },
  {
   "cell_type": "markdown",
   "id": "working-modern",
   "metadata": {},
   "source": [
    "#### Some records"
   ]
  },
  {
   "cell_type": "code",
   "execution_count": null,
   "id": "fewer-geneva",
   "metadata": {},
   "outputs": [],
   "source": [
    "display(df)"
   ]
  },
  {
   "cell_type": "markdown",
   "id": "central-advocate",
   "metadata": {},
   "source": [
    "#### Dataframe structure"
   ]
  },
  {
   "cell_type": "code",
   "execution_count": null,
   "id": "limiting-consortium",
   "metadata": {},
   "outputs": [],
   "source": [
    "plot_dataframe_structure(df)"
   ]
  },
  {
   "cell_type": "markdown",
   "id": "universal-right",
   "metadata": {},
   "source": [
    "#### Dataframe statistics"
   ]
  },
  {
   "cell_type": "code",
   "execution_count": null,
   "id": "swedish-canvas",
   "metadata": {},
   "outputs": [],
   "source": [
    "display(df.describe().T)"
   ]
  },
  {
   "cell_type": "markdown",
   "id": "documented-brake",
   "metadata": {},
   "source": [
    "#### Which columns could be categorical ?"
   ]
  },
  {
   "cell_type": "code",
   "execution_count": null,
   "id": "respiratory-machine",
   "metadata": {},
   "outputs": [],
   "source": [
    "plot_categorical(df)"
   ]
  },
  {
   "cell_type": "markdown",
   "id": "falling-australia",
   "metadata": {},
   "source": [
    "### Dataset Cleaning"
   ]
  },
  {
   "cell_type": "markdown",
   "id": "aging-utilization",
   "metadata": {},
   "source": [
    "#### Duplicate rows:"
   ]
  },
  {
   "cell_type": "code",
   "execution_count": null,
   "id": "intermediate-disclaimer",
   "metadata": {},
   "outputs": [],
   "source": [
    "duplicates(df)"
   ]
  },
  {
   "cell_type": "markdown",
   "id": "developmental-liechtenstein",
   "metadata": {},
   "source": [
    "#### Drop user's columns:"
   ]
  },
  {
   "cell_type": "code",
   "execution_count": null,
   "id": "significant-synthetic",
   "metadata": {},
   "outputs": [],
   "source": [
    "print('user_drop_cols = ', user_drop_cols)"
   ]
  },
  {
   "cell_type": "code",
   "execution_count": null,
   "id": "adverse-warren",
   "metadata": {},
   "outputs": [],
   "source": [
    "df = df.drop(user_drop_cols, axis=1)"
   ]
  },
  {
   "cell_type": "markdown",
   "id": "directed-article",
   "metadata": {},
   "source": [
    "#### Drop NaN:"
   ]
  },
  {
   "cell_type": "code",
   "execution_count": null,
   "id": "recent-medline",
   "metadata": {},
   "outputs": [],
   "source": [
    "df, drop_cols = drop_na(df, threshold_NaN)"
   ]
  },
  {
   "cell_type": "markdown",
   "id": "another-communist",
   "metadata": {},
   "source": [
    "Final set of dropped columns"
   ]
  },
  {
   "cell_type": "code",
   "execution_count": null,
   "id": "artificial-klein",
   "metadata": {},
   "outputs": [],
   "source": [
    "dropped_cols = np.unique(np.concatenate((drop_cols, user_drop_cols)))"
   ]
  },
  {
   "cell_type": "code",
   "execution_count": null,
   "id": "wooden-characterization",
   "metadata": {},
   "outputs": [],
   "source": [
    "display(dropped_cols)"
   ]
  },
  {
   "cell_type": "markdown",
   "id": "eligible-allowance",
   "metadata": {},
   "source": [
    "#### Encoding data:"
   ]
  },
  {
   "cell_type": "code",
   "execution_count": null,
   "id": "unlike-crystal",
   "metadata": {},
   "outputs": [],
   "source": [
    "df, encoded_cols = encoding(df, threshold_cat)"
   ]
  },
  {
   "cell_type": "markdown",
   "id": "secret-boutique",
   "metadata": {},
   "source": [
    "#### Imputing NaN using IterativeImputer"
   ]
  },
  {
   "cell_type": "code",
   "execution_count": null,
   "id": "automotive-dylan",
   "metadata": {},
   "outputs": [],
   "source": [
    "visualizer = MissingValuesBar(features=df.select_dtypes(include=np.number).columns.tolist())\n",
    "visualizer.fit(df.select_dtypes(include=np.number))\n",
    "visualizer.show();"
   ]
  },
  {
   "cell_type": "markdown",
   "id": "metric-cassette",
   "metadata": {},
   "source": [
    "##### Imputation"
   ]
  },
  {
   "cell_type": "code",
   "execution_count": null,
   "id": "indoor-translator",
   "metadata": {},
   "outputs": [],
   "source": [
    "df = imputation(df)"
   ]
  },
  {
   "cell_type": "markdown",
   "id": "experienced-tract",
   "metadata": {},
   "source": [
    "#### Data compression:"
   ]
  },
  {
   "cell_type": "code",
   "execution_count": null,
   "id": "neutral-billion",
   "metadata": {},
   "outputs": [],
   "source": [
    "df = downcast_dtypes(df)"
   ]
  },
  {
   "cell_type": "markdown",
   "id": "alpha-isaac",
   "metadata": {},
   "source": [
    "##### Dataframe structure after compression"
   ]
  },
  {
   "cell_type": "code",
   "execution_count": null,
   "id": "mature-limit",
   "metadata": {},
   "outputs": [],
   "source": [
    "plot_dataframe_structure(df)"
   ]
  },
  {
   "cell_type": "markdown",
   "id": "rising-nutrition",
   "metadata": {},
   "source": [
    "#### Outliers:"
   ]
  },
  {
   "cell_type": "code",
   "execution_count": null,
   "id": "higher-indiana",
   "metadata": {},
   "outputs": [],
   "source": [
    "df = outliers(df, threshold_Z)"
   ]
  },
  {
   "cell_type": "markdown",
   "id": "burning-diameter",
   "metadata": {},
   "source": [
    "#### Splitting dataframe in features and targets"
   ]
  },
  {
   "cell_type": "code",
   "execution_count": null,
   "id": "bulgarian-delivery",
   "metadata": {},
   "outputs": [],
   "source": [
    "y = df[target_col]"
   ]
  },
  {
   "cell_type": "code",
   "execution_count": null,
   "id": "difficult-decimal",
   "metadata": {},
   "outputs": [],
   "source": [
    "X = df.drop(target_col, axis=1)"
   ]
  },
  {
   "cell_type": "markdown",
   "id": "clean-arcade",
   "metadata": {},
   "source": [
    "### Plottings"
   ]
  },
  {
   "cell_type": "markdown",
   "id": "color-apache",
   "metadata": {},
   "source": [
    "#### Ranking "
   ]
  },
  {
   "cell_type": "markdown",
   "id": "fitting-default",
   "metadata": {},
   "source": [
    "##### Ranking 1D "
   ]
  },
  {
   "cell_type": "code",
   "execution_count": null,
   "id": "completed-jurisdiction",
   "metadata": {},
   "outputs": [],
   "source": [
    "rank1d(df);"
   ]
  },
  {
   "cell_type": "markdown",
   "id": "white-methodology",
   "metadata": {},
   "source": [
    "##### Ranking 2D "
   ]
  },
  {
   "cell_type": "markdown",
   "id": "aerial-beverage",
   "metadata": {},
   "source": [
    "###### Ranking 2D according to Pearson"
   ]
  },
  {
   "cell_type": "code",
   "execution_count": null,
   "id": "instrumental-consultation",
   "metadata": {},
   "outputs": [],
   "source": [
    "rank2d(df, algorithm='pearson');"
   ]
  },
  {
   "cell_type": "markdown",
   "id": "tracked-hudson",
   "metadata": {},
   "source": [
    "###### Ranking 2D based on covariance"
   ]
  },
  {
   "cell_type": "code",
   "execution_count": null,
   "id": "finite-gazette",
   "metadata": {},
   "outputs": [],
   "source": [
    "rank2d(df, algorithm='covariance');"
   ]
  },
  {
   "cell_type": "markdown",
   "id": "recovered-dayton",
   "metadata": {},
   "source": [
    "###### Ranking 2D according to Spearman"
   ]
  },
  {
   "cell_type": "code",
   "execution_count": null,
   "id": "regional-overall",
   "metadata": {},
   "outputs": [],
   "source": [
    "rank2d(df, algorithm='spearman');"
   ]
  },
  {
   "cell_type": "markdown",
   "id": "fitted-missouri",
   "metadata": {},
   "source": [
    "###### Ranking 2D according to Kendalltau"
   ]
  },
  {
   "cell_type": "code",
   "execution_count": null,
   "id": "public-national",
   "metadata": {},
   "outputs": [],
   "source": [
    "rank2d(df, algorithm='kendalltau');"
   ]
  },
  {
   "cell_type": "markdown",
   "id": "conceptual-latvia",
   "metadata": {},
   "source": [
    "#### Correlation"
   ]
  },
  {
   "cell_type": "markdown",
   "id": "constitutional-hebrew",
   "metadata": {},
   "source": [
    "##### Correlation with Yellow Bricks"
   ]
  },
  {
   "cell_type": "code",
   "execution_count": null,
   "id": "thick-brake",
   "metadata": {},
   "outputs": [],
   "source": [
    "feature_correlation(X, y);"
   ]
  },
  {
   "cell_type": "code",
   "execution_count": null,
   "id": "electrical-saturday",
   "metadata": {},
   "outputs": [],
   "source": [
    "feature_correlation(X, y, method='mutual_info-regression');"
   ]
  },
  {
   "cell_type": "markdown",
   "id": "western-remark",
   "metadata": {},
   "source": [
    "#### Feature importance (a priori)"
   ]
  },
  {
   "cell_type": "markdown",
   "id": "growing-portuguese",
   "metadata": {},
   "source": [
    "##### According to decision tree"
   ]
  },
  {
   "cell_type": "code",
   "execution_count": null,
   "id": "meaningful-mumbai",
   "metadata": {},
   "outputs": [],
   "source": [
    "feature_importances(DecisionTreeRegressor(), X, y);"
   ]
  },
  {
   "cell_type": "markdown",
   "id": "indian-pasta",
   "metadata": {},
   "source": [
    "##### According to elasticnet regression"
   ]
  },
  {
   "cell_type": "code",
   "execution_count": null,
   "id": "unnecessary-printer",
   "metadata": {},
   "outputs": [],
   "source": [
    "feature_importances(ElasticNet(alpha=0.01, l1_ratio=0.5), X, y);"
   ]
  },
  {
   "cell_type": "markdown",
   "id": "inner-capture",
   "metadata": {},
   "source": [
    "## Splitting data in train and test sets "
   ]
  },
  {
   "cell_type": "code",
   "execution_count": null,
   "id": "applied-delhi",
   "metadata": {},
   "outputs": [],
   "source": [
    "X_train, X_test, y_train, y_test = split(X, y, test_size=0.33)"
   ]
  },
  {
   "cell_type": "markdown",
   "id": "brazilian-ladder",
   "metadata": {},
   "source": [
    "## Modelling"
   ]
  },
  {
   "cell_type": "markdown",
   "id": "enclosed-concert",
   "metadata": {},
   "source": [
    "### Model building"
   ]
  },
  {
   "cell_type": "markdown",
   "id": "interested-local",
   "metadata": {},
   "source": [
    "##### Level-0 models"
   ]
  },
  {
   "cell_type": "code",
   "execution_count": null,
   "id": "bright-crime",
   "metadata": {},
   "outputs": [],
   "source": [
    "level_0 = [ \n",
    "          ('GPR', GaussianProcessRegressor()), \n",
    "          ('DTR', DecisionTreeRegressor(max_depth=5)), \n",
    "          ('RFR', RandomForestRegressor(max_depth=5, n_estimators=10, max_features='auto')), \n",
    "          ('ABR', AdaBoostRegressor()), \n",
    "          ('ELNE', ElasticNet(alpha=0.01, l1_ratio=0.5)), \n",
    "          ('LINR', LinearRegression()), \n",
    "          ('MLPR', MLPRegressor(alpha=1, max_iter=1000, early_stopping=True)), \n",
    "          ('KNR', KNeighborsRegressor()), \n",
    "          ('PNR', PolynomialNetworkRegressor()), \n",
    "          ('FMR', FactorizationMachineRegressor()), \n",
    "          ]"
   ]
  },
  {
   "cell_type": "markdown",
   "id": "authentic-norfolk",
   "metadata": {},
   "source": [
    "##### Level-1 model"
   ]
  },
  {
   "cell_type": "code",
   "execution_count": null,
   "id": "german-salem",
   "metadata": {},
   "outputs": [],
   "source": [
    "level_1 = MLPRegressor()"
   ]
  },
  {
   "cell_type": "markdown",
   "id": "perceived-fields",
   "metadata": {},
   "source": [
    "##### Stacking for regression"
   ]
  },
  {
   "cell_type": "code",
   "execution_count": null,
   "id": "complicated-sister",
   "metadata": {},
   "outputs": [],
   "source": [
    "model = StackingRegressor(level_0, final_estimator=level_1)"
   ]
  },
  {
   "cell_type": "markdown",
   "id": "conditional-tamil",
   "metadata": {},
   "source": [
    "### Model fitting"
   ]
  },
  {
   "cell_type": "code",
   "execution_count": null,
   "id": "restricted-giving",
   "metadata": {},
   "outputs": [],
   "source": [
    "%%time\n",
    "set_config(display='diagram') \n",
    "model.fit(X_train, y_train)"
   ]
  },
  {
   "cell_type": "markdown",
   "id": "modular-benjamin",
   "metadata": {},
   "source": [
    "### Model evaluation"
   ]
  },
  {
   "cell_type": "markdown",
   "id": "seventh-optimum",
   "metadata": {},
   "source": [
    "#### Model scoring"
   ]
  },
  {
   "cell_type": "code",
   "execution_count": null,
   "id": "transparent-uniform",
   "metadata": {},
   "outputs": [],
   "source": [
    "score_stacking_r(model, X_train, y_train, X_test, y_test)"
   ]
  },
  {
   "cell_type": "markdown",
   "id": "stuffed-adjustment",
   "metadata": {},
   "source": [
    "#### Feature permutation importance (a posteriori)"
   ]
  },
  {
   "cell_type": "code",
   "execution_count": null,
   "id": "successful-stationery",
   "metadata": {},
   "outputs": [],
   "source": [
    "plot_perm_imp(model, X, y, scoring = 'r2');"
   ]
  },
  {
   "cell_type": "markdown",
   "id": "acting-nancy",
   "metadata": {},
   "source": [
    "#### Residuals plot"
   ]
  },
  {
   "cell_type": "code",
   "execution_count": null,
   "id": "useful-gravity",
   "metadata": {},
   "outputs": [],
   "source": [
    "residuals_plot(model, X_train, y_train, X_test, y_test);"
   ]
  },
  {
   "cell_type": "markdown",
   "id": "revised-example",
   "metadata": {},
   "source": [
    "#### Prediction error"
   ]
  },
  {
   "cell_type": "code",
   "execution_count": null,
   "id": "dress-flavor",
   "metadata": {},
   "outputs": [],
   "source": [
    "prediction_error(model, X_train, y_train, X_test, y_test);"
   ]
  }
 ],
 "metadata": {},
 "nbformat": 4,
 "nbformat_minor": 5
}
