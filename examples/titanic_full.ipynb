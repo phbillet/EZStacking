{
 "cells": [
  {
   "cell_type": "markdown",
   "id": "exotic-employment",
   "metadata": {
    "papermill": {
     "duration": 0.067021,
     "end_time": "2021-11-10T15:48:18.500619",
     "exception": false,
     "start_time": "2021-11-10T15:48:18.433598",
     "status": "completed"
    },
    "tags": []
   },
   "source": [
    "# EDA & Modelling"
   ]
  },
  {
   "cell_type": "markdown",
   "id": "neutral-rental",
   "metadata": {
    "papermill": {
     "duration": 0.06927,
     "end_time": "2021-11-10T15:48:18.636089",
     "exception": false,
     "start_time": "2021-11-10T15:48:18.566819",
     "status": "completed"
    },
    "tags": []
   },
   "source": [
    "## Package loading"
   ]
  },
  {
   "cell_type": "code",
   "execution_count": 1,
   "id": "mathematical-niagara",
   "metadata": {
    "execution": {
     "iopub.execute_input": "2021-11-10T15:48:18.819005Z",
     "iopub.status.busy": "2021-11-10T15:48:18.807165Z",
     "iopub.status.idle": "2021-11-10T15:48:24.184826Z",
     "shell.execute_reply": "2021-11-10T15:48:24.183703Z"
    },
    "papermill": {
     "duration": 5.473265,
     "end_time": "2021-11-10T15:48:24.185152",
     "exception": false,
     "start_time": "2021-11-10T15:48:18.711887",
     "status": "completed"
    },
    "tags": []
   },
   "outputs": [],
   "source": [
    "from EZS_func import *\n",
    "import numpy as np\n",
    "import pandas as pd\n",
    "import os\n",
    "import gc\n",
    "import matplotlib.pyplot as plt\n",
    "import warnings\n",
    "warnings.filterwarnings('ignore')\n",
    "import re\n",
    "import math\n",
    "import keras\n",
    "from sklearn.gaussian_process import GaussianProcessClassifier\n",
    "from sklearn.tree import DecisionTreeClassifier\n",
    "from sklearn.ensemble import RandomForestClassifier\n",
    "from sklearn.ensemble import AdaBoostClassifier\n",
    "from sklearn.ensemble import StackingClassifier\n",
    "from sklearn.linear_model import SGDClassifier\n",
    "from sklearn.linear_model import LogisticRegression\n",
    "from sklearn.neural_network import MLPClassifier\n",
    "from sklearn.neighbors import KNeighborsClassifier\n",
    "from sklearn.neighbors import LocalOutlierFactor\n",
    "from sklearn.naive_bayes import GaussianNB\n",
    "from xgboost import XGBClassifier\n",
    "from xgboost import plot_tree\n",
    "from xgboost import to_graphviz\n",
    "from polylearn import PolynomialNetworkClassifier\n",
    "from polylearn import FactorizationMachineClassifier\n",
    "from keras.wrappers.scikit_learn import KerasClassifier\n",
    "from sklearn.base import BaseEstimator\n",
    "from sklearn.base import TransformerMixin\n",
    "from keras.callbacks import EarlyStopping\n",
    "from sklearn.experimental import enable_iterative_imputer\n",
    "from sklearn.impute import SimpleImputer\n",
    "from sklearn.impute import IterativeImputer\n",
    "from sklearn.inspection import permutation_importance\n",
    "from sklearn.gaussian_process.kernels import RBF\n",
    "from sklearn.gaussian_process.kernels import WhiteKernel\n",
    "from sklearn.gaussian_process.kernels import ConstantKernel\n",
    "from sklearn.gaussian_process.kernels import Matern\n",
    "from sklearn.gaussian_process.kernels import RationalQuadratic\n",
    "from sklearn.gaussian_process.kernels import ExpSineSquared\n",
    "from sklearn.gaussian_process.kernels import DotProduct\n",
    "from keras.layers import Dense\n",
    "from keras.layers import BatchNormalization\n",
    "from keras.layers import LayerNormalization\n",
    "from keras.models import Sequential\n",
    "from sklearn.metrics import accuracy_score\n",
    "from sklearn.metrics import f1_score\n",
    "from sklearn.metrics import recall_score\n",
    "from pandas.api.types import is_numeric_dtype\n",
    "from itertools import product\n",
    "from scipy import stats\n",
    "from sklearn import set_config\n",
    "from sklearn import datasets\n",
    "from sklearn.model_selection import train_test_split\n",
    "from sklearn.model_selection import StratifiedKFold\n",
    "from sklearn.model_selection import RepeatedStratifiedKFold\n",
    "from keras.utils import np_utils\n",
    "from sklearn.preprocessing import StandardScaler\n",
    "from sklearn.preprocessing import OneHotEncoder\n",
    "from sklearn.preprocessing import OrdinalEncoder\n",
    "from sklearn.preprocessing import LabelEncoder\n",
    "from sklearn.preprocessing import FunctionTransformer\n",
    "from yellowbrick.classifier import classification_report\n",
    "from yellowbrick.classifier import class_prediction_error\n",
    "from yellowbrick.classifier import confusion_matrix\n",
    "from yellowbrick.classifier import precision_recall_curve\n",
    "from yellowbrick.classifier.rocauc import roc_auc\n",
    "from yellowbrick.classifier.threshold import discrimination_threshold\n",
    "from yellowbrick.features import pca_decomposition\n",
    "from yellowbrick.features import rank1d\n",
    "from yellowbrick.features import rank2d\n",
    "from yellowbrick.target import balanced_binning_reference\n",
    "from yellowbrick.target import class_balance\n",
    "from keras.utils.vis_utils import plot_model\n",
    "from yellowbrick.model_selection import learning_curve\n",
    "from yellowbrick.model_selection import feature_importances\n",
    "from yellowbrick.contrib.missing import MissingValuesBar\n",
    "from yellowbrick.contrib.missing import MissingValuesDispersion\n",
    "from yellowbrick.target.feature_correlation import feature_correlation\n"
   ]
  },
  {
   "cell_type": "markdown",
   "id": "married-commonwealth",
   "metadata": {
    "papermill": {
     "duration": 0.114759,
     "end_time": "2021-11-10T15:48:24.367850",
     "exception": false,
     "start_time": "2021-11-10T15:48:24.253091",
     "status": "completed"
    },
    "tags": []
   },
   "source": [
    "## Exploratory Data Analysis "
   ]
  },
  {
   "cell_type": "markdown",
   "id": "moderate-brisbane",
   "metadata": {
    "papermill": {
     "duration": 0.101621,
     "end_time": "2021-11-10T15:48:24.536767",
     "exception": false,
     "start_time": "2021-11-10T15:48:24.435146",
     "status": "completed"
    },
    "tags": []
   },
   "source": [
    "### File and parameters loading"
   ]
  },
  {
   "cell_type": "code",
   "execution_count": 2,
   "id": "lyric-uzbekistan",
   "metadata": {
    "execution": {
     "iopub.execute_input": "2021-11-10T15:48:24.721545Z",
     "iopub.status.busy": "2021-11-10T15:48:24.720181Z",
     "iopub.status.idle": "2021-11-10T15:48:24.722507Z",
     "shell.execute_reply": "2021-11-10T15:48:24.724377Z"
    },
    "papermill": {
     "duration": 0.12411,
     "end_time": "2021-11-10T15:48:24.724926",
     "exception": false,
     "start_time": "2021-11-10T15:48:24.600816",
     "status": "completed"
    },
    "tags": []
   },
   "outputs": [],
   "source": [
    "problem_type = 'classification'"
   ]
  },
  {
   "cell_type": "code",
   "execution_count": 3,
   "id": "outstanding-boston",
   "metadata": {
    "execution": {
     "iopub.execute_input": "2021-11-10T15:48:24.908719Z",
     "iopub.status.busy": "2021-11-10T15:48:24.906758Z",
     "iopub.status.idle": "2021-11-10T15:48:24.913817Z",
     "shell.execute_reply": "2021-11-10T15:48:24.914403Z"
    },
    "papermill": {
     "duration": 0.123196,
     "end_time": "2021-11-10T15:48:24.914650",
     "exception": false,
     "start_time": "2021-11-10T15:48:24.791454",
     "status": "completed"
    },
    "tags": []
   },
   "outputs": [],
   "source": [
    "stacking = 'True'"
   ]
  },
  {
   "cell_type": "code",
   "execution_count": 4,
   "id": "restricted-virus",
   "metadata": {
    "execution": {
     "iopub.execute_input": "2021-11-10T15:48:25.081436Z",
     "iopub.status.busy": "2021-11-10T15:48:25.080617Z",
     "iopub.status.idle": "2021-11-10T15:48:25.085798Z",
     "shell.execute_reply": "2021-11-10T15:48:25.085176Z"
    },
    "papermill": {
     "duration": 0.108103,
     "end_time": "2021-11-10T15:48:25.086001",
     "exception": false,
     "start_time": "2021-11-10T15:48:24.977898",
     "status": "completed"
    },
    "tags": []
   },
   "outputs": [],
   "source": [
    "data_size = 'small'"
   ]
  },
  {
   "cell_type": "code",
   "execution_count": 5,
   "id": "governmental-stable",
   "metadata": {
    "execution": {
     "iopub.execute_input": "2021-11-10T15:48:25.244333Z",
     "iopub.status.busy": "2021-11-10T15:48:25.243517Z",
     "iopub.status.idle": "2021-11-10T15:48:25.259434Z",
     "shell.execute_reply": "2021-11-10T15:48:25.260073Z"
    },
    "papermill": {
     "duration": 0.113238,
     "end_time": "2021-11-10T15:48:25.260428",
     "exception": false,
     "start_time": "2021-11-10T15:48:25.147190",
     "status": "completed"
    },
    "tags": []
   },
   "outputs": [],
   "source": [
    "df = pd.read_csv('/home/philippe/Documents/python project/EZStacking-v0.11/dataset/titanic.csv')"
   ]
  },
  {
   "cell_type": "code",
   "execution_count": 6,
   "id": "random-marketing",
   "metadata": {
    "execution": {
     "iopub.execute_input": "2021-11-10T15:48:25.441092Z",
     "iopub.status.busy": "2021-11-10T15:48:25.439816Z",
     "iopub.status.idle": "2021-11-10T15:48:25.444374Z",
     "shell.execute_reply": "2021-11-10T15:48:25.444948Z"
    },
    "papermill": {
     "duration": 0.120263,
     "end_time": "2021-11-10T15:48:25.445242",
     "exception": false,
     "start_time": "2021-11-10T15:48:25.324979",
     "status": "completed"
    },
    "tags": []
   },
   "outputs": [],
   "source": [
    "target_col = 'survived'"
   ]
  },
  {
   "cell_type": "code",
   "execution_count": 7,
   "id": "prescribed-cooking",
   "metadata": {
    "execution": {
     "iopub.execute_input": "2021-11-10T15:48:25.607232Z",
     "iopub.status.busy": "2021-11-10T15:48:25.604483Z",
     "iopub.status.idle": "2021-11-10T15:48:25.609794Z",
     "shell.execute_reply": "2021-11-10T15:48:25.610397Z"
    },
    "papermill": {
     "duration": 0.10324,
     "end_time": "2021-11-10T15:48:25.610666",
     "exception": false,
     "start_time": "2021-11-10T15:48:25.507426",
     "status": "completed"
    },
    "tags": []
   },
   "outputs": [],
   "source": [
    "user_drop_cols = []"
   ]
  },
  {
   "cell_type": "code",
   "execution_count": 8,
   "id": "aquatic-naples",
   "metadata": {
    "execution": {
     "iopub.execute_input": "2021-11-10T15:48:25.803359Z",
     "iopub.status.busy": "2021-11-10T15:48:25.802555Z",
     "iopub.status.idle": "2021-11-10T15:48:25.808021Z",
     "shell.execute_reply": "2021-11-10T15:48:25.807372Z"
    },
    "papermill": {
     "duration": 0.135793,
     "end_time": "2021-11-10T15:48:25.808222",
     "exception": false,
     "start_time": "2021-11-10T15:48:25.672429",
     "status": "completed"
    },
    "tags": []
   },
   "outputs": [],
   "source": [
    "threshold_NaN = 0.5"
   ]
  },
  {
   "cell_type": "code",
   "execution_count": 9,
   "id": "qualified-klein",
   "metadata": {
    "execution": {
     "iopub.execute_input": "2021-11-10T15:48:25.974827Z",
     "iopub.status.busy": "2021-11-10T15:48:25.972599Z",
     "iopub.status.idle": "2021-11-10T15:48:25.977916Z",
     "shell.execute_reply": "2021-11-10T15:48:25.978466Z"
    },
    "papermill": {
     "duration": 0.104681,
     "end_time": "2021-11-10T15:48:25.978717",
     "exception": false,
     "start_time": "2021-11-10T15:48:25.874036",
     "status": "completed"
    },
    "tags": []
   },
   "outputs": [],
   "source": [
    "threshold_cat = 5"
   ]
  },
  {
   "cell_type": "code",
   "execution_count": 10,
   "id": "opposed-contract",
   "metadata": {
    "execution": {
     "iopub.execute_input": "2021-11-10T15:48:26.163544Z",
     "iopub.status.busy": "2021-11-10T15:48:26.161188Z",
     "iopub.status.idle": "2021-11-10T15:48:26.166267Z",
     "shell.execute_reply": "2021-11-10T15:48:26.166842Z"
    },
    "papermill": {
     "duration": 0.122109,
     "end_time": "2021-11-10T15:48:26.167082",
     "exception": false,
     "start_time": "2021-11-10T15:48:26.044973",
     "status": "completed"
    },
    "tags": []
   },
   "outputs": [],
   "source": [
    "threshold_Z = 3.0"
   ]
  },
  {
   "cell_type": "markdown",
   "id": "arabic-difficulty",
   "metadata": {
    "papermill": {
     "duration": 0.100471,
     "end_time": "2021-11-10T15:48:26.334159",
     "exception": false,
     "start_time": "2021-11-10T15:48:26.233688",
     "status": "completed"
    },
    "tags": []
   },
   "source": [
    "### Dataset Information"
   ]
  },
  {
   "cell_type": "code",
   "execution_count": 11,
   "id": "effective-integration",
   "metadata": {
    "execution": {
     "iopub.execute_input": "2021-11-10T15:48:26.516234Z",
     "iopub.status.busy": "2021-11-10T15:48:26.515001Z",
     "iopub.status.idle": "2021-11-10T15:48:26.523779Z",
     "shell.execute_reply": "2021-11-10T15:48:26.521641Z"
    },
    "papermill": {
     "duration": 0.127339,
     "end_time": "2021-11-10T15:48:26.524046",
     "exception": false,
     "start_time": "2021-11-10T15:48:26.396707",
     "status": "completed"
    },
    "tags": []
   },
   "outputs": [
    {
     "data": {
      "text/plain": [
       "(891, 15)"
      ]
     },
     "execution_count": 11,
     "metadata": {},
     "output_type": "execute_result"
    }
   ],
   "source": [
    "df.shape"
   ]
  },
  {
   "cell_type": "markdown",
   "id": "tutorial-destination",
   "metadata": {
    "papermill": {
     "duration": 0.112687,
     "end_time": "2021-11-10T15:48:26.701212",
     "exception": false,
     "start_time": "2021-11-10T15:48:26.588525",
     "status": "completed"
    },
    "tags": []
   },
   "source": [
    "#### Some records"
   ]
  },
  {
   "cell_type": "code",
   "execution_count": 12,
   "id": "appropriate-failing",
   "metadata": {
    "execution": {
     "iopub.execute_input": "2021-11-10T15:48:26.900318Z",
     "iopub.status.busy": "2021-11-10T15:48:26.899377Z",
     "iopub.status.idle": "2021-11-10T15:48:26.939241Z",
     "shell.execute_reply": "2021-11-10T15:48:26.937721Z"
    },
    "papermill": {
     "duration": 0.169482,
     "end_time": "2021-11-10T15:48:26.939648",
     "exception": false,
     "start_time": "2021-11-10T15:48:26.770166",
     "status": "completed"
    },
    "tags": []
   },
   "outputs": [
    {
     "data": {
      "text/html": [
       "<div>\n",
       "<style scoped>\n",
       "    .dataframe tbody tr th:only-of-type {\n",
       "        vertical-align: middle;\n",
       "    }\n",
       "\n",
       "    .dataframe tbody tr th {\n",
       "        vertical-align: top;\n",
       "    }\n",
       "\n",
       "    .dataframe thead th {\n",
       "        text-align: right;\n",
       "    }\n",
       "</style>\n",
       "<table border=\"1\" class=\"dataframe\">\n",
       "  <thead>\n",
       "    <tr style=\"text-align: right;\">\n",
       "      <th></th>\n",
       "      <th>survived</th>\n",
       "      <th>pclass</th>\n",
       "      <th>sex</th>\n",
       "      <th>age</th>\n",
       "      <th>sibsp</th>\n",
       "      <th>parch</th>\n",
       "      <th>fare</th>\n",
       "      <th>embarked</th>\n",
       "      <th>class</th>\n",
       "      <th>who</th>\n",
       "      <th>adult_male</th>\n",
       "      <th>deck</th>\n",
       "      <th>embark_town</th>\n",
       "      <th>alive</th>\n",
       "      <th>alone</th>\n",
       "    </tr>\n",
       "  </thead>\n",
       "  <tbody>\n",
       "    <tr>\n",
       "      <th>0</th>\n",
       "      <td>0</td>\n",
       "      <td>3</td>\n",
       "      <td>male</td>\n",
       "      <td>22.0</td>\n",
       "      <td>1</td>\n",
       "      <td>0</td>\n",
       "      <td>7.2500</td>\n",
       "      <td>S</td>\n",
       "      <td>Third</td>\n",
       "      <td>man</td>\n",
       "      <td>True</td>\n",
       "      <td>NaN</td>\n",
       "      <td>Southampton</td>\n",
       "      <td>no</td>\n",
       "      <td>False</td>\n",
       "    </tr>\n",
       "    <tr>\n",
       "      <th>1</th>\n",
       "      <td>1</td>\n",
       "      <td>1</td>\n",
       "      <td>female</td>\n",
       "      <td>38.0</td>\n",
       "      <td>1</td>\n",
       "      <td>0</td>\n",
       "      <td>71.2833</td>\n",
       "      <td>C</td>\n",
       "      <td>First</td>\n",
       "      <td>woman</td>\n",
       "      <td>False</td>\n",
       "      <td>C</td>\n",
       "      <td>Cherbourg</td>\n",
       "      <td>yes</td>\n",
       "      <td>False</td>\n",
       "    </tr>\n",
       "    <tr>\n",
       "      <th>2</th>\n",
       "      <td>1</td>\n",
       "      <td>3</td>\n",
       "      <td>female</td>\n",
       "      <td>26.0</td>\n",
       "      <td>0</td>\n",
       "      <td>0</td>\n",
       "      <td>7.9250</td>\n",
       "      <td>S</td>\n",
       "      <td>Third</td>\n",
       "      <td>woman</td>\n",
       "      <td>False</td>\n",
       "      <td>NaN</td>\n",
       "      <td>Southampton</td>\n",
       "      <td>yes</td>\n",
       "      <td>True</td>\n",
       "    </tr>\n",
       "    <tr>\n",
       "      <th>3</th>\n",
       "      <td>1</td>\n",
       "      <td>1</td>\n",
       "      <td>female</td>\n",
       "      <td>35.0</td>\n",
       "      <td>1</td>\n",
       "      <td>0</td>\n",
       "      <td>53.1000</td>\n",
       "      <td>S</td>\n",
       "      <td>First</td>\n",
       "      <td>woman</td>\n",
       "      <td>False</td>\n",
       "      <td>C</td>\n",
       "      <td>Southampton</td>\n",
       "      <td>yes</td>\n",
       "      <td>False</td>\n",
       "    </tr>\n",
       "    <tr>\n",
       "      <th>4</th>\n",
       "      <td>0</td>\n",
       "      <td>3</td>\n",
       "      <td>male</td>\n",
       "      <td>35.0</td>\n",
       "      <td>0</td>\n",
       "      <td>0</td>\n",
       "      <td>8.0500</td>\n",
       "      <td>S</td>\n",
       "      <td>Third</td>\n",
       "      <td>man</td>\n",
       "      <td>True</td>\n",
       "      <td>NaN</td>\n",
       "      <td>Southampton</td>\n",
       "      <td>no</td>\n",
       "      <td>True</td>\n",
       "    </tr>\n",
       "    <tr>\n",
       "      <th>...</th>\n",
       "      <td>...</td>\n",
       "      <td>...</td>\n",
       "      <td>...</td>\n",
       "      <td>...</td>\n",
       "      <td>...</td>\n",
       "      <td>...</td>\n",
       "      <td>...</td>\n",
       "      <td>...</td>\n",
       "      <td>...</td>\n",
       "      <td>...</td>\n",
       "      <td>...</td>\n",
       "      <td>...</td>\n",
       "      <td>...</td>\n",
       "      <td>...</td>\n",
       "      <td>...</td>\n",
       "    </tr>\n",
       "    <tr>\n",
       "      <th>886</th>\n",
       "      <td>0</td>\n",
       "      <td>2</td>\n",
       "      <td>male</td>\n",
       "      <td>27.0</td>\n",
       "      <td>0</td>\n",
       "      <td>0</td>\n",
       "      <td>13.0000</td>\n",
       "      <td>S</td>\n",
       "      <td>Second</td>\n",
       "      <td>man</td>\n",
       "      <td>True</td>\n",
       "      <td>NaN</td>\n",
       "      <td>Southampton</td>\n",
       "      <td>no</td>\n",
       "      <td>True</td>\n",
       "    </tr>\n",
       "    <tr>\n",
       "      <th>887</th>\n",
       "      <td>1</td>\n",
       "      <td>1</td>\n",
       "      <td>female</td>\n",
       "      <td>19.0</td>\n",
       "      <td>0</td>\n",
       "      <td>0</td>\n",
       "      <td>30.0000</td>\n",
       "      <td>S</td>\n",
       "      <td>First</td>\n",
       "      <td>woman</td>\n",
       "      <td>False</td>\n",
       "      <td>B</td>\n",
       "      <td>Southampton</td>\n",
       "      <td>yes</td>\n",
       "      <td>True</td>\n",
       "    </tr>\n",
       "    <tr>\n",
       "      <th>888</th>\n",
       "      <td>0</td>\n",
       "      <td>3</td>\n",
       "      <td>female</td>\n",
       "      <td>NaN</td>\n",
       "      <td>1</td>\n",
       "      <td>2</td>\n",
       "      <td>23.4500</td>\n",
       "      <td>S</td>\n",
       "      <td>Third</td>\n",
       "      <td>woman</td>\n",
       "      <td>False</td>\n",
       "      <td>NaN</td>\n",
       "      <td>Southampton</td>\n",
       "      <td>no</td>\n",
       "      <td>False</td>\n",
       "    </tr>\n",
       "    <tr>\n",
       "      <th>889</th>\n",
       "      <td>1</td>\n",
       "      <td>1</td>\n",
       "      <td>male</td>\n",
       "      <td>26.0</td>\n",
       "      <td>0</td>\n",
       "      <td>0</td>\n",
       "      <td>30.0000</td>\n",
       "      <td>C</td>\n",
       "      <td>First</td>\n",
       "      <td>man</td>\n",
       "      <td>True</td>\n",
       "      <td>C</td>\n",
       "      <td>Cherbourg</td>\n",
       "      <td>yes</td>\n",
       "      <td>True</td>\n",
       "    </tr>\n",
       "    <tr>\n",
       "      <th>890</th>\n",
       "      <td>0</td>\n",
       "      <td>3</td>\n",
       "      <td>male</td>\n",
       "      <td>32.0</td>\n",
       "      <td>0</td>\n",
       "      <td>0</td>\n",
       "      <td>7.7500</td>\n",
       "      <td>Q</td>\n",
       "      <td>Third</td>\n",
       "      <td>man</td>\n",
       "      <td>True</td>\n",
       "      <td>NaN</td>\n",
       "      <td>Queenstown</td>\n",
       "      <td>no</td>\n",
       "      <td>True</td>\n",
       "    </tr>\n",
       "  </tbody>\n",
       "</table>\n",
       "<p>891 rows × 15 columns</p>\n",
       "</div>"
      ],
      "text/plain": [
       "     survived  pclass     sex   age  sibsp  parch     fare embarked   class  \\\n",
       "0           0       3    male  22.0      1      0   7.2500        S   Third   \n",
       "1           1       1  female  38.0      1      0  71.2833        C   First   \n",
       "2           1       3  female  26.0      0      0   7.9250        S   Third   \n",
       "3           1       1  female  35.0      1      0  53.1000        S   First   \n",
       "4           0       3    male  35.0      0      0   8.0500        S   Third   \n",
       "..        ...     ...     ...   ...    ...    ...      ...      ...     ...   \n",
       "886         0       2    male  27.0      0      0  13.0000        S  Second   \n",
       "887         1       1  female  19.0      0      0  30.0000        S   First   \n",
       "888         0       3  female   NaN      1      2  23.4500        S   Third   \n",
       "889         1       1    male  26.0      0      0  30.0000        C   First   \n",
       "890         0       3    male  32.0      0      0   7.7500        Q   Third   \n",
       "\n",
       "       who  adult_male deck  embark_town alive  alone  \n",
       "0      man        True  NaN  Southampton    no  False  \n",
       "1    woman       False    C    Cherbourg   yes  False  \n",
       "2    woman       False  NaN  Southampton   yes   True  \n",
       "3    woman       False    C  Southampton   yes  False  \n",
       "4      man        True  NaN  Southampton    no   True  \n",
       "..     ...         ...  ...          ...   ...    ...  \n",
       "886    man        True  NaN  Southampton    no   True  \n",
       "887  woman       False    B  Southampton   yes   True  \n",
       "888  woman       False  NaN  Southampton    no  False  \n",
       "889    man        True    C    Cherbourg   yes   True  \n",
       "890    man        True  NaN   Queenstown    no   True  \n",
       "\n",
       "[891 rows x 15 columns]"
      ]
     },
     "metadata": {},
     "output_type": "display_data"
    }
   ],
   "source": [
    "display(df)"
   ]
  },
  {
   "cell_type": "markdown",
   "id": "apparent-palmer",
   "metadata": {
    "papermill": {
     "duration": 0.119649,
     "end_time": "2021-11-10T15:48:27.124509",
     "exception": false,
     "start_time": "2021-11-10T15:48:27.004860",
     "status": "completed"
    },
    "tags": []
   },
   "source": [
    "#### Dataframe structure"
   ]
  },
  {
   "cell_type": "code",
   "execution_count": 13,
   "id": "tracked-geometry",
   "metadata": {
    "execution": {
     "iopub.execute_input": "2021-11-10T15:48:27.315045Z",
     "iopub.status.busy": "2021-11-10T15:48:27.313844Z",
     "iopub.status.idle": "2021-11-10T15:48:27.520450Z",
     "shell.execute_reply": "2021-11-10T15:48:27.519418Z"
    },
    "papermill": {
     "duration": 0.328482,
     "end_time": "2021-11-10T15:48:27.520772",
     "exception": false,
     "start_time": "2021-11-10T15:48:27.192290",
     "status": "completed"
    },
    "tags": []
   },
   "outputs": [
    {
     "data": {
      "image/png": "[encoded data removed]",
      "text/plain": [
       "<Figure size 576x396 with 1 Axes>"
      ]
     },
     "metadata": {},
     "output_type": "display_data"
    }
   ],
   "source": [
    "plot_dataframe_structure(df)"
   ]
  },
  {
   "cell_type": "markdown",
   "id": "controversial-plastic",
   "metadata": {
    "papermill": {
     "duration": 0.123502,
     "end_time": "2021-11-10T15:48:27.706640",
     "exception": false,
     "start_time": "2021-11-10T15:48:27.583138",
     "status": "completed"
    },
    "tags": []
   },
   "source": [
    "#### Dataframe statistics"
   ]
  },
  {
   "cell_type": "code",
   "execution_count": 14,
   "id": "subjective-produce",
   "metadata": {
    "execution": {
     "iopub.execute_input": "2021-11-10T15:48:27.889229Z",
     "iopub.status.busy": "2021-11-10T15:48:27.884856Z",
     "iopub.status.idle": "2021-11-10T15:48:27.929444Z",
     "shell.execute_reply": "2021-11-10T15:48:27.928863Z"
    },
    "papermill": {
     "duration": 0.153815,
     "end_time": "2021-11-10T15:48:27.929668",
     "exception": false,
     "start_time": "2021-11-10T15:48:27.775853",
     "status": "completed"
    },
    "tags": []
   },
   "outputs": [
    {
     "data": {
      "text/html": [
       "<div>\n",
       "<style scoped>\n",
       "    .dataframe tbody tr th:only-of-type {\n",
       "        vertical-align: middle;\n",
       "    }\n",
       "\n",
       "    .dataframe tbody tr th {\n",
       "        vertical-align: top;\n",
       "    }\n",
       "\n",
       "    .dataframe thead th {\n",
       "        text-align: right;\n",
       "    }\n",
       "</style>\n",
       "<table border=\"1\" class=\"dataframe\">\n",
       "  <thead>\n",
       "    <tr style=\"text-align: right;\">\n",
       "      <th></th>\n",
       "      <th>count</th>\n",
       "      <th>mean</th>\n",
       "      <th>std</th>\n",
       "      <th>min</th>\n",
       "      <th>25%</th>\n",
       "      <th>50%</th>\n",
       "      <th>75%</th>\n",
       "      <th>max</th>\n",
       "    </tr>\n",
       "  </thead>\n",
       "  <tbody>\n",
       "    <tr>\n",
       "      <th>survived</th>\n",
       "      <td>891.0</td>\n",
       "      <td>0.383838</td>\n",
       "      <td>0.486592</td>\n",
       "      <td>0.00</td>\n",
       "      <td>0.0000</td>\n",
       "      <td>0.0000</td>\n",
       "      <td>1.0</td>\n",
       "      <td>1.0000</td>\n",
       "    </tr>\n",
       "    <tr>\n",
       "      <th>pclass</th>\n",
       "      <td>891.0</td>\n",
       "      <td>2.308642</td>\n",
       "      <td>0.836071</td>\n",
       "      <td>1.00</td>\n",
       "      <td>2.0000</td>\n",
       "      <td>3.0000</td>\n",
       "      <td>3.0</td>\n",
       "      <td>3.0000</td>\n",
       "    </tr>\n",
       "    <tr>\n",
       "      <th>age</th>\n",
       "      <td>714.0</td>\n",
       "      <td>29.699118</td>\n",
       "      <td>14.526497</td>\n",
       "      <td>0.42</td>\n",
       "      <td>20.1250</td>\n",
       "      <td>28.0000</td>\n",
       "      <td>38.0</td>\n",
       "      <td>80.0000</td>\n",
       "    </tr>\n",
       "    <tr>\n",
       "      <th>sibsp</th>\n",
       "      <td>891.0</td>\n",
       "      <td>0.523008</td>\n",
       "      <td>1.102743</td>\n",
       "      <td>0.00</td>\n",
       "      <td>0.0000</td>\n",
       "      <td>0.0000</td>\n",
       "      <td>1.0</td>\n",
       "      <td>8.0000</td>\n",
       "    </tr>\n",
       "    <tr>\n",
       "      <th>parch</th>\n",
       "      <td>891.0</td>\n",
       "      <td>0.381594</td>\n",
       "      <td>0.806057</td>\n",
       "      <td>0.00</td>\n",
       "      <td>0.0000</td>\n",
       "      <td>0.0000</td>\n",
       "      <td>0.0</td>\n",
       "      <td>6.0000</td>\n",
       "    </tr>\n",
       "    <tr>\n",
       "      <th>fare</th>\n",
       "      <td>891.0</td>\n",
       "      <td>32.204208</td>\n",
       "      <td>49.693429</td>\n",
       "      <td>0.00</td>\n",
       "      <td>7.9104</td>\n",
       "      <td>14.4542</td>\n",
       "      <td>31.0</td>\n",
       "      <td>512.3292</td>\n",
       "    </tr>\n",
       "  </tbody>\n",
       "</table>\n",
       "</div>"
      ],
      "text/plain": [
       "          count       mean        std   min      25%      50%   75%       max\n",
       "survived  891.0   0.383838   0.486592  0.00   0.0000   0.0000   1.0    1.0000\n",
       "pclass    891.0   2.308642   0.836071  1.00   2.0000   3.0000   3.0    3.0000\n",
       "age       714.0  29.699118  14.526497  0.42  20.1250  28.0000  38.0   80.0000\n",
       "sibsp     891.0   0.523008   1.102743  0.00   0.0000   0.0000   1.0    8.0000\n",
       "parch     891.0   0.381594   0.806057  0.00   0.0000   0.0000   0.0    6.0000\n",
       "fare      891.0  32.204208  49.693429  0.00   7.9104  14.4542  31.0  512.3292"
      ]
     },
     "metadata": {},
     "output_type": "display_data"
    }
   ],
   "source": [
    "display(df.describe().T)"
   ]
  },
  {
   "cell_type": "markdown",
   "id": "polish-relative",
   "metadata": {
    "papermill": {
     "duration": 0.118779,
     "end_time": "2021-11-10T15:48:28.114777",
     "exception": false,
     "start_time": "2021-11-10T15:48:27.995998",
     "status": "completed"
    },
    "tags": []
   },
   "source": [
    "#### Which columns could be categorical ?"
   ]
  },
  {
   "cell_type": "code",
   "execution_count": 15,
   "id": "combined-uzbekistan",
   "metadata": {
    "execution": {
     "iopub.execute_input": "2021-11-10T15:48:28.308438Z",
     "iopub.status.busy": "2021-11-10T15:48:28.307651Z",
     "iopub.status.idle": "2021-11-10T15:48:28.583057Z",
     "shell.execute_reply": "2021-11-10T15:48:28.583684Z"
    },
    "papermill": {
     "duration": 0.403102,
     "end_time": "2021-11-10T15:48:28.583953",
     "exception": false,
     "start_time": "2021-11-10T15:48:28.180851",
     "status": "completed"
    },
    "tags": []
   },
   "outputs": [
    {
     "data": {
      "image/png": "[encoded data removed]",
      "text/plain": [
       "<Figure size 576x396 with 1 Axes>"
      ]
     },
     "metadata": {},
     "output_type": "display_data"
    }
   ],
   "source": [
    "plot_categorical(df)"
   ]
  },
  {
   "cell_type": "markdown",
   "id": "incomplete-public",
   "metadata": {
    "papermill": {
     "duration": 0.111762,
     "end_time": "2021-11-10T15:48:28.760495",
     "exception": false,
     "start_time": "2021-11-10T15:48:28.648733",
     "status": "completed"
    },
    "tags": []
   },
   "source": [
    "### Dataset Cleaning"
   ]
  },
  {
   "cell_type": "markdown",
   "id": "careful-trance",
   "metadata": {
    "papermill": {
     "duration": 0.100007,
     "end_time": "2021-11-10T15:48:28.926906",
     "exception": false,
     "start_time": "2021-11-10T15:48:28.826899",
     "status": "completed"
    },
    "tags": []
   },
   "source": [
    "#### Duplicate rows:"
   ]
  },
  {
   "cell_type": "code",
   "execution_count": 16,
   "id": "separated-stomach",
   "metadata": {
    "execution": {
     "iopub.execute_input": "2021-11-10T15:48:29.103139Z",
     "iopub.status.busy": "2021-11-10T15:48:29.096827Z",
     "iopub.status.idle": "2021-11-10T15:48:29.161745Z",
     "shell.execute_reply": "2021-11-10T15:48:29.161113Z"
    },
    "papermill": {
     "duration": 0.160279,
     "end_time": "2021-11-10T15:48:29.161949",
     "exception": false,
     "start_time": "2021-11-10T15:48:29.001670",
     "status": "completed"
    },
    "tags": []
   },
   "outputs": [
    {
     "name": "stdout",
     "output_type": "stream",
     "text": [
      "Number of rows before removing: 891\n",
      "Number of duplicate rows: 107\n",
      "Number of rows after removing: 784\n"
     ]
    },
    {
     "data": {
      "text/html": [
       "<div>\n",
       "<style scoped>\n",
       "    .dataframe tbody tr th:only-of-type {\n",
       "        vertical-align: middle;\n",
       "    }\n",
       "\n",
       "    .dataframe tbody tr th {\n",
       "        vertical-align: top;\n",
       "    }\n",
       "\n",
       "    .dataframe thead th {\n",
       "        text-align: right;\n",
       "    }\n",
       "</style>\n",
       "<table border=\"1\" class=\"dataframe\">\n",
       "  <thead>\n",
       "    <tr style=\"text-align: right;\">\n",
       "      <th></th>\n",
       "      <th>survived</th>\n",
       "      <th>pclass</th>\n",
       "      <th>sex</th>\n",
       "      <th>age</th>\n",
       "      <th>sibsp</th>\n",
       "      <th>parch</th>\n",
       "      <th>fare</th>\n",
       "      <th>embarked</th>\n",
       "      <th>class</th>\n",
       "      <th>who</th>\n",
       "      <th>adult_male</th>\n",
       "      <th>deck</th>\n",
       "      <th>embark_town</th>\n",
       "      <th>alive</th>\n",
       "      <th>alone</th>\n",
       "    </tr>\n",
       "  </thead>\n",
       "  <tbody>\n",
       "    <tr>\n",
       "      <th>0</th>\n",
       "      <td>0</td>\n",
       "      <td>3</td>\n",
       "      <td>male</td>\n",
       "      <td>22.0</td>\n",
       "      <td>1</td>\n",
       "      <td>0</td>\n",
       "      <td>7.2500</td>\n",
       "      <td>S</td>\n",
       "      <td>Third</td>\n",
       "      <td>man</td>\n",
       "      <td>True</td>\n",
       "      <td>NaN</td>\n",
       "      <td>Southampton</td>\n",
       "      <td>no</td>\n",
       "      <td>False</td>\n",
       "    </tr>\n",
       "    <tr>\n",
       "      <th>1</th>\n",
       "      <td>1</td>\n",
       "      <td>1</td>\n",
       "      <td>female</td>\n",
       "      <td>38.0</td>\n",
       "      <td>1</td>\n",
       "      <td>0</td>\n",
       "      <td>71.2833</td>\n",
       "      <td>C</td>\n",
       "      <td>First</td>\n",
       "      <td>woman</td>\n",
       "      <td>False</td>\n",
       "      <td>C</td>\n",
       "      <td>Cherbourg</td>\n",
       "      <td>yes</td>\n",
       "      <td>False</td>\n",
       "    </tr>\n",
       "    <tr>\n",
       "      <th>2</th>\n",
       "      <td>1</td>\n",
       "      <td>3</td>\n",
       "      <td>female</td>\n",
       "      <td>26.0</td>\n",
       "      <td>0</td>\n",
       "      <td>0</td>\n",
       "      <td>7.9250</td>\n",
       "      <td>S</td>\n",
       "      <td>Third</td>\n",
       "      <td>woman</td>\n",
       "      <td>False</td>\n",
       "      <td>NaN</td>\n",
       "      <td>Southampton</td>\n",
       "      <td>yes</td>\n",
       "      <td>True</td>\n",
       "    </tr>\n",
       "    <tr>\n",
       "      <th>3</th>\n",
       "      <td>1</td>\n",
       "      <td>1</td>\n",
       "      <td>female</td>\n",
       "      <td>35.0</td>\n",
       "      <td>1</td>\n",
       "      <td>0</td>\n",
       "      <td>53.1000</td>\n",
       "      <td>S</td>\n",
       "      <td>First</td>\n",
       "      <td>woman</td>\n",
       "      <td>False</td>\n",
       "      <td>C</td>\n",
       "      <td>Southampton</td>\n",
       "      <td>yes</td>\n",
       "      <td>False</td>\n",
       "    </tr>\n",
       "    <tr>\n",
       "      <th>4</th>\n",
       "      <td>0</td>\n",
       "      <td>3</td>\n",
       "      <td>male</td>\n",
       "      <td>35.0</td>\n",
       "      <td>0</td>\n",
       "      <td>0</td>\n",
       "      <td>8.0500</td>\n",
       "      <td>S</td>\n",
       "      <td>Third</td>\n",
       "      <td>man</td>\n",
       "      <td>True</td>\n",
       "      <td>NaN</td>\n",
       "      <td>Southampton</td>\n",
       "      <td>no</td>\n",
       "      <td>True</td>\n",
       "    </tr>\n",
       "    <tr>\n",
       "      <th>...</th>\n",
       "      <td>...</td>\n",
       "      <td>...</td>\n",
       "      <td>...</td>\n",
       "      <td>...</td>\n",
       "      <td>...</td>\n",
       "      <td>...</td>\n",
       "      <td>...</td>\n",
       "      <td>...</td>\n",
       "      <td>...</td>\n",
       "      <td>...</td>\n",
       "      <td>...</td>\n",
       "      <td>...</td>\n",
       "      <td>...</td>\n",
       "      <td>...</td>\n",
       "      <td>...</td>\n",
       "    </tr>\n",
       "    <tr>\n",
       "      <th>885</th>\n",
       "      <td>0</td>\n",
       "      <td>3</td>\n",
       "      <td>female</td>\n",
       "      <td>39.0</td>\n",
       "      <td>0</td>\n",
       "      <td>5</td>\n",
       "      <td>29.1250</td>\n",
       "      <td>Q</td>\n",
       "      <td>Third</td>\n",
       "      <td>woman</td>\n",
       "      <td>False</td>\n",
       "      <td>NaN</td>\n",
       "      <td>Queenstown</td>\n",
       "      <td>no</td>\n",
       "      <td>False</td>\n",
       "    </tr>\n",
       "    <tr>\n",
       "      <th>887</th>\n",
       "      <td>1</td>\n",
       "      <td>1</td>\n",
       "      <td>female</td>\n",
       "      <td>19.0</td>\n",
       "      <td>0</td>\n",
       "      <td>0</td>\n",
       "      <td>30.0000</td>\n",
       "      <td>S</td>\n",
       "      <td>First</td>\n",
       "      <td>woman</td>\n",
       "      <td>False</td>\n",
       "      <td>B</td>\n",
       "      <td>Southampton</td>\n",
       "      <td>yes</td>\n",
       "      <td>True</td>\n",
       "    </tr>\n",
       "    <tr>\n",
       "      <th>888</th>\n",
       "      <td>0</td>\n",
       "      <td>3</td>\n",
       "      <td>female</td>\n",
       "      <td>NaN</td>\n",
       "      <td>1</td>\n",
       "      <td>2</td>\n",
       "      <td>23.4500</td>\n",
       "      <td>S</td>\n",
       "      <td>Third</td>\n",
       "      <td>woman</td>\n",
       "      <td>False</td>\n",
       "      <td>NaN</td>\n",
       "      <td>Southampton</td>\n",
       "      <td>no</td>\n",
       "      <td>False</td>\n",
       "    </tr>\n",
       "    <tr>\n",
       "      <th>889</th>\n",
       "      <td>1</td>\n",
       "      <td>1</td>\n",
       "      <td>male</td>\n",
       "      <td>26.0</td>\n",
       "      <td>0</td>\n",
       "      <td>0</td>\n",
       "      <td>30.0000</td>\n",
       "      <td>C</td>\n",
       "      <td>First</td>\n",
       "      <td>man</td>\n",
       "      <td>True</td>\n",
       "      <td>C</td>\n",
       "      <td>Cherbourg</td>\n",
       "      <td>yes</td>\n",
       "      <td>True</td>\n",
       "    </tr>\n",
       "    <tr>\n",
       "      <th>890</th>\n",
       "      <td>0</td>\n",
       "      <td>3</td>\n",
       "      <td>male</td>\n",
       "      <td>32.0</td>\n",
       "      <td>0</td>\n",
       "      <td>0</td>\n",
       "      <td>7.7500</td>\n",
       "      <td>Q</td>\n",
       "      <td>Third</td>\n",
       "      <td>man</td>\n",
       "      <td>True</td>\n",
       "      <td>NaN</td>\n",
       "      <td>Queenstown</td>\n",
       "      <td>no</td>\n",
       "      <td>True</td>\n",
       "    </tr>\n",
       "  </tbody>\n",
       "</table>\n",
       "<p>784 rows × 15 columns</p>\n",
       "</div>"
      ],
      "text/plain": [
       "     survived  pclass     sex   age  sibsp  parch     fare embarked  class  \\\n",
       "0           0       3    male  22.0      1      0   7.2500        S  Third   \n",
       "1           1       1  female  38.0      1      0  71.2833        C  First   \n",
       "2           1       3  female  26.0      0      0   7.9250        S  Third   \n",
       "3           1       1  female  35.0      1      0  53.1000        S  First   \n",
       "4           0       3    male  35.0      0      0   8.0500        S  Third   \n",
       "..        ...     ...     ...   ...    ...    ...      ...      ...    ...   \n",
       "885         0       3  female  39.0      0      5  29.1250        Q  Third   \n",
       "887         1       1  female  19.0      0      0  30.0000        S  First   \n",
       "888         0       3  female   NaN      1      2  23.4500        S  Third   \n",
       "889         1       1    male  26.0      0      0  30.0000        C  First   \n",
       "890         0       3    male  32.0      0      0   7.7500        Q  Third   \n",
       "\n",
       "       who  adult_male deck  embark_town alive  alone  \n",
       "0      man        True  NaN  Southampton    no  False  \n",
       "1    woman       False    C    Cherbourg   yes  False  \n",
       "2    woman       False  NaN  Southampton   yes   True  \n",
       "3    woman       False    C  Southampton   yes  False  \n",
       "4      man        True  NaN  Southampton    no   True  \n",
       "..     ...         ...  ...          ...   ...    ...  \n",
       "885  woman       False  NaN   Queenstown    no  False  \n",
       "887  woman       False    B  Southampton   yes   True  \n",
       "888  woman       False  NaN  Southampton    no  False  \n",
       "889    man        True    C    Cherbourg   yes   True  \n",
       "890    man        True  NaN   Queenstown    no   True  \n",
       "\n",
       "[784 rows x 15 columns]"
      ]
     },
     "execution_count": 16,
     "metadata": {},
     "output_type": "execute_result"
    }
   ],
   "source": [
    "duplicates(df)"
   ]
  },
  {
   "cell_type": "markdown",
   "id": "charming-ecuador",
   "metadata": {
    "papermill": {
     "duration": 0.083516,
     "end_time": "2021-11-10T15:48:29.316863",
     "exception": false,
     "start_time": "2021-11-10T15:48:29.233347",
     "status": "completed"
    },
    "tags": []
   },
   "source": [
    "#### Drop user's columns:"
   ]
  },
  {
   "cell_type": "code",
   "execution_count": 17,
   "id": "expired-gender",
   "metadata": {
    "execution": {
     "iopub.execute_input": "2021-11-10T15:48:29.485950Z",
     "iopub.status.busy": "2021-11-10T15:48:29.484662Z",
     "iopub.status.idle": "2021-11-10T15:48:29.491357Z",
     "shell.execute_reply": "2021-11-10T15:48:29.490689Z"
    },
    "papermill": {
     "duration": 0.105227,
     "end_time": "2021-11-10T15:48:29.491581",
     "exception": false,
     "start_time": "2021-11-10T15:48:29.386354",
     "status": "completed"
    },
    "tags": []
   },
   "outputs": [
    {
     "name": "stdout",
     "output_type": "stream",
     "text": [
      "user_drop_cols =  []\n"
     ]
    }
   ],
   "source": [
    "print('user_drop_cols = ', user_drop_cols)"
   ]
  },
  {
   "cell_type": "code",
   "execution_count": 18,
   "id": "brilliant-summit",
   "metadata": {
    "execution": {
     "iopub.execute_input": "2021-11-10T15:48:29.659801Z",
     "iopub.status.busy": "2021-11-10T15:48:29.659038Z",
     "iopub.status.idle": "2021-11-10T15:48:29.664270Z",
     "shell.execute_reply": "2021-11-10T15:48:29.663436Z"
    },
    "papermill": {
     "duration": 0.102121,
     "end_time": "2021-11-10T15:48:29.664480",
     "exception": false,
     "start_time": "2021-11-10T15:48:29.562359",
     "status": "completed"
    },
    "tags": []
   },
   "outputs": [],
   "source": [
    "df = df.drop(user_drop_cols, axis=1)"
   ]
  },
  {
   "cell_type": "markdown",
   "id": "english-patient",
   "metadata": {
    "papermill": {
     "duration": 0.091348,
     "end_time": "2021-11-10T15:48:29.827875",
     "exception": false,
     "start_time": "2021-11-10T15:48:29.736527",
     "status": "completed"
    },
    "tags": []
   },
   "source": [
    "#### Drop NaN:"
   ]
  },
  {
   "cell_type": "code",
   "execution_count": 19,
   "id": "entertaining-andrews",
   "metadata": {
    "execution": {
     "iopub.execute_input": "2021-11-10T15:48:29.991969Z",
     "iopub.status.busy": "2021-11-10T15:48:29.990877Z",
     "iopub.status.idle": "2021-11-10T15:48:30.000693Z",
     "shell.execute_reply": "2021-11-10T15:48:29.999840Z"
    },
    "papermill": {
     "duration": 0.10452,
     "end_time": "2021-11-10T15:48:30.000907",
     "exception": false,
     "start_time": "2021-11-10T15:48:29.896387",
     "status": "completed"
    },
    "tags": []
   },
   "outputs": [
    {
     "name": "stdout",
     "output_type": "stream",
     "text": [
      "Drop columns containing more than 50.0 % of NaN: ['deck']\n"
     ]
    }
   ],
   "source": [
    "df, drop_cols = drop_na(df, threshold_NaN)"
   ]
  },
  {
   "cell_type": "markdown",
   "id": "ordered-puppy",
   "metadata": {
    "papermill": {
     "duration": 0.093826,
     "end_time": "2021-11-10T15:48:30.161730",
     "exception": false,
     "start_time": "2021-11-10T15:48:30.067904",
     "status": "completed"
    },
    "tags": []
   },
   "source": [
    "Final set of dropped columns"
   ]
  },
  {
   "cell_type": "code",
   "execution_count": 20,
   "id": "above-target",
   "metadata": {
    "execution": {
     "iopub.execute_input": "2021-11-10T15:48:30.334444Z",
     "iopub.status.busy": "2021-11-10T15:48:30.333516Z",
     "iopub.status.idle": "2021-11-10T15:48:30.337588Z",
     "shell.execute_reply": "2021-11-10T15:48:30.338169Z"
    },
    "papermill": {
     "duration": 0.105757,
     "end_time": "2021-11-10T15:48:30.338411",
     "exception": false,
     "start_time": "2021-11-10T15:48:30.232654",
     "status": "completed"
    },
    "tags": []
   },
   "outputs": [],
   "source": [
    "dropped_cols = np.unique(np.concatenate((drop_cols, user_drop_cols)))"
   ]
  },
  {
   "cell_type": "code",
   "execution_count": 21,
   "id": "demographic-cheat",
   "metadata": {
    "execution": {
     "iopub.execute_input": "2021-11-10T15:48:30.510900Z",
     "iopub.status.busy": "2021-11-10T15:48:30.509594Z",
     "iopub.status.idle": "2021-11-10T15:48:30.516682Z",
     "shell.execute_reply": "2021-11-10T15:48:30.515899Z"
    },
    "papermill": {
     "duration": 0.110977,
     "end_time": "2021-11-10T15:48:30.516901",
     "exception": false,
     "start_time": "2021-11-10T15:48:30.405924",
     "status": "completed"
    },
    "tags": []
   },
   "outputs": [
    {
     "data": {
      "text/plain": [
       "array(['deck'], dtype=object)"
      ]
     },
     "metadata": {},
     "output_type": "display_data"
    }
   ],
   "source": [
    "display(dropped_cols)"
   ]
  },
  {
   "cell_type": "markdown",
   "id": "saving-trash",
   "metadata": {
    "papermill": {
     "duration": 0.091826,
     "end_time": "2021-11-10T15:48:30.675437",
     "exception": false,
     "start_time": "2021-11-10T15:48:30.583611",
     "status": "completed"
    },
    "tags": []
   },
   "source": [
    "#### Encoding data:"
   ]
  },
  {
   "cell_type": "code",
   "execution_count": 22,
   "id": "south-innocent",
   "metadata": {
    "execution": {
     "iopub.execute_input": "2021-11-10T15:48:30.849275Z",
     "iopub.status.busy": "2021-11-10T15:48:30.847135Z",
     "iopub.status.idle": "2021-11-10T15:48:30.881281Z",
     "shell.execute_reply": "2021-11-10T15:48:30.880641Z"
    },
    "papermill": {
     "duration": 0.132246,
     "end_time": "2021-11-10T15:48:30.881502",
     "exception": false,
     "start_time": "2021-11-10T15:48:30.749256",
     "status": "completed"
    },
    "tags": []
   },
   "outputs": [
    {
     "name": "stdout",
     "output_type": "stream",
     "text": [
      "Column  survived  is categorical.\n",
      "Column  pclass  is categorical.\n",
      "Encoding object column: sex\n",
      "Encoding numeric column: age\n",
      "Encoding numeric column: sibsp\n",
      "Encoding numeric column: parch\n",
      "Encoding numeric column: fare\n",
      "Encoding object column: embarked\n",
      "Encoding object column: class\n",
      "Encoding object column: who\n",
      "Column  adult_male  is categorical.\n",
      "Encoding object column: embark_town\n",
      "Encoding object column: alive\n",
      "Column  alone  is categorical.\n"
     ]
    }
   ],
   "source": [
    "df, encoded_cols = encoding(df, threshold_cat)"
   ]
  },
  {
   "cell_type": "markdown",
   "id": "trying-pennsylvania",
   "metadata": {
    "papermill": {
     "duration": 0.09566,
     "end_time": "2021-11-10T15:48:31.043745",
     "exception": false,
     "start_time": "2021-11-10T15:48:30.948085",
     "status": "completed"
    },
    "tags": []
   },
   "source": [
    "#### Imputing NaN using IterativeImputer"
   ]
  },
  {
   "cell_type": "code",
   "execution_count": 23,
   "id": "hollywood-resort",
   "metadata": {
    "execution": {
     "iopub.execute_input": "2021-11-10T15:48:31.218637Z",
     "iopub.status.busy": "2021-11-10T15:48:31.217637Z",
     "iopub.status.idle": "2021-11-10T15:48:31.521221Z",
     "shell.execute_reply": "2021-11-10T15:48:31.521780Z"
    },
    "papermill": {
     "duration": 0.40771,
     "end_time": "2021-11-10T15:48:31.522029",
     "exception": false,
     "start_time": "2021-11-10T15:48:31.114319",
     "status": "completed"
    },
    "tags": []
   },
   "outputs": [
    {
     "name": "stderr",
     "output_type": "stream",
     "text": [
      "No handles with labels found to put in legend.\n"
     ]
    },
    {
     "data": {
      "image/png": "[encoded data removed]",
      "text/plain": [
       "<Figure size 576x396 with 1 Axes>"
      ]
     },
     "metadata": {},
     "output_type": "display_data"
    }
   ],
   "source": [
    "visualizer = MissingValuesBar(features=df.select_dtypes(include=np.number).columns.tolist())\n",
    "visualizer.fit(df.select_dtypes(include=np.number))\n",
    "visualizer.show();"
   ]
  },
  {
   "cell_type": "markdown",
   "id": "tamil-hybrid",
   "metadata": {
    "papermill": {
     "duration": 0.091678,
     "end_time": "2021-11-10T15:48:31.683029",
     "exception": false,
     "start_time": "2021-11-10T15:48:31.591351",
     "status": "completed"
    },
    "tags": []
   },
   "source": [
    "##### Imputation"
   ]
  },
  {
   "cell_type": "code",
   "execution_count": 24,
   "id": "excellent-denial",
   "metadata": {
    "execution": {
     "iopub.execute_input": "2021-11-10T15:48:31.873089Z",
     "iopub.status.busy": "2021-11-10T15:48:31.871810Z",
     "iopub.status.idle": "2021-11-10T15:48:32.143308Z",
     "shell.execute_reply": "2021-11-10T15:48:32.144402Z"
    },
    "papermill": {
     "duration": 0.382202,
     "end_time": "2021-11-10T15:48:32.144815",
     "exception": false,
     "start_time": "2021-11-10T15:48:31.762613",
     "status": "completed"
    },
    "tags": []
   },
   "outputs": [
    {
     "name": "stdout",
     "output_type": "stream",
     "text": [
      "Imputing NaN using IterativeImputer\n"
     ]
    }
   ],
   "source": [
    "df = imputation(df)"
   ]
  },
  {
   "cell_type": "markdown",
   "id": "curious-webcam",
   "metadata": {
    "papermill": {
     "duration": 0.091967,
     "end_time": "2021-11-10T15:48:32.402788",
     "exception": false,
     "start_time": "2021-11-10T15:48:32.310821",
     "status": "completed"
    },
    "tags": []
   },
   "source": [
    "#### Data compression:"
   ]
  },
  {
   "cell_type": "code",
   "execution_count": 25,
   "id": "missing-mustang",
   "metadata": {
    "execution": {
     "iopub.execute_input": "2021-11-10T15:48:32.585703Z",
     "iopub.status.busy": "2021-11-10T15:48:32.583024Z",
     "iopub.status.idle": "2021-11-10T15:48:32.600118Z",
     "shell.execute_reply": "2021-11-10T15:48:32.600828Z"
    },
    "papermill": {
     "duration": 0.126664,
     "end_time": "2021-11-10T15:48:32.601090",
     "exception": false,
     "start_time": "2021-11-10T15:48:32.474426",
     "status": "completed"
    },
    "tags": []
   },
   "outputs": [
    {
     "name": "stdout",
     "output_type": "stream",
     "text": [
      "Memory usage of dataframe is 0.10MB\n",
      "Memory usage after optimization is: 0.02MB\n",
      "Decreased by 74.9%\n"
     ]
    }
   ],
   "source": [
    "df = downcast_dtypes(df)"
   ]
  },
  {
   "cell_type": "markdown",
   "id": "portable-preserve",
   "metadata": {
    "papermill": {
     "duration": 0.098549,
     "end_time": "2021-11-10T15:48:32.769849",
     "exception": false,
     "start_time": "2021-11-10T15:48:32.671300",
     "status": "completed"
    },
    "tags": []
   },
   "source": [
    "##### Dataframe structure after compression"
   ]
  },
  {
   "cell_type": "code",
   "execution_count": 26,
   "id": "hollow-hotel",
   "metadata": {
    "execution": {
     "iopub.execute_input": "2021-11-10T15:48:32.941446Z",
     "iopub.status.busy": "2021-11-10T15:48:32.940054Z",
     "iopub.status.idle": "2021-11-10T15:48:33.055784Z",
     "shell.execute_reply": "2021-11-10T15:48:33.056529Z"
    },
    "papermill": {
     "duration": 0.211628,
     "end_time": "2021-11-10T15:48:33.056795",
     "exception": false,
     "start_time": "2021-11-10T15:48:32.845167",
     "status": "completed"
    },
    "tags": []
   },
   "outputs": [
    {
     "data": {
      "image/png": "[encoded data removed]",
      "text/plain": [
       "<Figure size 576x396 with 1 Axes>"
      ]
     },
     "metadata": {},
     "output_type": "display_data"
    }
   ],
   "source": [
    "plot_dataframe_structure(df)"
   ]
  },
  {
   "cell_type": "markdown",
   "id": "general-morocco",
   "metadata": {
    "papermill": {
     "duration": 0.097161,
     "end_time": "2021-11-10T15:48:33.225453",
     "exception": false,
     "start_time": "2021-11-10T15:48:33.128292",
     "status": "completed"
    },
    "tags": []
   },
   "source": [
    "#### Outliers:"
   ]
  },
  {
   "cell_type": "code",
   "execution_count": 27,
   "id": "previous-pipeline",
   "metadata": {
    "execution": {
     "iopub.execute_input": "2021-11-10T15:48:33.408370Z",
     "iopub.status.busy": "2021-11-10T15:48:33.407166Z",
     "iopub.status.idle": "2021-11-10T15:48:33.417561Z",
     "shell.execute_reply": "2021-11-10T15:48:33.418103Z"
    },
    "papermill": {
     "duration": 0.115253,
     "end_time": "2021-11-10T15:48:33.418347",
     "exception": false,
     "start_time": "2021-11-10T15:48:33.303094",
     "status": "completed"
    },
    "tags": []
   },
   "outputs": [
    {
     "name": "stdout",
     "output_type": "stream",
     "text": [
      "Using Z_score,  71  rows will be suppressed.\n"
     ]
    }
   ],
   "source": [
    "df = outliers(df, threshold_Z)"
   ]
  },
  {
   "cell_type": "markdown",
   "id": "essential-adapter",
   "metadata": {
    "papermill": {
     "duration": 0.099977,
     "end_time": "2021-11-10T15:48:33.602463",
     "exception": false,
     "start_time": "2021-11-10T15:48:33.502486",
     "status": "completed"
    },
    "tags": []
   },
   "source": [
    "#### Splitting dataframe in features and targets"
   ]
  },
  {
   "cell_type": "code",
   "execution_count": 28,
   "id": "colonial-interest",
   "metadata": {
    "execution": {
     "iopub.execute_input": "2021-11-10T15:48:33.772306Z",
     "iopub.status.busy": "2021-11-10T15:48:33.771514Z",
     "iopub.status.idle": "2021-11-10T15:48:33.776347Z",
     "shell.execute_reply": "2021-11-10T15:48:33.775633Z"
    },
    "papermill": {
     "duration": 0.101107,
     "end_time": "2021-11-10T15:48:33.776551",
     "exception": false,
     "start_time": "2021-11-10T15:48:33.675444",
     "status": "completed"
    },
    "tags": []
   },
   "outputs": [],
   "source": [
    "y = df[target_col]"
   ]
  },
  {
   "cell_type": "code",
   "execution_count": 29,
   "id": "offensive-motivation",
   "metadata": {
    "execution": {
     "iopub.execute_input": "2021-11-10T15:48:33.962683Z",
     "iopub.status.busy": "2021-11-10T15:48:33.961324Z",
     "iopub.status.idle": "2021-11-10T15:48:33.967012Z",
     "shell.execute_reply": "2021-11-10T15:48:33.966191Z"
    },
    "papermill": {
     "duration": 0.113982,
     "end_time": "2021-11-10T15:48:33.967226",
     "exception": false,
     "start_time": "2021-11-10T15:48:33.853244",
     "status": "completed"
    },
    "tags": []
   },
   "outputs": [],
   "source": [
    "X = df.drop(target_col, axis=1)"
   ]
  },
  {
   "cell_type": "markdown",
   "id": "royal-support",
   "metadata": {
    "papermill": {
     "duration": 0.100395,
     "end_time": "2021-11-10T15:48:34.144338",
     "exception": false,
     "start_time": "2021-11-10T15:48:34.043943",
     "status": "completed"
    },
    "tags": []
   },
   "source": [
    "### Plottings"
   ]
  },
  {
   "cell_type": "markdown",
   "id": "apart-audience",
   "metadata": {
    "papermill": {
     "duration": 0.09673,
     "end_time": "2021-11-10T15:48:34.313980",
     "exception": false,
     "start_time": "2021-11-10T15:48:34.217250",
     "status": "completed"
    },
    "tags": []
   },
   "source": [
    "#### Ranking "
   ]
  },
  {
   "cell_type": "markdown",
   "id": "close-oakland",
   "metadata": {
    "papermill": {
     "duration": 0.090017,
     "end_time": "2021-11-10T15:48:34.476984",
     "exception": false,
     "start_time": "2021-11-10T15:48:34.386967",
     "status": "completed"
    },
    "tags": []
   },
   "source": [
    "##### Ranking 1D "
   ]
  },
  {
   "cell_type": "code",
   "execution_count": 30,
   "id": "simplified-brooklyn",
   "metadata": {
    "execution": {
     "iopub.execute_input": "2021-11-10T15:48:34.657128Z",
     "iopub.status.busy": "2021-11-10T15:48:34.656348Z",
     "iopub.status.idle": "2021-11-10T15:48:34.910229Z",
     "shell.execute_reply": "2021-11-10T15:48:34.909452Z"
    },
    "papermill": {
     "duration": 0.356273,
     "end_time": "2021-11-10T15:48:34.910468",
     "exception": false,
     "start_time": "2021-11-10T15:48:34.554195",
     "status": "completed"
    },
    "tags": []
   },
   "outputs": [
    {
     "data": {
      "image/png": "[encoded data removed]",
      "text/plain": [
       "<Figure size 576x396 with 1 Axes>"
      ]
     },
     "metadata": {},
     "output_type": "display_data"
    }
   ],
   "source": [
    "rank1d(df);"
   ]
  },
  {
   "cell_type": "markdown",
   "id": "bound-mustang",
   "metadata": {
    "papermill": {
     "duration": 0.105233,
     "end_time": "2021-11-10T15:48:35.094408",
     "exception": false,
     "start_time": "2021-11-10T15:48:34.989175",
     "status": "completed"
    },
    "tags": []
   },
   "source": [
    "##### Ranking 2D "
   ]
  },
  {
   "cell_type": "markdown",
   "id": "opposite-interstate",
   "metadata": {
    "papermill": {
     "duration": 0.101494,
     "end_time": "2021-11-10T15:48:35.271630",
     "exception": false,
     "start_time": "2021-11-10T15:48:35.170136",
     "status": "completed"
    },
    "tags": []
   },
   "source": [
    "###### Ranking 2D according to Pearson"
   ]
  },
  {
   "cell_type": "code",
   "execution_count": 31,
   "id": "guilty-contract",
   "metadata": {
    "execution": {
     "iopub.execute_input": "2021-11-10T15:48:35.456027Z",
     "iopub.status.busy": "2021-11-10T15:48:35.450186Z",
     "iopub.status.idle": "2021-11-10T15:48:35.986494Z",
     "shell.execute_reply": "2021-11-10T15:48:35.984398Z"
    },
    "papermill": {
     "duration": 0.640177,
     "end_time": "2021-11-10T15:48:35.986912",
     "exception": false,
     "start_time": "2021-11-10T15:48:35.346735",
     "status": "completed"
    },
    "tags": []
   },
   "outputs": [
    {
     "data": {
      "image/png": "[encoded data removed]",
      "text/plain": [
       "<Figure size 576x396 with 2 Axes>"
      ]
     },
     "metadata": {},
     "output_type": "display_data"
    }
   ],
   "source": [
    "rank2d(df, algorithm='pearson');"
   ]
  },
  {
   "cell_type": "markdown",
   "id": "sticky-phrase",
   "metadata": {
    "papermill": {
     "duration": 0.1226,
     "end_time": "2021-11-10T15:48:36.207762",
     "exception": false,
     "start_time": "2021-11-10T15:48:36.085162",
     "status": "completed"
    },
    "tags": []
   },
   "source": [
    "###### Ranking 2D based on covariance"
   ]
  },
  {
   "cell_type": "code",
   "execution_count": 32,
   "id": "animated-toddler",
   "metadata": {
    "execution": {
     "iopub.execute_input": "2021-11-10T15:48:36.438057Z",
     "iopub.status.busy": "2021-11-10T15:48:36.436709Z",
     "iopub.status.idle": "2021-11-10T15:48:36.871121Z",
     "shell.execute_reply": "2021-11-10T15:48:36.870048Z"
    },
    "papermill": {
     "duration": 0.574757,
     "end_time": "2021-11-10T15:48:36.871353",
     "exception": false,
     "start_time": "2021-11-10T15:48:36.296596",
     "status": "completed"
    },
    "tags": []
   },
   "outputs": [
    {
     "data": {
      "image/png": "[encoded data removed]",
      "text/plain": [
       "<Figure size 576x396 with 2 Axes>"
      ]
     },
     "metadata": {},
     "output_type": "display_data"
    }
   ],
   "source": [
    "rank2d(df, algorithm='covariance');"
   ]
  },
  {
   "cell_type": "markdown",
   "id": "advanced-refrigerator",
   "metadata": {
    "papermill": {
     "duration": 0.164086,
     "end_time": "2021-11-10T15:48:37.128147",
     "exception": false,
     "start_time": "2021-11-10T15:48:36.964061",
     "status": "completed"
    },
    "tags": []
   },
   "source": [
    "###### Ranking 2D according to Spearman"
   ]
  },
  {
   "cell_type": "code",
   "execution_count": 33,
   "id": "valid-theory",
   "metadata": {
    "execution": {
     "iopub.execute_input": "2021-11-10T15:48:37.549966Z",
     "iopub.status.busy": "2021-11-10T15:48:37.547478Z",
     "iopub.status.idle": "2021-11-10T15:48:38.516709Z",
     "shell.execute_reply": "2021-11-10T15:48:38.511278Z"
    },
    "papermill": {
     "duration": 1.195554,
     "end_time": "2021-11-10T15:48:38.521453",
     "exception": false,
     "start_time": "2021-11-10T15:48:37.325899",
     "status": "completed"
    },
    "tags": []
   },
   "outputs": [
    {
     "data": {
      "image/png": "[encoded data removed]",
      "text/plain": [
       "<Figure size 576x396 with 2 Axes>"
      ]
     },
     "metadata": {},
     "output_type": "display_data"
    }
   ],
   "source": [
    "rank2d(df, algorithm='spearman');"
   ]
  },
  {
   "cell_type": "markdown",
   "id": "signed-medicare",
   "metadata": {
    "papermill": {
     "duration": 0.168614,
     "end_time": "2021-11-10T15:48:38.893370",
     "exception": false,
     "start_time": "2021-11-10T15:48:38.724756",
     "status": "completed"
    },
    "tags": []
   },
   "source": [
    "###### Ranking 2D according to Kendalltau"
   ]
  },
  {
   "cell_type": "code",
   "execution_count": 34,
   "id": "streaming-baking",
   "metadata": {
    "execution": {
     "iopub.execute_input": "2021-11-10T15:48:39.182882Z",
     "iopub.status.busy": "2021-11-10T15:48:39.177148Z",
     "iopub.status.idle": "2021-11-10T15:48:40.036152Z",
     "shell.execute_reply": "2021-11-10T15:48:40.034105Z"
    },
    "papermill": {
     "duration": 1.057722,
     "end_time": "2021-11-10T15:48:40.036416",
     "exception": false,
     "start_time": "2021-11-10T15:48:38.978694",
     "status": "completed"
    },
    "tags": []
   },
   "outputs": [
    {
     "data": {
      "image/png": "[encoded data removed]",
      "text/plain": [
       "<Figure size 576x396 with 2 Axes>"
      ]
     },
     "metadata": {},
     "output_type": "display_data"
    }
   ],
   "source": [
    "rank2d(df, algorithm='kendalltau');"
   ]
  },
  {
   "cell_type": "markdown",
   "id": "processed-juvenile",
   "metadata": {
    "papermill": {
     "duration": 0.202799,
     "end_time": "2021-11-10T15:48:40.349533",
     "exception": false,
     "start_time": "2021-11-10T15:48:40.146734",
     "status": "completed"
    },
    "tags": []
   },
   "source": [
    "#### Correlation"
   ]
  },
  {
   "cell_type": "markdown",
   "id": "owned-coral",
   "metadata": {
    "papermill": {
     "duration": 0.126218,
     "end_time": "2021-11-10T15:48:40.694473",
     "exception": false,
     "start_time": "2021-11-10T15:48:40.568255",
     "status": "completed"
    },
    "tags": []
   },
   "source": [
    "##### Correlation with Yellow Bricks"
   ]
  },
  {
   "cell_type": "code",
   "execution_count": 35,
   "id": "driving-sigma",
   "metadata": {
    "execution": {
     "iopub.execute_input": "2021-11-10T15:48:40.924364Z",
     "iopub.status.busy": "2021-11-10T15:48:40.922584Z",
     "iopub.status.idle": "2021-11-10T15:48:41.445778Z",
     "shell.execute_reply": "2021-11-10T15:48:41.445014Z"
    },
    "papermill": {
     "duration": 0.661414,
     "end_time": "2021-11-10T15:48:41.445980",
     "exception": false,
     "start_time": "2021-11-10T15:48:40.784566",
     "status": "completed"
    },
    "tags": []
   },
   "outputs": [
    {
     "data": {
      "image/png": "[encoded data removed]",
      "text/plain": [
       "<Figure size 576x396 with 1 Axes>"
      ]
     },
     "metadata": {},
     "output_type": "display_data"
    }
   ],
   "source": [
    "feature_correlation(X, y);"
   ]
  },
  {
   "cell_type": "code",
   "execution_count": 36,
   "id": "continuous-gathering",
   "metadata": {
    "execution": {
     "iopub.execute_input": "2021-11-10T15:48:41.643717Z",
     "iopub.status.busy": "2021-11-10T15:48:41.642736Z",
     "iopub.status.idle": "2021-11-10T15:48:42.438969Z",
     "shell.execute_reply": "2021-11-10T15:48:42.438321Z"
    },
    "papermill": {
     "duration": 0.90282,
     "end_time": "2021-11-10T15:48:42.439170",
     "exception": false,
     "start_time": "2021-11-10T15:48:41.536350",
     "status": "completed"
    },
    "tags": []
   },
   "outputs": [
    {
     "data": {
      "image/png": "[encoded data removed]",
      "text/plain": [
       "<Figure size 576x396 with 1 Axes>"
      ]
     },
     "metadata": {},
     "output_type": "display_data"
    }
   ],
   "source": [
    "feature_correlation(X, y, method='mutual_info-classification');"
   ]
  },
  {
   "cell_type": "markdown",
   "id": "stone-incidence",
   "metadata": {
    "papermill": {
     "duration": 0.114471,
     "end_time": "2021-11-10T15:48:42.634867",
     "exception": false,
     "start_time": "2021-11-10T15:48:42.520396",
     "status": "completed"
    },
    "tags": []
   },
   "source": [
    "#### Feature importance (a priori)"
   ]
  },
  {
   "cell_type": "markdown",
   "id": "complete-evanescence",
   "metadata": {
    "papermill": {
     "duration": 0.097057,
     "end_time": "2021-11-10T15:48:42.821162",
     "exception": false,
     "start_time": "2021-11-10T15:48:42.724105",
     "status": "completed"
    },
    "tags": []
   },
   "source": [
    "##### According to decision tree"
   ]
  },
  {
   "cell_type": "code",
   "execution_count": 37,
   "id": "obvious-yesterday",
   "metadata": {
    "execution": {
     "iopub.execute_input": "2021-11-10T15:48:43.009157Z",
     "iopub.status.busy": "2021-11-10T15:48:43.007600Z",
     "iopub.status.idle": "2021-11-10T15:48:43.491034Z",
     "shell.execute_reply": "2021-11-10T15:48:43.490442Z"
    },
    "papermill": {
     "duration": 0.586671,
     "end_time": "2021-11-10T15:48:43.491240",
     "exception": false,
     "start_time": "2021-11-10T15:48:42.904569",
     "status": "completed"
    },
    "tags": []
   },
   "outputs": [
    {
     "data": {
      "image/png": "[encoded data removed]",
      "text/plain": [
       "<Figure size 576x396 with 1 Axes>"
      ]
     },
     "metadata": {},
     "output_type": "display_data"
    }
   ],
   "source": [
    "feature_importances(DecisionTreeClassifier(), X, y);"
   ]
  },
  {
   "cell_type": "markdown",
   "id": "worth-morris",
   "metadata": {
    "papermill": {
     "duration": 0.102952,
     "end_time": "2021-11-10T15:48:43.686595",
     "exception": false,
     "start_time": "2021-11-10T15:48:43.583643",
     "status": "completed"
    },
    "tags": []
   },
   "source": [
    "##### According to logistic regression"
   ]
  },
  {
   "cell_type": "code",
   "execution_count": 38,
   "id": "former-ticket",
   "metadata": {
    "execution": {
     "iopub.execute_input": "2021-11-10T15:48:43.885571Z",
     "iopub.status.busy": "2021-11-10T15:48:43.884729Z",
     "iopub.status.idle": "2021-11-10T15:48:44.263678Z",
     "shell.execute_reply": "2021-11-10T15:48:44.262889Z"
    },
    "papermill": {
     "duration": 0.487946,
     "end_time": "2021-11-10T15:48:44.263886",
     "exception": false,
     "start_time": "2021-11-10T15:48:43.775940",
     "status": "completed"
    },
    "tags": []
   },
   "outputs": [
    {
     "data": {
      "image/png": "[encoded data removed]",
      "text/plain": [
       "<Figure size 576x396 with 1 Axes>"
      ]
     },
     "metadata": {},
     "output_type": "display_data"
    }
   ],
   "source": [
    "feature_importances(LogisticRegression(penalty='elasticnet', solver='saga', l1_ratio=0.5), X, y);"
   ]
  },
  {
   "cell_type": "markdown",
   "id": "judicial-layout",
   "metadata": {
    "papermill": {
     "duration": 0.093984,
     "end_time": "2021-11-10T15:48:44.446869",
     "exception": false,
     "start_time": "2021-11-10T15:48:44.352885",
     "status": "completed"
    },
    "tags": []
   },
   "source": [
    "#### PCA"
   ]
  },
  {
   "cell_type": "code",
   "execution_count": 39,
   "id": "robust-russian",
   "metadata": {
    "execution": {
     "iopub.execute_input": "2021-11-10T15:48:44.657731Z",
     "iopub.status.busy": "2021-11-10T15:48:44.656030Z",
     "iopub.status.idle": "2021-11-10T15:48:45.778574Z",
     "shell.execute_reply": "2021-11-10T15:48:45.777501Z"
    },
    "papermill": {
     "duration": 1.246109,
     "end_time": "2021-11-10T15:48:45.778895",
     "exception": false,
     "start_time": "2021-11-10T15:48:44.532786",
     "status": "completed"
    },
    "tags": []
   },
   "outputs": [
    {
     "data": {
      "image/png": "[encoded data removed]",
      "text/plain": [
       "<Figure size 576x396 with 1 Axes>"
      ]
     },
     "metadata": {},
     "output_type": "display_data"
    }
   ],
   "source": [
    "pca_decomposition(X, y.astype(int), projection=3);"
   ]
  },
  {
   "cell_type": "markdown",
   "id": "radio-lottery",
   "metadata": {
    "papermill": {
     "duration": 0.141615,
     "end_time": "2021-11-10T15:48:46.010642",
     "exception": false,
     "start_time": "2021-11-10T15:48:45.869027",
     "status": "completed"
    },
    "tags": []
   },
   "source": [
    "#### Class balancing"
   ]
  },
  {
   "cell_type": "code",
   "execution_count": 40,
   "id": "religious-expansion",
   "metadata": {
    "execution": {
     "iopub.execute_input": "2021-11-10T15:48:46.211250Z",
     "iopub.status.busy": "2021-11-10T15:48:46.207865Z",
     "iopub.status.idle": "2021-11-10T15:48:46.365033Z",
     "shell.execute_reply": "2021-11-10T15:48:46.364395Z"
    },
    "papermill": {
     "duration": 0.257269,
     "end_time": "2021-11-10T15:48:46.365251",
     "exception": false,
     "start_time": "2021-11-10T15:48:46.107982",
     "status": "completed"
    },
    "tags": []
   },
   "outputs": [
    {
     "data": {
      "image/png": "[encoded data removed]",
      "text/plain": [
       "<Figure size 576x396 with 1 Axes>"
      ]
     },
     "metadata": {},
     "output_type": "display_data"
    },
    {
     "name": "stdout",
     "output_type": "stream",
     "text": [
      "Entropy =  0.9649567669505686\n"
     ]
    }
   ],
   "source": [
    "class_balance(y)\n",
    "print('Entropy = ', shannon_entropy(y))"
   ]
  },
  {
   "cell_type": "markdown",
   "id": "lightweight-tonight",
   "metadata": {
    "papermill": {
     "duration": 0.102618,
     "end_time": "2021-11-10T15:48:46.556614",
     "exception": false,
     "start_time": "2021-11-10T15:48:46.453996",
     "status": "completed"
    },
    "tags": []
   },
   "source": [
    "## Splittings "
   ]
  },
  {
   "cell_type": "markdown",
   "id": "administrative-milan",
   "metadata": {
    "papermill": {
     "duration": 0.101147,
     "end_time": "2021-11-10T15:48:46.744547",
     "exception": false,
     "start_time": "2021-11-10T15:48:46.643400",
     "status": "completed"
    },
    "tags": []
   },
   "source": [
    "##### Dimensions"
   ]
  },
  {
   "cell_type": "code",
   "execution_count": 41,
   "id": "abroad-access",
   "metadata": {
    "execution": {
     "iopub.execute_input": "2021-11-10T15:48:46.940512Z",
     "iopub.status.busy": "2021-11-10T15:48:46.939332Z",
     "iopub.status.idle": "2021-11-10T15:48:46.944228Z",
     "shell.execute_reply": "2021-11-10T15:48:46.943466Z"
    },
    "papermill": {
     "duration": 0.107113,
     "end_time": "2021-11-10T15:48:46.944433",
     "exception": false,
     "start_time": "2021-11-10T15:48:46.837320",
     "status": "completed"
    },
    "tags": []
   },
   "outputs": [],
   "source": [
    "d_F=len(X.columns.tolist())"
   ]
  },
  {
   "cell_type": "code",
   "execution_count": 42,
   "id": "honey-subscriber",
   "metadata": {
    "execution": {
     "iopub.execute_input": "2021-11-10T15:48:47.198824Z",
     "iopub.status.busy": "2021-11-10T15:48:47.195844Z",
     "iopub.status.idle": "2021-11-10T15:48:47.201881Z",
     "shell.execute_reply": "2021-11-10T15:48:47.201013Z"
    },
    "papermill": {
     "duration": 0.151271,
     "end_time": "2021-11-10T15:48:47.202107",
     "exception": false,
     "start_time": "2021-11-10T15:48:47.050836",
     "status": "completed"
    },
    "tags": []
   },
   "outputs": [],
   "source": [
    "d_T=len(y.unique())"
   ]
  },
  {
   "cell_type": "markdown",
   "id": "political-panic",
   "metadata": {
    "papermill": {
     "duration": 0.138251,
     "end_time": "2021-11-10T15:48:47.455832",
     "exception": false,
     "start_time": "2021-11-10T15:48:47.317581",
     "status": "completed"
    },
    "tags": []
   },
   "source": [
    "##### Splitting data in train and test sets "
   ]
  },
  {
   "cell_type": "code",
   "execution_count": 43,
   "id": "demographic-walter",
   "metadata": {
    "execution": {
     "iopub.execute_input": "2021-11-10T15:48:47.656310Z",
     "iopub.status.busy": "2021-11-10T15:48:47.654028Z",
     "iopub.status.idle": "2021-11-10T15:48:47.661341Z",
     "shell.execute_reply": "2021-11-10T15:48:47.660567Z"
    },
    "papermill": {
     "duration": 0.114666,
     "end_time": "2021-11-10T15:48:47.661544",
     "exception": false,
     "start_time": "2021-11-10T15:48:47.546878",
     "status": "completed"
    },
    "tags": []
   },
   "outputs": [],
   "source": [
    "X_train, X_test, y_train, y_test = split(X, y, test_size=0.33, stratify=None)"
   ]
  },
  {
   "cell_type": "markdown",
   "id": "incorrect-barrier",
   "metadata": {
    "papermill": {
     "duration": 0.102257,
     "end_time": "2021-11-10T15:48:47.856237",
     "exception": false,
     "start_time": "2021-11-10T15:48:47.753980",
     "status": "completed"
    },
    "tags": []
   },
   "source": [
    "## Modelling"
   ]
  },
  {
   "cell_type": "markdown",
   "id": "undefined-douglas",
   "metadata": {
    "papermill": {
     "duration": 0.132033,
     "end_time": "2021-11-10T15:48:48.078641",
     "exception": false,
     "start_time": "2021-11-10T15:48:47.946608",
     "status": "completed"
    },
    "tags": []
   },
   "source": [
    "### Model building"
   ]
  },
  {
   "cell_type": "markdown",
   "id": "accredited-venezuela",
   "metadata": {
    "papermill": {
     "duration": 0.135483,
     "end_time": "2021-11-10T15:48:48.398909",
     "exception": false,
     "start_time": "2021-11-10T15:48:48.263426",
     "status": "completed"
    },
    "tags": []
   },
   "source": [
    "##### Keras neural network definition"
   ]
  },
  {
   "cell_type": "code",
   "execution_count": 44,
   "id": "blank-toner",
   "metadata": {
    "execution": {
     "iopub.execute_input": "2021-11-10T15:48:48.612303Z",
     "iopub.status.busy": "2021-11-10T15:48:48.611132Z",
     "iopub.status.idle": "2021-11-10T15:48:48.615987Z",
     "shell.execute_reply": "2021-11-10T15:48:48.615224Z"
    },
    "papermill": {
     "duration": 0.123761,
     "end_time": "2021-11-10T15:48:48.616208",
     "exception": false,
     "start_time": "2021-11-10T15:48:48.492447",
     "status": "completed"
    },
    "tags": []
   },
   "outputs": [],
   "source": [
    "def K_Class(): \n",
    "    keras.backend.clear_session() \n",
    "#   neural network architecture: start \n",
    "    model = Sequential() \n",
    "    model.add(Dense(d_F + d_T + 2, input_dim=d_F, activation='relu')) \n",
    "    model.add(BatchNormalization()) \n",
    "#    model.add(LayerNormalization()) \n",
    "    model.add(Dense(d_T, activation='softmax')) \n",
    "#   neural network architecture: end   \n",
    "    model.compile(loss='categorical_crossentropy', optimizer='adam', metrics=['accuracy'])\n",
    "    return model\n",
    "#   Keras training parameters: epoch and batch_size \n",
    "K_C = KerasClassifier(build_fn=K_Class, epochs=1000, batch_size=64, verbose=0) \n",
    "K_C._estimator_type = 'classifier' "
   ]
  },
  {
   "cell_type": "markdown",
   "id": "saved-playlist",
   "metadata": {
    "papermill": {
     "duration": 0.105091,
     "end_time": "2021-11-10T15:48:48.825780",
     "exception": false,
     "start_time": "2021-11-10T15:48:48.720689",
     "status": "completed"
    },
    "tags": []
   },
   "source": [
    "##### Level-0 models"
   ]
  },
  {
   "cell_type": "code",
   "execution_count": 45,
   "id": "complicated-consumer",
   "metadata": {
    "execution": {
     "iopub.execute_input": "2021-11-10T15:48:49.099746Z",
     "iopub.status.busy": "2021-11-10T15:48:49.097936Z",
     "iopub.status.idle": "2021-11-10T15:48:49.107118Z",
     "shell.execute_reply": "2021-11-10T15:48:49.106041Z"
    },
    "papermill": {
     "duration": 0.170872,
     "end_time": "2021-11-10T15:48:49.107423",
     "exception": false,
     "start_time": "2021-11-10T15:48:48.936551",
     "status": "completed"
    },
    "tags": []
   },
   "outputs": [],
   "source": [
    "level_0 = [ \n",
    "          ('GPC', GaussianProcessClassifier(kernel = ConstantKernel() +  RBF() + WhiteKernel())), \n",
    "          ('DTC', DecisionTreeClassifier(max_depth=5)), \n",
    "          ('RFC', RandomForestClassifier(max_depth=5, n_estimators=10, max_features='auto')), \n",
    "          ('ABC', AdaBoostClassifier()), \n",
    "          ('LOGR', LogisticRegression()), \n",
    "          ('MLPC', MLPClassifier(alpha=1, max_iter=1000, early_stopping=True)), \n",
    "          ('KNC', KNeighborsClassifier(n_neighbors=len(y.unique()))), \n",
    "          ('GNB', GaussianNB()), \n",
    "          ('XGBC', XGBClassifier(max_depth=5, n_estimators=10, verbosity=0)), \n",
    "          ('KERC', K_C), \n",
    "          ]"
   ]
  },
  {
   "cell_type": "markdown",
   "id": "rotary-principal",
   "metadata": {
    "papermill": {
     "duration": 0.116419,
     "end_time": "2021-11-10T15:48:49.324766",
     "exception": false,
     "start_time": "2021-11-10T15:48:49.208347",
     "status": "completed"
    },
    "tags": []
   },
   "source": [
    "##### Level-1 model"
   ]
  },
  {
   "cell_type": "code",
   "execution_count": 46,
   "id": "western-porcelain",
   "metadata": {
    "execution": {
     "iopub.execute_input": "2021-11-10T15:48:49.572383Z",
     "iopub.status.busy": "2021-11-10T15:48:49.570970Z",
     "iopub.status.idle": "2021-11-10T15:48:49.575054Z",
     "shell.execute_reply": "2021-11-10T15:48:49.575655Z"
    },
    "papermill": {
     "duration": 0.121725,
     "end_time": "2021-11-10T15:48:49.575906",
     "exception": false,
     "start_time": "2021-11-10T15:48:49.454181",
     "status": "completed"
    },
    "tags": []
   },
   "outputs": [],
   "source": [
    "level_1 = MLPClassifier()"
   ]
  },
  {
   "cell_type": "markdown",
   "id": "studied-focus",
   "metadata": {
    "papermill": {
     "duration": 0.098897,
     "end_time": "2021-11-10T15:48:49.762886",
     "exception": false,
     "start_time": "2021-11-10T15:48:49.663989",
     "status": "completed"
    },
    "tags": []
   },
   "source": [
    "##### Stacking for classification"
   ]
  },
  {
   "cell_type": "code",
   "execution_count": 47,
   "id": "informal-integrity",
   "metadata": {
    "execution": {
     "iopub.execute_input": "2021-11-10T15:48:49.973995Z",
     "iopub.status.busy": "2021-11-10T15:48:49.972300Z",
     "iopub.status.idle": "2021-11-10T15:48:49.979606Z",
     "shell.execute_reply": "2021-11-10T15:48:49.978243Z"
    },
    "papermill": {
     "duration": 0.11402,
     "end_time": "2021-11-10T15:48:49.980074",
     "exception": false,
     "start_time": "2021-11-10T15:48:49.866054",
     "status": "completed"
    },
    "tags": []
   },
   "outputs": [],
   "source": [
    "model = StackingClassifier(level_0, final_estimator=level_1)"
   ]
  },
  {
   "cell_type": "markdown",
   "id": "pharmaceutical-sacrifice",
   "metadata": {
    "papermill": {
     "duration": 0.099799,
     "end_time": "2021-11-10T15:48:50.178158",
     "exception": false,
     "start_time": "2021-11-10T15:48:50.078359",
     "status": "completed"
    },
    "tags": []
   },
   "source": [
    "### Model fitting"
   ]
  },
  {
   "cell_type": "code",
   "execution_count": 48,
   "id": "framed-occupation",
   "metadata": {
    "execution": {
     "iopub.execute_input": "2021-11-10T15:48:50.403177Z",
     "iopub.status.busy": "2021-11-10T15:48:50.402307Z",
     "iopub.status.idle": "2021-11-10T15:49:22.787470Z",
     "shell.execute_reply": "2021-11-10T15:49:22.788031Z"
    },
    "papermill": {
     "duration": 32.509331,
     "end_time": "2021-11-10T15:49:22.788270",
     "exception": false,
     "start_time": "2021-11-10T15:48:50.278939",
     "status": "completed"
    },
    "tags": []
   },
   "outputs": [
    {
     "name": "stdout",
     "output_type": "stream",
     "text": [
      "WARNING:tensorflow:5 out of the last 9 calls to <function Model.make_predict_function.<locals>.predict_function at 0x7f80bdc2fb80> triggered tf.function retracing. Tracing is expensive and the excessive number of tracings could be due to (1) creating @tf.function repeatedly in a loop, (2) passing tensors with different shapes, (3) passing Python objects instead of tensors. For (1), please define your @tf.function outside of the loop. For (2), @tf.function has experimental_relax_shapes=True option that relaxes argument shapes that can avoid unnecessary retracing. For (3), please refer to https://www.tensorflow.org/guide/function#controlling_retracing and https://www.tensorflow.org/api_docs/python/tf/function for  more details.\n",
      "CPU times: user 6min 48s, sys: 3min 50s, total: 10min 39s\n",
      "Wall time: 3min 29s\n"
     ]
    },
    {
     "data": {
      "text/html": [
       "<style>div.sk-top-container {color: black;background-color: white;}div.sk-toggleable {background-color: white;}label.sk-toggleable__label {cursor: pointer;display: block;width: 100%;margin-bottom: 0;padding: 0.2em 0.3em;box-sizing: border-box;text-align: center;}div.sk-toggleable__content {max-height: 0;max-width: 0;overflow: hidden;text-align: left;background-color: #f0f8ff;}div.sk-toggleable__content pre {margin: 0.2em;color: black;border-radius: 0.25em;background-color: #f0f8ff;}input.sk-toggleable__control:checked~div.sk-toggleable__content {max-height: 200px;max-width: 100%;overflow: auto;}div.sk-estimator input.sk-toggleable__control:checked~label.sk-toggleable__label {background-color: #d4ebff;}div.sk-label input.sk-toggleable__control:checked~label.sk-toggleable__label {background-color: #d4ebff;}input.sk-hidden--visually {border: 0;clip: rect(1px 1px 1px 1px);clip: rect(1px, 1px, 1px, 1px);height: 1px;margin: -1px;overflow: hidden;padding: 0;position: absolute;width: 1px;}div.sk-estimator {font-family: monospace;background-color: #f0f8ff;margin: 0.25em 0.25em;border: 1px dotted black;border-radius: 0.25em;box-sizing: border-box;}div.sk-estimator:hover {background-color: #d4ebff;}div.sk-parallel-item::after {content: \"\";width: 100%;border-bottom: 1px solid gray;flex-grow: 1;}div.sk-label:hover label.sk-toggleable__label {background-color: #d4ebff;}div.sk-serial::before {content: \"\";position: absolute;border-left: 1px solid gray;box-sizing: border-box;top: 2em;bottom: 0;left: 50%;}div.sk-serial {display: flex;flex-direction: column;align-items: center;background-color: white;}div.sk-item {z-index: 1;}div.sk-parallel {display: flex;align-items: stretch;justify-content: center;background-color: white;}div.sk-parallel-item {display: flex;flex-direction: column;position: relative;background-color: white;}div.sk-parallel-item:first-child::after {align-self: flex-end;width: 50%;}div.sk-parallel-item:last-child::after {align-self: flex-start;width: 50%;}div.sk-parallel-item:only-child::after {width: 0;}div.sk-dashed-wrapped {border: 1px dashed gray;margin: 0.2em;box-sizing: border-box;padding-bottom: 0.1em;background-color: white;position: relative;}div.sk-label label {font-family: monospace;font-weight: bold;background-color: white;display: inline-block;line-height: 1.2em;}div.sk-label-container {position: relative;z-index: 2;text-align: center;}div.sk-container {display: inline-block;position: relative;}</style><div class=\"sk-top-container\"><div class=\"sk-container\"><div class=\"sk-item sk-dashed-wrapped\"><div class=\"sk-label-container\"><div class=\"sk-label sk-toggleable\"><input class=\"sk-toggleable__control sk-hidden--visually\" id=\"4796fc3d-0258-4f76-8b2c-72908118cf9b\" type=\"checkbox\" ><label class=\"sk-toggleable__label\" for=\"4796fc3d-0258-4f76-8b2c-72908118cf9b\">StackingClassifier</label><div class=\"sk-toggleable__content\"><pre>StackingClassifier(estimators=[('GPC',\n",
       "                                GaussianProcessClassifier(kernel=1**2 + RBF(length_scale=1) + WhiteKernel(noise_level=1))),\n",
       "                               ('DTC', DecisionTreeClassifier(max_depth=5)),\n",
       "                               ('RFC',\n",
       "                                RandomForestClassifier(max_depth=5,\n",
       "                                                       n_estimators=10)),\n",
       "                               ('ABC', AdaBoostClassifier()),\n",
       "                               ('LOGR', LogisticRegression()),\n",
       "                               ('MLPC',\n",
       "                                MLPClassifier(alpha=1, early_stopping=True,\n",
       "                                              max_iter=100...\n",
       "                                              missing=nan,\n",
       "                                              monotone_constraints=None,\n",
       "                                              n_estimators=10, n_jobs=None,\n",
       "                                              num_parallel_tree=None,\n",
       "                                              random_state=None, reg_alpha=None,\n",
       "                                              reg_lambda=None,\n",
       "                                              scale_pos_weight=None,\n",
       "                                              subsample=None, tree_method=None,\n",
       "                                              validate_parameters=None,\n",
       "                                              verbosity=0)),\n",
       "                               ('KERC',\n",
       "                                <tensorflow.python.keras.wrappers.scikit_learn.KerasClassifier object at 0x7f80ca9ce4f0>)],\n",
       "                   final_estimator=MLPClassifier())</pre></div></div></div><div class=\"sk-serial\"><div class=\"sk-item\"><div class=\"sk-serial\"><div class=\"sk-item\"><div class=\"sk-parallel\"><div class=\"sk-parallel-item\"><div class=\"sk-item\"><div class=\"sk-label-container\"><div class=\"sk-label sk-toggleable\"><label>GPC</label></div></div><div class=\"sk-serial\"><div class=\"sk-item sk-dashed-wrapped\"><div class=\"sk-parallel\"><div class=\"sk-parallel-item\"><div class=\"sk-item\"><div class=\"sk-serial\"><div class=\"sk-item sk-dashed-wrapped\"><div class=\"sk-parallel\"><div class=\"sk-parallel-item\"><div class=\"sk-item\"><div class=\"sk-serial\"><div class=\"sk-item sk-dashed-wrapped\"><div class=\"sk-parallel\"><div class=\"sk-parallel-item\"><div class=\"sk-item\"><div class=\"sk-serial\"><div class=\"sk-item\"><div class=\"sk-estimator sk-toggleable\"><input class=\"sk-toggleable__control sk-hidden--visually\" id=\"73dea3c5-814d-478a-99cc-0a9fce62710e\" type=\"checkbox\" ><label class=\"sk-toggleable__label\" for=\"73dea3c5-814d-478a-99cc-0a9fce62710e\">ConstantKernel</label><div class=\"sk-toggleable__content\"><pre>1**2</pre></div></div></div></div></div></div><div class=\"sk-parallel-item\"><div class=\"sk-item\"><div class=\"sk-serial\"><div class=\"sk-item\"><div class=\"sk-estimator sk-toggleable\"><input class=\"sk-toggleable__control sk-hidden--visually\" id=\"763e3c6c-52f9-451b-b58e-bb673b81295d\" type=\"checkbox\" ><label class=\"sk-toggleable__label\" for=\"763e3c6c-52f9-451b-b58e-bb673b81295d\">RBF</label><div class=\"sk-toggleable__content\"><pre>RBF(length_scale=1)</pre></div></div></div></div></div></div></div></div></div></div></div><div class=\"sk-parallel-item\"><div class=\"sk-item\"><div class=\"sk-serial\"><div class=\"sk-item\"><div class=\"sk-estimator sk-toggleable\"><input class=\"sk-toggleable__control sk-hidden--visually\" id=\"b5b1dcbf-7b06-4c97-98a6-46c7017f6e88\" type=\"checkbox\" ><label class=\"sk-toggleable__label\" for=\"b5b1dcbf-7b06-4c97-98a6-46c7017f6e88\">WhiteKernel</label><div class=\"sk-toggleable__content\"><pre>WhiteKernel(noise_level=1)</pre></div></div></div></div></div></div></div></div></div></div></div></div></div></div></div></div><div class=\"sk-parallel-item\"><div class=\"sk-item\"><div class=\"sk-label-container\"><div class=\"sk-label sk-toggleable\"><label>DTC</label></div></div><div class=\"sk-serial\"><div class=\"sk-item\"><div class=\"sk-estimator sk-toggleable\"><input class=\"sk-toggleable__control sk-hidden--visually\" id=\"dece3858-a893-47b1-b169-a8207d28d053\" type=\"checkbox\" ><label class=\"sk-toggleable__label\" for=\"dece3858-a893-47b1-b169-a8207d28d053\">DecisionTreeClassifier</label><div class=\"sk-toggleable__content\"><pre>DecisionTreeClassifier(max_depth=5)</pre></div></div></div></div></div></div><div class=\"sk-parallel-item\"><div class=\"sk-item\"><div class=\"sk-label-container\"><div class=\"sk-label sk-toggleable\"><label>RFC</label></div></div><div class=\"sk-serial\"><div class=\"sk-item\"><div class=\"sk-estimator sk-toggleable\"><input class=\"sk-toggleable__control sk-hidden--visually\" id=\"e6a88a75-dbcb-477b-ae6b-f107ea00dd40\" type=\"checkbox\" ><label class=\"sk-toggleable__label\" for=\"e6a88a75-dbcb-477b-ae6b-f107ea00dd40\">RandomForestClassifier</label><div class=\"sk-toggleable__content\"><pre>RandomForestClassifier(max_depth=5, n_estimators=10)</pre></div></div></div></div></div></div><div class=\"sk-parallel-item\"><div class=\"sk-item\"><div class=\"sk-label-container\"><div class=\"sk-label sk-toggleable\"><label>ABC</label></div></div><div class=\"sk-serial\"><div class=\"sk-item\"><div class=\"sk-estimator sk-toggleable\"><input class=\"sk-toggleable__control sk-hidden--visually\" id=\"249a9c45-417b-4307-9514-ca0d36227e8c\" type=\"checkbox\" ><label class=\"sk-toggleable__label\" for=\"249a9c45-417b-4307-9514-ca0d36227e8c\">AdaBoostClassifier</label><div class=\"sk-toggleable__content\"><pre>AdaBoostClassifier()</pre></div></div></div></div></div></div><div class=\"sk-parallel-item\"><div class=\"sk-item\"><div class=\"sk-label-container\"><div class=\"sk-label sk-toggleable\"><label>LOGR</label></div></div><div class=\"sk-serial\"><div class=\"sk-item\"><div class=\"sk-estimator sk-toggleable\"><input class=\"sk-toggleable__control sk-hidden--visually\" id=\"e35695b7-643d-4423-b3b7-9d3414515b7b\" type=\"checkbox\" ><label class=\"sk-toggleable__label\" for=\"e35695b7-643d-4423-b3b7-9d3414515b7b\">LogisticRegression</label><div class=\"sk-toggleable__content\"><pre>LogisticRegression()</pre></div></div></div></div></div></div><div class=\"sk-parallel-item\"><div class=\"sk-item\"><div class=\"sk-label-container\"><div class=\"sk-label sk-toggleable\"><label>MLPC</label></div></div><div class=\"sk-serial\"><div class=\"sk-item\"><div class=\"sk-estimator sk-toggleable\"><input class=\"sk-toggleable__control sk-hidden--visually\" id=\"00aa5e3d-5b98-4cd8-9e51-9127903c3b29\" type=\"checkbox\" ><label class=\"sk-toggleable__label\" for=\"00aa5e3d-5b98-4cd8-9e51-9127903c3b29\">MLPClassifier</label><div class=\"sk-toggleable__content\"><pre>MLPClassifier(alpha=1, early_stopping=True, max_iter=1000)</pre></div></div></div></div></div></div><div class=\"sk-parallel-item\"><div class=\"sk-item\"><div class=\"sk-label-container\"><div class=\"sk-label sk-toggleable\"><label>KNC</label></div></div><div class=\"sk-serial\"><div class=\"sk-item\"><div class=\"sk-estimator sk-toggleable\"><input class=\"sk-toggleable__control sk-hidden--visually\" id=\"5e2eaa09-22ec-4212-9843-3dae3ccfd1b0\" type=\"checkbox\" ><label class=\"sk-toggleable__label\" for=\"5e2eaa09-22ec-4212-9843-3dae3ccfd1b0\">KNeighborsClassifier</label><div class=\"sk-toggleable__content\"><pre>KNeighborsClassifier(n_neighbors=2)</pre></div></div></div></div></div></div><div class=\"sk-parallel-item\"><div class=\"sk-item\"><div class=\"sk-label-container\"><div class=\"sk-label sk-toggleable\"><label>GNB</label></div></div><div class=\"sk-serial\"><div class=\"sk-item\"><div class=\"sk-estimator sk-toggleable\"><input class=\"sk-toggleable__control sk-hidden--visually\" id=\"3c82b41f-a9aa-4036-82cd-24107b675165\" type=\"checkbox\" ><label class=\"sk-toggleable__label\" for=\"3c82b41f-a9aa-4036-82cd-24107b675165\">GaussianNB</label><div class=\"sk-toggleable__content\"><pre>GaussianNB()</pre></div></div></div></div></div></div><div class=\"sk-parallel-item\"><div class=\"sk-item\"><div class=\"sk-label-container\"><div class=\"sk-label sk-toggleable\"><label>XGBC</label></div></div><div class=\"sk-serial\"><div class=\"sk-item\"><div class=\"sk-estimator sk-toggleable\"><input class=\"sk-toggleable__control sk-hidden--visually\" id=\"4c9108dc-42c6-40e7-a52c-2fa571e95a81\" type=\"checkbox\" ><label class=\"sk-toggleable__label\" for=\"4c9108dc-42c6-40e7-a52c-2fa571e95a81\">XGBClassifier</label><div class=\"sk-toggleable__content\"><pre>XGBClassifier(base_score=None, booster=None, colsample_bylevel=None,\n",
       "              colsample_bynode=None, colsample_bytree=None, gamma=None,\n",
       "              gpu_id=None, importance_type='gain', interaction_constraints=None,\n",
       "              learning_rate=None, max_delta_step=None, max_depth=5,\n",
       "              min_child_weight=None, missing=nan, monotone_constraints=None,\n",
       "              n_estimators=10, n_jobs=None, num_parallel_tree=None,\n",
       "              random_state=None, reg_alpha=None, reg_lambda=None,\n",
       "              scale_pos_weight=None, subsample=None, tree_method=None,\n",
       "              validate_parameters=None, verbosity=0)</pre></div></div></div></div></div></div><div class=\"sk-parallel-item\"><div class=\"sk-item\"><div class=\"sk-label-container\"><div class=\"sk-label sk-toggleable\"><label>KERC</label></div></div><div class=\"sk-serial\"><div class=\"sk-item\"><div class=\"sk-estimator sk-toggleable\"><input class=\"sk-toggleable__control sk-hidden--visually\" id=\"6c20f2a8-145d-4cde-b5ca-d9fe224c8fcb\" type=\"checkbox\" ><label class=\"sk-toggleable__label\" for=\"6c20f2a8-145d-4cde-b5ca-d9fe224c8fcb\">KerasClassifier</label><div class=\"sk-toggleable__content\"><pre><tensorflow.python.keras.wrappers.scikit_learn.KerasClassifier object at 0x7f80ca9ce4f0></pre></div></div></div></div></div></div></div></div><div class=\"sk-item\"><div class=\"sk-estimator sk-toggleable\"><input class=\"sk-toggleable__control sk-hidden--visually\" id=\"f56bed2f-5435-454a-adf4-7d828a41e65e\" type=\"checkbox\" ><label class=\"sk-toggleable__label\" for=\"f56bed2f-5435-454a-adf4-7d828a41e65e\">MLPClassifier</label><div class=\"sk-toggleable__content\"><pre>MLPClassifier()</pre></div></div></div></div></div></div></div></div></div>"
      ],
      "text/plain": [
       "StackingClassifier(estimators=[('GPC',\n",
       "                                GaussianProcessClassifier(kernel=1**2 + RBF(length_scale=1) + WhiteKernel(noise_level=1))),\n",
       "                               ('DTC', DecisionTreeClassifier(max_depth=5)),\n",
       "                               ('RFC',\n",
       "                                RandomForestClassifier(max_depth=5,\n",
       "                                                       n_estimators=10)),\n",
       "                               ('ABC', AdaBoostClassifier()),\n",
       "                               ('LOGR', LogisticRegression()),\n",
       "                               ('MLPC',\n",
       "                                MLPClassifier(alpha=1, early_stopping=True,\n",
       "                                              max_iter=100...\n",
       "                                              missing=nan,\n",
       "                                              monotone_constraints=None,\n",
       "                                              n_estimators=10, n_jobs=None,\n",
       "                                              num_parallel_tree=None,\n",
       "                                              random_state=None, reg_alpha=None,\n",
       "                                              reg_lambda=None,\n",
       "                                              scale_pos_weight=None,\n",
       "                                              subsample=None, tree_method=None,\n",
       "                                              validate_parameters=None,\n",
       "                                              verbosity=0)),\n",
       "                               ('KERC',\n",
       "                                <tensorflow.python.keras.wrappers.scikit_learn.KerasClassifier object at 0x7f80ca9ce4f0>)],\n",
       "                   final_estimator=MLPClassifier())"
      ]
     },
     "execution_count": 48,
     "metadata": {},
     "output_type": "execute_result"
    }
   ],
   "source": [
    "%%time\n",
    "set_config(display='diagram') \n",
    "model.fit(X_train, y_train)"
   ]
  },
  {
   "cell_type": "markdown",
   "id": "accepted-offset",
   "metadata": {
    "papermill": {
     "duration": 0.141757,
     "end_time": "2021-11-10T15:49:23.020568",
     "exception": false,
     "start_time": "2021-11-10T15:49:22.878811",
     "status": "completed"
    },
    "tags": []
   },
   "source": [
    "#### Keras neural network description"
   ]
  },
  {
   "cell_type": "code",
   "execution_count": 49,
   "id": "standard-millennium",
   "metadata": {
    "execution": {
     "iopub.execute_input": "2021-11-10T15:49:23.254621Z",
     "iopub.status.busy": "2021-11-10T15:49:23.252853Z",
     "iopub.status.idle": "2021-11-10T15:49:23.473640Z",
     "shell.execute_reply": "2021-11-10T15:49:23.472868Z"
    },
    "papermill": {
     "duration": 0.363728,
     "end_time": "2021-11-10T15:49:23.473844",
     "exception": false,
     "start_time": "2021-11-10T15:49:23.110116",
     "status": "completed"
    },
    "tags": []
   },
   "outputs": [
    {
     "data": {
      "image/png": "[encoded data removed]",
      "text/plain": [
       "<IPython.core.display.Image object>"
      ]
     },
     "execution_count": 49,
     "metadata": {},
     "output_type": "execute_result"
    }
   ],
   "source": [
    "plot_model(K_Class(), show_shapes=True, show_layer_names=True)"
   ]
  },
  {
   "cell_type": "markdown",
   "id": "noticed-victorian",
   "metadata": {
    "papermill": {
     "duration": 0.148273,
     "end_time": "2021-11-10T15:49:23.722263",
     "exception": false,
     "start_time": "2021-11-10T15:49:23.573990",
     "status": "completed"
    },
    "tags": []
   },
   "source": [
    "### Model evaluation"
   ]
  },
  {
   "cell_type": "markdown",
   "id": "moderate-opening",
   "metadata": {
    "papermill": {
     "duration": 0.126662,
     "end_time": "2021-11-10T15:49:23.952109",
     "exception": false,
     "start_time": "2021-11-10T15:49:23.825447",
     "status": "completed"
    },
    "tags": []
   },
   "source": [
    "#### Model scoring"
   ]
  },
  {
   "cell_type": "code",
   "execution_count": 50,
   "id": "perfect-serum",
   "metadata": {
    "execution": {
     "iopub.execute_input": "2021-11-10T15:49:24.195067Z",
     "iopub.status.busy": "2021-11-10T15:49:24.193187Z",
     "iopub.status.idle": "2021-11-10T15:49:24.231441Z",
     "shell.execute_reply": "2021-11-10T15:49:24.228780Z"
    },
    "papermill": {
     "duration": 0.186906,
     "end_time": "2021-11-10T15:49:24.231733",
     "exception": true,
     "start_time": "2021-11-10T15:49:24.044827",
     "status": "failed"
    },
    "tags": []
   },
   "outputs": [
    {
     "name": "stdout",
     "output_type": "stream",
     "text": [
      "WARNING:tensorflow:6 out of the last 11 calls to <function Model.make_predict_function.<locals>.predict_function at 0x7f80ac6d6af0> triggered tf.function retracing. Tracing is expensive and the excessive number of tracings could be due to (1) creating @tf.function repeatedly in a loop, (2) passing tensors with different shapes, (3) passing Python objects instead of tensors. For (1), please define your @tf.function outside of the loop. For (2), @tf.function has experimental_relax_shapes=True option that relaxes argument shapes that can avoid unnecessary retracing. For (3), please refer to https://www.tensorflow.org/guide/function#controlling_retracing and https://www.tensorflow.org/api_docs/python/tf/function for  more details.\n"
     ]
    },
    {
     "data": {
      "image/png": "[encoded data removed]",
      "text/plain": [
       "<Figure size 576x360 with 1 Axes>"
      ]
     },
     "metadata": {},
     "output_type": "display_data"
    },
    {
     "data": {
      "text/plain": [
       "array([['GPC', 0.9981785063752276, 0.985239852398524],\n",
       "       ['DTC', 1.0, 1.0],\n",
       "       ['RFC', 1.0, 1.0],\n",
       "       ['ABC', 1.0, 1.0],\n",
       "       ['LOGR', 1.0, 1.0],\n",
       "       ['MLPC', 0.8852459016393442, 0.8523985239852399],\n",
       "       ['KNC', 0.9781420765027322, 0.933579335793358],\n",
       "       ['GNB', 1.0, 1.0],\n",
       "       ['XGBC', 1.0, 1.0],\n",
       "       ['KERC', 1.0, 1.0],\n",
       "       ['Stack', 1.0, 1.0]], dtype=object)"
      ]
     },
     "execution_count": 50,
     "metadata": {},
     "output_type": "execute_result"
    }
   ],
   "source": [
    "score_stacking_c(model, X_train, y_train, X_test, y_test)"
   ]
  },
  {
   "cell_type": "markdown",
   "id": "cathedral-paste",
   "metadata": {
    "papermill": {
     "duration": null,
     "end_time": null,
     "exception": null,
     "start_time": null,
     "status": "pending"
    },
    "tags": []
   },
   "source": [
    "#### ROC/AUC"
   ]
  },
  {
   "cell_type": "code",
   "execution_count": 51,
   "id": "sudden-antarctica",
   "metadata": {
    "papermill": {
     "duration": null,
     "end_time": null,
     "exception": null,
     "start_time": null,
     "status": "pending"
    },
    "tags": []
   },
   "outputs": [],
   "source": [
    "classes = y.unique()"
   ]
  },
  {
   "cell_type": "code",
   "execution_count": 52,
   "id": "impressed-consistency",
   "metadata": {
    "papermill": {
     "duration": null,
     "end_time": null,
     "exception": null,
     "start_time": null,
     "status": "pending"
    },
    "tags": []
   },
   "outputs": [
    {
     "data": {
      "image/png": "[encoded data removed]",
      "text/plain": [
       "<Figure size 576x396 with 1 Axes>"
      ]
     },
     "metadata": {},
     "output_type": "display_data"
    }
   ],
   "source": [
    "roc_auc(model, X_train, y_train, X_test = X_test, y_test = y_test, classes = classes);"
   ]
  },
  {
   "cell_type": "markdown",
   "id": "drawn-vinyl",
   "metadata": {
    "papermill": {
     "duration": null,
     "end_time": null,
     "exception": null,
     "start_time": null,
     "status": "pending"
    },
    "tags": []
   },
   "source": [
    "#### Classification report"
   ]
  },
  {
   "cell_type": "code",
   "execution_count": 53,
   "id": "excited-melbourne",
   "metadata": {
    "papermill": {
     "duration": null,
     "end_time": null,
     "exception": null,
     "start_time": null,
     "status": "pending"
    },
    "tags": []
   },
   "outputs": [
    {
     "data": {
      "image/png": "[encoded data removed]",
      "text/plain": [
       "<Figure size 576x396 with 2 Axes>"
      ]
     },
     "metadata": {},
     "output_type": "display_data"
    }
   ],
   "source": [
    "classification_report(model, X_train, y_train, X_test, y_test, classes=classes, support=True);"
   ]
  },
  {
   "cell_type": "markdown",
   "id": "encouraging-compensation",
   "metadata": {
    "papermill": {
     "duration": null,
     "end_time": null,
     "exception": null,
     "start_time": null,
     "status": "pending"
    },
    "tags": []
   },
   "source": [
    "#### Confusion matrix"
   ]
  },
  {
   "cell_type": "code",
   "execution_count": 54,
   "id": "occupied-brazil",
   "metadata": {
    "papermill": {
     "duration": null,
     "end_time": null,
     "exception": null,
     "start_time": null,
     "status": "pending"
    },
    "tags": []
   },
   "outputs": [
    {
     "data": {
      "image/png": "[encoded data removed]",
      "text/plain": [
       "<Figure size 576x396 with 1 Axes>"
      ]
     },
     "metadata": {},
     "output_type": "display_data"
    }
   ],
   "source": [
    "confusion_matrix(model, X_train, y_train, X_test, y_test, classes=classes);"
   ]
  },
  {
   "cell_type": "markdown",
   "id": "worthy-melbourne",
   "metadata": {
    "papermill": {
     "duration": null,
     "end_time": null,
     "exception": null,
     "start_time": null,
     "status": "pending"
    },
    "tags": []
   },
   "source": [
    "#### Class prediction error"
   ]
  },
  {
   "cell_type": "code",
   "execution_count": 55,
   "id": "undefined-polls",
   "metadata": {
    "papermill": {
     "duration": null,
     "end_time": null,
     "exception": null,
     "start_time": null,
     "status": "pending"
    },
    "tags": []
   },
   "outputs": [
    {
     "data": {
      "image/png": "[encoded data removed]",
      "text/plain": [
       "<Figure size 576x396 with 1 Axes>"
      ]
     },
     "metadata": {},
     "output_type": "display_data"
    }
   ],
   "source": [
    "class_prediction_error(model, X_train, y_train, X_test, y_test, classes=classes);"
   ]
  }
 ],
 "metadata": {
  "kernelspec": {
   "display_name": "Python 3",
   "language": "python",
   "name": "python3"
  },
  "language_info": {
   "codemirror_mode": {
    "name": "ipython",
    "version": 3
   },
   "file_extension": ".py",
   "mimetype": "text/x-python",
   "name": "python",
   "nbconvert_exporter": "python",
   "pygments_lexer": "ipython3",
   "version": "3.8.12"
  },
  "papermill": {
   "default_parameters": {},
   "duration": 68.117765,
   "end_time": "2021-11-10T15:49:25.268275",
   "environment_variables": {},
   "exception": true,
   "input_path": "titanic_full.ipynb",
   "output_path": "titanic_full.ipynb",
   "parameters": {},
   "start_time": "2021-11-10T15:48:17.150510",
   "version": "2.3.3"
  }
 },
 "nbformat": 4,
 "nbformat_minor": 5
}
