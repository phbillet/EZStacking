{
 "cells": [
  {
   "cell_type": "markdown",
   "id": "7e4d8047",
   "metadata": {},
   "source": [
    "# EDA & Modelling"
   ]
  },
  {
   "cell_type": "markdown",
   "id": "023c7e7d",
   "metadata": {},
   "source": [
    "## Package loading"
   ]
  },
  {
   "cell_type": "code",
   "execution_count": null,
   "id": "51ba52f9",
   "metadata": {},
   "outputs": [],
   "source": [
    "from EZS_func import *\n",
    "import numpy as np\n",
    "import pandas as pd\n",
    "import os\n",
    "import gc\n",
    "import matplotlib.pyplot as plt\n",
    "import warnings\n",
    "warnings.filterwarnings('ignore')\n",
    "import re\n",
    "import math\n",
    "from sklearn.ensemble import RandomForestClassifier\n",
    "from sklearn.ensemble import AdaBoostClassifier\n",
    "from sklearn.ensemble import HistGradientBoostingClassifier\n",
    "from sklearn.ensemble import StackingClassifier\n",
    "from sklearn.linear_model import SGDClassifier\n",
    "from sklearn.linear_model import LogisticRegression\n",
    "from sklearn.linear_model import LogisticRegressionCV\n",
    "from sklearn.neighbors import LocalOutlierFactor\n",
    "from sklearn.base import BaseEstimator\n",
    "from sklearn.base import TransformerMixin\n",
    "from sklearn.experimental import enable_iterative_imputer\n",
    "from sklearn.impute import SimpleImputer\n",
    "from sklearn.impute import IterativeImputer\n",
    "from sklearn.inspection import permutation_importance\n",
    "from sklearn.metrics import accuracy_score\n",
    "from sklearn.metrics import f1_score\n",
    "from sklearn.metrics import recall_score\n",
    "from sklearn import set_config\n",
    "from sklearn import datasets\n",
    "from sklearn.model_selection import train_test_split\n",
    "from sklearn.model_selection import StratifiedKFold\n",
    "from sklearn.model_selection import RepeatedStratifiedKFold\n",
    "from sklearn.preprocessing import StandardScaler\n",
    "from sklearn.preprocessing import OneHotEncoder\n",
    "from sklearn.preprocessing import OrdinalEncoder\n",
    "from sklearn.preprocessing import LabelEncoder\n",
    "from sklearn.preprocessing import FunctionTransformer\n",
    "from sklearn.svm import SVC\n",
    "from pandas.api.types import is_numeric_dtype\n",
    "from itertools import product\n",
    "from joblib import dump\n",
    "from scipy import stats\n",
    "from sklearn.pipeline import Pipeline\n",
    "from sklearn.pipeline import make_pipeline\n",
    "from sklearn.compose import make_column_selector\n",
    "from sklearn.compose import make_column_transformer\n"
   ]
  },
  {
   "cell_type": "markdown",
   "id": "198a1b61",
   "metadata": {},
   "source": [
    "## Exploratory Data Analysis "
   ]
  },
  {
   "cell_type": "markdown",
   "id": "851ed614",
   "metadata": {},
   "source": [
    "### File and parameters loading"
   ]
  },
  {
   "cell_type": "code",
   "execution_count": null,
   "id": "c32ab381",
   "metadata": {},
   "outputs": [],
   "source": [
    "problem_type = 'classification'"
   ]
  },
  {
   "cell_type": "code",
   "execution_count": null,
   "id": "3cbd4787",
   "metadata": {},
   "outputs": [],
   "source": [
    "stacking = 'True'"
   ]
  },
  {
   "cell_type": "code",
   "execution_count": null,
   "id": "7babf1f9",
   "metadata": {},
   "outputs": [],
   "source": [
    "data_size = 'large'"
   ]
  },
  {
   "cell_type": "code",
   "execution_count": null,
   "id": "2b89fb76",
   "metadata": {},
   "outputs": [],
   "source": [
    "df = pd.read_csv('/home/philippe/Documents/python project/EZStacking-v0.14/dataset/iris.csv')"
   ]
  },
  {
   "cell_type": "code",
   "execution_count": null,
   "id": "1e55a8ff",
   "metadata": {},
   "outputs": [],
   "source": [
    "target_col = 'variety'"
   ]
  },
  {
   "cell_type": "markdown",
   "id": "05c1d072",
   "metadata": {},
   "source": [
    "#### Thresholds"
   ]
  },
  {
   "cell_type": "code",
   "execution_count": null,
   "id": "bef1c534",
   "metadata": {},
   "outputs": [],
   "source": [
    "threshold_NaN = 0.5"
   ]
  },
  {
   "cell_type": "code",
   "execution_count": null,
   "id": "4f854797",
   "metadata": {},
   "outputs": [],
   "source": [
    "threshold_cat = 5"
   ]
  },
  {
   "cell_type": "code",
   "execution_count": null,
   "id": "5afc39b8",
   "metadata": {},
   "outputs": [],
   "source": [
    "threshold_Z = 3.0"
   ]
  },
  {
   "cell_type": "code",
   "execution_count": null,
   "id": "cf89b94a",
   "metadata": {},
   "outputs": [],
   "source": [
    "threshold_corr = 0.95"
   ]
  },
  {
   "cell_type": "code",
   "execution_count": null,
   "id": "7092121d",
   "metadata": {},
   "outputs": [],
   "source": [
    "threshold_model = 5"
   ]
  },
  {
   "cell_type": "code",
   "execution_count": null,
   "id": "5bfa5f82",
   "metadata": {},
   "outputs": [],
   "source": [
    "threshold_score = 0.7"
   ]
  },
  {
   "cell_type": "code",
   "execution_count": null,
   "id": "6f619dbb",
   "metadata": {},
   "outputs": [],
   "source": [
    "threshold_feature = 5"
   ]
  },
  {
   "cell_type": "markdown",
   "id": "b342ac2f",
   "metadata": {},
   "source": [
    "#### Drop user's columns:"
   ]
  },
  {
   "cell_type": "code",
   "execution_count": null,
   "id": "a52dc1ca",
   "metadata": {},
   "outputs": [],
   "source": [
    "user_drop_cols = []"
   ]
  },
  {
   "cell_type": "markdown",
   "id": "4f2ca39f",
   "metadata": {},
   "source": [
    "Dataset before deletion"
   ]
  },
  {
   "cell_type": "code",
   "execution_count": null,
   "id": "b95ed545",
   "metadata": {},
   "outputs": [],
   "source": [
    "display(df)"
   ]
  },
  {
   "cell_type": "code",
   "execution_count": null,
   "id": "6d75b7c0",
   "metadata": {},
   "outputs": [],
   "source": [
    "df = df.drop(user_drop_cols, axis=1)"
   ]
  },
  {
   "cell_type": "markdown",
   "id": "8f6c22bb",
   "metadata": {},
   "source": [
    "Dataset after deletion"
   ]
  },
  {
   "cell_type": "code",
   "execution_count": null,
   "id": "848ac7b3",
   "metadata": {},
   "outputs": [],
   "source": [
    "display(df)"
   ]
  },
  {
   "cell_type": "markdown",
   "id": "c9466d64",
   "metadata": {},
   "source": [
    "#### Dataset copy"
   ]
  },
  {
   "cell_type": "code",
   "execution_count": null,
   "id": "ed9c3e39",
   "metadata": {},
   "outputs": [],
   "source": [
    "df_copy = df.copy()"
   ]
  },
  {
   "cell_type": "markdown",
   "id": "076db403",
   "metadata": {},
   "source": [
    "### Dataset Information"
   ]
  },
  {
   "cell_type": "code",
   "execution_count": null,
   "id": "c8efd985",
   "metadata": {},
   "outputs": [],
   "source": [
    "df.shape"
   ]
  },
  {
   "cell_type": "markdown",
   "id": "65c1c0ff",
   "metadata": {},
   "source": [
    "#### Some records"
   ]
  },
  {
   "cell_type": "code",
   "execution_count": null,
   "id": "0f0c35d4",
   "metadata": {},
   "outputs": [],
   "source": [
    "display(df)"
   ]
  },
  {
   "cell_type": "markdown",
   "id": "0b7ae5f3",
   "metadata": {},
   "source": [
    "#### Dataframe structure"
   ]
  },
  {
   "cell_type": "code",
   "execution_count": null,
   "id": "955dfad7",
   "metadata": {},
   "outputs": [],
   "source": [
    "plot_dataframe_structure(df)"
   ]
  },
  {
   "cell_type": "markdown",
   "id": "8f62a4c2",
   "metadata": {},
   "source": [
    "#### Dataframe statistics"
   ]
  },
  {
   "cell_type": "code",
   "execution_count": null,
   "id": "5549418f",
   "metadata": {},
   "outputs": [],
   "source": [
    "display(df.describe().T)"
   ]
  },
  {
   "cell_type": "markdown",
   "id": "31bf23cf",
   "metadata": {},
   "source": [
    "#### Which columns could be categorical ?"
   ]
  },
  {
   "cell_type": "code",
   "execution_count": null,
   "id": "9fb7e8a9",
   "metadata": {},
   "outputs": [],
   "source": [
    "plot_categorical(df)"
   ]
  },
  {
   "cell_type": "markdown",
   "id": "8c0cf318",
   "metadata": {},
   "source": [
    "### Dataset Cleaning"
   ]
  },
  {
   "cell_type": "markdown",
   "id": "0cc84173",
   "metadata": {},
   "source": [
    "#### Duplicate rows:"
   ]
  },
  {
   "cell_type": "code",
   "execution_count": null,
   "id": "a7eb6583",
   "metadata": {},
   "outputs": [],
   "source": [
    "duplicates(df)"
   ]
  },
  {
   "cell_type": "markdown",
   "id": "c92d35ce",
   "metadata": {},
   "source": [
    "#### Drop NaN:"
   ]
  },
  {
   "cell_type": "code",
   "execution_count": null,
   "id": "ab0fa02c",
   "metadata": {},
   "outputs": [],
   "source": [
    "df, drop_cols = drop_na(df, threshold_NaN)"
   ]
  },
  {
   "cell_type": "markdown",
   "id": "9e4def4e",
   "metadata": {},
   "source": [
    "Set of dropped columns: NaN"
   ]
  },
  {
   "cell_type": "code",
   "execution_count": null,
   "id": "2dc8054d",
   "metadata": {},
   "outputs": [],
   "source": [
    "dropped_cols = np.unique(np.concatenate((drop_cols, user_drop_cols)))"
   ]
  },
  {
   "cell_type": "code",
   "execution_count": null,
   "id": "08a9554c",
   "metadata": {},
   "outputs": [],
   "source": [
    "display(dropped_cols)"
   ]
  },
  {
   "cell_type": "markdown",
   "id": "272841b1",
   "metadata": {},
   "source": [
    "#### Encoding data:"
   ]
  },
  {
   "cell_type": "code",
   "execution_count": null,
   "id": "b5e2317c",
   "metadata": {},
   "outputs": [],
   "source": [
    "df, encoded_cols = encoding(df, threshold_cat, target_col)"
   ]
  },
  {
   "cell_type": "markdown",
   "id": "d10bb5fe",
   "metadata": {},
   "source": [
    "#### Imputing NaN using IterativeImputer"
   ]
  },
  {
   "cell_type": "markdown",
   "id": "359f7f13",
   "metadata": {},
   "source": [
    "##### Imputation"
   ]
  },
  {
   "cell_type": "code",
   "execution_count": null,
   "id": "e26e649d",
   "metadata": {},
   "outputs": [],
   "source": [
    "df = imputation(df)"
   ]
  },
  {
   "cell_type": "markdown",
   "id": "ad7b7400",
   "metadata": {},
   "source": [
    "#### Data compression:"
   ]
  },
  {
   "cell_type": "code",
   "execution_count": null,
   "id": "e32d63e3",
   "metadata": {},
   "outputs": [],
   "source": [
    "df = downcast_dtypes(df)"
   ]
  },
  {
   "cell_type": "markdown",
   "id": "14b817fe",
   "metadata": {},
   "source": [
    "##### Dataframe structure after compression"
   ]
  },
  {
   "cell_type": "code",
   "execution_count": null,
   "id": "62fd3541",
   "metadata": {},
   "outputs": [],
   "source": [
    "plot_dataframe_structure(df)"
   ]
  },
  {
   "cell_type": "markdown",
   "id": "932d7972",
   "metadata": {},
   "source": [
    "#### Outliers:"
   ]
  },
  {
   "cell_type": "code",
   "execution_count": null,
   "id": "522efccc",
   "metadata": {},
   "outputs": [],
   "source": [
    "df = outliers(df, threshold_Z)"
   ]
  },
  {
   "cell_type": "markdown",
   "id": "22015092",
   "metadata": {},
   "source": [
    "#### Correlation"
   ]
  },
  {
   "cell_type": "code",
   "execution_count": null,
   "id": "66e38db4",
   "metadata": {},
   "outputs": [],
   "source": [
    "corr = df.corr() \n",
    "corr.style.background_gradient(cmap='coolwarm')"
   ]
  },
  {
   "cell_type": "code",
   "execution_count": null,
   "id": "75f9af5e",
   "metadata": {},
   "outputs": [],
   "source": [
    "correlated_features = correlated_columns(df, threshold_corr, target_col) \n",
    "dropped_cols = np.unique(np.concatenate((drop_cols, correlated_features)))"
   ]
  },
  {
   "cell_type": "markdown",
   "id": "61ebadf8",
   "metadata": {},
   "source": [
    "#### Check columns that should be dropped"
   ]
  },
  {
   "cell_type": "code",
   "execution_count": null,
   "id": "21b21aef",
   "metadata": {},
   "outputs": [],
   "source": [
    "print(dropped_cols)"
   ]
  },
  {
   "cell_type": "markdown",
   "id": "cb417ab6",
   "metadata": {},
   "source": [
    "## Splittings "
   ]
  },
  {
   "cell_type": "code",
   "execution_count": null,
   "id": "3195fe82",
   "metadata": {},
   "outputs": [],
   "source": [
    "df = df_copy"
   ]
  },
  {
   "cell_type": "markdown",
   "id": "bf0acb8b",
   "metadata": {},
   "source": [
    "#### Splitting dataframe in features and targets"
   ]
  },
  {
   "cell_type": "code",
   "execution_count": null,
   "id": "1c2a9831",
   "metadata": {},
   "outputs": [],
   "source": [
    "y = df[target_col]"
   ]
  },
  {
   "cell_type": "code",
   "execution_count": null,
   "id": "ae12fd0b",
   "metadata": {},
   "outputs": [],
   "source": [
    "X = df.drop(target_col, axis=1)"
   ]
  },
  {
   "cell_type": "markdown",
   "id": "0b70e420",
   "metadata": {},
   "source": [
    "##### Dimensions"
   ]
  },
  {
   "cell_type": "code",
   "execution_count": null,
   "id": "8a2c1af7",
   "metadata": {},
   "outputs": [],
   "source": [
    "nb_features = len(X.columns.tolist())"
   ]
  },
  {
   "cell_type": "code",
   "execution_count": null,
   "id": "190130bf",
   "metadata": {},
   "outputs": [],
   "source": [
    "nb_targets = len(y.unique())"
   ]
  },
  {
   "cell_type": "code",
   "execution_count": null,
   "id": "e48131b3",
   "metadata": {},
   "outputs": [],
   "source": [
    "layer_size = nb_features + nb_targets + 2"
   ]
  },
  {
   "cell_type": "markdown",
   "id": "0a36b4a0",
   "metadata": {},
   "source": [
    "##### Splitting data in train and test sets "
   ]
  },
  {
   "cell_type": "code",
   "execution_count": null,
   "id": "f118aa46",
   "metadata": {},
   "outputs": [],
   "source": [
    "X_train, X_test, y_train, y_test = split(X, y, test_size=0.33)"
   ]
  },
  {
   "cell_type": "markdown",
   "id": "e5be1ea7",
   "metadata": {},
   "source": [
    "##### Encoding"
   ]
  },
  {
   "cell_type": "code",
   "execution_count": null,
   "id": "11ac98a3",
   "metadata": {},
   "outputs": [],
   "source": [
    "target_encoder = LabelEncoder() \n",
    "y_train = pd.Series(target_encoder.fit_transform(y_train)) \n",
    "y_test = pd.Series(target_encoder.transform(y_test))"
   ]
  },
  {
   "cell_type": "markdown",
   "id": "f17e5c91",
   "metadata": {},
   "source": [
    "## Modelling"
   ]
  },
  {
   "cell_type": "markdown",
   "id": "d2749dd5",
   "metadata": {},
   "source": [
    "### Model building"
   ]
  },
  {
   "cell_type": "markdown",
   "id": "418b681f",
   "metadata": {},
   "source": [
    "#### Pipeline building"
   ]
  },
  {
   "cell_type": "markdown",
   "id": "e0d4afba",
   "metadata": {},
   "source": [
    "##### Select the categorical and numerical columns"
   ]
  },
  {
   "cell_type": "code",
   "execution_count": null,
   "id": "275dce2d",
   "metadata": {},
   "outputs": [],
   "source": [
    "cat_selector = make_column_selector(dtype_include=object)"
   ]
  },
  {
   "cell_type": "code",
   "execution_count": null,
   "id": "f394c777",
   "metadata": {},
   "outputs": [],
   "source": [
    "num_selector = make_column_selector(dtype_include=np.number)"
   ]
  },
  {
   "cell_type": "markdown",
   "id": "ca53787a",
   "metadata": {},
   "source": [
    "##### For models based on tree"
   ]
  },
  {
   "cell_type": "code",
   "execution_count": null,
   "id": "ca3968b1",
   "metadata": {},
   "outputs": [],
   "source": [
    "cat_tree_processor = make_pipeline(SimpleImputer(strategy='most_frequent'), OrdinalEncoder(handle_unknown='use_encoded_value', unknown_value=-1))"
   ]
  },
  {
   "cell_type": "code",
   "execution_count": null,
   "id": "82cdf979",
   "metadata": {},
   "outputs": [],
   "source": [
    "num_tree_processor = make_pipeline(SimpleImputer(strategy='mean', add_indicator=True))"
   ]
  },
  {
   "cell_type": "code",
   "execution_count": null,
   "id": "e2d052ad",
   "metadata": {},
   "outputs": [],
   "source": [
    "tree_preprocessor = make_pipeline(make_column_transformer((num_tree_processor, num_selector), (cat_tree_processor, cat_selector)), Decorrelator(threshold_corr))"
   ]
  },
  {
   "cell_type": "markdown",
   "id": "dfe99886",
   "metadata": {},
   "source": [
    "##### For models not based on tree"
   ]
  },
  {
   "cell_type": "code",
   "execution_count": null,
   "id": "6bed242d",
   "metadata": {},
   "outputs": [],
   "source": [
    "cat_ntree_processor = make_pipeline(SimpleImputer(strategy='most_frequent'), OneHotEncoder(handle_unknown='ignore', sparse=False))"
   ]
  },
  {
   "cell_type": "code",
   "execution_count": null,
   "id": "7c18f2d3",
   "metadata": {},
   "outputs": [],
   "source": [
    "num_ntree_processor = make_pipeline(SimpleImputer(strategy='mean', add_indicator=True), StandardScaler())"
   ]
  },
  {
   "cell_type": "code",
   "execution_count": null,
   "id": "326d2223",
   "metadata": {},
   "outputs": [],
   "source": [
    "ntree_preprocessor = make_pipeline(make_column_transformer((num_ntree_processor, num_selector), (cat_ntree_processor, cat_selector)), Decorrelator(threshold_corr))"
   ]
  },
  {
   "cell_type": "markdown",
   "id": "6c41a4dc",
   "metadata": {},
   "source": [
    "##### Level-0 models"
   ]
  },
  {
   "cell_type": "code",
   "execution_count": null,
   "id": "d51d34ca",
   "metadata": {},
   "outputs": [],
   "source": [
    "level_0 = [ \n",
    "          ('RFCG', make_pipeline(tree_preprocessor, RandomForestClassifier(criterion='gini', n_estimators=50))), \n",
    "          ('RFCE', make_pipeline(tree_preprocessor, RandomForestClassifier(criterion='entropy', n_estimators=50))), \n",
    "          ('ABC', make_pipeline(tree_preprocessor, AdaBoostClassifier())), \n",
    "          ('HGBC', make_pipeline(tree_preprocessor, HistGradientBoostingClassifier(early_stopping=True))), \n",
    "          ('SGDCH', make_pipeline(ntree_preprocessor, SGDClassifier(loss='hinge', penalty='elasticnet'))), \n",
    "          ('SGDCLL', make_pipeline(ntree_preprocessor, SGDClassifier(loss='log_loss', penalty='elasticnet'))), \n",
    "          ('SGDCMH', make_pipeline(ntree_preprocessor, SGDClassifier(loss='modified_huber', penalty='elasticnet'))), \n",
    "          ('LOGRL', make_pipeline(ntree_preprocessor, LogisticRegression(solver='lbfgs', penalty='l2'))), \n",
    "          ('LOGRS', make_pipeline(ntree_preprocessor, LogisticRegression(solver='saga', penalty='elasticnet', l1_ratio=0.15))), \n",
    "          ('LOGRLCV', make_pipeline(ntree_preprocessor, LogisticRegressionCV(cv=5, solver='lbfgs', penalty='l2'))), \n",
    "          ('LOGRSCV', make_pipeline(ntree_preprocessor, LogisticRegressionCV(cv=5, solver='saga', penalty='l2'))), \n",
    "          ('SVCL', make_pipeline(ntree_preprocessor, SVC(kernel='linear'))), \n",
    "          ('SVCP', make_pipeline(ntree_preprocessor, SVC(kernel='poly'))), \n",
    "          ('SVCG', make_pipeline(ntree_preprocessor, SVC(kernel='rbf'))), \n",
    "          ('SVCS', make_pipeline(ntree_preprocessor, SVC(kernel='sigmoid'))), \n",
    "          ]"
   ]
  },
  {
   "cell_type": "markdown",
   "id": "f66ed338",
   "metadata": {},
   "source": [
    "##### Level-1 model"
   ]
  },
  {
   "cell_type": "code",
   "execution_count": null,
   "id": "f554c621",
   "metadata": {},
   "outputs": [],
   "source": [
    "level_1 = LogisticRegressionCV(cv=5, solver='saga', penalty='elasticnet', l1_ratios=[0.1, 0.5, 0.9], n_jobs=-1)"
   ]
  },
  {
   "cell_type": "markdown",
   "id": "0ee6a276",
   "metadata": {},
   "source": [
    "##### Stacking for classification"
   ]
  },
  {
   "cell_type": "code",
   "execution_count": null,
   "id": "06b9bc01",
   "metadata": {},
   "outputs": [],
   "source": [
    "model = StackingClassifier(level_0, final_estimator=level_1, n_jobs=-1)"
   ]
  },
  {
   "cell_type": "markdown",
   "id": "e3e018c1",
   "metadata": {},
   "source": [
    "### Model fitting"
   ]
  },
  {
   "cell_type": "code",
   "execution_count": null,
   "id": "336a414b",
   "metadata": {},
   "outputs": [],
   "source": [
    "%%time \n",
    "set_config(display='diagram') \n",
    "model.fit(X_train, y_train)"
   ]
  },
  {
   "cell_type": "markdown",
   "id": "0f7519ce",
   "metadata": {},
   "source": [
    "### Model evaluation"
   ]
  },
  {
   "cell_type": "markdown",
   "id": "ef952b97",
   "metadata": {},
   "source": [
    "#### Model scoring"
   ]
  },
  {
   "cell_type": "code",
   "execution_count": null,
   "id": "7dffac18",
   "metadata": {},
   "outputs": [],
   "source": [
    "score_stack, mod_imp_score = score_stacking(model, X_train, y_train, X_test, y_test)"
   ]
  },
  {
   "cell_type": "markdown",
   "id": "d3446023",
   "metadata": {},
   "source": [
    "#### Model importance"
   ]
  },
  {
   "cell_type": "code",
   "execution_count": null,
   "id": "c26a489b",
   "metadata": {},
   "outputs": [],
   "source": [
    "model_imp = plot_model_importance(model)"
   ]
  },
  {
   "cell_type": "markdown",
   "id": "939b12b5",
   "metadata": {},
   "source": [
    "#### Feature permutation importance (a posteriori)"
   ]
  },
  {
   "cell_type": "code",
   "execution_count": null,
   "id": "a849321b",
   "metadata": {},
   "outputs": [],
   "source": [
    "plot_perm_importance(model, X_test, y_test)"
   ]
  },
  {
   "cell_type": "markdown",
   "id": "d3e15b5e",
   "metadata": {},
   "source": [
    "#### Partial Dependence & Individual Conditional Expectation "
   ]
  },
  {
   "cell_type": "markdown",
   "id": "5d5df5e8",
   "metadata": {},
   "source": [
    "##### Features of interest"
   ]
  },
  {
   "cell_type": "code",
   "execution_count": null,
   "id": "d339fe8d",
   "metadata": {},
   "outputs": [],
   "source": [
    "features_of_interest = []"
   ]
  },
  {
   "cell_type": "code",
   "execution_count": null,
   "id": "1bb385ce",
   "metadata": {},
   "outputs": [],
   "source": [
    "plot_partial_dependence(model, X_train, features_of_interest)"
   ]
  },
  {
   "cell_type": "markdown",
   "id": "233eeedb",
   "metadata": {},
   "source": [
    "#### Classification report"
   ]
  },
  {
   "cell_type": "code",
   "execution_count": null,
   "id": "8ead9cda",
   "metadata": {},
   "outputs": [],
   "source": [
    "K_classification_report(model, X_train, y_train, X_test, y_test)"
   ]
  },
  {
   "cell_type": "markdown",
   "id": "c41bfa3d",
   "metadata": {},
   "source": [
    "#### Confusion matrix"
   ]
  },
  {
   "cell_type": "code",
   "execution_count": null,
   "id": "f6c65336",
   "metadata": {},
   "outputs": [],
   "source": [
    "K_confusion_matrix(model, X_train, y_train, X_test, y_test)"
   ]
  },
  {
   "cell_type": "markdown",
   "id": "400e72e2",
   "metadata": {},
   "source": [
    "### Final Model"
   ]
  },
  {
   "cell_type": "code",
   "execution_count": null,
   "id": "9050647d",
   "metadata": {},
   "outputs": [],
   "source": [
    "threshold_model = 5"
   ]
  },
  {
   "cell_type": "code",
   "execution_count": null,
   "id": "6e4b02da",
   "metadata": {},
   "outputs": [],
   "source": [
    "threshold_score = 0.7"
   ]
  },
  {
   "cell_type": "markdown",
   "id": "41b7eff8",
   "metadata": {},
   "source": [
    "##### Filtered Level-0 models"
   ]
  },
  {
   "cell_type": "code",
   "execution_count": null,
   "id": "546160d5",
   "metadata": {},
   "outputs": [],
   "source": [
    "level_0_f = model_filtering(level_0, model_imp, threshold_model, score_stack, threshold_score)"
   ]
  },
  {
   "cell_type": "markdown",
   "id": "385fc5e8",
   "metadata": {},
   "source": [
    "##### Final Level-1 model"
   ]
  },
  {
   "cell_type": "code",
   "execution_count": null,
   "id": "65852e19",
   "metadata": {},
   "outputs": [],
   "source": [
    "level_1 = LogisticRegressionCV(cv=5, solver='saga', penalty='elasticnet', l1_ratios=[0.1, 0.5, 0.9], n_jobs=-1)"
   ]
  },
  {
   "cell_type": "markdown",
   "id": "69d5de3c",
   "metadata": {},
   "source": [
    "##### Build final model"
   ]
  },
  {
   "cell_type": "code",
   "execution_count": null,
   "id": "f493a4ac",
   "metadata": {},
   "outputs": [],
   "source": [
    "model = StackingClassifier(level_0_f, final_estimator=level_1, n_jobs=-1)"
   ]
  },
  {
   "cell_type": "markdown",
   "id": "e4ebfcef",
   "metadata": {},
   "source": [
    "### Final Model fitting"
   ]
  },
  {
   "cell_type": "code",
   "execution_count": null,
   "id": "81f08c1c",
   "metadata": {},
   "outputs": [],
   "source": [
    "%%time \n",
    "set_config(display='diagram') \n",
    "model.fit(X_train, y_train)"
   ]
  },
  {
   "cell_type": "markdown",
   "id": "29923768",
   "metadata": {},
   "source": [
    "#### Final Model scoring"
   ]
  },
  {
   "cell_type": "code",
   "execution_count": null,
   "id": "03d4d28c",
   "metadata": {},
   "outputs": [],
   "source": [
    "score_stacking(model, X_train, y_train, X_test, y_test)"
   ]
  },
  {
   "cell_type": "markdown",
   "id": "4962c11f",
   "metadata": {},
   "source": [
    "#### Final feature permutation importance"
   ]
  },
  {
   "cell_type": "code",
   "execution_count": null,
   "id": "f028c126",
   "metadata": {},
   "outputs": [],
   "source": [
    "feature_importance = plot_perm_importance(model, X_test, y_test)"
   ]
  },
  {
   "cell_type": "markdown",
   "id": "c23e9442",
   "metadata": {},
   "source": [
    "##### Final feature elimination"
   ]
  },
  {
   "cell_type": "code",
   "execution_count": null,
   "id": "bf90d03c",
   "metadata": {},
   "outputs": [],
   "source": [
    "best_feature, worst_feature = feature_filtering(feature_importance, threshold_feature)"
   ]
  },
  {
   "cell_type": "code",
   "execution_count": null,
   "id": "5f6a07b9",
   "metadata": {},
   "outputs": [],
   "source": [
    "dropped_cols = np.unique(np.concatenate((dropped_cols, worst_feature))).tolist()"
   ]
  },
  {
   "cell_type": "markdown",
   "id": "10edc0c9",
   "metadata": {},
   "source": [
    "#### Check those columns, they should be dropped"
   ]
  },
  {
   "cell_type": "code",
   "execution_count": null,
   "id": "64f10477",
   "metadata": {},
   "outputs": [],
   "source": [
    "print(dropped_cols)"
   ]
  },
  {
   "cell_type": "markdown",
   "id": "395e0d43",
   "metadata": {},
   "source": [
    "#### Final Classification report"
   ]
  },
  {
   "cell_type": "code",
   "execution_count": null,
   "id": "96b83b34",
   "metadata": {},
   "outputs": [],
   "source": [
    "K_classification_report(model, X_train, y_train, X_test, y_test)"
   ]
  },
  {
   "cell_type": "markdown",
   "id": "9f7aa2ac",
   "metadata": {},
   "source": [
    "#### Final Confusion matrix"
   ]
  },
  {
   "cell_type": "code",
   "execution_count": null,
   "id": "acb844d7",
   "metadata": {},
   "outputs": [],
   "source": [
    "K_confusion_matrix(model, X_train, y_train, X_test, y_test)"
   ]
  },
  {
   "cell_type": "markdown",
   "id": "8477f385",
   "metadata": {},
   "source": [
    "## Deployment"
   ]
  },
  {
   "cell_type": "markdown",
   "id": "6eade6a6",
   "metadata": {},
   "source": [
    "### Save your model"
   ]
  },
  {
   "cell_type": "code",
   "execution_count": null,
   "id": "960369ca",
   "metadata": {},
   "outputs": [],
   "source": [
    "model_name = 'model.sav' \n",
    "dump(model, model_name)"
   ]
  },
  {
   "cell_type": "markdown",
   "id": "686ae597",
   "metadata": {},
   "source": [
    "### Generate your server"
   ]
  },
  {
   "cell_type": "code",
   "execution_count": null,
   "id": "baaa5864",
   "metadata": {},
   "outputs": [],
   "source": [
    "fastapi_server(model, 'model.sav', X, y)"
   ]
  },
  {
   "cell_type": "markdown",
   "id": "18d2a7da",
   "metadata": {},
   "source": [
    "### Start your server"
   ]
  },
  {
   "cell_type": "code",
   "execution_count": null,
   "id": "7751b2ad",
   "metadata": {},
   "outputs": [],
   "source": [
    "run server.py"
   ]
  },
  {
   "cell_type": "markdown",
   "id": "20131613",
   "metadata": {},
   "source": [
    "### Test your API at http://127.0.0.1:8000/docs"
   ]
  }
 ],
 "metadata": {
  "kernelspec": {
   "display_name": "EZStacking",
   "language": "python",
   "name": "ezstacking"
  }
 },
 "nbformat": 4,
 "nbformat_minor": 5
}
