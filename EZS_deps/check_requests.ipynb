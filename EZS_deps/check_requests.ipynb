{
 "cells": [
  {
   "cell_type": "code",
   "execution_count": null,
   "id": "1ffd5554-da74-4f26-8e16-dc4c0e9fc042",
   "metadata": {},
   "outputs": [],
   "source": [
    "import pandas as pd\n",
    "pd.set_option('display.max_rows', None)"
   ]
  },
  {
   "cell_type": "code",
   "execution_count": null,
   "id": "fb1d72cb-b512-4465-a9ac-d8979331593a",
   "metadata": {},
   "outputs": [],
   "source": [
    "xls = pd.ExcelFile('./EZStacking_config.ods', engine=\"odf\")\n",
    "meta_package = pd.read_excel(xls, 'meta_package')\n",
    "package_source = pd.read_excel(xls, 'package_source')\n",
    "package = pd.read_excel(xls, 'package')\n",
    "document = pd.read_excel(xls, 'document')"
   ]
  },
  {
   "cell_type": "code",
   "execution_count": null,
   "id": "9af257d6-b6ff-4d96-bb26-3e3d46c035ae",
   "metadata": {},
   "outputs": [],
   "source": [
    "package_source_type = 'full'\n",
    "data_size = 'large'\n",
    "kaggle = True"
   ]
  },
  {
   "cell_type": "code",
   "execution_count": null,
   "id": "cf881870-3dc9-4c60-b573-0f38f765f2b2",
   "metadata": {},
   "outputs": [],
   "source": [
    "pd_pk_import = package_source[(package_source.package_source_type   == package_source_type) &\\\n",
    "                              ((package_source.package_source_kaggle == 'both') | \\\n",
    "                               (package_source.package_source_kaggle == kaggle))\\\n",
    "                             ].merge(meta_package[(meta_package.meta_package_valid == True) & \\\n",
    "                                     ((meta_package.meta_package_data_size == 'both') | \\\n",
    "                                     (meta_package.meta_package_data_size == data_size))], \\\n",
    "                                     left_on  = 'meta_package_index', \\\n",
    "                                     right_on = 'meta_package_index', \\\n",
    "                                     how = 'inner') \\\n",
    "                             [['package_source_index', 'package_source_name', \\\n",
    "                               'package_source_short_name', 'package_source_code']]\n",
    "pd_pk_import"
   ]
  },
  {
   "cell_type": "code",
   "execution_count": null,
   "id": "e072067a-b2d6-49ce-a3f2-86220652a23a",
   "metadata": {},
   "outputs": [],
   "source": [
    "package_source_type = 'partial'\n",
    "data_size = 'small'"
   ]
  },
  {
   "cell_type": "code",
   "execution_count": null,
   "id": "1930eaa4-1a0a-45d1-94dd-9fd5a88a70e2",
   "metadata": {},
   "outputs": [],
   "source": [
    "pd_pk_srce_from = package_source[(package_source.package_source_type == package_source_type)\\\n",
    "                                ].merge(meta_package[(meta_package.meta_package_valid == True) & \\\n",
    "                                         ((meta_package.meta_package_data_size == 'both') | \\\n",
    "                                         (meta_package.meta_package_data_size == data_size))], \\\n",
    "                                        left_on  = 'meta_package_index', \\\n",
    "                                        right_on = 'meta_package_index', \\\n",
    "                                        how = 'inner') \\\n",
    "                                [['package_source_index', 'package_source_name', \\\n",
    "                                  'package_source_short_name', 'package_source_code']] \n",
    "pd_pk_srce_from"
   ]
  },
  {
   "cell_type": "code",
   "execution_count": null,
   "id": "8db769df-2d57-4b86-b743-333b11dbd7b5",
   "metadata": {},
   "outputs": [],
   "source": [
    "problem = 'regression'"
   ]
  },
  {
   "cell_type": "code",
   "execution_count": null,
   "id": "0ea85185-52f8-4cb2-b540-49724acad4f0",
   "metadata": {},
   "outputs": [],
   "source": [
    "pd_pk_from = package[((package.package_problem == 'None') | (package.package_problem == problem)) \\\n",
    "                    ].merge(pd_pk_srce_from, \\\n",
    "                            left_on='package_source_index', \\\n",
    "                            right_on='package_source_index',\\\n",
    "                            how='inner') \\\n",
    "                     .merge(meta_package[(meta_package.meta_package_valid == True) & \\\n",
    "                                         ((meta_package.meta_package_data_size == 'both') | \\\n",
    "                                         (meta_package.meta_package_data_size == data_size))], \\\n",
    "                            left_on  = 'meta_package_index', \\\n",
    "                            right_on = 'meta_package_index', \\\n",
    "                            how = 'inner') \\\n",
    "                [['package_source_index', 'package_source_name', 'package_name']].drop_duplicates()\n",
    "pd_pk_from"
   ]
  },
  {
   "cell_type": "code",
   "execution_count": null,
   "id": "e23116a8-24d4-434c-9ce0-8054d36fa1b5",
   "metadata": {},
   "outputs": [],
   "source": [
    "pd_level_0 = package[(package.package_type == 'estimator') & \\\n",
    "                     (package.package_problem == problem) & \\\n",
    "                     (package.meta_package_index != 'STACK') \\\n",
    "                    ].merge(pd_pk_from, \\\n",
    "                            left_on='package_source_index', \\\n",
    "                            right_on='package_source_index',\\\n",
    "                            how='inner') \\\n",
    "                     .merge(meta_package[(meta_package.meta_package_valid == True) & \\\n",
    "                                         ((meta_package.meta_package_data_size == 'both') | \\\n",
    "                                         (meta_package.meta_package_data_size == data_size))], \\\n",
    "                            left_on  = 'meta_package_index', \\\n",
    "                            right_on = 'meta_package_index', \\\n",
    "                            how = 'inner') \\\n",
    "                    [[ 'package_index', 'package_code', 'meta_package_tree']].drop_duplicates()\n",
    "pd_level_0"
   ]
  },
  {
   "cell_type": "code",
   "execution_count": null,
   "id": "f2df2916-97a5-4f33-b820-78064e29ef67",
   "metadata": {},
   "outputs": [],
   "source": [
    "pd_tree = package[(package.package_type == 'estimator') & \\\n",
    "                  (package.package_problem == problem) & \\\n",
    "                  (package.meta_package_index != 'STACK') \\\n",
    "                 ].merge(pd_pk_from, \\\n",
    "                         left_on='package_source_index', \\\n",
    "                         right_on='package_source_index',\\\n",
    "                         how='inner') \\\n",
    "                  .merge(meta_package[(meta_package.meta_package_tree == True) & \\\n",
    "                                      (meta_package.meta_package_valid == True) & \\\n",
    "                                      ((meta_package.meta_package_data_size == 'both') | \\\n",
    "                                      (meta_package.meta_package_data_size == data_size))], \\\n",
    "                         left_on  = 'meta_package_index', \\\n",
    "                         right_on = 'meta_package_index', \\\n",
    "                         how = 'inner') \\\n",
    "                  [[ 'package_index', 'package_code']].drop_duplicates()\n",
    "pd_tree"
   ]
  },
  {
   "cell_type": "code",
   "execution_count": null,
   "id": "e6b448f5-7929-4954-9cf8-25075efaec6d",
   "metadata": {},
   "outputs": [],
   "source": [
    "pd_document = document[((document.document_problem == 'both') | (document.document_problem == problem)) & \\\n",
    "                       ((document.document_data_size == 'both') | (document.document_data_size == data_size)) & \\\n",
    "                       ((document.document_stacking == 'both') | \\\n",
    "                       (document.document_stacking == \\\n",
    "                        meta_package[meta_package.meta_package_index == 'STACK']\\\n",
    "                        ['meta_package_valid'].tolist()[0]\\\n",
    "                       )) & \\\n",
    "                       ((document.document_keras == 'both') | \\\n",
    "                       (document.document_keras == \\\n",
    "                        meta_package[meta_package.meta_package_index == 'KER']\\\n",
    "                        ['meta_package_valid'].tolist()[0]\\\n",
    "                       )) & \\\n",
    "                       ((document.document_pipeline == 'both') | \\\n",
    "                       (document.document_pipeline == \\\n",
    "                        meta_package[meta_package.meta_package_index == 'PIP']\\\n",
    "                        ['meta_package_valid'].tolist()[0]\\\n",
    "                       )) & \\\n",
    "                       ((document.document_yb == 'both') | \\\n",
    "                       (document.document_yb == \\\n",
    "                        meta_package[meta_package.meta_package_index == 'YB']\\\n",
    "                        ['meta_package_valid'].tolist()[0]\\\n",
    "                       )) \\\n",
    "                      ].merge(meta_package[meta_package.meta_package_valid == True], \\\n",
    "                                           left_on  = 'meta_package_index', \\\n",
    "                                           right_on = 'meta_package_index', \\\n",
    "                                           how = 'inner') \\\n",
    "                      [['sort_key', 'title', 'text', 'code']].sort_values('sort_key') \\\n",
    "                      [['title', 'text', 'code']].drop_duplicates()\n",
    "\n",
    "pd_document"
   ]
  },
  {
   "cell_type": "code",
   "execution_count": null,
   "id": "d92f0d2b-a1d0-439c-a2ca-c98c9b03c903",
   "metadata": {},
   "outputs": [],
   "source": []
  },
  {
   "cell_type": "code",
   "execution_count": null,
   "id": "a76f0ce2-8226-4f0a-ba0a-7982d45afa22",
   "metadata": {},
   "outputs": [],
   "source": []
  }
 ],
 "metadata": {
  "kernelspec": {
   "display_name": "ezstacking",
   "language": "python",
   "name": "ezstacking"
  },
  "language_info": {
   "codemirror_mode": {
    "name": "ipython",
    "version": 3
   },
   "file_extension": ".py",
   "mimetype": "text/x-python",
   "name": "python",
   "nbconvert_exporter": "python",
   "pygments_lexer": "ipython3",
   "version": "3.10.13"
  }
 },
 "nbformat": 4,
 "nbformat_minor": 5
}
