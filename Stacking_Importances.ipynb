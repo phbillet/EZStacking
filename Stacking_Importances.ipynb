{
 "cells": [
  {
   "cell_type": "markdown",
   "id": "b6b3e6d6-595f-4e9d-9316-0f25157d8774",
   "metadata": {},
   "source": [
    "# Stacking & Importances\n",
    "\n",
    "## Introduction\n",
    "D.H. Wolpert wrote in his famous paper \"Stacked Generalization\", that stacked generalization is \"…a scheme for minimizing the generalization error rate of one or more generalizers. Stacked generalization works by deducing the biases of the generalizer(s) with respect to a provided learning set. This deduction proceeds by generalizing in a second space whose inputs are (for example) the guesses of the original generalizers when taught with part of the learning set and trying to guess the rest of it, and whose output is (for example) the correct guess\".\n",
    "\n",
    "Basically, a set of models (called L0 level estimator set) is trained on the train set, then a metamodel (also called L1 level estimator, that can be a regression (linear or logistic) or a decision tree) is trained on test set using predictions of the L0 level estimators. We can say that the stacking is successful when the score of the final estimator is better than the best score of the L0 level estimators.\n",
    "\n",
    "This model can be optimized along two main axes:\n",
    "- the size of L0 level estimator set\n",
    "- the number of features.\n",
    "\n",
    "To reach this goal, we can follow this procedure:\n",
    "- generate an exploratory data analysis, where the correlation analysis indicates which columns must be dropped\n",
    "- build a model using stacked generalization\n",
    "- reduce the size of the L0 level estimator set using model importance (based on the value of the coefficients of the metamodel) \n",
    "- reduce the number of features using permutation feature importance computed on the preceding model\n",
    "- build the final model with the reduced L0 level estimator set and the reduced the number of features\n",
    "- store information about this process in a SQLite [database](https://www.kaggle.com/datasets/philippebillet/stacking-importance).\n",
    "\n",
    "This process is more precisely described in the documentation of [EZStacking](https://github.com/phbillet/EZStacking), that is the tool used to generate my [notebooks](https://www.kaggle.com/philippebillet/code) on Stacking and Importances.\n",
    "\n",
    "The goal of the present notebook is to extract information from the SQLite database to evaluate this process.\n"
   ]
  },
  {
   "cell_type": "markdown",
   "id": "340b0b84-763b-4a96-9dfa-5b9b9bf26d79",
   "metadata": {},
   "source": [
    "## Basic import"
   ]
  },
  {
   "cell_type": "code",
   "execution_count": null,
   "id": "3f9e1cb5-af59-4c03-8345-02c91166f130",
   "metadata": {},
   "outputs": [],
   "source": [
    "import sqlite3\n",
    "import pandas as pd\n",
    "import matplotlib.pyplot as plt \n",
    "from matplotlib.ticker import MaxNLocator"
   ]
  },
  {
   "cell_type": "code",
   "execution_count": null,
   "id": "7269e3d9-3773-4721-9a3c-92e73b9ffc5b",
   "metadata": {},
   "outputs": [],
   "source": [
    "import os\n",
    "for dirname, _, filenames in os.walk('/kaggle/input'):\n",
    "    for filename in filenames:\n",
    "        print(os.path.join(dirname, filename))"
   ]
  },
  {
   "cell_type": "code",
   "execution_count": null,
   "id": "da75bf2d-1e7c-4f58-8bbc-56bb861695c9",
   "metadata": {},
   "outputs": [],
   "source": [
    "# conn = sqlite3.connect('/kaggle/input/stacking-importance/EZS_store.db')\n",
    "conn = sqlite3.connect('/home/philippe/development/python/EZStacking/EZS_deps/EZS_store.db')"
   ]
  },
  {
   "cell_type": "markdown",
   "id": "745f8d9c-01f8-4dba-901c-ae218fbf4e1a",
   "metadata": {},
   "source": [
    "# List of problems"
   ]
  },
  {
   "cell_type": "code",
   "execution_count": null,
   "id": "04155c78-3e33-4bbe-a6a9-9a90f8db1843",
   "metadata": {},
   "outputs": [],
   "source": [
    "sql = \"select name as problem, path as url from problem\"\n",
    "data = pd.read_sql(sql, conn)\n",
    "def make_clickable(val):\n",
    "    # target _blank to open new window\n",
    "    return '<a target=\"_blank\" href=\"{}\">{}</a>'.format(val,val)\n",
    "\n",
    "data.style.format({'url': make_clickable})"
   ]
  },
  {
   "cell_type": "markdown",
   "id": "4badfc69-3380-4d2a-916d-50166b33c219",
   "metadata": {},
   "source": [
    "# Problem repartition\n",
    "\n",
    "How much problems are considered?"
   ]
  },
  {
   "cell_type": "code",
   "execution_count": null,
   "id": "681df451-ed07-4212-88a4-5e46b2f6c78b",
   "metadata": {},
   "outputs": [],
   "source": [
    "sql = \"select type, count(*) as count from problem group by type\"\n",
    "data = pd.read_sql(sql, conn)\n",
    "plt.bar(data['type'], data['count'])\n",
    "plt.title(\"Problem repartition by type\")\n",
    "plt.show()"
   ]
  },
  {
   "cell_type": "markdown",
   "id": "ad2a0c21-c623-4ec6-ad3b-84abcb837cff",
   "metadata": {},
   "source": [
    "# Solutions of problems\n",
    "\n",
    "How many problem solutions were developed?"
   ]
  },
  {
   "cell_type": "code",
   "execution_count": null,
   "id": "e1af281a-dad8-41ca-ac44-206996426720",
   "metadata": {},
   "outputs": [],
   "source": [
    "sql = \"select name, count(*) as count from solution group by name\"\n",
    "data = pd.read_sql(sql, conn)\n",
    "plt.bar(data['name'], data['count'])\n",
    "plt.xticks(rotation='vertical')\n",
    "plt.title(\"Number of solutions per problem\")\n",
    "plt.show()"
   ]
  },
  {
   "cell_type": "markdown",
   "id": "7c454a52-c11c-45a1-8c4d-478267bfd4e4",
   "metadata": {},
   "source": [
    "# Solutions with resampling (in the case of classification problems)\n",
    "\n",
    "If the classes are really imbalanced, it is often necessary to use resampling to reach the goal.\n",
    "\n",
    "Which solutions use resampling?"
   ]
  },
  {
   "cell_type": "code",
   "execution_count": null,
   "id": "a2e5b8e4-43a9-4edc-9f48-d36ff7331557",
   "metadata": {},
   "outputs": [],
   "source": [
    "sql = \"\"\"select distinct P.name as name,\n",
    "                S.resampling as resampling\n",
    "         from problem as P\n",
    "         inner join solution as S\n",
    "            on P.name = S.name\n",
    "         where P.type = 'classification'\n",
    "         and S.resampling = 1\n",
    "         union all\n",
    "         select distinct P.name as name,\n",
    "                S.resampling as resampling\n",
    "         from problem as P\n",
    "         inner join solution as S\n",
    "            on P.name = S.name\n",
    "         where P.type = 'classification'\n",
    "         and S.resampling = 0\n",
    "      \"\"\"\n",
    "\n",
    "data = pd.read_sql(sql, conn)\n",
    "data"
   ]
  },
  {
   "cell_type": "markdown",
   "id": "041d7c33-b05e-4af1-b28b-e1fc2c0b7e10",
   "metadata": {},
   "source": [
    "# Tree or regression, which L1_models are used in the solutions? "
   ]
  },
  {
   "cell_type": "code",
   "execution_count": null,
   "id": "b2aac717-2e98-4fd6-b035-a7b24e2590cf",
   "metadata": {},
   "outputs": [],
   "source": [
    "sql = \"\"\"select name as solution, L1_model, count(*) as count \n",
    "         from (select name, L1_model \n",
    "               from model \n",
    "               group by name, L1_model, version) \n",
    "         group by  name, L1_model\n",
    "      \"\"\"\n",
    "\n",
    "data = pd.read_sql(sql, conn)\n",
    "data"
   ]
  },
  {
   "cell_type": "code",
   "execution_count": null,
   "id": "41023d29-7407-46c9-ab13-d82f255653c8",
   "metadata": {},
   "outputs": [],
   "source": [
    "sql = \"\"\"select reg.name as solution, reg.count as regression, tre.count as tree\n",
    "           from (select name, count(*) as count -- how many regression\n",
    "                 from (select name, L1_model \n",
    "                       from model \n",
    "                       where L1_model = 'regression'\n",
    "                       group by name, L1_model, version) \n",
    "                 group by  name, L1_model) as reg\n",
    "           inner join \n",
    "                 (select name, count(*) as count -- how many tree\n",
    "                 from (select name, L1_model \n",
    "                       from model \n",
    "                       where L1_model = 'tree'\n",
    "                       group by name, L1_model, version) \n",
    "                 group by  name, L1_model) as tre\n",
    "           on reg.name = tre.name\n",
    "        \"\"\"\n",
    "\n",
    "data = pd.read_sql(sql, conn)\n",
    "data.set_index('solution').plot.bar()\n",
    "plt.title(\"L1_models used by solution\")\n",
    "plt.gca().yaxis.set_major_locator(MaxNLocator(integer=True))\n",
    "plt.show()"
   ]
  },
  {
   "cell_type": "markdown",
   "id": "7177714d-6970-4d2d-bef8-ddcf328c718f",
   "metadata": {},
   "source": [
    "# When is the stacking successful?\n",
    "\n",
    "The stacking is successful, when the score of the stacked estimator is greater (resp. greater or equal) than the maximal score of the estimator in level 0 (on test set) in the strong formulation (resp. in the weak formulation).\n",
    "\n",
    "In this part, we only consider the strong formulation."
   ]
  },
  {
   "cell_type": "code",
   "execution_count": null,
   "id": "ef4c9d7c-26b8-496a-acfb-c8db9db160f2",
   "metadata": {},
   "outputs": [],
   "source": [
    "sql = \"\"\"select A.name, A.version, A.step\n",
    "        from (select name, version, step, max(test_score) as max_test_score \n",
    "              from model_score where model not in ('Stack') \n",
    "              group by name, version, step) as A\n",
    "        inner join \n",
    "             (select name, version, step, test_score as stack_score \n",
    "              from model_score \n",
    "              where model = 'Stack') as B\n",
    "        on A.name = B.name\n",
    "        and A.version = B.version\n",
    "        and A.step = B.step\n",
    "        where A.max_test_score < B.stack_score\n",
    "        group by A.name, A.version, A.step\n",
    "      \"\"\" \n",
    "\n",
    "data = pd.read_sql(sql, conn)\n",
    "data"
   ]
  },
  {
   "cell_type": "markdown",
   "id": "fc6313a8-3040-477a-8f56-d07e1b833c02",
   "metadata": {},
   "source": [
    "## For which problems did stacking work?"
   ]
  },
  {
   "cell_type": "code",
   "execution_count": null,
   "id": "903059c9-2d04-48e2-9a71-a71ab672f108",
   "metadata": {},
   "outputs": [],
   "source": [
    "sql = \"\"\"select name as problem\n",
    "          from problem\n",
    "          where name in (\n",
    "                select distinct A.name\n",
    "                from (select name, version, step, max(test_score) as max_test_score \n",
    "                      from model_score where model not in ('Stack') \n",
    "                      group by name, version, step) as A\n",
    "                inner join \n",
    "                     (select name, version, step, test_score as stack_score \n",
    "                      from model_score \n",
    "                      where model = 'Stack') as B\n",
    "                on A.name = B.name\n",
    "                and A.version = B.version\n",
    "                and A.step = B.step\n",
    "                where A.max_test_score < B.stack_score)\n",
    "        \"\"\"\n",
    "\n",
    "data = pd.read_sql(sql, conn)\n",
    "data"
   ]
  },
  {
   "cell_type": "markdown",
   "id": "cd8c487b-ea58-490b-ae17-d79ab848fd47",
   "metadata": {},
   "source": [
    "## For which problems did stacking not work?"
   ]
  },
  {
   "cell_type": "code",
   "execution_count": null,
   "id": "0ac9ebcf-8632-4fb1-a446-8ddc8dcfa69a",
   "metadata": {},
   "outputs": [],
   "source": [
    "sql = \"\"\"select name as problem\n",
    "          from problem\n",
    "          where name not in (\n",
    "                select  distinct A.name\n",
    "                from (select name, version, step, max(test_score) as max_test_score \n",
    "                      from model_score where model not in ('Stack') \n",
    "                      group by name, version, step) as A\n",
    "                inner join \n",
    "                     (select name, version, step, test_score as stack_score \n",
    "                      from model_score \n",
    "                      where model = 'Stack') as B\n",
    "                on A.name = B.name\n",
    "                and A.version = B.version\n",
    "                and A.step = B.step\n",
    "                where A.max_test_score < B.stack_score)\n",
    "        \"\"\"\n",
    "\n",
    "data = pd.read_sql(sql, conn)\n",
    "data"
   ]
  },
  {
   "cell_type": "markdown",
   "id": "1a3dadd7-927e-476a-9e24-7a9f9168dc2c",
   "metadata": {},
   "source": [
    "# Successful stacking ratio\n",
    "\n",
    "For a given problem, the successful stacking ratio is defined by: $SSR=\\frac{NSS}{M}$\n",
    "\n",
    "Where:\n",
    "- number of model such that stacking is successful: $NSS$\n",
    "- number of model: $M$\n",
    "\n",
    "### Strong formulation"
   ]
  },
  {
   "cell_type": "code",
   "execution_count": null,
   "id": "bc8a50b7-a13c-40f7-97ba-288312dd4916",
   "metadata": {},
   "outputs": [],
   "source": [
    "sql = \"\"\"select total.name, ifnull((cast(stack.count as real)/cast(total.count as real)),0) as ratio\n",
    "         from (select name, count(*) as count -- How many models per problem?\n",
    "               from model\n",
    "               group by name) as total\n",
    "         left outer join\n",
    "              (select A.name, count(*) as count -- How many models such that stacking worked per problem?\n",
    "               from (select name, version, step, max(test_score) as max_test_score \n",
    "                     from model_score \n",
    "                     where model not in ('Stack') \n",
    "                     group by name, version, step) as A\n",
    "               inner join \n",
    "                    (select name, version, step, test_score as stack_score \n",
    "                     from model_score \n",
    "                     where model = 'Stack') as B\n",
    "               on A.name = B.name\n",
    "               and A.version = B.version\n",
    "               and A.step = B.step\n",
    "               where A.max_test_score < B.stack_score\n",
    "               group by A.name) as stack\n",
    "         on total.name = stack.name\n",
    "         order by ratio desc\n",
    "      \"\"\"\n",
    "\n",
    "data = pd.read_sql(sql, conn)\n",
    "plt.bar(data['name'], data['ratio'])\n",
    "plt.xticks(rotation='vertical')\n",
    "plt.title(\"Successful stacking ratio - Strong formulation\")\n",
    "plt.show()"
   ]
  },
  {
   "cell_type": "markdown",
   "id": "beadc61a-d103-425f-b2b9-4c5d036a0d85",
   "metadata": {},
   "source": [
    "### Weak formulation"
   ]
  },
  {
   "cell_type": "code",
   "execution_count": null,
   "id": "9a841d36-4168-4221-8f34-3bce191c1d68",
   "metadata": {},
   "outputs": [],
   "source": [
    "sql = \"\"\"select total.name, ifnull((cast(stack.count as real)/cast(total.count as real)),0) as ratio\n",
    "         from (select name, count(*) as count -- How many models per problem?\n",
    "               from model\n",
    "               group by name) as total\n",
    "         left outer join\n",
    "              (select A.name, count(*) as count -- How many models such that stacking worked per problem?\n",
    "               from (select name, version, step, max(test_score) as max_test_score \n",
    "                     from model_score \n",
    "                     where model not in ('Stack') \n",
    "                     group by name, version, step) as A\n",
    "               inner join \n",
    "                    (select name, version, step, test_score as stack_score \n",
    "                     from model_score \n",
    "                     where model = 'Stack') as B\n",
    "               on A.name = B.name\n",
    "               and A.version = B.version\n",
    "               and A.step = B.step\n",
    "               where A.max_test_score <= B.stack_score\n",
    "               group by A.name) as stack\n",
    "         on total.name = stack.name\n",
    "         order by ratio desc\n",
    "      \"\"\"\n",
    "\n",
    "data = pd.read_sql(sql, conn)\n",
    "plt.bar(data['name'], data['ratio'])\n",
    "plt.xticks(rotation='vertical')\n",
    "plt.title(\"Successful stacking ratio - Weak formulation\")\n",
    "plt.show()"
   ]
  },
  {
   "cell_type": "markdown",
   "id": "ff62b0b2-1324-4c47-ae77-2fd610daae92",
   "metadata": {},
   "source": [
    "# Successfull stacking count in each step\n",
    "\n",
    "It is also interesting to see at which step the stacking worked.\n",
    "\n",
    "On the following graphic, for each problem, we can see:\n",
    "- the total number of solution\n",
    "- the number of successful stacking model at the step 1\n",
    "- the number of successful stacking model at the step 2\n",
    "- the number of successful stacking model at the step 3\n",
    "\n",
    "## First solution: with joins\n",
    "### Strong formulation"
   ]
  },
  {
   "cell_type": "code",
   "execution_count": null,
   "id": "ba686dd6-b793-4be8-bf5e-0c32fade7451",
   "metadata": {},
   "outputs": [],
   "source": [
    "sql = \"\"\"select total.name as problem, total.count as total, step_1.count as step1, step_2.count as step2, step_3.count as step3\n",
    "         from\n",
    "          (select name, count(*) as count\n",
    "           from solution\n",
    "           group by name) as total\n",
    "         inner join  \n",
    "          (select total.name, ifnull(stack.count, 0) as count\n",
    "           from (select name, count(*) as count -- How many models per problem?\n",
    "                 from solution\n",
    "                 group by name) as total\n",
    "           left outer join\n",
    "                (select A.name, count(*) as count -- How many models such that stacking worked per problem?\n",
    "                 from (select name, version, step, max(test_score) as max_test_score \n",
    "                       from model_score \n",
    "                       where model not in ('Stack') \n",
    "                       group by name, version, step) as A\n",
    "                inner join \n",
    "                       (select name, version, step, test_score as stack_score \n",
    "                        from model_score \n",
    "                        where model = 'Stack') as B\n",
    "                on A.name = B.name\n",
    "                and A.version = B.version\n",
    "                and A.step = B.step\n",
    "                where A.max_test_score < B.stack_score\n",
    "                and A.step = 1\n",
    "                group by A.name) as stack\n",
    "           on total.name = stack.name\n",
    "           order by count desc) as step_1\n",
    "         inner join\n",
    "          (select total.name, ifnull(stack.count, 0) as count\n",
    "           from (select name, count(*) as count -- How many models per problem?\n",
    "                 from solution\n",
    "                 group by name) as total\n",
    "           left outer join\n",
    "                (select A.name, count(*) as count -- How many models such that stacking worked per problem?\n",
    "                 from (select name, version, step, max(test_score) as max_test_score \n",
    "                       from model_score \n",
    "                       where model not in ('Stack') \n",
    "                       group by name, version, step) as A\n",
    "                inner join \n",
    "                       (select name, version, step, test_score as stack_score \n",
    "                        from model_score \n",
    "                        where model = 'Stack') as B\n",
    "                on A.name = B.name\n",
    "                and A.version = B.version\n",
    "                and A.step = B.step\n",
    "                where A.max_test_score < B.stack_score\n",
    "                and A.step = 2\n",
    "                group by A.name) as stack\n",
    "           on total.name = stack.name\n",
    "           order by count desc) as step_2\n",
    "         inner join\n",
    "          (select total.name, ifnull(stack.count, 0) as count\n",
    "           from (select name, count(*) as count -- How many models per problem?\n",
    "                 from solution\n",
    "                 group by name) as total\n",
    "           left outer join\n",
    "                (select A.name, count(*) as count -- How many models such that stacking worked per problem?\n",
    "                 from (select name, version, step, max(test_score) as max_test_score \n",
    "                       from model_score \n",
    "                       where model not in ('Stack') \n",
    "                       group by name, version, step) as A\n",
    "                inner join \n",
    "                       (select name, version, step, test_score as stack_score \n",
    "                        from model_score \n",
    "                        where model = 'Stack') as B\n",
    "                on A.name = B.name\n",
    "                and A.version = B.version\n",
    "                and A.step = B.step\n",
    "                where A.max_test_score < B.stack_score\n",
    "                and A.step = 3\n",
    "                group by A.name) as stack\n",
    "           on total.name = stack.name\n",
    "           order by count desc) as step_3\n",
    "         on step_1.name = step_2.name\n",
    "         and step_1.name = step_3.name\n",
    "         and total.name = step_1.name\n",
    "      \"\"\"\n",
    "\n",
    "data = pd.read_sql(sql, conn)\n",
    "data_1_strong = data.copy()\n",
    "data.set_index('problem').plot.bar()\n",
    "plt.title(\"Successfull stacking count in each step - Strong formulation\")\n",
    "plt.show()"
   ]
  },
  {
   "cell_type": "markdown",
   "id": "1828cb1b-8431-4c45-8f14-3b5d12a84832",
   "metadata": {},
   "source": [
    "### Weak formulation"
   ]
  },
  {
   "cell_type": "code",
   "execution_count": null,
   "id": "46dcd159-2e69-4c0c-81d6-cbda48c561ff",
   "metadata": {},
   "outputs": [],
   "source": [
    "sql = \"\"\"select total.name as problem, total.count as total, step_1.count as step1, step_2.count as step2, step_3.count as step3\n",
    "         from\n",
    "          (select name, count(*) as count\n",
    "           from solution\n",
    "           group by name) as total\n",
    "         inner join  \n",
    "          (select total.name, ifnull(stack.count, 0) as count\n",
    "           from (select name, count(*) as count -- How many models per problem?\n",
    "                 from solution\n",
    "                 group by name) as total\n",
    "           left outer join\n",
    "                (select A.name, count(*) as count -- How many models such that stacking worked per problem?\n",
    "                 from (select name, version, step, max(test_score) as max_test_score \n",
    "                       from model_score \n",
    "                       where model not in ('Stack') \n",
    "                       group by name, version, step) as A\n",
    "                inner join \n",
    "                       (select name, version, step, test_score as stack_score \n",
    "                        from model_score \n",
    "                        where model = 'Stack') as B\n",
    "                on A.name = B.name\n",
    "                and A.version = B.version\n",
    "                and A.step = B.step\n",
    "                where A.max_test_score <= B.stack_score\n",
    "                and A.step = 1\n",
    "                group by A.name) as stack\n",
    "           on total.name = stack.name\n",
    "           order by count desc) as step_1\n",
    "         inner join\n",
    "          (select total.name, ifnull(stack.count, 0) as count\n",
    "           from (select name, count(*) as count -- How many models per problem?\n",
    "                 from solution\n",
    "                 group by name) as total\n",
    "           left outer join\n",
    "                (select A.name, count(*) as count -- How many models such that stacking worked per problem?\n",
    "                 from (select name, version, step, max(test_score) as max_test_score \n",
    "                       from model_score \n",
    "                       where model not in ('Stack') \n",
    "                       group by name, version, step) as A\n",
    "                inner join \n",
    "                       (select name, version, step, test_score as stack_score \n",
    "                        from model_score \n",
    "                        where model = 'Stack') as B\n",
    "                on A.name = B.name\n",
    "                and A.version = B.version\n",
    "                and A.step = B.step\n",
    "                where A.max_test_score <= B.stack_score\n",
    "                and A.step = 2\n",
    "                group by A.name) as stack\n",
    "           on total.name = stack.name\n",
    "           order by count desc) as step_2\n",
    "         inner join\n",
    "          (select total.name, ifnull(stack.count, 0) as count\n",
    "           from (select name, count(*) as count -- How many models per problem?\n",
    "                 from solution\n",
    "                 group by name) as total\n",
    "           left outer join\n",
    "                (select A.name, count(*) as count -- How many models such that stacking worked per problem?\n",
    "                 from (select name, version, step, max(test_score) as max_test_score \n",
    "                       from model_score \n",
    "                       where model not in ('Stack') \n",
    "                       group by name, version, step) as A\n",
    "                inner join \n",
    "                       (select name, version, step, test_score as stack_score \n",
    "                        from model_score \n",
    "                        where model = 'Stack') as B\n",
    "                on A.name = B.name\n",
    "                and A.version = B.version\n",
    "                and A.step = B.step\n",
    "                where A.max_test_score <= B.stack_score\n",
    "                and A.step = 3\n",
    "                group by A.name) as stack\n",
    "           on total.name = stack.name\n",
    "           order by count desc) as step_3\n",
    "         on step_1.name = step_2.name\n",
    "         and step_1.name = step_3.name\n",
    "         and total.name = step_1.name\n",
    "      \"\"\"\n",
    "\n",
    "data = pd.read_sql(sql, conn)\n",
    "data_1_weak = data.copy()\n",
    "data.set_index('problem').plot.bar()\n",
    "plt.title(\"Successfull stacking count in each step - Weak formulation\")\n",
    "plt.show()"
   ]
  },
  {
   "cell_type": "markdown",
   "id": "382975c2-43f1-4c40-8905-be7b37d7a9ad",
   "metadata": {},
   "source": [
    "## Second solution: with views\n",
    "\n",
    "The preceding example uses complex and hard to maintain requests.\n",
    "To address this problem, two views have been added:\n",
    "\n",
    "- ```solution_ext```: this view can be viewed as an redefinition of the table solution\n",
    "```\n",
    "select name, version, L1_model\n",
    "from model\n",
    "group by name, version, L1_model\n",
    "order by name\n",
    "```"
   ]
  },
  {
   "cell_type": "code",
   "execution_count": null,
   "id": "83ecbe40-ca3e-4570-8e28-5d74002a40a7",
   "metadata": {},
   "outputs": [],
   "source": [
    "sql = \"select * from solution_ext\"\n",
    "data = pd.read_sql(sql, conn)\n",
    "data.head()"
   ]
  },
  {
   "cell_type": "markdown",
   "id": "bf5b6d9b-48e8-48f3-9c13-bbbea649b808",
   "metadata": {},
   "source": [
    "- ```stack_ok```: this view returns models (_i.e._ described by their name, version, step) and also their L1_model, and a status which indicates if the stacking result is 'strong'  (in case of strict inequality) or 'soft' (in case of equality). It means that for the strong formulation (resp. the weak formulation) a simple predicate like ```status = 'strong'``` is sufficient (resp. no specific predicate).\n",
    "```\n",
    "select A.name, A.version, A.step, C.L1_model, 'strong' as status\n",
    "        from (select name, version, step, max(test_score) as max_test_score \n",
    "              from model_score where model not in ('Stack') \n",
    "              group by name, version, step) as A\n",
    "        inner join \n",
    "             (select name, version, step, test_score as stack_score \n",
    "              from model_score \n",
    "              where model = 'Stack') as B\n",
    "        on A.name = B.name\n",
    "        and A.version = B.version\n",
    "        and A.step = B.step\n",
    "        inner join \n",
    "            model as C\n",
    "            on A.name = C.name\n",
    "            and A.version = C.version\n",
    "        where A.max_test_score < B.stack_score\n",
    "        group by A.name, A.version, A.step\n",
    "union all\n",
    "select A.name, A.version, A.step, C.L1_model, 'soft' as status\n",
    "        from (select name, version, step, max(test_score) as max_test_score \n",
    "              from model_score where model not in ('Stack') \n",
    "              group by name, version, step) as A\n",
    "        inner join \n",
    "             (select name, version, step, test_score as stack_score \n",
    "              from model_score \n",
    "              where model = 'Stack') as B\n",
    "        on A.name = B.name\n",
    "        and A.version = B.version\n",
    "        and A.step = B.step\n",
    "        inner join \n",
    "            model as C\n",
    "            on A.name = C.name\n",
    "            and A.version = C.version\n",
    "        where A.max_test_score = B.stack_score\n",
    "        group by A.name, A.version, A.step\n",
    "order by A.name, A.version\n",
    "```"
   ]
  },
  {
   "cell_type": "code",
   "execution_count": null,
   "id": "94bbc6ec-44d2-498d-bcaa-a6efc8de6eb6",
   "metadata": {},
   "outputs": [],
   "source": [
    "sql = \"select * from stack_ok\"\n",
    "data = pd.read_sql(sql, conn)\n",
    "data.head()"
   ]
  },
  {
   "cell_type": "markdown",
   "id": "3889c543-2d41-4e67-b2b8-172e016e2e84",
   "metadata": {},
   "source": [
    "### Strong formulation"
   ]
  },
  {
   "cell_type": "code",
   "execution_count": null,
   "id": "562ee877-5567-42f0-aea6-ceb5b51290af",
   "metadata": {},
   "outputs": [],
   "source": [
    "sql = \"\"\" select total.name as problem, total.count as total, ifnull(step_1.count, 0) as step1, ifnull(step_2.count, 0) as step2, ifnull(step_3.count, 0) as step3\n",
    "          from (select name, count(*) as count\n",
    "                from solution_ext\n",
    "                group by name) as total\n",
    "          left outer join \n",
    "               (select name, count(*) as count\n",
    "                from stack_ok\n",
    "                where stack_ok.step = 1\n",
    "                and status = 'strong'\n",
    "                group by name) as step_1\n",
    "          on total.name = step_1.name\n",
    "          left outer join \n",
    "               (select name, count(*) as count\n",
    "                from stack_ok\n",
    "                where stack_ok.step = 2\n",
    "                and status = 'strong'\n",
    "                group by name) as step_2\n",
    "          on total.name = step_2.name\n",
    "          left outer join \n",
    "              (select name, count(*) as count\n",
    "               from stack_ok\n",
    "               where stack_ok.step = 3\n",
    "                and status = 'strong'\n",
    "               group by name) as step_3\n",
    "          on total.name = step_3.name\n",
    "     \"\"\"\n",
    "data = pd.read_sql(sql, conn)\n",
    "data_2_strong = data.copy()\n",
    "data.set_index('problem').plot.bar()\n",
    "plt.title(\"Successfull stacking count in each step - Weak formulation\")\n",
    "plt.show()"
   ]
  },
  {
   "cell_type": "markdown",
   "id": "75240242-e60f-4e06-94bc-89149b0f59fd",
   "metadata": {},
   "source": [
    "### Weak formulation"
   ]
  },
  {
   "cell_type": "code",
   "execution_count": null,
   "id": "022dd604-7fb2-4857-83ca-5e9630f37a54",
   "metadata": {},
   "outputs": [],
   "source": [
    "sql = \"\"\" select total.name as problem, total.count as total, ifnull(step_1.count, 0) as step1, ifnull(step_2.count, 0) as step2, ifnull(step_3.count, 0) as step3\n",
    "          from (select name, count(*) as count\n",
    "                from solution_ext\n",
    "                group by name) as total\n",
    "          left outer join \n",
    "               (select name, count(*) as count\n",
    "                from stack_ok\n",
    "                where stack_ok.step = 1\n",
    "                group by name) as step_1\n",
    "          on total.name = step_1.name\n",
    "          left outer join \n",
    "               (select name, count(*) as count\n",
    "                from stack_ok\n",
    "                where stack_ok.step = 2\n",
    "                group by name) as step_2\n",
    "          on total.name = step_2.name\n",
    "          left outer join \n",
    "              (select name, count(*) as count\n",
    "               from stack_ok\n",
    "               where stack_ok.step = 3\n",
    "               group by name) as step_3\n",
    "          on total.name = step_3.name\n",
    "     \"\"\"\n",
    "data = pd.read_sql(sql, conn)\n",
    "data_2_weak = data.copy()\n",
    "data.set_index('problem').plot.bar()\n",
    "plt.title(\"Successfull stacking count in each step - Weak formulation\")\n",
    "plt.show()"
   ]
  },
  {
   "cell_type": "markdown",
   "id": "4895a376-29dc-4b35-b6cd-dec11efd943a",
   "metadata": {},
   "source": [
    "The following problems:\n",
    "- Liver disease prediction\n",
    "- concrete\n",
    "- water quality\n",
    "- water quality 2 \n",
    "and to a lesser extent the problem:\n",
    "- Critical Heat Flux \n",
    "benefit from the optimization process, because no solution were found at step1 and at least one solution at step3.\n",
    "\n",
    "The problems Pumkin Seeds and iris do not benefit."
   ]
  },
  {
   "cell_type": "markdown",
   "id": "8db3f2bf-53f9-42e7-8411-b29d54c0efab",
   "metadata": {},
   "source": [
    "## Check if the two versions are equivalent"
   ]
  },
  {
   "cell_type": "code",
   "execution_count": null,
   "id": "83af9957-2758-4d5b-9026-e4c881899aa3",
   "metadata": {},
   "outputs": [],
   "source": [
    "data_1_strong.compare(data_2_strong)"
   ]
  },
  {
   "cell_type": "code",
   "execution_count": null,
   "id": "abb4da57-aff9-41db-af71-7df0162de78d",
   "metadata": {},
   "outputs": [],
   "source": [
    "data_1_weak.compare(data_2_weak)"
   ]
  },
  {
   "cell_type": "markdown",
   "id": "0cccd258-a58e-43a5-99f5-be04546b5a72",
   "metadata": {},
   "source": [
    "No differences detected."
   ]
  },
  {
   "cell_type": "markdown",
   "id": "1db9dfa7-5e75-4d38-a81f-53856a9cd2ce",
   "metadata": {
    "tags": []
   },
   "source": [
    "# Tree vs. Regression\n",
    "\n",
    "This part is limited to weak formulation."
   ]
  },
  {
   "cell_type": "markdown",
   "id": "e1e22bdf-d08c-485d-9a7a-127c789597cf",
   "metadata": {},
   "source": [
    "### Tree"
   ]
  },
  {
   "cell_type": "code",
   "execution_count": null,
   "id": "a1128147-1573-4046-aaa9-0d52c42d6a68",
   "metadata": {},
   "outputs": [],
   "source": [
    "sql = \"\"\" select total.name as problem, total.count as total, ifnull(step_1.count, 0) as step_1, ifnull(step_2.count, 0) as step_2, ifnull(step_3.count, 0) as step_3\n",
    "          from (select name, count(*) as count\n",
    "                from solution_ext\n",
    "                group by name) as total\n",
    "          left outer join \n",
    "               (select name, count(*) as count\n",
    "                from stack_ok\n",
    "                where stack_ok.step = 1\n",
    "                and L1_model = 'tree'\n",
    "                group by name) as step_1\n",
    "          on total.name = step_1.name\n",
    "          left outer join \n",
    "               (select name, count(*) as count\n",
    "                from stack_ok\n",
    "                where stack_ok.step = 2\n",
    "                and L1_model = 'tree'\n",
    "                group by name) as step_2\n",
    "          on total.name = step_2.name\n",
    "          left outer join \n",
    "               (select name, count(*) as count\n",
    "                from stack_ok\n",
    "                where stack_ok.step = 3\n",
    "                and L1_model = 'tree'\n",
    "                group by name) as step_3\n",
    "          on total.name = step_3.name\n",
    "     \"\"\"\n",
    "data = pd.read_sql(sql, conn)\n",
    "data.set_index('problem').plot.bar()\n",
    "plt.title(\"Successfull stacking count in each step - L1_model is a tree\")\n",
    "plt.show()"
   ]
  },
  {
   "cell_type": "markdown",
   "id": "9da5d0d1-c6ef-475f-a9d4-4421a78ef36b",
   "metadata": {},
   "source": [
    "### Regression"
   ]
  },
  {
   "cell_type": "code",
   "execution_count": null,
   "id": "ef2585ca-1805-49c3-b4bb-bddbed899ed0",
   "metadata": {},
   "outputs": [],
   "source": [
    "sql = \"\"\" select total.name as problem, total.count as total, ifnull(step_1.count, 0) as step_1, ifnull(step_2.count, 0) as step_2, ifnull(step_3.count, 0) as step_3\n",
    "          from (select name, count(*) as count\n",
    "                from solution_ext\n",
    "                group by name) as total\n",
    "          left outer join \n",
    "               (select name, count(*) as count\n",
    "                from stack_ok\n",
    "                where stack_ok.step = 1\n",
    "                and L1_model = 'regression'\n",
    "                group by name) as step_1\n",
    "          on total.name = step_1.name\n",
    "          left outer join \n",
    "               (select name, count(*) as count\n",
    "                from stack_ok\n",
    "                where stack_ok.step = 2\n",
    "                and L1_model = 'regression'\n",
    "                group by name) as step_2\n",
    "          on total.name = step_2.name\n",
    "          left outer join \n",
    "               (select name, count(*) as count\n",
    "                from stack_ok\n",
    "                where stack_ok.step = 3\n",
    "                and L1_model = 'regression'\n",
    "                group by name) as step_3\n",
    "          on total.name = step_3.name\n",
    "     \"\"\"\n",
    "data = pd.read_sql(sql, conn)\n",
    "data.set_index('problem').plot.bar()\n",
    "plt.title(\"Successfull stacking count in each step - L1_model is a regression\")\n",
    "plt.show()"
   ]
  },
  {
   "cell_type": "markdown",
   "id": "3cc19fd9-40f3-4cde-a55b-198bdbfadf57",
   "metadata": {},
   "source": [
    "# Influence of the score threshold \n",
    "\n",
    "For each of the successful stacked models (based on weak formulation), let's see which value of the score threshold was used."
   ]
  },
  {
   "cell_type": "code",
   "execution_count": null,
   "id": "2ea6e863-348b-471b-88f6-7125f23f9926",
   "metadata": {},
   "outputs": [],
   "source": [
    "sql = \"\"\"select solution.score as score, count(*) as count\n",
    "         from\n",
    "           (select A.name, A.version, A.step\n",
    "            from (select name, version, step, max(test_score) as max_test_score \n",
    "                  from model_score where model not in ('Stack') \n",
    "                  group by name, version, step) as A\n",
    "            inner join \n",
    "                 (select name, version, step, test_score as stack_score \n",
    "                  from model_score \n",
    "                  where model = 'Stack') as B\n",
    "            on A.name = B.name\n",
    "            and A.version = B.version\n",
    "            and A.step = B.step\n",
    "            where A.max_test_score <= B.stack_score\n",
    "            group by A.name, A.version, A.step) as stack\n",
    "         inner join\n",
    "            solution\n",
    "         on stack.name = solution.name\n",
    "         and stack.version = solution.version\n",
    "         group by solution.score\n",
    "      \"\"\" \n",
    "\n",
    "data = pd.read_sql(sql, conn)\n",
    "data.set_index('score').plot.bar()\n",
    "# plt.xticks(rotation='vertical')\n",
    "plt.title(\"Score threshold repartition - Weak formulation\")\n",
    "plt.show()"
   ]
  },
  {
   "cell_type": "markdown",
   "id": "a8cb38f8-1e6f-48ac-93ed-8ca28cd75feb",
   "metadata": {},
   "source": [
    "The default value of the score threshold is 0.7 (that is not a real good score for an estimator). Here, for some problems. to reach the successful stacking, it have been sometimes necessary to used low threshold (less than 0.5), that is _very low_.\n",
    "\n",
    "Let's see which problems used these low threshold:"
   ]
  },
  {
   "cell_type": "code",
   "execution_count": null,
   "id": "c891bb31-f378-4331-a845-58fd64db494e",
   "metadata": {},
   "outputs": [],
   "source": [
    "sql = \"\"\"select solution.name as problem, solution.score as score_threshold\n",
    "         from\n",
    "           (select A.name, A.version, A.step\n",
    "            from (select name, version, step, max(test_score) as max_test_score \n",
    "                  from model_score where model not in ('Stack') \n",
    "                  group by name, version, step) as A\n",
    "            inner join \n",
    "                 (select name, version, step, test_score as stack_score \n",
    "                  from model_score \n",
    "                  where model = 'Stack') as B\n",
    "            on A.name = B.name\n",
    "            and A.version = B.version\n",
    "            and A.step = B.step\n",
    "            where A.max_test_score <= B.stack_score\n",
    "            group by A.name, A.version, A.step) as stack\n",
    "         inner join\n",
    "            solution\n",
    "         on stack.name = solution.name\n",
    "         and stack.version = solution.version\n",
    "         where solution.score <= 0.5\n",
    "         group by solution.score\n",
    "      \"\"\" \n",
    "\n",
    "data = pd.read_sql(sql, conn)\n",
    "data"
   ]
  },
  {
   "cell_type": "markdown",
   "id": "806eec39-03e5-4f83-b39d-b7afc7ba44a7",
   "metadata": {},
   "source": [
    "Similary, which problems used high threshold (greater than 0.8):"
   ]
  },
  {
   "cell_type": "code",
   "execution_count": null,
   "id": "590eac40-a14b-4d8e-a46b-50a330cf476a",
   "metadata": {},
   "outputs": [],
   "source": [
    "sql = \"\"\"select solution.name as problem, solution.score as score_threshold\n",
    "         from\n",
    "           (select A.name, A.version, A.step\n",
    "            from (select name, version, step, max(test_score) as max_test_score \n",
    "                  from model_score where model not in ('Stack') \n",
    "                  group by name, version, step) as A\n",
    "            inner join \n",
    "                 (select name, version, step, test_score as stack_score \n",
    "                  from model_score \n",
    "                  where model = 'Stack') as B\n",
    "            on A.name = B.name\n",
    "            and A.version = B.version\n",
    "            and A.step = B.step\n",
    "            where A.max_test_score <= B.stack_score\n",
    "            group by A.name, A.version, A.step) as stack\n",
    "         inner join\n",
    "            solution\n",
    "         on stack.name = solution.name\n",
    "         and stack.version = solution.version\n",
    "         where solution.score >= 0.8\n",
    "         group by solution.score\n",
    "      \"\"\" \n",
    "\n",
    "data = pd.read_sql(sql, conn)\n",
    "data"
   ]
  },
  {
   "cell_type": "markdown",
   "id": "5a72650b-b96c-42e3-9bce-19c1f95b733a",
   "metadata": {},
   "source": [
    "In fact, the only problem needing a low threshold is the [Franck-Hertz's problem](https://www.kaggle.com/code/philippebillet/franck-hertz-stacking-and-model-importance)."
   ]
  },
  {
   "cell_type": "markdown",
   "id": "fb1555d5-50bb-4967-88a9-067ada38bfdd",
   "metadata": {},
   "source": [
    "# Model rankings\n",
    "\n",
    "In this part the notion of step is not taking in account, we only consider overall rankings (counting how many times the model is the best).\n",
    "\n",
    "## According to their score\n",
    "\n",
    "### Classification problems"
   ]
  },
  {
   "cell_type": "code",
   "execution_count": null,
   "id": "27cb5ed4-8ed6-4270-8da7-e835de071c77",
   "metadata": {},
   "outputs": [],
   "source": [
    "sql = \"\"\" select model, count(*) as count\n",
    "          from (select model, max(test_score)\n",
    "                from model_score\n",
    "                where model != 'Stack'\n",
    "                and name in (select name\n",
    "                             from problem\n",
    "                             where type = 'classification')\n",
    "                group by name, version)\n",
    "          group by model\n",
    "          order by count desc\n",
    "      \"\"\" \n",
    "\n",
    "data = pd.read_sql(sql, conn)\n",
    "plt.bar(data['model'], data['count'])\n",
    "plt.xticks(rotation='vertical')\n",
    "plt.gca().yaxis.set_major_locator(MaxNLocator(integer=True))\n",
    "plt.title(\"Classification model ranking - Score\")\n",
    "plt.show()"
   ]
  },
  {
   "cell_type": "markdown",
   "id": "daab8829-0afb-492e-9cf8-1014c8e8a613",
   "metadata": {},
   "source": [
    "### Regression problems"
   ]
  },
  {
   "cell_type": "code",
   "execution_count": null,
   "id": "c423bf7d-c685-4274-81bb-3819e5995ce8",
   "metadata": {},
   "outputs": [],
   "source": [
    "sql = \"\"\" select model, count(*) as count\n",
    "          from (select model, max(test_score)\n",
    "                from model_score\n",
    "                where model != 'Stack'\n",
    "                and name in (select name\n",
    "                             from problem\n",
    "                             where type = 'regression')\n",
    "                group by name, version)\n",
    "          group by model\n",
    "          order by count desc\n",
    "      \"\"\" \n",
    "\n",
    "data = pd.read_sql(sql, conn)\n",
    "plt.bar(data['model'], data['count'])\n",
    "plt.xticks(rotation='vertical')\n",
    "plt.title(\"Regression model ranking - Score\")\n",
    "plt.show()"
   ]
  },
  {
   "cell_type": "markdown",
   "id": "b696e81b-b4f1-4c15-bc7a-374245d00225",
   "metadata": {},
   "source": [
    "## According to their importance\n",
    "\n",
    "### Classification problems"
   ]
  },
  {
   "cell_type": "code",
   "execution_count": null,
   "id": "5fc43001-49f3-467c-8372-9989b865bc00",
   "metadata": {},
   "outputs": [],
   "source": [
    "sql = \"\"\" select model, count(*) as count\n",
    "          from (select model, max(importance)\n",
    "                from model_importance\n",
    "                where name in (select name\n",
    "                               from problem\n",
    "                               where type = 'classification')\n",
    "                group by name, version)\n",
    "          group by model\n",
    "          order by count desc\n",
    "      \"\"\" \n",
    "\n",
    "data = pd.read_sql(sql, conn)\n",
    "plt.bar(data['model'], data['count'])\n",
    "plt.xticks(rotation='vertical')\n",
    "plt.gca().yaxis.set_major_locator(MaxNLocator(integer=True))\n",
    "plt.title(\"Classification model ranking - Importance\")\n",
    "plt.show()"
   ]
  },
  {
   "cell_type": "markdown",
   "id": "60e088d4-6a86-4a90-9d88-5eed5396493a",
   "metadata": {},
   "source": [
    "### Regression problems"
   ]
  },
  {
   "cell_type": "code",
   "execution_count": null,
   "id": "3bb8c6fd-00c3-4484-8dcd-b8e32c8396d8",
   "metadata": {},
   "outputs": [],
   "source": [
    "sql = \"\"\" select model, count(*) as count\n",
    "          from (select model, max(importance)\n",
    "                from model_importance\n",
    "                where name in (select name\n",
    "                               from problem\n",
    "                               where type = 'regression')\n",
    "                group by name, version)\n",
    "          group by model\n",
    "          order by count desc\n",
    "      \"\"\" \n",
    "\n",
    "data = pd.read_sql(sql, conn)\n",
    "plt.bar(data['model'], data['count'])\n",
    "plt.xticks(rotation='vertical')\n",
    "plt.gca().yaxis.set_major_locator(MaxNLocator(integer=True))\n",
    "plt.title(\"Regression model ranking - Importance\")\n",
    "plt.show()"
   ]
  },
  {
   "cell_type": "markdown",
   "id": "75b10de3-f881-4a34-bea7-073ae4ead496",
   "metadata": {},
   "source": [
    "# Feature elimination ratio\n",
    "\n",
    "## When stacking worked"
   ]
  },
  {
   "cell_type": "code",
   "execution_count": null,
   "id": "b35bbbda-d144-490c-8f4f-85d2b7ae011a",
   "metadata": {},
   "outputs": [],
   "source": [
    "sql = \"\"\" select a.name || '-' || a.version as solution, (1 - (cast(b.filtered_feature as real) / cast(a.total_feature as real))) * 100 as elimination_rate\n",
    "          from (select stack_ok.name, stack_ok.version, count(*) as total_feature\n",
    "                from stack_ok \n",
    "                inner join eda \n",
    "                on stack_ok.name = eda.name\n",
    "                and stack_ok.version = eda.version\n",
    "                where stack_ok.step = 3\n",
    "                and eda.target = 0\n",
    "                group by stack_ok.name, stack_ok.version) as a\n",
    "          inner join (\n",
    "                select feature_importance.name, feature_importance.version, count(*) as filtered_feature\n",
    "                from feature_importance\n",
    "                inner join stack_ok\n",
    "                on feature_importance.name = stack_ok.name\n",
    "                and feature_importance.version = stack_ok.version\n",
    "                and feature_importance.step = stack_ok.step\n",
    "                where feature_importance.step = 3\n",
    "                group by feature_importance.name, feature_importance.version) as b    \n",
    "          on a.name = b.name\n",
    "          and a.version = b.version\n",
    "      \"\"\"\n",
    "\n",
    "data = pd.read_sql(sql, conn)\n",
    "data.set_index('solution').plot.bar()\n",
    "plt.title(\"Feature elimination percentage for each solution\\nhaving a successful stacking at step3 \")\n",
    "plt.show()"
   ]
  },
  {
   "cell_type": "markdown",
   "id": "1d02a84d-a51e-418a-8c33-bc0e0494edec",
   "metadata": {},
   "source": [
    "## Globally"
   ]
  },
  {
   "cell_type": "code",
   "execution_count": null,
   "id": "22f4965d-91ad-42f3-ba08-877f1b0b32d2",
   "metadata": {},
   "outputs": [],
   "source": [
    "sql = \"\"\"select a.name || '-' || a.version as solution, \n",
    "         (1 - (cast(B.feature_mean as real) / cast(A.feature_total as real))) * 100 as elimination_rate\n",
    "         from \n",
    "           (select eda.name, eda.version, count(*) as feature_total\n",
    "            from eda\n",
    "            group by eda.name, eda.version) as A\n",
    "         inner join\n",
    "           (select a.name, a.version, avg(a.feature_step) as feature_mean\n",
    "            from (\n",
    "              select name, version, step, count(*) as feature_step\n",
    "              from feature_importance\n",
    "              group by name, version, step) as a\n",
    "            group by a.name, a.version) as B\n",
    "         on A.name = B.name\n",
    "         and A.version = B.version\n",
    "      \"\"\"\n",
    "\n",
    "data = pd.read_sql(sql, conn)\n",
    "plt.figure(figsize=(15,4))\n",
    "plt.bar(data['solution'], data['elimination_rate'])\n",
    "plt.xticks(rotation='vertical')\n",
    "plt.title(\"Mean feature elimination percentage per solution\")\n",
    "plt.show()"
   ]
  },
  {
   "cell_type": "markdown",
   "id": "88429eca-191b-4c68-8753-33f102d4d8d6",
   "metadata": {},
   "source": [
    "# Stacking gain\n",
    "\n",
    "In this section, we will study the variation in scores between each step."
   ]
  },
  {
   "cell_type": "code",
   "execution_count": null,
   "id": "ca0273ef-3890-46a0-8126-a2218fbe5e95",
   "metadata": {},
   "outputs": [],
   "source": [
    "sql = \"\"\"select a.name || '-' || a.version as solution, \n",
    "         ((score_2 - score_1)*100/score_1) as delta_2_1,\n",
    "         ((score_3 - score_2)*100/score_2) as delta_3_2,\n",
    "         ((score_3 - score_1)*100/score_1) as delta_3_1\n",
    "         from stack_ok_score as a\n",
    "      \"\"\"\n",
    "\n",
    "data = pd.read_sql(sql, conn)\n",
    "data.set_index('solution').plot.bar()\n",
    "plt.title(\"Gain between each step\")\n",
    "plt.show()"
   ]
  },
  {
   "cell_type": "markdown",
   "id": "205368d5-a907-44db-8b3c-6f8188bd366b",
   "metadata": {},
   "source": [
    "We see that the solutions of the [Franck-Hertz problem](https://www.kaggle.com/code/philippebillet/franck-hertz-stacking-and-model-importance/notebook) are sometimes very poor.\n",
    "Let's see it in detail:"
   ]
  },
  {
   "cell_type": "code",
   "execution_count": null,
   "id": "a6549a33-0680-4230-8467-cd8ec73d4270",
   "metadata": {},
   "outputs": [],
   "source": [
    "sql = \"\"\"select a.name || '-' || a.version as solution, score_1, score_2, score_3\n",
    "         from stack_ok_score as a\n",
    "         where name = 'Franck-Hertz'\n",
    "      \"\"\"\n",
    "\n",
    "data = pd.read_sql(sql, conn)\n",
    "data"
   ]
  },
  {
   "cell_type": "markdown",
   "id": "d8d24bec-6b28-4cb7-bfec-8dbe7d807cba",
   "metadata": {},
   "source": [
    "The high losses of performance are certainly due to a bad choice of hyperparameters. \n",
    "\n",
    "Let's cap the low scores:"
   ]
  },
  {
   "cell_type": "code",
   "execution_count": null,
   "id": "3b2d248c-2ec7-40bc-bf64-4073159881d8",
   "metadata": {},
   "outputs": [],
   "source": [
    "sql = \"\"\"select a.name || '-' || a.version as solution, \n",
    "         ((score_2 - score_1)*100/score_1) as delta_2_1,\n",
    "         ((score_3 - score_2)*100/score_2) as delta_3_2,\n",
    "         ((score_3 - score_1)*100/score_1) as delta_3_1\n",
    "         from stack_ok_score as a\n",
    "         where delta_2_1 > -10\n",
    "         and delta_3_2 > -10 \n",
    "         and delta_3_1 > -10\n",
    "      \"\"\"\n",
    "\n",
    "data = pd.read_sql(sql, conn)\n",
    "data.set_index('solution').plot.bar()\n",
    "plt.title(\"Gain between each step\")\n",
    "plt.show()"
   ]
  },
  {
   "cell_type": "markdown",
   "id": "3923ca09-7f9b-4280-8859-5d17666044b0",
   "metadata": {},
   "source": [
    "[Concrete problem](https://www.kaggle.com/code/philippebillet/concrete-stacking-and-model-importance) in detail"
   ]
  },
  {
   "cell_type": "code",
   "execution_count": null,
   "id": "c5a971c8-300f-48b3-932a-a04e0fb7b315",
   "metadata": {},
   "outputs": [],
   "source": [
    "sql = \"\"\"select a.name || '-' || a.version as solution, score_1, score_2, score_3\n",
    "         from stack_ok_score as a\n",
    "         where name = 'concrete'\n",
    "      \"\"\"\n",
    "\n",
    "data = pd.read_sql(sql, conn)\n",
    "data"
   ]
  },
  {
   "cell_type": "code",
   "execution_count": null,
   "id": "6b9163b8-ba98-4e3b-a4ae-c7211b25aa7a",
   "metadata": {},
   "outputs": [],
   "source": [
    "sql = \"\"\"select distinct A.name, A.version, A.correlation, A.nb_model,\n",
    "                A.nb_feature, A.score, A.test_size, A.resampling, B.L1_model\n",
    "         from solution as A\n",
    "         inner join model as B\n",
    "         on A.name = B.name\n",
    "         and A.version = B.version\n",
    "         where A.name = 'concrete'\n",
    "      \"\"\"\n",
    "\n",
    "data = pd.read_sql(sql, conn)\n",
    "data"
   ]
  },
  {
   "cell_type": "markdown",
   "id": "a6b6edc6-0c98-4c15-8844-0089fe6fad79",
   "metadata": {},
   "source": [
    "# Close connection"
   ]
  },
  {
   "cell_type": "code",
   "execution_count": null,
   "id": "8256f41f-6025-4512-ab9f-15017d07547a",
   "metadata": {},
   "outputs": [],
   "source": [
    "# conn.close()"
   ]
  },
  {
   "cell_type": "markdown",
   "id": "ad6980b6-8ab5-421b-91df-8926df69fcc8",
   "metadata": {},
   "source": [
    "## References\n",
    "\n",
    "The documentation of [EZStacking](https://github.com/phbillet/EZStacking) already gives some references, a basic research like: [stacking \"model importance\" in Google Scholar](https://scholar.google.cz/scholar?q=stacking+%22model+importance%22&hl=fr&as_sdt=0&as_vis=1&oi=scholart) shows that the suject is far from being uninteresting."
   ]
  },
  {
   "cell_type": "code",
   "execution_count": null,
   "id": "b8235051-6c00-45b6-a3d6-4640e2cdb43c",
   "metadata": {},
   "outputs": [],
   "source": []
  }
 ],
 "metadata": {
  "kernelspec": {
   "display_name": "ezstacking",
   "language": "python",
   "name": "ezstacking"
  },
  "language_info": {
   "codemirror_mode": {
    "name": "ipython",
    "version": 3
   },
   "file_extension": ".py",
   "mimetype": "text/x-python",
   "name": "python",
   "nbconvert_exporter": "python",
   "pygments_lexer": "ipython3",
   "version": "3.10.8"
  },
  "toc-showcode": false,
  "toc-showmarkdowntxt": false
 },
 "nbformat": 4,
 "nbformat_minor": 5
}
