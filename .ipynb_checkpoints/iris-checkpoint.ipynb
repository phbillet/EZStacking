{
 "cells": [
  {
   "cell_type": "markdown",
   "id": "f88880a7",
   "metadata": {},
   "source": [
    "# EDA & Modelling"
   ]
  },
  {
   "cell_type": "markdown",
   "id": "ed772ef5",
   "metadata": {},
   "source": [
    "## Package loading"
   ]
  },
  {
   "cell_type": "code",
   "execution_count": null,
   "id": "e93b28d9",
   "metadata": {},
   "outputs": [],
   "source": [
    "from EZS_deps.EZS_func import *\n",
    "import numpy as np\n",
    "import pandas as pd\n",
    "import os\n",
    "import gc\n",
    "import matplotlib.pyplot as plt\n",
    "import warnings\n",
    "warnings.filterwarnings('ignore')\n",
    "import re\n",
    "import math\n",
    "import keras\n",
    "from sklearn.gaussian_process import GaussianProcessClassifier\n",
    "from sklearn.tree import DecisionTreeClassifier\n",
    "from sklearn.ensemble import RandomForestClassifier\n",
    "from sklearn.ensemble import AdaBoostClassifier\n",
    "from sklearn.ensemble import StackingClassifier\n",
    "from sklearn.linear_model import LogisticRegression\n",
    "from sklearn.linear_model import LogisticRegressionCV\n",
    "from sklearn.neural_network import MLPClassifier\n",
    "from sklearn.neighbors import KNeighborsClassifier\n",
    "from sklearn.neighbors import LocalOutlierFactor\n",
    "from sklearn.base import BaseEstimator\n",
    "from sklearn.base import TransformerMixin\n",
    "from sklearn.experimental import enable_iterative_imputer\n",
    "from sklearn.impute import SimpleImputer\n",
    "from sklearn.impute import IterativeImputer\n",
    "from sklearn.inspection import permutation_importance\n",
    "from sklearn.gaussian_process.kernels import RBF\n",
    "from sklearn.gaussian_process.kernels import WhiteKernel\n",
    "from sklearn.gaussian_process.kernels import ConstantKernel\n",
    "from sklearn.gaussian_process.kernels import Matern\n",
    "from sklearn.gaussian_process.kernels import RationalQuadratic\n",
    "from sklearn.gaussian_process.kernels import ExpSineSquared\n",
    "from sklearn.gaussian_process.kernels import DotProduct\n",
    "from sklearn.metrics import accuracy_score\n",
    "from sklearn.metrics import f1_score\n",
    "from sklearn.metrics import recall_score\n",
    "from sklearn import set_config\n",
    "from sklearn import datasets\n",
    "from sklearn.model_selection import train_test_split\n",
    "from sklearn.model_selection import StratifiedKFold\n",
    "from sklearn.model_selection import RepeatedStratifiedKFold\n",
    "from sklearn.preprocessing import StandardScaler\n",
    "from sklearn.preprocessing import OneHotEncoder\n",
    "from sklearn.preprocessing import OrdinalEncoder\n",
    "from sklearn.preprocessing import LabelEncoder\n",
    "from sklearn.preprocessing import FunctionTransformer\n",
    "from sklearn.naive_bayes import GaussianNB\n",
    "from keras.wrappers.scikit_learn import KerasClassifier\n",
    "from keras.callbacks import EarlyStopping\n",
    "from keras.layers import Dense\n",
    "from keras.layers import BatchNormalization\n",
    "from keras.layers import LayerNormalization\n",
    "from keras.layers import Dropout\n",
    "from keras.models import Sequential\n",
    "from keras.utils import np_utils\n",
    "from keras.utils.vis_utils import plot_model\n",
    "from pandas.api.types import is_numeric_dtype\n",
    "from itertools import product\n",
    "from joblib import dump\n",
    "from scipy import stats\n",
    "from sklearn.pipeline import Pipeline\n",
    "from sklearn.pipeline import make_pipeline\n",
    "from sklearn.compose import make_column_selector\n",
    "from sklearn.compose import make_column_transformer\n"
   ]
  },
  {
   "cell_type": "markdown",
   "id": "be1fd866",
   "metadata": {},
   "source": [
    "## Exploratory Data Analysis "
   ]
  },
  {
   "cell_type": "markdown",
   "id": "6eeddabe",
   "metadata": {},
   "source": [
    "### File and parameters loading"
   ]
  },
  {
   "cell_type": "code",
   "execution_count": null,
   "id": "707a19e0",
   "metadata": {},
   "outputs": [],
   "source": [
    "problem_type = 'classification'"
   ]
  },
  {
   "cell_type": "code",
   "execution_count": null,
   "id": "c89e442b",
   "metadata": {},
   "outputs": [],
   "source": [
    "data_size = 'small'"
   ]
  },
  {
   "cell_type": "code",
   "execution_count": null,
   "id": "b2aa78f1",
   "metadata": {},
   "outputs": [],
   "source": [
    "df = pd.read_csv('/home/philippe/development/python/EZStacking/dataset/iris.csv')"
   ]
  },
  {
   "cell_type": "code",
   "execution_count": null,
   "id": "9e08d736",
   "metadata": {},
   "outputs": [],
   "source": [
    "target_col = 'variety'"
   ]
  },
  {
   "cell_type": "markdown",
   "id": "28d54763",
   "metadata": {},
   "source": [
    "#### Thresholds"
   ]
  },
  {
   "cell_type": "code",
   "execution_count": null,
   "id": "39b2fcef",
   "metadata": {},
   "outputs": [],
   "source": [
    "threshold_NaN = 0.5"
   ]
  },
  {
   "cell_type": "code",
   "execution_count": null,
   "id": "bda8d64d",
   "metadata": {},
   "outputs": [],
   "source": [
    "threshold_cat = 5"
   ]
  },
  {
   "cell_type": "code",
   "execution_count": null,
   "id": "a1a9004e",
   "metadata": {},
   "outputs": [],
   "source": [
    "threshold_Z = 3.0"
   ]
  },
  {
   "cell_type": "code",
   "execution_count": null,
   "id": "c8ecbf28",
   "metadata": {},
   "outputs": [],
   "source": [
    "test_size = 0.33"
   ]
  },
  {
   "cell_type": "code",
   "execution_count": null,
   "id": "f1c3a360",
   "metadata": {},
   "outputs": [],
   "source": [
    "threshold_entropy = 0.75"
   ]
  },
  {
   "cell_type": "code",
   "execution_count": null,
   "id": "5d28c05a",
   "metadata": {},
   "outputs": [],
   "source": [
    "undersampling = False"
   ]
  },
  {
   "cell_type": "code",
   "execution_count": null,
   "id": "5e85204a",
   "metadata": {},
   "outputs": [],
   "source": [
    "undersampler = 'Random'"
   ]
  },
  {
   "cell_type": "code",
   "execution_count": null,
   "id": "9f0e865a",
   "metadata": {},
   "outputs": [],
   "source": [
    "threshold_corr = 0.95"
   ]
  },
  {
   "cell_type": "code",
   "execution_count": null,
   "id": "6e9210dc",
   "metadata": {},
   "outputs": [],
   "source": [
    "threshold_model = 5"
   ]
  },
  {
   "cell_type": "code",
   "execution_count": null,
   "id": "9dcf0421",
   "metadata": {},
   "outputs": [],
   "source": [
    "threshold_score = 0.7"
   ]
  },
  {
   "cell_type": "code",
   "execution_count": null,
   "id": "37230429",
   "metadata": {},
   "outputs": [],
   "source": [
    "threshold_feature = 5"
   ]
  },
  {
   "cell_type": "code",
   "execution_count": null,
   "id": "1825c340",
   "metadata": {},
   "outputs": [],
   "source": [
    "CPU = False"
   ]
  },
  {
   "cell_type": "code",
   "execution_count": null,
   "id": "38f72da2",
   "metadata": {},
   "outputs": [],
   "source": [
    "level_1_model = 'regression'"
   ]
  },
  {
   "cell_type": "markdown",
   "id": "2eeda035",
   "metadata": {},
   "source": [
    "#### Drop user's columns:"
   ]
  },
  {
   "cell_type": "code",
   "execution_count": null,
   "id": "32daa630",
   "metadata": {},
   "outputs": [],
   "source": [
    "user_drop_cols = []"
   ]
  },
  {
   "cell_type": "markdown",
   "id": "3862a70c",
   "metadata": {},
   "source": [
    "Dataset before deletion"
   ]
  },
  {
   "cell_type": "code",
   "execution_count": null,
   "id": "d66e3c1f",
   "metadata": {},
   "outputs": [],
   "source": [
    "display(df)"
   ]
  },
  {
   "cell_type": "code",
   "execution_count": null,
   "id": "c62e9db9",
   "metadata": {},
   "outputs": [],
   "source": [
    "df = df.drop(user_drop_cols, axis=1)"
   ]
  },
  {
   "cell_type": "markdown",
   "id": "febd8ef1",
   "metadata": {},
   "source": [
    "Dataset after deletion"
   ]
  },
  {
   "cell_type": "code",
   "execution_count": null,
   "id": "8ecdebfb",
   "metadata": {},
   "outputs": [],
   "source": [
    "display(df)"
   ]
  },
  {
   "cell_type": "markdown",
   "id": "57130388",
   "metadata": {},
   "source": [
    "#### Dataset copy"
   ]
  },
  {
   "cell_type": "code",
   "execution_count": null,
   "id": "ce923fc7",
   "metadata": {},
   "outputs": [],
   "source": [
    "df_copy = df.copy()"
   ]
  },
  {
   "cell_type": "markdown",
   "id": "c7856444",
   "metadata": {},
   "source": [
    "### Dataset Information"
   ]
  },
  {
   "cell_type": "code",
   "execution_count": null,
   "id": "87ecc148",
   "metadata": {},
   "outputs": [],
   "source": [
    "df.shape"
   ]
  },
  {
   "cell_type": "markdown",
   "id": "7eaad168",
   "metadata": {},
   "source": [
    "#### Some records"
   ]
  },
  {
   "cell_type": "code",
   "execution_count": null,
   "id": "9bd70e3c",
   "metadata": {},
   "outputs": [],
   "source": [
    "display(df)"
   ]
  },
  {
   "cell_type": "markdown",
   "id": "aef7995d",
   "metadata": {},
   "source": [
    "#### Dataframe structure"
   ]
  },
  {
   "cell_type": "code",
   "execution_count": null,
   "id": "26ffc427",
   "metadata": {},
   "outputs": [],
   "source": [
    "plot_dataframe_structure(df)"
   ]
  },
  {
   "cell_type": "markdown",
   "id": "2e239ce4",
   "metadata": {},
   "source": [
    "#### Dataframe statistics"
   ]
  },
  {
   "cell_type": "code",
   "execution_count": null,
   "id": "131dbbc1",
   "metadata": {},
   "outputs": [],
   "source": [
    "display(df.describe().T)"
   ]
  },
  {
   "cell_type": "markdown",
   "id": "6a18b1dd",
   "metadata": {},
   "source": [
    "#### Which columns could be categorical ?"
   ]
  },
  {
   "cell_type": "code",
   "execution_count": null,
   "id": "463d9c4f",
   "metadata": {},
   "outputs": [],
   "source": [
    "plot_categorical(df)"
   ]
  },
  {
   "cell_type": "markdown",
   "id": "514a68e1",
   "metadata": {},
   "source": [
    "### Dataset Cleaning"
   ]
  },
  {
   "cell_type": "markdown",
   "id": "48cccecf",
   "metadata": {},
   "source": [
    "#### Duplicate rows:"
   ]
  },
  {
   "cell_type": "code",
   "execution_count": null,
   "id": "b65e6cb4",
   "metadata": {},
   "outputs": [],
   "source": [
    "duplicates(df)"
   ]
  },
  {
   "cell_type": "markdown",
   "id": "e45950d4",
   "metadata": {},
   "source": [
    "#### Drop NaN:"
   ]
  },
  {
   "cell_type": "code",
   "execution_count": null,
   "id": "db7374e6",
   "metadata": {},
   "outputs": [],
   "source": [
    "df, drop_cols = drop_na(df, threshold_NaN)"
   ]
  },
  {
   "cell_type": "markdown",
   "id": "af11d15e",
   "metadata": {},
   "source": [
    "Set of dropped columns: NaN"
   ]
  },
  {
   "cell_type": "code",
   "execution_count": null,
   "id": "1db9e1cc",
   "metadata": {},
   "outputs": [],
   "source": [
    "dropped_cols = np.unique(np.concatenate((drop_cols, user_drop_cols)))"
   ]
  },
  {
   "cell_type": "code",
   "execution_count": null,
   "id": "903b4399",
   "metadata": {},
   "outputs": [],
   "source": [
    "display(dropped_cols)"
   ]
  },
  {
   "cell_type": "markdown",
   "id": "656f0bdf",
   "metadata": {},
   "source": [
    "#### Encoding data:"
   ]
  },
  {
   "cell_type": "code",
   "execution_count": null,
   "id": "953e3274",
   "metadata": {},
   "outputs": [],
   "source": [
    "df, encoded_cols = encoding(df, threshold_cat, target_col)"
   ]
  },
  {
   "cell_type": "markdown",
   "id": "c60195db",
   "metadata": {},
   "source": [
    "#### Imputing NaN using IterativeImputer"
   ]
  },
  {
   "cell_type": "markdown",
   "id": "183d606b",
   "metadata": {},
   "source": [
    "##### Imputation"
   ]
  },
  {
   "cell_type": "code",
   "execution_count": null,
   "id": "4006c77b",
   "metadata": {},
   "outputs": [],
   "source": [
    "df = imputation(df)"
   ]
  },
  {
   "cell_type": "markdown",
   "id": "d91a0002",
   "metadata": {},
   "source": [
    "#### Data compression:"
   ]
  },
  {
   "cell_type": "code",
   "execution_count": null,
   "id": "b92c639b",
   "metadata": {},
   "outputs": [],
   "source": [
    "df = downcast_dtypes(df)"
   ]
  },
  {
   "cell_type": "markdown",
   "id": "4c38388a",
   "metadata": {},
   "source": [
    "##### Dataframe structure after compression"
   ]
  },
  {
   "cell_type": "code",
   "execution_count": null,
   "id": "d4d97537",
   "metadata": {},
   "outputs": [],
   "source": [
    "plot_dataframe_structure(df)"
   ]
  },
  {
   "cell_type": "markdown",
   "id": "782d50c9",
   "metadata": {},
   "source": [
    "#### Outliers:"
   ]
  },
  {
   "cell_type": "code",
   "execution_count": null,
   "id": "24fe766a",
   "metadata": {},
   "outputs": [],
   "source": [
    "df = outliers(df, threshold_Z)"
   ]
  },
  {
   "cell_type": "markdown",
   "id": "e405890c",
   "metadata": {},
   "source": [
    "#### Correlation"
   ]
  },
  {
   "cell_type": "code",
   "execution_count": null,
   "id": "1247ca15",
   "metadata": {},
   "outputs": [],
   "source": [
    "corr = df.corr() \n",
    "corr.style.background_gradient(cmap='coolwarm')"
   ]
  },
  {
   "cell_type": "code",
   "execution_count": null,
   "id": "341ecc7a",
   "metadata": {},
   "outputs": [],
   "source": [
    "correlated_features = correlated_columns(df, threshold_corr, target_col) \n",
    "dropped_cols = np.unique(np.concatenate((drop_cols, correlated_features)))"
   ]
  },
  {
   "cell_type": "markdown",
   "id": "a78071e6",
   "metadata": {},
   "source": [
    "#### Check columns that should be dropped"
   ]
  },
  {
   "cell_type": "code",
   "execution_count": null,
   "id": "79b69cd1",
   "metadata": {},
   "outputs": [],
   "source": [
    "print(dropped_cols)"
   ]
  },
  {
   "cell_type": "markdown",
   "id": "bf3746cc",
   "metadata": {},
   "source": [
    "## Splittings "
   ]
  },
  {
   "cell_type": "code",
   "execution_count": null,
   "id": "d333f8b4",
   "metadata": {},
   "outputs": [],
   "source": [
    "df = df_copy"
   ]
  },
  {
   "cell_type": "markdown",
   "id": "a1004ef5",
   "metadata": {},
   "source": [
    "#### Splitting dataframe in features and targets"
   ]
  },
  {
   "cell_type": "code",
   "execution_count": null,
   "id": "8f79af68",
   "metadata": {},
   "outputs": [],
   "source": [
    "y = df[target_col]"
   ]
  },
  {
   "cell_type": "code",
   "execution_count": null,
   "id": "0d8f924d",
   "metadata": {},
   "outputs": [],
   "source": [
    "X = df.drop(target_col, axis=1)"
   ]
  },
  {
   "cell_type": "markdown",
   "id": "4b8f6aba",
   "metadata": {},
   "source": [
    "##### Dimensions"
   ]
  },
  {
   "cell_type": "code",
   "execution_count": null,
   "id": "1be0bbe8",
   "metadata": {},
   "outputs": [],
   "source": [
    "nb_features = len(X.columns.tolist())"
   ]
  },
  {
   "cell_type": "code",
   "execution_count": null,
   "id": "e06ef66d",
   "metadata": {},
   "outputs": [],
   "source": [
    "nb_targets = len(y.unique())"
   ]
  },
  {
   "cell_type": "code",
   "execution_count": null,
   "id": "1f9e4ac4",
   "metadata": {},
   "outputs": [],
   "source": [
    "layer_size = nb_features + nb_targets + 2"
   ]
  },
  {
   "cell_type": "markdown",
   "id": "93a3edc3",
   "metadata": {},
   "source": [
    "##### Splitting data in train and test sets "
   ]
  },
  {
   "cell_type": "code",
   "execution_count": null,
   "id": "a82db9f9",
   "metadata": {},
   "outputs": [],
   "source": [
    "X_train, X_test, y_train, y_test = split(X, y, test_size=test_size, threshold_entropy=threshold_entropy, undersampling= undersampling, undersampler= undersampler)"
   ]
  },
  {
   "cell_type": "markdown",
   "id": "fc7d1902",
   "metadata": {},
   "source": [
    "##### Encoding"
   ]
  },
  {
   "cell_type": "code",
   "execution_count": null,
   "id": "53137619",
   "metadata": {},
   "outputs": [],
   "source": [
    "target_encoder = LabelEncoder() \n",
    "y_train = pd.Series(target_encoder.fit_transform(y_train)) \n",
    "y_test = pd.Series(target_encoder.transform(y_test))"
   ]
  },
  {
   "cell_type": "markdown",
   "id": "dda2d561",
   "metadata": {},
   "source": [
    "## Modelling"
   ]
  },
  {
   "cell_type": "markdown",
   "id": "0e890e25",
   "metadata": {},
   "source": [
    "### Model building"
   ]
  },
  {
   "cell_type": "markdown",
   "id": "db7d592e",
   "metadata": {},
   "source": [
    "#### Pipeline building"
   ]
  },
  {
   "cell_type": "markdown",
   "id": "75736080",
   "metadata": {},
   "source": [
    "##### Select the categorical and numerical columns"
   ]
  },
  {
   "cell_type": "code",
   "execution_count": null,
   "id": "1cacd3fd",
   "metadata": {},
   "outputs": [],
   "source": [
    "cat_selector = make_column_selector(dtype_include=object)"
   ]
  },
  {
   "cell_type": "code",
   "execution_count": null,
   "id": "e41a3950",
   "metadata": {},
   "outputs": [],
   "source": [
    "num_selector = make_column_selector(dtype_include=np.number)"
   ]
  },
  {
   "cell_type": "markdown",
   "id": "8a3fbc4e",
   "metadata": {},
   "source": [
    "##### For models based on tree"
   ]
  },
  {
   "cell_type": "code",
   "execution_count": null,
   "id": "c8e0f99e",
   "metadata": {},
   "outputs": [],
   "source": [
    "cat_tree_processor = make_pipeline(SimpleImputer(strategy='most_frequent'), OrdinalEncoder(handle_unknown='use_encoded_value', unknown_value=-1))"
   ]
  },
  {
   "cell_type": "code",
   "execution_count": null,
   "id": "588261b3",
   "metadata": {},
   "outputs": [],
   "source": [
    "num_tree_processor = make_pipeline(IterativeImputer(random_state=0, add_indicator=True))"
   ]
  },
  {
   "cell_type": "code",
   "execution_count": null,
   "id": "0ea6cf0b",
   "metadata": {},
   "outputs": [],
   "source": [
    "tree_preprocessor = make_pipeline(make_column_transformer((num_tree_processor, num_selector), (cat_tree_processor, cat_selector)), Decorrelator(threshold_corr))"
   ]
  },
  {
   "cell_type": "markdown",
   "id": "6c84a779",
   "metadata": {},
   "source": [
    "##### For models not based on tree"
   ]
  },
  {
   "cell_type": "code",
   "execution_count": null,
   "id": "4cc4a4d8",
   "metadata": {},
   "outputs": [],
   "source": [
    "cat_ntree_processor = make_pipeline(SimpleImputer(strategy='most_frequent'), OneHotEncoder(handle_unknown='ignore', sparse=False))"
   ]
  },
  {
   "cell_type": "code",
   "execution_count": null,
   "id": "df8cc72d",
   "metadata": {},
   "outputs": [],
   "source": [
    "num_ntree_processor = make_pipeline(IterativeImputer(random_state=0, add_indicator=True), StandardScaler())"
   ]
  },
  {
   "cell_type": "code",
   "execution_count": null,
   "id": "00f5ac81",
   "metadata": {},
   "outputs": [],
   "source": [
    "ntree_preprocessor = make_pipeline(make_column_transformer((num_ntree_processor, num_selector), (cat_ntree_processor, cat_selector)), Decorrelator(threshold_corr))"
   ]
  },
  {
   "cell_type": "markdown",
   "id": "e5c730de",
   "metadata": {},
   "source": [
    "##### Keras neural network definition"
   ]
  },
  {
   "cell_type": "code",
   "execution_count": null,
   "id": "b889c83a",
   "metadata": {},
   "outputs": [],
   "source": [
    "def K_Class(): \n",
    "    keras.backend.clear_session() \n",
    "#   neural network architecture: start \n",
    "    model = Sequential() \n",
    "    model.add(BatchNormalization()) \n",
    "    model.add(Dense(layer_size, activation='selu')) \n",
    "#    model.add(LayerNormalization()) \n",
    "    model.add(BatchNormalization()) \n",
    "    model.add(Dropout(0.2)) \n",
    "    model.add(Dense(nb_targets, activation='softmax')) \n",
    "#   neural network architecture: end   \n",
    "    model.compile(loss='categorical_crossentropy', optimizer='adam', metrics=['accuracy'])\n",
    "    return model\n"
   ]
  },
  {
   "cell_type": "markdown",
   "id": "f3abe339",
   "metadata": {},
   "source": [
    "##### Early Stopping"
   ]
  },
  {
   "cell_type": "code",
   "execution_count": null,
   "id": "aca3db6a",
   "metadata": {},
   "outputs": [],
   "source": [
    "es = EarlyStopping(monitor='val_loss', mode='auto', verbose=1, patience=20)"
   ]
  },
  {
   "cell_type": "code",
   "execution_count": null,
   "id": "b27d9d52",
   "metadata": {},
   "outputs": [],
   "source": [
    "K_C = KerasClassifier(K_Class, batch_size=64, epochs=2000, callbacks=[es], validation_split=0.1, verbose=1) \n",
    "K_C._estimator_type = 'classifier'"
   ]
  },
  {
   "cell_type": "markdown",
   "id": "5fb97fe6",
   "metadata": {},
   "source": [
    "##### Level-0 models"
   ]
  },
  {
   "cell_type": "code",
   "execution_count": null,
   "id": "a15502c1",
   "metadata": {},
   "outputs": [],
   "source": [
    "level_0 = [ \n",
    "          ('GPCL', make_pipeline(ntree_preprocessor, GaussianProcessClassifier(kernel = ConstantKernel() * DotProduct() + ConstantKernel() + WhiteKernel()))), \n",
    "          ('GPCR', make_pipeline(ntree_preprocessor, GaussianProcessClassifier(kernel = ConstantKernel() * RBF() + ConstantKernel() + WhiteKernel()))), \n",
    "          ('GPCQ', make_pipeline(ntree_preprocessor, GaussianProcessClassifier(kernel = ConstantKernel() * RationalQuadratic() + ConstantKernel() + WhiteKernel()))), \n",
    "          ('DTCG', make_pipeline(tree_preprocessor, DecisionTreeClassifier(criterion='gini'))), \n",
    "          ('DTCE', make_pipeline(tree_preprocessor, DecisionTreeClassifier(criterion='entropy'))), \n",
    "          ('RFCG', make_pipeline(tree_preprocessor, RandomForestClassifier(criterion='gini', n_estimators=50))), \n",
    "          ('RFCE', make_pipeline(tree_preprocessor, RandomForestClassifier(criterion='entropy', n_estimators=50))), \n",
    "          ('ABC', make_pipeline(tree_preprocessor, AdaBoostClassifier())), \n",
    "          ('LOGRL', make_pipeline(ntree_preprocessor, LogisticRegression(solver='lbfgs', penalty='l2'))), \n",
    "          ('LOGRS', make_pipeline(ntree_preprocessor, LogisticRegression(solver='saga', penalty='elasticnet', l1_ratio=0.15))), \n",
    "          ('LOGRLCV', make_pipeline(ntree_preprocessor, LogisticRegressionCV(cv=5, solver='lbfgs', penalty='l2'))), \n",
    "          ('LOGRSCV', make_pipeline(ntree_preprocessor, LogisticRegressionCV(cv=5, solver='saga', penalty='l2'))), \n",
    "          ('MLPC10', make_pipeline(ntree_preprocessor, MLPClassifier(hidden_layer_sizes = (10 * layer_size, 10 * layer_size,), max_iter=1000, early_stopping=True))), \n",
    "          ('MLPC20', make_pipeline(ntree_preprocessor, MLPClassifier(hidden_layer_sizes = (20 * layer_size, 20 * layer_size,), max_iter=1000, early_stopping=True))), \n",
    "          ('KNCU', make_pipeline(ntree_preprocessor, KNeighborsClassifier(weights='uniform', n_neighbors=len(y.unique())))), \n",
    "          ('KNCD', make_pipeline(ntree_preprocessor, KNeighborsClassifier(weights='distance', n_neighbors=len(y.unique())))), \n",
    "          ('GNB', make_pipeline(ntree_preprocessor, GaussianNB())), \n",
    "          ('KERC', make_pipeline(ntree_preprocessor, K_C)), \n",
    "          ]"
   ]
  },
  {
   "cell_type": "markdown",
   "id": "fc224611",
   "metadata": {},
   "source": [
    "##### Level-1 model"
   ]
  },
  {
   "cell_type": "code",
   "execution_count": null,
   "id": "bed9b8a0",
   "metadata": {},
   "outputs": [],
   "source": [
    "level_1 = LogisticRegression()"
   ]
  },
  {
   "cell_type": "markdown",
   "id": "09fccd00",
   "metadata": {},
   "source": [
    "##### Stacking for classification"
   ]
  },
  {
   "cell_type": "code",
   "execution_count": null,
   "id": "f8a12c20",
   "metadata": {},
   "outputs": [],
   "source": [
    "model = StackingClassifier(level_0, final_estimator=level_1)"
   ]
  },
  {
   "cell_type": "markdown",
   "id": "315f42c6",
   "metadata": {},
   "source": [
    "### Model fitting"
   ]
  },
  {
   "cell_type": "code",
   "execution_count": null,
   "id": "7e0facdd",
   "metadata": {},
   "outputs": [],
   "source": [
    "%%time \n",
    "set_config(display='diagram') \n",
    "model.fit(X_train, y_train)"
   ]
  },
  {
   "cell_type": "markdown",
   "id": "7a5c1119",
   "metadata": {},
   "source": [
    "### Model evaluation"
   ]
  },
  {
   "cell_type": "markdown",
   "id": "0665d18b",
   "metadata": {},
   "source": [
    "#### Model scoring"
   ]
  },
  {
   "cell_type": "code",
   "execution_count": null,
   "id": "de208020",
   "metadata": {},
   "outputs": [],
   "source": [
    "score_stack, mod_imp_score = score_stacking(model, X_train, y_train, X_test, y_test)"
   ]
  },
  {
   "cell_type": "markdown",
   "id": "3f1f3279",
   "metadata": {},
   "source": [
    "#### Model importance"
   ]
  },
  {
   "cell_type": "code",
   "execution_count": null,
   "id": "ffb9b162",
   "metadata": {},
   "outputs": [],
   "source": [
    "model_imp = plot_model_importance(model, level_1_model)"
   ]
  },
  {
   "cell_type": "markdown",
   "id": "0c60cc4c",
   "metadata": {},
   "source": [
    "#### Feature permutation importance (a posteriori)"
   ]
  },
  {
   "cell_type": "code",
   "execution_count": null,
   "id": "7f13e94c",
   "metadata": {},
   "outputs": [],
   "source": [
    "plot_perm_importance(model, X_test, y_test, CPU)"
   ]
  },
  {
   "cell_type": "markdown",
   "id": "6c614ee2",
   "metadata": {},
   "source": [
    "#### Partial Dependence & Individual Conditional Expectation "
   ]
  },
  {
   "cell_type": "markdown",
   "id": "3a93c955",
   "metadata": {},
   "source": [
    "##### Features of interest"
   ]
  },
  {
   "cell_type": "code",
   "execution_count": null,
   "id": "fa631919",
   "metadata": {},
   "outputs": [],
   "source": [
    "features_of_interest = []"
   ]
  },
  {
   "cell_type": "code",
   "execution_count": null,
   "id": "2b56c3c7",
   "metadata": {},
   "outputs": [],
   "source": [
    "plot_partial_dependence(model, X_test, features_of_interest, CPU)"
   ]
  },
  {
   "cell_type": "markdown",
   "id": "e41ff37e",
   "metadata": {},
   "source": [
    "#### Classification report"
   ]
  },
  {
   "cell_type": "code",
   "execution_count": null,
   "id": "e554cfb7",
   "metadata": {},
   "outputs": [],
   "source": [
    "K_classification_report(model, X_train, y_train, X_test, y_test)"
   ]
  },
  {
   "cell_type": "markdown",
   "id": "b46c801b",
   "metadata": {},
   "source": [
    "#### Confusion matrix"
   ]
  },
  {
   "cell_type": "code",
   "execution_count": null,
   "id": "b2663d15",
   "metadata": {},
   "outputs": [],
   "source": [
    "K_confusion_matrix(model, X_train, y_train, X_test, y_test)"
   ]
  },
  {
   "cell_type": "markdown",
   "id": "0781fed3",
   "metadata": {},
   "source": [
    "### Final Model"
   ]
  },
  {
   "cell_type": "code",
   "execution_count": null,
   "id": "d617fe76",
   "metadata": {},
   "outputs": [],
   "source": [
    "threshold_model = 5"
   ]
  },
  {
   "cell_type": "code",
   "execution_count": null,
   "id": "a9741c8f",
   "metadata": {},
   "outputs": [],
   "source": [
    "threshold_score = 0.7"
   ]
  },
  {
   "cell_type": "markdown",
   "id": "43ced6cc",
   "metadata": {},
   "source": [
    "##### Filtered Level-0 models"
   ]
  },
  {
   "cell_type": "code",
   "execution_count": null,
   "id": "4303df6a",
   "metadata": {},
   "outputs": [],
   "source": [
    "level_0_f = model_filtering(level_0, model_imp, threshold_model, score_stack, threshold_score)"
   ]
  },
  {
   "cell_type": "markdown",
   "id": "759277ec",
   "metadata": {},
   "source": [
    "##### Final Level-1 model"
   ]
  },
  {
   "cell_type": "code",
   "execution_count": null,
   "id": "516b5c5f",
   "metadata": {},
   "outputs": [],
   "source": [
    "level_1 = LogisticRegression()"
   ]
  },
  {
   "cell_type": "markdown",
   "id": "3ab29c79",
   "metadata": {},
   "source": [
    "##### Build final model"
   ]
  },
  {
   "cell_type": "code",
   "execution_count": null,
   "id": "39c14540",
   "metadata": {},
   "outputs": [],
   "source": [
    "model = StackingClassifier(level_0_f, final_estimator=level_1)"
   ]
  },
  {
   "cell_type": "markdown",
   "id": "36921512",
   "metadata": {},
   "source": [
    "### Final Model fitting"
   ]
  },
  {
   "cell_type": "code",
   "execution_count": null,
   "id": "6782fe96",
   "metadata": {},
   "outputs": [],
   "source": [
    "%%time \n",
    "set_config(display='diagram') \n",
    "model.fit(X_train, y_train)"
   ]
  },
  {
   "cell_type": "markdown",
   "id": "0f02f3dc",
   "metadata": {},
   "source": [
    "#### Final Model scoring"
   ]
  },
  {
   "cell_type": "code",
   "execution_count": null,
   "id": "d42f614b",
   "metadata": {},
   "outputs": [],
   "source": [
    "score_stacking(model, X_train, y_train, X_test, y_test)"
   ]
  },
  {
   "cell_type": "markdown",
   "id": "b172edbd",
   "metadata": {},
   "source": [
    "#### Final feature permutation importance"
   ]
  },
  {
   "cell_type": "code",
   "execution_count": null,
   "id": "0a3531a3",
   "metadata": {},
   "outputs": [],
   "source": [
    "feature_importance = plot_perm_importance(model, X_test, y_test, CPU)"
   ]
  },
  {
   "cell_type": "markdown",
   "id": "e8291f60",
   "metadata": {},
   "source": [
    "##### Final feature elimination"
   ]
  },
  {
   "cell_type": "code",
   "execution_count": null,
   "id": "aa433aa7",
   "metadata": {},
   "outputs": [],
   "source": [
    "best_feature, worst_feature = feature_filtering(feature_importance, threshold_feature)"
   ]
  },
  {
   "cell_type": "code",
   "execution_count": null,
   "id": "442fd29e",
   "metadata": {},
   "outputs": [],
   "source": [
    "dropped_cols = np.unique(np.concatenate((dropped_cols, worst_feature))).tolist()"
   ]
  },
  {
   "cell_type": "markdown",
   "id": "816d3b59",
   "metadata": {},
   "source": [
    "#### Check those columns, they should be dropped"
   ]
  },
  {
   "cell_type": "code",
   "execution_count": null,
   "id": "312d6aea",
   "metadata": {},
   "outputs": [],
   "source": [
    "print(dropped_cols)"
   ]
  },
  {
   "cell_type": "markdown",
   "id": "b30e6fc0",
   "metadata": {},
   "source": [
    "#### Final Classification report"
   ]
  },
  {
   "cell_type": "code",
   "execution_count": null,
   "id": "a9cd55a1",
   "metadata": {},
   "outputs": [],
   "source": [
    "K_classification_report(model, X_train, y_train, X_test, y_test)"
   ]
  },
  {
   "cell_type": "markdown",
   "id": "672d238a",
   "metadata": {},
   "source": [
    "#### Final Confusion matrix"
   ]
  },
  {
   "cell_type": "code",
   "execution_count": null,
   "id": "0a5fc87c",
   "metadata": {},
   "outputs": [],
   "source": [
    "K_confusion_matrix(model, X_train, y_train, X_test, y_test)"
   ]
  },
  {
   "cell_type": "markdown",
   "id": "629d153c",
   "metadata": {},
   "source": [
    "## Deployment"
   ]
  },
  {
   "cell_type": "markdown",
   "id": "4785a70c",
   "metadata": {},
   "source": [
    "### Save your model"
   ]
  },
  {
   "cell_type": "code",
   "execution_count": null,
   "id": "3f49ac85",
   "metadata": {},
   "outputs": [],
   "source": [
    "model_name = 'model.sav' \n",
    "dump(model, model_name)"
   ]
  },
  {
   "cell_type": "markdown",
   "id": "de6fb9a0",
   "metadata": {},
   "source": [
    "### Generate your server"
   ]
  },
  {
   "cell_type": "code",
   "execution_count": null,
   "id": "e7a1e5da",
   "metadata": {},
   "outputs": [],
   "source": [
    "fastapi_server(model, 'model.sav', X, y)"
   ]
  },
  {
   "cell_type": "markdown",
   "id": "86e25528",
   "metadata": {},
   "source": [
    "### [Test your API](./server.ipynb)"
   ]
  }
 ],
 "metadata": {
  "kernelspec": {
   "display_name": "EZStacking",
   "language": "python",
   "name": "ezstacking"
  }
 },
 "nbformat": 4,
 "nbformat_minor": 5
}
