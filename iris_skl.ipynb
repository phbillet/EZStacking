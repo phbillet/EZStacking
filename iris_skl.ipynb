{
 "cells": [
  {
   "cell_type": "markdown",
   "id": "electric-freedom",
   "metadata": {},
   "source": [
    "# EDA & modelization"
   ]
  },
  {
   "cell_type": "markdown",
   "id": "ideal-wallpaper",
   "metadata": {},
   "source": [
    "## Loading main packages "
   ]
  },
  {
   "cell_type": "code",
   "execution_count": null,
   "id": "organic-intranet",
   "metadata": {},
   "outputs": [],
   "source": [
    "from EZS_func import *\n",
    "import numpy as np\n",
    "import pandas as pd\n",
    "import os\n",
    "import gc\n",
    "import matplotlib.pyplot as plt\n",
    "import warnings\n",
    "warnings.filterwarnings('ignore')\n",
    "import re\n",
    "import math\n",
    "from pandas.api.types import is_numeric_dtype\n",
    "from itertools import product\n",
    "from scipy import stats\n",
    "from sklearn import set_config\n",
    "from sklearn import datasets\n",
    "from sklearn.base import BaseEstimator\n",
    "from sklearn.base import TransformerMixin\n",
    "from sklearn.compose import make_column_selector\n",
    "from sklearn.compose import make_column_transformer\n",
    "from sklearn.experimental import enable_iterative_imputer\n",
    "from sklearn.impute import SimpleImputer\n",
    "from sklearn.impute import IterativeImputer\n",
    "from sklearn.inspection import permutation_importance\n",
    "from sklearn.gaussian_process import GaussianProcessClassifier\n",
    "from sklearn.gaussian_process.kernels import RBF\n",
    "from sklearn.tree import DecisionTreeClassifier\n",
    "from sklearn.ensemble import RandomForestClassifier\n",
    "from sklearn.ensemble import AdaBoostClassifier\n",
    "from sklearn.ensemble import StackingClassifier\n",
    "from sklearn.linear_model import SGDClassifier\n",
    "from sklearn.linear_model import LogisticRegression\n",
    "from sklearn.metrics import accuracy_score\n",
    "from sklearn.metrics import f1_score\n",
    "from sklearn.metrics import recall_score\n",
    "from sklearn.model_selection import train_test_split\n",
    "from sklearn.model_selection import StratifiedKFold\n",
    "from sklearn.model_selection import RepeatedStratifiedKFold\n",
    "from sklearn.neural_network import MLPClassifier\n",
    "from sklearn.neighbors import KNeighborsClassifier\n",
    "from sklearn.neighbors import LocalOutlierFactor\n",
    "from sklearn.naive_bayes import GaussianNB\n",
    "from sklearn.pipeline import Pipeline\n",
    "from sklearn.pipeline import make_pipeline\n",
    "from polylearn import PolynomialNetworkClassifier\n",
    "from polylearn import FactorizationMachineClassifier\n"
   ]
  },
  {
   "cell_type": "markdown",
   "id": "earned-ecology",
   "metadata": {},
   "source": [
    "## Exploratory Data Analysis "
   ]
  },
  {
   "cell_type": "markdown",
   "id": "constant-being",
   "metadata": {},
   "source": [
    "### File and parameters loading"
   ]
  },
  {
   "cell_type": "code",
   "execution_count": null,
   "id": "novel-delta",
   "metadata": {},
   "outputs": [],
   "source": [
    "problem_type = 'classification'"
   ]
  },
  {
   "cell_type": "code",
   "execution_count": null,
   "id": "young-location",
   "metadata": {},
   "outputs": [],
   "source": [
    "stacking = 'False'"
   ]
  },
  {
   "cell_type": "code",
   "execution_count": null,
   "id": "functional-coupon",
   "metadata": {},
   "outputs": [],
   "source": [
    "data_size = 'small'"
   ]
  },
  {
   "cell_type": "code",
   "execution_count": null,
   "id": "falling-tuition",
   "metadata": {},
   "outputs": [],
   "source": [
    "df = pd.read_csv('/home/philippe/Documents/python project/EZStacking-v0.5/dataset/iris.csv')"
   ]
  },
  {
   "cell_type": "code",
   "execution_count": null,
   "id": "thousand-gilbert",
   "metadata": {},
   "outputs": [],
   "source": [
    "target_col = 'variety'"
   ]
  },
  {
   "cell_type": "code",
   "execution_count": null,
   "id": "criminal-helen",
   "metadata": {},
   "outputs": [],
   "source": [
    "user_drop_cols = []"
   ]
  },
  {
   "cell_type": "code",
   "execution_count": null,
   "id": "appreciated-finland",
   "metadata": {},
   "outputs": [],
   "source": [
    "threshold_NaN = 0.5"
   ]
  },
  {
   "cell_type": "code",
   "execution_count": null,
   "id": "attempted-aluminum",
   "metadata": {},
   "outputs": [],
   "source": [
    "threshold_cat = 5"
   ]
  },
  {
   "cell_type": "code",
   "execution_count": null,
   "id": "absolute-bidder",
   "metadata": {},
   "outputs": [],
   "source": [
    "threshold_Z = 3.0"
   ]
  },
  {
   "cell_type": "markdown",
   "id": "bearing-wisconsin",
   "metadata": {},
   "source": [
    "### Dataset Information"
   ]
  },
  {
   "cell_type": "code",
   "execution_count": null,
   "id": "remarkable-blake",
   "metadata": {},
   "outputs": [],
   "source": [
    "df.shape"
   ]
  },
  {
   "cell_type": "markdown",
   "id": "executed-flight",
   "metadata": {},
   "source": [
    "Some records"
   ]
  },
  {
   "cell_type": "code",
   "execution_count": null,
   "id": "hungarian-elite",
   "metadata": {},
   "outputs": [],
   "source": [
    "display(df)"
   ]
  },
  {
   "cell_type": "markdown",
   "id": "sized-release",
   "metadata": {},
   "source": [
    "### Dataframe structure"
   ]
  },
  {
   "cell_type": "code",
   "execution_count": null,
   "id": "exact-insulation",
   "metadata": {},
   "outputs": [],
   "source": [
    "plot_dataframe_structure(df)"
   ]
  },
  {
   "cell_type": "markdown",
   "id": "stopped-black",
   "metadata": {},
   "source": [
    "### Dataframe statistics"
   ]
  },
  {
   "cell_type": "code",
   "execution_count": null,
   "id": "relative-milwaukee",
   "metadata": {},
   "outputs": [],
   "source": [
    "display(df.describe().T)"
   ]
  },
  {
   "cell_type": "markdown",
   "id": "korean-worship",
   "metadata": {},
   "source": [
    "Which columns could be categorical ?"
   ]
  },
  {
   "cell_type": "code",
   "execution_count": null,
   "id": "confirmed-valuable",
   "metadata": {},
   "outputs": [],
   "source": [
    "plot_categorical(df)"
   ]
  },
  {
   "cell_type": "markdown",
   "id": "surprising-belfast",
   "metadata": {},
   "source": [
    "### Dataset Cleaning"
   ]
  },
  {
   "cell_type": "markdown",
   "id": "white-diversity",
   "metadata": {},
   "source": [
    "#### Duplicate rows:"
   ]
  },
  {
   "cell_type": "code",
   "execution_count": null,
   "id": "bronze-speech",
   "metadata": {},
   "outputs": [],
   "source": [
    "duplicates(df)"
   ]
  },
  {
   "cell_type": "markdown",
   "id": "demonstrated-fence",
   "metadata": {},
   "source": [
    "#### Drop user's columns:"
   ]
  },
  {
   "cell_type": "code",
   "execution_count": null,
   "id": "european-painting",
   "metadata": {},
   "outputs": [],
   "source": [
    "print('user_drop_cols = ', user_drop_cols)"
   ]
  },
  {
   "cell_type": "code",
   "execution_count": null,
   "id": "leading-shepherd",
   "metadata": {},
   "outputs": [],
   "source": [
    "df = df.drop(user_drop_cols, axis=1)"
   ]
  },
  {
   "cell_type": "markdown",
   "id": "knowing-vienna",
   "metadata": {},
   "source": [
    "#### Drop NaN:"
   ]
  },
  {
   "cell_type": "code",
   "execution_count": null,
   "id": "north-custom",
   "metadata": {},
   "outputs": [],
   "source": [
    "df, drop_cols = drop_na(df, threshold_NaN)"
   ]
  },
  {
   "cell_type": "markdown",
   "id": "pleasant-incidence",
   "metadata": {},
   "source": [
    "Final set of dropped columns"
   ]
  },
  {
   "cell_type": "code",
   "execution_count": null,
   "id": "academic-colors",
   "metadata": {},
   "outputs": [],
   "source": [
    "dropped_cols = np.unique(np.concatenate((drop_cols, user_drop_cols)))"
   ]
  },
  {
   "cell_type": "code",
   "execution_count": null,
   "id": "honey-northeast",
   "metadata": {},
   "outputs": [],
   "source": [
    "display(dropped_cols)"
   ]
  },
  {
   "cell_type": "markdown",
   "id": "aggregate-designation",
   "metadata": {},
   "source": [
    "#### Encoding data:"
   ]
  },
  {
   "cell_type": "code",
   "execution_count": null,
   "id": "alien-batman",
   "metadata": {},
   "outputs": [],
   "source": [
    "df, encoded_cols = encoding(df, threshold_cat)"
   ]
  },
  {
   "cell_type": "markdown",
   "id": "medium-milan",
   "metadata": {},
   "source": [
    "#### Imputing NaN using IterativeImputer"
   ]
  },
  {
   "cell_type": "markdown",
   "id": "overhead-thinking",
   "metadata": {},
   "source": [
    "##### Imputation"
   ]
  },
  {
   "cell_type": "code",
   "execution_count": null,
   "id": "innovative-makeup",
   "metadata": {},
   "outputs": [],
   "source": [
    "df = imputation(df)"
   ]
  },
  {
   "cell_type": "markdown",
   "id": "expected-guess",
   "metadata": {},
   "source": [
    "#### Data compression:"
   ]
  },
  {
   "cell_type": "code",
   "execution_count": null,
   "id": "complimentary-tenant",
   "metadata": {},
   "outputs": [],
   "source": [
    "df = downcast_dtypes(df)"
   ]
  },
  {
   "cell_type": "markdown",
   "id": "three-consumption",
   "metadata": {},
   "source": [
    "Dataframe structure after compression"
   ]
  },
  {
   "cell_type": "code",
   "execution_count": null,
   "id": "nasty-economics",
   "metadata": {},
   "outputs": [],
   "source": [
    "plot_dataframe_structure(df)"
   ]
  },
  {
   "cell_type": "markdown",
   "id": "diagnostic-billion",
   "metadata": {},
   "source": [
    "#### Outliers:"
   ]
  },
  {
   "cell_type": "code",
   "execution_count": null,
   "id": "beneficial-exclusive",
   "metadata": {},
   "outputs": [],
   "source": [
    "df = outliers(df, threshold_Z)"
   ]
  },
  {
   "cell_type": "markdown",
   "id": "permanent-height",
   "metadata": {},
   "source": [
    "#### Splitting dataframe in features and targets"
   ]
  },
  {
   "cell_type": "code",
   "execution_count": null,
   "id": "proper-spider",
   "metadata": {},
   "outputs": [],
   "source": [
    "y = df[target_col]"
   ]
  },
  {
   "cell_type": "code",
   "execution_count": null,
   "id": "infectious-funeral",
   "metadata": {},
   "outputs": [],
   "source": [
    "X = df.drop(target_col, axis=1)"
   ]
  },
  {
   "cell_type": "markdown",
   "id": "successful-registrar",
   "metadata": {},
   "source": [
    "## Splitting data in train and test sets "
   ]
  },
  {
   "cell_type": "code",
   "execution_count": null,
   "id": "remarkable-destruction",
   "metadata": {},
   "outputs": [],
   "source": [
    "X_train, X_test, y_train, y_test = split(X, y, test_size=0.33)"
   ]
  },
  {
   "cell_type": "markdown",
   "id": "perceived-fruit",
   "metadata": {},
   "source": [
    "## Modeling"
   ]
  },
  {
   "cell_type": "markdown",
   "id": "short-creation",
   "metadata": {},
   "source": [
    "### Building the model"
   ]
  },
  {
   "cell_type": "markdown",
   "id": "living-anime",
   "metadata": {},
   "source": [
    "Simple model"
   ]
  },
  {
   "cell_type": "code",
   "execution_count": null,
   "id": "hawaiian-parking",
   "metadata": {},
   "outputs": [],
   "source": [
    "model = LogisticRegression()"
   ]
  },
  {
   "cell_type": "markdown",
   "id": "increasing-bulletin",
   "metadata": {},
   "source": [
    "Possible other models :"
   ]
  },
  {
   "cell_type": "code",
   "execution_count": null,
   "id": "sophisticated-running",
   "metadata": {},
   "outputs": [],
   "source": [
    "# GaussianProcessClassifier()\n",
    "# DecisionTreeClassifier(max_depth=5)\n",
    "# RandomForestClassifier(max_depth=5, n_estimators=10, max_features='auto')\n",
    "# AdaBoostClassifier()\n",
    "# LogisticRegression()\n",
    "# MLPClassifier(alpha=1, max_iter=1000, early_stopping=True)\n",
    "# KNeighborsClassifier(n_neighbors=len(y.unique()))\n",
    "# GaussianNB()\n"
   ]
  },
  {
   "cell_type": "markdown",
   "id": "considerable-shower",
   "metadata": {},
   "source": [
    "### Model fitting"
   ]
  },
  {
   "cell_type": "code",
   "execution_count": null,
   "id": "ready-publisher",
   "metadata": {},
   "outputs": [],
   "source": [
    "%%time\n",
    "set_config(display='diagram') \n",
    "model.fit(X_train, y_train)"
   ]
  },
  {
   "cell_type": "markdown",
   "id": "hydraulic-sussex",
   "metadata": {},
   "source": [
    "### Model evaluation"
   ]
  },
  {
   "cell_type": "markdown",
   "id": "specific-expense",
   "metadata": {},
   "source": [
    "#### Model scoring"
   ]
  },
  {
   "cell_type": "code",
   "execution_count": null,
   "id": "right-possibility",
   "metadata": {},
   "outputs": [],
   "source": [
    "print('Score on train set:', model.score(X_train, y_train))"
   ]
  },
  {
   "cell_type": "code",
   "execution_count": null,
   "id": "working-contents",
   "metadata": {},
   "outputs": [],
   "source": [
    "print('Score on test set:', model.score(X_test, y_test))"
   ]
  },
  {
   "cell_type": "markdown",
   "id": "municipal-winter",
   "metadata": {},
   "source": [
    "#### Feature permutation importance (a posteriori)"
   ]
  },
  {
   "cell_type": "code",
   "execution_count": null,
   "id": "visible-record",
   "metadata": {},
   "outputs": [],
   "source": [
    "plot_perm_imp(model, X, y, scoring = 'accuracy');"
   ]
  }
 ],
 "metadata": {},
 "nbformat": 4,
 "nbformat_minor": 5
}
