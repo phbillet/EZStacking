{
 "cells": [
  {
   "cell_type": "code",
   "execution_count": null,
   "id": "mobile-broadcast",
   "metadata": {},
   "outputs": [],
   "source": [
    "from EZS_deps.EZS_tech_func import *"
   ]
  },
  {
   "cell_type": "code",
   "execution_count": null,
   "id": "periodic-alias",
   "metadata": {},
   "outputs": [],
   "source": [
    "EZS_gui"
   ]
  },
  {
   "cell_type": "code",
   "execution_count": null,
   "id": "490d08a9-786e-43c4-8fd4-d9eb92f6ae6f",
   "metadata": {},
   "outputs": [],
   "source": []
  }
 ],
 "metadata": {
  "kernelspec": {
   "display_name": "ezstacking",
   "language": "python",
   "name": "ezstacking"
  },
  "language_info": {
   "codemirror_mode": {
    "name": "ipython",
    "version": 3
   },
   "file_extension": ".py",
   "mimetype": "text/x-python",
   "name": "python",
   "nbconvert_exporter": "python",
   "pygments_lexer": "ipython3",
   "version": "3.10.6"
  },
  "toc-autonumbering": false,
  "toc-showcode": true,
  "toc-showmarkdowntxt": true,
  "toc-showtags": false
 },
 "nbformat": 4,
 "nbformat_minor": 5
}
