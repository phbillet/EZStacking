{
 "cells": [
  {
   "cell_type": "code",
   "execution_count": null,
   "id": "mobile-broadcast",
   "metadata": {},
   "outputs": [],
   "source": [
    "from EZS_deps.EZS_tech_func import *"
   ]
  },
  {
   "cell_type": "code",
   "execution_count": null,
   "id": "periodic-alias",
   "metadata": {},
   "outputs": [],
   "source": [
    "EZS_gui"
   ]
  },
  {
   "cell_type": "code",
   "execution_count": null,
   "id": "4be2f1ae-4b9d-4973-b31c-278e0d9eeb60",
   "metadata": {},
   "outputs": [],
   "source": []
  }
 ],
 "metadata": {
  "kernelspec": {
   "display_name": "ezstacking",
   "language": "python",
   "name": "ezstacking"
  },
  "language_info": {
   "codemirror_mode": {
    "name": "ipython",
    "version": 3
   },
   "file_extension": ".py",
   "mimetype": "text/x-python",
   "name": "python",
   "nbconvert_exporter": "python",
   "pygments_lexer": "ipython3",
   "version": "3.10.6"
  },
  "toc-autonumbering": false,
  "toc-showcode": true,
  "toc-showmarkdowntxt": true,
  "toc-showtags": false
 },
 "nbformat": 4,
 "nbformat_minor": 5
}
