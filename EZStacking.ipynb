{
 "cells": [
  {
   "cell_type": "code",
   "execution_count": null,
   "id": "cellular-newcastle",
   "metadata": {},
   "outputs": [],
   "source": [
    "%load_ext autoreload\n",
    "%autoreload 2"
   ]
  },
  {
   "cell_type": "code",
   "execution_count": null,
   "id": "mobile-broadcast",
   "metadata": {},
   "outputs": [],
   "source": [
    "from EZS_tech_func import *"
   ]
  },
  {
   "cell_type": "code",
   "execution_count": null,
   "id": "periodic-alias",
   "metadata": {
    "scrolled": false
   },
   "outputs": [],
   "source": [
    "EZS_gui"
   ]
  }
 ],
 "metadata": {
  "kernelspec": {
   "display_name": "Python 3",
   "language": "python",
   "name": "python3"
  },
  "language_info": {
   "codemirror_mode": {
    "name": "ipython",
    "version": 3
   },
   "file_extension": ".py",
   "mimetype": "text/x-python",
   "name": "python",
   "nbconvert_exporter": "python",
   "pygments_lexer": "ipython3",
   "version": "3.8.12"
  }
 },
 "nbformat": 4,
 "nbformat_minor": 5
}
